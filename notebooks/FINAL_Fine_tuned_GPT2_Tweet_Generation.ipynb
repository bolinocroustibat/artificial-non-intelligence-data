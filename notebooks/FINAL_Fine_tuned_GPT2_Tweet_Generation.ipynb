{
  "nbformat": 4,
  "nbformat_minor": 0,
  "metadata": {
    "colab": {
      "name": "FINAL - Fine-tuned GPT2 - Tweet Generation",
      "provenance": []
    },
    "kernelspec": {
      "name": "python3",
      "display_name": "Python 3"
    },
    "language_info": {
      "name": "python"
    },
    "accelerator": "GPU",
    "widgets": {
      "application/vnd.jupyter.widget-state+json": {
        "6d2d8ce3f9b54072a4c19edbf9782838": {
          "model_module": "@jupyter-widgets/controls",
          "model_name": "HBoxModel",
          "state": {
            "_view_name": "HBoxView",
            "_dom_classes": [],
            "_model_name": "HBoxModel",
            "_view_module": "@jupyter-widgets/controls",
            "_model_module_version": "1.5.0",
            "_view_count": null,
            "_view_module_version": "1.5.0",
            "box_style": "",
            "layout": "IPY_MODEL_a63f581639bf4d86a05b4f8252686996",
            "_model_module": "@jupyter-widgets/controls",
            "children": [
              "IPY_MODEL_6b65809894784d929c238c4ec08f11b9",
              "IPY_MODEL_39577524bc9f4eac9e092f811a1ec517"
            ]
          }
        },
        "a63f581639bf4d86a05b4f8252686996": {
          "model_module": "@jupyter-widgets/base",
          "model_name": "LayoutModel",
          "state": {
            "_view_name": "LayoutView",
            "grid_template_rows": null,
            "right": null,
            "justify_content": null,
            "_view_module": "@jupyter-widgets/base",
            "overflow": null,
            "_model_module_version": "1.2.0",
            "_view_count": null,
            "flex_flow": null,
            "width": null,
            "min_width": null,
            "border": null,
            "align_items": null,
            "bottom": null,
            "_model_module": "@jupyter-widgets/base",
            "top": null,
            "grid_column": null,
            "overflow_y": null,
            "overflow_x": null,
            "grid_auto_flow": null,
            "grid_area": null,
            "grid_template_columns": null,
            "flex": null,
            "_model_name": "LayoutModel",
            "justify_items": null,
            "grid_row": null,
            "max_height": null,
            "align_content": null,
            "visibility": null,
            "align_self": null,
            "height": null,
            "min_height": null,
            "padding": null,
            "grid_auto_rows": null,
            "grid_gap": null,
            "max_width": null,
            "order": null,
            "_view_module_version": "1.2.0",
            "grid_template_areas": null,
            "object_position": null,
            "object_fit": null,
            "grid_auto_columns": null,
            "margin": null,
            "display": null,
            "left": null
          }
        },
        "6b65809894784d929c238c4ec08f11b9": {
          "model_module": "@jupyter-widgets/controls",
          "model_name": "FloatProgressModel",
          "state": {
            "_view_name": "ProgressView",
            "style": "IPY_MODEL_a588f379837944b6a81456d9871ccfc8",
            "_dom_classes": [],
            "description": "Downloading: 100%",
            "_model_name": "FloatProgressModel",
            "bar_style": "success",
            "max": 1042301,
            "_view_module": "@jupyter-widgets/controls",
            "_model_module_version": "1.5.0",
            "value": 1042301,
            "_view_count": null,
            "_view_module_version": "1.5.0",
            "orientation": "horizontal",
            "min": 0,
            "description_tooltip": null,
            "_model_module": "@jupyter-widgets/controls",
            "layout": "IPY_MODEL_dff1965a718e4a8b9ff7aeb1add5245a"
          }
        },
        "39577524bc9f4eac9e092f811a1ec517": {
          "model_module": "@jupyter-widgets/controls",
          "model_name": "HTMLModel",
          "state": {
            "_view_name": "HTMLView",
            "style": "IPY_MODEL_8b76c460f2cd4de49a10629056ce5d8f",
            "_dom_classes": [],
            "description": "",
            "_model_name": "HTMLModel",
            "placeholder": "​",
            "_view_module": "@jupyter-widgets/controls",
            "_model_module_version": "1.5.0",
            "value": " 1.04M/1.04M [00:06&lt;00:00, 150kB/s]",
            "_view_count": null,
            "_view_module_version": "1.5.0",
            "description_tooltip": null,
            "_model_module": "@jupyter-widgets/controls",
            "layout": "IPY_MODEL_2e5df7da049e4410998d4fdcfcd4f181"
          }
        },
        "a588f379837944b6a81456d9871ccfc8": {
          "model_module": "@jupyter-widgets/controls",
          "model_name": "ProgressStyleModel",
          "state": {
            "_view_name": "StyleView",
            "_model_name": "ProgressStyleModel",
            "description_width": "initial",
            "_view_module": "@jupyter-widgets/base",
            "_model_module_version": "1.5.0",
            "_view_count": null,
            "_view_module_version": "1.2.0",
            "bar_color": null,
            "_model_module": "@jupyter-widgets/controls"
          }
        },
        "dff1965a718e4a8b9ff7aeb1add5245a": {
          "model_module": "@jupyter-widgets/base",
          "model_name": "LayoutModel",
          "state": {
            "_view_name": "LayoutView",
            "grid_template_rows": null,
            "right": null,
            "justify_content": null,
            "_view_module": "@jupyter-widgets/base",
            "overflow": null,
            "_model_module_version": "1.2.0",
            "_view_count": null,
            "flex_flow": null,
            "width": null,
            "min_width": null,
            "border": null,
            "align_items": null,
            "bottom": null,
            "_model_module": "@jupyter-widgets/base",
            "top": null,
            "grid_column": null,
            "overflow_y": null,
            "overflow_x": null,
            "grid_auto_flow": null,
            "grid_area": null,
            "grid_template_columns": null,
            "flex": null,
            "_model_name": "LayoutModel",
            "justify_items": null,
            "grid_row": null,
            "max_height": null,
            "align_content": null,
            "visibility": null,
            "align_self": null,
            "height": null,
            "min_height": null,
            "padding": null,
            "grid_auto_rows": null,
            "grid_gap": null,
            "max_width": null,
            "order": null,
            "_view_module_version": "1.2.0",
            "grid_template_areas": null,
            "object_position": null,
            "object_fit": null,
            "grid_auto_columns": null,
            "margin": null,
            "display": null,
            "left": null
          }
        },
        "8b76c460f2cd4de49a10629056ce5d8f": {
          "model_module": "@jupyter-widgets/controls",
          "model_name": "DescriptionStyleModel",
          "state": {
            "_view_name": "StyleView",
            "_model_name": "DescriptionStyleModel",
            "description_width": "",
            "_view_module": "@jupyter-widgets/base",
            "_model_module_version": "1.5.0",
            "_view_count": null,
            "_view_module_version": "1.2.0",
            "_model_module": "@jupyter-widgets/controls"
          }
        },
        "2e5df7da049e4410998d4fdcfcd4f181": {
          "model_module": "@jupyter-widgets/base",
          "model_name": "LayoutModel",
          "state": {
            "_view_name": "LayoutView",
            "grid_template_rows": null,
            "right": null,
            "justify_content": null,
            "_view_module": "@jupyter-widgets/base",
            "overflow": null,
            "_model_module_version": "1.2.0",
            "_view_count": null,
            "flex_flow": null,
            "width": null,
            "min_width": null,
            "border": null,
            "align_items": null,
            "bottom": null,
            "_model_module": "@jupyter-widgets/base",
            "top": null,
            "grid_column": null,
            "overflow_y": null,
            "overflow_x": null,
            "grid_auto_flow": null,
            "grid_area": null,
            "grid_template_columns": null,
            "flex": null,
            "_model_name": "LayoutModel",
            "justify_items": null,
            "grid_row": null,
            "max_height": null,
            "align_content": null,
            "visibility": null,
            "align_self": null,
            "height": null,
            "min_height": null,
            "padding": null,
            "grid_auto_rows": null,
            "grid_gap": null,
            "max_width": null,
            "order": null,
            "_view_module_version": "1.2.0",
            "grid_template_areas": null,
            "object_position": null,
            "object_fit": null,
            "grid_auto_columns": null,
            "margin": null,
            "display": null,
            "left": null
          }
        },
        "0647a07a3c674058bee2cb16d1df716b": {
          "model_module": "@jupyter-widgets/controls",
          "model_name": "HBoxModel",
          "state": {
            "_view_name": "HBoxView",
            "_dom_classes": [],
            "_model_name": "HBoxModel",
            "_view_module": "@jupyter-widgets/controls",
            "_model_module_version": "1.5.0",
            "_view_count": null,
            "_view_module_version": "1.5.0",
            "box_style": "",
            "layout": "IPY_MODEL_34d94540d6f242b882ff18785ccdb043",
            "_model_module": "@jupyter-widgets/controls",
            "children": [
              "IPY_MODEL_559cfd20ae9545a6a9d4e0619d45759a",
              "IPY_MODEL_3d71aa625daf4938adcd601e70617234"
            ]
          }
        },
        "34d94540d6f242b882ff18785ccdb043": {
          "model_module": "@jupyter-widgets/base",
          "model_name": "LayoutModel",
          "state": {
            "_view_name": "LayoutView",
            "grid_template_rows": null,
            "right": null,
            "justify_content": null,
            "_view_module": "@jupyter-widgets/base",
            "overflow": null,
            "_model_module_version": "1.2.0",
            "_view_count": null,
            "flex_flow": null,
            "width": null,
            "min_width": null,
            "border": null,
            "align_items": null,
            "bottom": null,
            "_model_module": "@jupyter-widgets/base",
            "top": null,
            "grid_column": null,
            "overflow_y": null,
            "overflow_x": null,
            "grid_auto_flow": null,
            "grid_area": null,
            "grid_template_columns": null,
            "flex": null,
            "_model_name": "LayoutModel",
            "justify_items": null,
            "grid_row": null,
            "max_height": null,
            "align_content": null,
            "visibility": null,
            "align_self": null,
            "height": null,
            "min_height": null,
            "padding": null,
            "grid_auto_rows": null,
            "grid_gap": null,
            "max_width": null,
            "order": null,
            "_view_module_version": "1.2.0",
            "grid_template_areas": null,
            "object_position": null,
            "object_fit": null,
            "grid_auto_columns": null,
            "margin": null,
            "display": null,
            "left": null
          }
        },
        "559cfd20ae9545a6a9d4e0619d45759a": {
          "model_module": "@jupyter-widgets/controls",
          "model_name": "FloatProgressModel",
          "state": {
            "_view_name": "ProgressView",
            "style": "IPY_MODEL_e75116e5750549738605150343f99262",
            "_dom_classes": [],
            "description": "Downloading: 100%",
            "_model_name": "FloatProgressModel",
            "bar_style": "success",
            "max": 456318,
            "_view_module": "@jupyter-widgets/controls",
            "_model_module_version": "1.5.0",
            "value": 456318,
            "_view_count": null,
            "_view_module_version": "1.5.0",
            "orientation": "horizontal",
            "min": 0,
            "description_tooltip": null,
            "_model_module": "@jupyter-widgets/controls",
            "layout": "IPY_MODEL_2cba1b9e6d5048f89e398fac6745483a"
          }
        },
        "3d71aa625daf4938adcd601e70617234": {
          "model_module": "@jupyter-widgets/controls",
          "model_name": "HTMLModel",
          "state": {
            "_view_name": "HTMLView",
            "style": "IPY_MODEL_7fe225cfda6046e895f208bf19e2b83f",
            "_dom_classes": [],
            "description": "",
            "_model_name": "HTMLModel",
            "placeholder": "​",
            "_view_module": "@jupyter-widgets/controls",
            "_model_module_version": "1.5.0",
            "value": " 456k/456k [00:04&lt;00:00, 114kB/s]",
            "_view_count": null,
            "_view_module_version": "1.5.0",
            "description_tooltip": null,
            "_model_module": "@jupyter-widgets/controls",
            "layout": "IPY_MODEL_2f42d4f43d6741bca2614a6b4fd944f2"
          }
        },
        "e75116e5750549738605150343f99262": {
          "model_module": "@jupyter-widgets/controls",
          "model_name": "ProgressStyleModel",
          "state": {
            "_view_name": "StyleView",
            "_model_name": "ProgressStyleModel",
            "description_width": "initial",
            "_view_module": "@jupyter-widgets/base",
            "_model_module_version": "1.5.0",
            "_view_count": null,
            "_view_module_version": "1.2.0",
            "bar_color": null,
            "_model_module": "@jupyter-widgets/controls"
          }
        },
        "2cba1b9e6d5048f89e398fac6745483a": {
          "model_module": "@jupyter-widgets/base",
          "model_name": "LayoutModel",
          "state": {
            "_view_name": "LayoutView",
            "grid_template_rows": null,
            "right": null,
            "justify_content": null,
            "_view_module": "@jupyter-widgets/base",
            "overflow": null,
            "_model_module_version": "1.2.0",
            "_view_count": null,
            "flex_flow": null,
            "width": null,
            "min_width": null,
            "border": null,
            "align_items": null,
            "bottom": null,
            "_model_module": "@jupyter-widgets/base",
            "top": null,
            "grid_column": null,
            "overflow_y": null,
            "overflow_x": null,
            "grid_auto_flow": null,
            "grid_area": null,
            "grid_template_columns": null,
            "flex": null,
            "_model_name": "LayoutModel",
            "justify_items": null,
            "grid_row": null,
            "max_height": null,
            "align_content": null,
            "visibility": null,
            "align_self": null,
            "height": null,
            "min_height": null,
            "padding": null,
            "grid_auto_rows": null,
            "grid_gap": null,
            "max_width": null,
            "order": null,
            "_view_module_version": "1.2.0",
            "grid_template_areas": null,
            "object_position": null,
            "object_fit": null,
            "grid_auto_columns": null,
            "margin": null,
            "display": null,
            "left": null
          }
        },
        "7fe225cfda6046e895f208bf19e2b83f": {
          "model_module": "@jupyter-widgets/controls",
          "model_name": "DescriptionStyleModel",
          "state": {
            "_view_name": "StyleView",
            "_model_name": "DescriptionStyleModel",
            "description_width": "",
            "_view_module": "@jupyter-widgets/base",
            "_model_module_version": "1.5.0",
            "_view_count": null,
            "_view_module_version": "1.2.0",
            "_model_module": "@jupyter-widgets/controls"
          }
        },
        "2f42d4f43d6741bca2614a6b4fd944f2": {
          "model_module": "@jupyter-widgets/base",
          "model_name": "LayoutModel",
          "state": {
            "_view_name": "LayoutView",
            "grid_template_rows": null,
            "right": null,
            "justify_content": null,
            "_view_module": "@jupyter-widgets/base",
            "overflow": null,
            "_model_module_version": "1.2.0",
            "_view_count": null,
            "flex_flow": null,
            "width": null,
            "min_width": null,
            "border": null,
            "align_items": null,
            "bottom": null,
            "_model_module": "@jupyter-widgets/base",
            "top": null,
            "grid_column": null,
            "overflow_y": null,
            "overflow_x": null,
            "grid_auto_flow": null,
            "grid_area": null,
            "grid_template_columns": null,
            "flex": null,
            "_model_name": "LayoutModel",
            "justify_items": null,
            "grid_row": null,
            "max_height": null,
            "align_content": null,
            "visibility": null,
            "align_self": null,
            "height": null,
            "min_height": null,
            "padding": null,
            "grid_auto_rows": null,
            "grid_gap": null,
            "max_width": null,
            "order": null,
            "_view_module_version": "1.2.0",
            "grid_template_areas": null,
            "object_position": null,
            "object_fit": null,
            "grid_auto_columns": null,
            "margin": null,
            "display": null,
            "left": null
          }
        },
        "b7945d3e111744769a7c5d63bfd9d7bb": {
          "model_module": "@jupyter-widgets/controls",
          "model_name": "HBoxModel",
          "state": {
            "_view_name": "HBoxView",
            "_dom_classes": [],
            "_model_name": "HBoxModel",
            "_view_module": "@jupyter-widgets/controls",
            "_model_module_version": "1.5.0",
            "_view_count": null,
            "_view_module_version": "1.5.0",
            "box_style": "",
            "layout": "IPY_MODEL_7d147c89ec8a4a82bfdce9ad0cb5a462",
            "_model_module": "@jupyter-widgets/controls",
            "children": [
              "IPY_MODEL_6ab9c2c9ef0a4eb9b681ee453484d80c",
              "IPY_MODEL_99386d0e7a2e4cf4abb488e05bad3ae0"
            ]
          }
        },
        "7d147c89ec8a4a82bfdce9ad0cb5a462": {
          "model_module": "@jupyter-widgets/base",
          "model_name": "LayoutModel",
          "state": {
            "_view_name": "LayoutView",
            "grid_template_rows": null,
            "right": null,
            "justify_content": null,
            "_view_module": "@jupyter-widgets/base",
            "overflow": null,
            "_model_module_version": "1.2.0",
            "_view_count": null,
            "flex_flow": null,
            "width": null,
            "min_width": null,
            "border": null,
            "align_items": null,
            "bottom": null,
            "_model_module": "@jupyter-widgets/base",
            "top": null,
            "grid_column": null,
            "overflow_y": null,
            "overflow_x": null,
            "grid_auto_flow": null,
            "grid_area": null,
            "grid_template_columns": null,
            "flex": null,
            "_model_name": "LayoutModel",
            "justify_items": null,
            "grid_row": null,
            "max_height": null,
            "align_content": null,
            "visibility": null,
            "align_self": null,
            "height": null,
            "min_height": null,
            "padding": null,
            "grid_auto_rows": null,
            "grid_gap": null,
            "max_width": null,
            "order": null,
            "_view_module_version": "1.2.0",
            "grid_template_areas": null,
            "object_position": null,
            "object_fit": null,
            "grid_auto_columns": null,
            "margin": null,
            "display": null,
            "left": null
          }
        },
        "6ab9c2c9ef0a4eb9b681ee453484d80c": {
          "model_module": "@jupyter-widgets/controls",
          "model_name": "FloatProgressModel",
          "state": {
            "_view_name": "ProgressView",
            "style": "IPY_MODEL_7f6a8289078b4436a446cbbb6b10dbd4",
            "_dom_classes": [],
            "description": "Downloading: 100%",
            "_model_name": "FloatProgressModel",
            "bar_style": "success",
            "max": 1355256,
            "_view_module": "@jupyter-widgets/controls",
            "_model_module_version": "1.5.0",
            "value": 1355256,
            "_view_count": null,
            "_view_module_version": "1.5.0",
            "orientation": "horizontal",
            "min": 0,
            "description_tooltip": null,
            "_model_module": "@jupyter-widgets/controls",
            "layout": "IPY_MODEL_a5c30961af014b27af49e4201a12c97e"
          }
        },
        "99386d0e7a2e4cf4abb488e05bad3ae0": {
          "model_module": "@jupyter-widgets/controls",
          "model_name": "HTMLModel",
          "state": {
            "_view_name": "HTMLView",
            "style": "IPY_MODEL_2c93c0cda5d74fa19ddd4597b5e42016",
            "_dom_classes": [],
            "description": "",
            "_model_name": "HTMLModel",
            "placeholder": "​",
            "_view_module": "@jupyter-widgets/controls",
            "_model_module_version": "1.5.0",
            "value": " 1.36M/1.36M [00:00&lt;00:00, 1.71MB/s]",
            "_view_count": null,
            "_view_module_version": "1.5.0",
            "description_tooltip": null,
            "_model_module": "@jupyter-widgets/controls",
            "layout": "IPY_MODEL_674a46913f6b4a6f807f15e039aba4be"
          }
        },
        "7f6a8289078b4436a446cbbb6b10dbd4": {
          "model_module": "@jupyter-widgets/controls",
          "model_name": "ProgressStyleModel",
          "state": {
            "_view_name": "StyleView",
            "_model_name": "ProgressStyleModel",
            "description_width": "initial",
            "_view_module": "@jupyter-widgets/base",
            "_model_module_version": "1.5.0",
            "_view_count": null,
            "_view_module_version": "1.2.0",
            "bar_color": null,
            "_model_module": "@jupyter-widgets/controls"
          }
        },
        "a5c30961af014b27af49e4201a12c97e": {
          "model_module": "@jupyter-widgets/base",
          "model_name": "LayoutModel",
          "state": {
            "_view_name": "LayoutView",
            "grid_template_rows": null,
            "right": null,
            "justify_content": null,
            "_view_module": "@jupyter-widgets/base",
            "overflow": null,
            "_model_module_version": "1.2.0",
            "_view_count": null,
            "flex_flow": null,
            "width": null,
            "min_width": null,
            "border": null,
            "align_items": null,
            "bottom": null,
            "_model_module": "@jupyter-widgets/base",
            "top": null,
            "grid_column": null,
            "overflow_y": null,
            "overflow_x": null,
            "grid_auto_flow": null,
            "grid_area": null,
            "grid_template_columns": null,
            "flex": null,
            "_model_name": "LayoutModel",
            "justify_items": null,
            "grid_row": null,
            "max_height": null,
            "align_content": null,
            "visibility": null,
            "align_self": null,
            "height": null,
            "min_height": null,
            "padding": null,
            "grid_auto_rows": null,
            "grid_gap": null,
            "max_width": null,
            "order": null,
            "_view_module_version": "1.2.0",
            "grid_template_areas": null,
            "object_position": null,
            "object_fit": null,
            "grid_auto_columns": null,
            "margin": null,
            "display": null,
            "left": null
          }
        },
        "2c93c0cda5d74fa19ddd4597b5e42016": {
          "model_module": "@jupyter-widgets/controls",
          "model_name": "DescriptionStyleModel",
          "state": {
            "_view_name": "StyleView",
            "_model_name": "DescriptionStyleModel",
            "description_width": "",
            "_view_module": "@jupyter-widgets/base",
            "_model_module_version": "1.5.0",
            "_view_count": null,
            "_view_module_version": "1.2.0",
            "_model_module": "@jupyter-widgets/controls"
          }
        },
        "674a46913f6b4a6f807f15e039aba4be": {
          "model_module": "@jupyter-widgets/base",
          "model_name": "LayoutModel",
          "state": {
            "_view_name": "LayoutView",
            "grid_template_rows": null,
            "right": null,
            "justify_content": null,
            "_view_module": "@jupyter-widgets/base",
            "overflow": null,
            "_model_module_version": "1.2.0",
            "_view_count": null,
            "flex_flow": null,
            "width": null,
            "min_width": null,
            "border": null,
            "align_items": null,
            "bottom": null,
            "_model_module": "@jupyter-widgets/base",
            "top": null,
            "grid_column": null,
            "overflow_y": null,
            "overflow_x": null,
            "grid_auto_flow": null,
            "grid_area": null,
            "grid_template_columns": null,
            "flex": null,
            "_model_name": "LayoutModel",
            "justify_items": null,
            "grid_row": null,
            "max_height": null,
            "align_content": null,
            "visibility": null,
            "align_self": null,
            "height": null,
            "min_height": null,
            "padding": null,
            "grid_auto_rows": null,
            "grid_gap": null,
            "max_width": null,
            "order": null,
            "_view_module_version": "1.2.0",
            "grid_template_areas": null,
            "object_position": null,
            "object_fit": null,
            "grid_auto_columns": null,
            "margin": null,
            "display": null,
            "left": null
          }
        },
        "527b1534aa9042fc868f4e26d0d0537f": {
          "model_module": "@jupyter-widgets/controls",
          "model_name": "HBoxModel",
          "state": {
            "_view_name": "HBoxView",
            "_dom_classes": [],
            "_model_name": "HBoxModel",
            "_view_module": "@jupyter-widgets/controls",
            "_model_module_version": "1.5.0",
            "_view_count": null,
            "_view_module_version": "1.5.0",
            "box_style": "",
            "layout": "IPY_MODEL_9962541709234b0a851134bafda41f70",
            "_model_module": "@jupyter-widgets/controls",
            "children": [
              "IPY_MODEL_ae13a7b2f40e4c88969d229e73e166e7",
              "IPY_MODEL_0852c7bbdcef4507807938fbd4346fd6"
            ]
          }
        },
        "9962541709234b0a851134bafda41f70": {
          "model_module": "@jupyter-widgets/base",
          "model_name": "LayoutModel",
          "state": {
            "_view_name": "LayoutView",
            "grid_template_rows": null,
            "right": null,
            "justify_content": null,
            "_view_module": "@jupyter-widgets/base",
            "overflow": null,
            "_model_module_version": "1.2.0",
            "_view_count": null,
            "flex_flow": null,
            "width": null,
            "min_width": null,
            "border": null,
            "align_items": null,
            "bottom": null,
            "_model_module": "@jupyter-widgets/base",
            "top": null,
            "grid_column": null,
            "overflow_y": null,
            "overflow_x": null,
            "grid_auto_flow": null,
            "grid_area": null,
            "grid_template_columns": null,
            "flex": null,
            "_model_name": "LayoutModel",
            "justify_items": null,
            "grid_row": null,
            "max_height": null,
            "align_content": null,
            "visibility": null,
            "align_self": null,
            "height": null,
            "min_height": null,
            "padding": null,
            "grid_auto_rows": null,
            "grid_gap": null,
            "max_width": null,
            "order": null,
            "_view_module_version": "1.2.0",
            "grid_template_areas": null,
            "object_position": null,
            "object_fit": null,
            "grid_auto_columns": null,
            "margin": null,
            "display": null,
            "left": null
          }
        },
        "ae13a7b2f40e4c88969d229e73e166e7": {
          "model_module": "@jupyter-widgets/controls",
          "model_name": "FloatProgressModel",
          "state": {
            "_view_name": "ProgressView",
            "style": "IPY_MODEL_cb8e2b94f16645f189746c7b12361d14",
            "_dom_classes": [],
            "description": "Downloading: 100%",
            "_model_name": "FloatProgressModel",
            "bar_style": "success",
            "max": 718,
            "_view_module": "@jupyter-widgets/controls",
            "_model_module_version": "1.5.0",
            "value": 718,
            "_view_count": null,
            "_view_module_version": "1.5.0",
            "orientation": "horizontal",
            "min": 0,
            "description_tooltip": null,
            "_model_module": "@jupyter-widgets/controls",
            "layout": "IPY_MODEL_e95eebd1f1664e57b90c2e6fed790f60"
          }
        },
        "0852c7bbdcef4507807938fbd4346fd6": {
          "model_module": "@jupyter-widgets/controls",
          "model_name": "HTMLModel",
          "state": {
            "_view_name": "HTMLView",
            "style": "IPY_MODEL_9954cabad8444c87ada9753dacdd955c",
            "_dom_classes": [],
            "description": "",
            "_model_name": "HTMLModel",
            "placeholder": "​",
            "_view_module": "@jupyter-widgets/controls",
            "_model_module_version": "1.5.0",
            "value": " 718/718 [00:54&lt;00:00, 13.2B/s]",
            "_view_count": null,
            "_view_module_version": "1.5.0",
            "description_tooltip": null,
            "_model_module": "@jupyter-widgets/controls",
            "layout": "IPY_MODEL_9f113c45e9f0405d97f1331d5de29804"
          }
        },
        "cb8e2b94f16645f189746c7b12361d14": {
          "model_module": "@jupyter-widgets/controls",
          "model_name": "ProgressStyleModel",
          "state": {
            "_view_name": "StyleView",
            "_model_name": "ProgressStyleModel",
            "description_width": "initial",
            "_view_module": "@jupyter-widgets/base",
            "_model_module_version": "1.5.0",
            "_view_count": null,
            "_view_module_version": "1.2.0",
            "bar_color": null,
            "_model_module": "@jupyter-widgets/controls"
          }
        },
        "e95eebd1f1664e57b90c2e6fed790f60": {
          "model_module": "@jupyter-widgets/base",
          "model_name": "LayoutModel",
          "state": {
            "_view_name": "LayoutView",
            "grid_template_rows": null,
            "right": null,
            "justify_content": null,
            "_view_module": "@jupyter-widgets/base",
            "overflow": null,
            "_model_module_version": "1.2.0",
            "_view_count": null,
            "flex_flow": null,
            "width": null,
            "min_width": null,
            "border": null,
            "align_items": null,
            "bottom": null,
            "_model_module": "@jupyter-widgets/base",
            "top": null,
            "grid_column": null,
            "overflow_y": null,
            "overflow_x": null,
            "grid_auto_flow": null,
            "grid_area": null,
            "grid_template_columns": null,
            "flex": null,
            "_model_name": "LayoutModel",
            "justify_items": null,
            "grid_row": null,
            "max_height": null,
            "align_content": null,
            "visibility": null,
            "align_self": null,
            "height": null,
            "min_height": null,
            "padding": null,
            "grid_auto_rows": null,
            "grid_gap": null,
            "max_width": null,
            "order": null,
            "_view_module_version": "1.2.0",
            "grid_template_areas": null,
            "object_position": null,
            "object_fit": null,
            "grid_auto_columns": null,
            "margin": null,
            "display": null,
            "left": null
          }
        },
        "9954cabad8444c87ada9753dacdd955c": {
          "model_module": "@jupyter-widgets/controls",
          "model_name": "DescriptionStyleModel",
          "state": {
            "_view_name": "StyleView",
            "_model_name": "DescriptionStyleModel",
            "description_width": "",
            "_view_module": "@jupyter-widgets/base",
            "_model_module_version": "1.5.0",
            "_view_count": null,
            "_view_module_version": "1.2.0",
            "_model_module": "@jupyter-widgets/controls"
          }
        },
        "9f113c45e9f0405d97f1331d5de29804": {
          "model_module": "@jupyter-widgets/base",
          "model_name": "LayoutModel",
          "state": {
            "_view_name": "LayoutView",
            "grid_template_rows": null,
            "right": null,
            "justify_content": null,
            "_view_module": "@jupyter-widgets/base",
            "overflow": null,
            "_model_module_version": "1.2.0",
            "_view_count": null,
            "flex_flow": null,
            "width": null,
            "min_width": null,
            "border": null,
            "align_items": null,
            "bottom": null,
            "_model_module": "@jupyter-widgets/base",
            "top": null,
            "grid_column": null,
            "overflow_y": null,
            "overflow_x": null,
            "grid_auto_flow": null,
            "grid_area": null,
            "grid_template_columns": null,
            "flex": null,
            "_model_name": "LayoutModel",
            "justify_items": null,
            "grid_row": null,
            "max_height": null,
            "align_content": null,
            "visibility": null,
            "align_self": null,
            "height": null,
            "min_height": null,
            "padding": null,
            "grid_auto_rows": null,
            "grid_gap": null,
            "max_width": null,
            "order": null,
            "_view_module_version": "1.2.0",
            "grid_template_areas": null,
            "object_position": null,
            "object_fit": null,
            "grid_auto_columns": null,
            "margin": null,
            "display": null,
            "left": null
          }
        },
        "e5737194add74369b061ce0c140b5523": {
          "model_module": "@jupyter-widgets/controls",
          "model_name": "HBoxModel",
          "state": {
            "_view_name": "HBoxView",
            "_dom_classes": [],
            "_model_name": "HBoxModel",
            "_view_module": "@jupyter-widgets/controls",
            "_model_module_version": "1.5.0",
            "_view_count": null,
            "_view_module_version": "1.5.0",
            "box_style": "",
            "layout": "IPY_MODEL_31a2e8f7a56040ed8effd47ed65cbe70",
            "_model_module": "@jupyter-widgets/controls",
            "children": [
              "IPY_MODEL_df16a6a7b8e940939bd48bfd54cbdef8",
              "IPY_MODEL_6abde3f6cf5a45adaf2a2092831ec107"
            ]
          }
        },
        "31a2e8f7a56040ed8effd47ed65cbe70": {
          "model_module": "@jupyter-widgets/base",
          "model_name": "LayoutModel",
          "state": {
            "_view_name": "LayoutView",
            "grid_template_rows": null,
            "right": null,
            "justify_content": null,
            "_view_module": "@jupyter-widgets/base",
            "overflow": null,
            "_model_module_version": "1.2.0",
            "_view_count": null,
            "flex_flow": null,
            "width": null,
            "min_width": null,
            "border": null,
            "align_items": null,
            "bottom": null,
            "_model_module": "@jupyter-widgets/base",
            "top": null,
            "grid_column": null,
            "overflow_y": null,
            "overflow_x": null,
            "grid_auto_flow": null,
            "grid_area": null,
            "grid_template_columns": null,
            "flex": null,
            "_model_name": "LayoutModel",
            "justify_items": null,
            "grid_row": null,
            "max_height": null,
            "align_content": null,
            "visibility": null,
            "align_self": null,
            "height": null,
            "min_height": null,
            "padding": null,
            "grid_auto_rows": null,
            "grid_gap": null,
            "max_width": null,
            "order": null,
            "_view_module_version": "1.2.0",
            "grid_template_areas": null,
            "object_position": null,
            "object_fit": null,
            "grid_auto_columns": null,
            "margin": null,
            "display": null,
            "left": null
          }
        },
        "df16a6a7b8e940939bd48bfd54cbdef8": {
          "model_module": "@jupyter-widgets/controls",
          "model_name": "FloatProgressModel",
          "state": {
            "_view_name": "ProgressView",
            "style": "IPY_MODEL_95cd0077e7d143b2bb0ff961136b8a30",
            "_dom_classes": [],
            "description": "Downloading: 100%",
            "_model_name": "FloatProgressModel",
            "bar_style": "success",
            "max": 1520013706,
            "_view_module": "@jupyter-widgets/controls",
            "_model_module_version": "1.5.0",
            "value": 1520013706,
            "_view_count": null,
            "_view_module_version": "1.5.0",
            "orientation": "horizontal",
            "min": 0,
            "description_tooltip": null,
            "_model_module": "@jupyter-widgets/controls",
            "layout": "IPY_MODEL_31e1dc935327458eb6f1aa350831c79d"
          }
        },
        "6abde3f6cf5a45adaf2a2092831ec107": {
          "model_module": "@jupyter-widgets/controls",
          "model_name": "HTMLModel",
          "state": {
            "_view_name": "HTMLView",
            "style": "IPY_MODEL_664f2eaaaea64e8c9c373c155ef93462",
            "_dom_classes": [],
            "description": "",
            "_model_name": "HTMLModel",
            "placeholder": "​",
            "_view_module": "@jupyter-widgets/controls",
            "_model_module_version": "1.5.0",
            "value": " 1.52G/1.52G [00:53&lt;00:00, 28.4MB/s]",
            "_view_count": null,
            "_view_module_version": "1.5.0",
            "description_tooltip": null,
            "_model_module": "@jupyter-widgets/controls",
            "layout": "IPY_MODEL_d10fc15ace604d509d92cace3da66d1d"
          }
        },
        "95cd0077e7d143b2bb0ff961136b8a30": {
          "model_module": "@jupyter-widgets/controls",
          "model_name": "ProgressStyleModel",
          "state": {
            "_view_name": "StyleView",
            "_model_name": "ProgressStyleModel",
            "description_width": "initial",
            "_view_module": "@jupyter-widgets/base",
            "_model_module_version": "1.5.0",
            "_view_count": null,
            "_view_module_version": "1.2.0",
            "bar_color": null,
            "_model_module": "@jupyter-widgets/controls"
          }
        },
        "31e1dc935327458eb6f1aa350831c79d": {
          "model_module": "@jupyter-widgets/base",
          "model_name": "LayoutModel",
          "state": {
            "_view_name": "LayoutView",
            "grid_template_rows": null,
            "right": null,
            "justify_content": null,
            "_view_module": "@jupyter-widgets/base",
            "overflow": null,
            "_model_module_version": "1.2.0",
            "_view_count": null,
            "flex_flow": null,
            "width": null,
            "min_width": null,
            "border": null,
            "align_items": null,
            "bottom": null,
            "_model_module": "@jupyter-widgets/base",
            "top": null,
            "grid_column": null,
            "overflow_y": null,
            "overflow_x": null,
            "grid_auto_flow": null,
            "grid_area": null,
            "grid_template_columns": null,
            "flex": null,
            "_model_name": "LayoutModel",
            "justify_items": null,
            "grid_row": null,
            "max_height": null,
            "align_content": null,
            "visibility": null,
            "align_self": null,
            "height": null,
            "min_height": null,
            "padding": null,
            "grid_auto_rows": null,
            "grid_gap": null,
            "max_width": null,
            "order": null,
            "_view_module_version": "1.2.0",
            "grid_template_areas": null,
            "object_position": null,
            "object_fit": null,
            "grid_auto_columns": null,
            "margin": null,
            "display": null,
            "left": null
          }
        },
        "664f2eaaaea64e8c9c373c155ef93462": {
          "model_module": "@jupyter-widgets/controls",
          "model_name": "DescriptionStyleModel",
          "state": {
            "_view_name": "StyleView",
            "_model_name": "DescriptionStyleModel",
            "description_width": "",
            "_view_module": "@jupyter-widgets/base",
            "_model_module_version": "1.5.0",
            "_view_count": null,
            "_view_module_version": "1.2.0",
            "_model_module": "@jupyter-widgets/controls"
          }
        },
        "d10fc15ace604d509d92cace3da66d1d": {
          "model_module": "@jupyter-widgets/base",
          "model_name": "LayoutModel",
          "state": {
            "_view_name": "LayoutView",
            "grid_template_rows": null,
            "right": null,
            "justify_content": null,
            "_view_module": "@jupyter-widgets/base",
            "overflow": null,
            "_model_module_version": "1.2.0",
            "_view_count": null,
            "flex_flow": null,
            "width": null,
            "min_width": null,
            "border": null,
            "align_items": null,
            "bottom": null,
            "_model_module": "@jupyter-widgets/base",
            "top": null,
            "grid_column": null,
            "overflow_y": null,
            "overflow_x": null,
            "grid_auto_flow": null,
            "grid_area": null,
            "grid_template_columns": null,
            "flex": null,
            "_model_name": "LayoutModel",
            "justify_items": null,
            "grid_row": null,
            "max_height": null,
            "align_content": null,
            "visibility": null,
            "align_self": null,
            "height": null,
            "min_height": null,
            "padding": null,
            "grid_auto_rows": null,
            "grid_gap": null,
            "max_width": null,
            "order": null,
            "_view_module_version": "1.2.0",
            "grid_template_areas": null,
            "object_position": null,
            "object_fit": null,
            "grid_auto_columns": null,
            "margin": null,
            "display": null,
            "left": null
          }
        }
      }
    }
  },
  "cells": [
    {
      "cell_type": "markdown",
      "metadata": {
        "id": "J6YsGZxmz86Y"
      },
      "source": [
        "# 1. Installing the Transformers"
      ]
    },
    {
      "cell_type": "code",
      "metadata": {
        "colab": {
          "base_uri": "https://localhost:8080/"
        },
        "id": "B75fjcurz64V",
        "outputId": "075c6782-f1d8-43f3-c874-32d073900a10"
      },
      "source": [
        "!pip install transformers\n",
        "!pip install nltk"
      ],
      "execution_count": null,
      "outputs": [
        {
          "output_type": "stream",
          "text": [
            "Collecting transformers\n",
            "\u001b[?25l  Downloading https://files.pythonhosted.org/packages/d5/43/cfe4ee779bbd6a678ac6a97c5a5cdeb03c35f9eaebbb9720b036680f9a2d/transformers-4.6.1-py3-none-any.whl (2.2MB)\n",
            "\u001b[K     |████████████████████████████████| 2.3MB 4.3MB/s \n",
            "\u001b[?25hRequirement already satisfied: filelock in /usr/local/lib/python3.7/dist-packages (from transformers) (3.0.12)\n",
            "Requirement already satisfied: tqdm>=4.27 in /usr/local/lib/python3.7/dist-packages (from transformers) (4.41.1)\n",
            "Requirement already satisfied: requests in /usr/local/lib/python3.7/dist-packages (from transformers) (2.23.0)\n",
            "Requirement already satisfied: importlib-metadata; python_version < \"3.8\" in /usr/local/lib/python3.7/dist-packages (from transformers) (4.0.1)\n",
            "Collecting sacremoses\n",
            "\u001b[?25l  Downloading https://files.pythonhosted.org/packages/75/ee/67241dc87f266093c533a2d4d3d69438e57d7a90abb216fa076e7d475d4a/sacremoses-0.0.45-py3-none-any.whl (895kB)\n",
            "\u001b[K     |████████████████████████████████| 901kB 20.7MB/s \n",
            "\u001b[?25hCollecting tokenizers<0.11,>=0.10.1\n",
            "\u001b[?25l  Downloading https://files.pythonhosted.org/packages/d4/e2/df3543e8ffdab68f5acc73f613de9c2b155ac47f162e725dcac87c521c11/tokenizers-0.10.3-cp37-cp37m-manylinux_2_5_x86_64.manylinux1_x86_64.manylinux_2_12_x86_64.manylinux2010_x86_64.whl (3.3MB)\n",
            "\u001b[K     |████████████████████████████████| 3.3MB 27.8MB/s \n",
            "\u001b[?25hRequirement already satisfied: packaging in /usr/local/lib/python3.7/dist-packages (from transformers) (20.9)\n",
            "Requirement already satisfied: regex!=2019.12.17 in /usr/local/lib/python3.7/dist-packages (from transformers) (2019.12.20)\n",
            "Collecting huggingface-hub==0.0.8\n",
            "  Downloading https://files.pythonhosted.org/packages/a1/88/7b1e45720ecf59c6c6737ff332f41c955963090a18e72acbcbeac6b25e86/huggingface_hub-0.0.8-py3-none-any.whl\n",
            "Requirement already satisfied: numpy>=1.17 in /usr/local/lib/python3.7/dist-packages (from transformers) (1.19.5)\n",
            "Requirement already satisfied: urllib3!=1.25.0,!=1.25.1,<1.26,>=1.21.1 in /usr/local/lib/python3.7/dist-packages (from requests->transformers) (1.24.3)\n",
            "Requirement already satisfied: certifi>=2017.4.17 in /usr/local/lib/python3.7/dist-packages (from requests->transformers) (2020.12.5)\n",
            "Requirement already satisfied: idna<3,>=2.5 in /usr/local/lib/python3.7/dist-packages (from requests->transformers) (2.10)\n",
            "Requirement already satisfied: chardet<4,>=3.0.2 in /usr/local/lib/python3.7/dist-packages (from requests->transformers) (3.0.4)\n",
            "Requirement already satisfied: zipp>=0.5 in /usr/local/lib/python3.7/dist-packages (from importlib-metadata; python_version < \"3.8\"->transformers) (3.4.1)\n",
            "Requirement already satisfied: typing-extensions>=3.6.4; python_version < \"3.8\" in /usr/local/lib/python3.7/dist-packages (from importlib-metadata; python_version < \"3.8\"->transformers) (3.7.4.3)\n",
            "Requirement already satisfied: joblib in /usr/local/lib/python3.7/dist-packages (from sacremoses->transformers) (1.0.1)\n",
            "Requirement already satisfied: six in /usr/local/lib/python3.7/dist-packages (from sacremoses->transformers) (1.15.0)\n",
            "Requirement already satisfied: click in /usr/local/lib/python3.7/dist-packages (from sacremoses->transformers) (7.1.2)\n",
            "Requirement already satisfied: pyparsing>=2.0.2 in /usr/local/lib/python3.7/dist-packages (from packaging->transformers) (2.4.7)\n",
            "Installing collected packages: sacremoses, tokenizers, huggingface-hub, transformers\n",
            "Successfully installed huggingface-hub-0.0.8 sacremoses-0.0.45 tokenizers-0.10.3 transformers-4.6.1\n",
            "Requirement already satisfied: nltk in /usr/local/lib/python3.7/dist-packages (3.2.5)\n",
            "Requirement already satisfied: six in /usr/local/lib/python3.7/dist-packages (from nltk) (1.15.0)\n"
          ],
          "name": "stdout"
        }
      ]
    },
    {
      "cell_type": "markdown",
      "metadata": {
        "id": "bnmXBSt3zzLP"
      },
      "source": [
        "# 2. Importing and Cleaning the data\n"
      ]
    },
    {
      "cell_type": "code",
      "metadata": {
        "id": "frscnxgJz0nI"
      },
      "source": [
        "#Importing all the necessary libraries \n",
        "import pandas as pd\n",
        "import numpy as np\n",
        "import random\n",
        "from matplotlib import pyplot as plt\n",
        "import seaborn as sns\n",
        "import re\n",
        "import json\n",
        "import torch\n",
        "import gc\n",
        "from torch.utils.data import Dataset, random_split, Subset\n",
        "from transformers import GPT2Tokenizer, TrainingArguments, Trainer, GPT2LMHeadModel\n",
        "import nltk\n",
        "from nltk import word_tokenize"
      ],
      "execution_count": null,
      "outputs": []
    },
    {
      "cell_type": "code",
      "metadata": {
        "colab": {
          "base_uri": "https://localhost:8080/",
          "height": 419
        },
        "id": "JWwjnB1m0P3S",
        "outputId": "a06389d9-a5f1-477e-9867-9eaa5760437c"
      },
      "source": [
        "#Reading the json file\n",
        "df = pd.read_json('/content/Dataset for Detection of Cyber-Trolls.json', orient='records', lines=True)\n",
        "df"
      ],
      "execution_count": null,
      "outputs": [
        {
          "output_type": "execute_result",
          "data": {
            "text/html": [
              "<div>\n",
              "<style scoped>\n",
              "    .dataframe tbody tr th:only-of-type {\n",
              "        vertical-align: middle;\n",
              "    }\n",
              "\n",
              "    .dataframe tbody tr th {\n",
              "        vertical-align: top;\n",
              "    }\n",
              "\n",
              "    .dataframe thead th {\n",
              "        text-align: right;\n",
              "    }\n",
              "</style>\n",
              "<table border=\"1\" class=\"dataframe\">\n",
              "  <thead>\n",
              "    <tr style=\"text-align: right;\">\n",
              "      <th></th>\n",
              "      <th>content</th>\n",
              "      <th>annotation</th>\n",
              "      <th>extras</th>\n",
              "    </tr>\n",
              "  </thead>\n",
              "  <tbody>\n",
              "    <tr>\n",
              "      <th>0</th>\n",
              "      <td>Get fucking real dude.</td>\n",
              "      <td>{'notes': '', 'label': ['1']}</td>\n",
              "      <td>NaN</td>\n",
              "    </tr>\n",
              "    <tr>\n",
              "      <th>1</th>\n",
              "      <td>She is as dirty as they come  and that crook ...</td>\n",
              "      <td>{'notes': '', 'label': ['1']}</td>\n",
              "      <td>NaN</td>\n",
              "    </tr>\n",
              "    <tr>\n",
              "      <th>2</th>\n",
              "      <td>why did you fuck it up. I could do it all day...</td>\n",
              "      <td>{'notes': '', 'label': ['1']}</td>\n",
              "      <td>NaN</td>\n",
              "    </tr>\n",
              "    <tr>\n",
              "      <th>3</th>\n",
              "      <td>Dude they dont finish enclosing the fucking s...</td>\n",
              "      <td>{'notes': '', 'label': ['1']}</td>\n",
              "      <td>NaN</td>\n",
              "    </tr>\n",
              "    <tr>\n",
              "      <th>4</th>\n",
              "      <td>WTF are you talking about Men? No men thats n...</td>\n",
              "      <td>{'notes': '', 'label': ['1']}</td>\n",
              "      <td>NaN</td>\n",
              "    </tr>\n",
              "    <tr>\n",
              "      <th>...</th>\n",
              "      <td>...</td>\n",
              "      <td>...</td>\n",
              "      <td>...</td>\n",
              "    </tr>\n",
              "    <tr>\n",
              "      <th>19996</th>\n",
              "      <td>I dont. But what is complaining about it goi...</td>\n",
              "      <td>{'notes': '', 'label': ['0']}</td>\n",
              "      <td>NaN</td>\n",
              "    </tr>\n",
              "    <tr>\n",
              "      <th>19997</th>\n",
              "      <td>Bahah  yeah i&amp;;m totally just gonna&amp;; get pis...</td>\n",
              "      <td>{'notes': '', 'label': ['0']}</td>\n",
              "      <td>NaN</td>\n",
              "    </tr>\n",
              "    <tr>\n",
              "      <th>19998</th>\n",
              "      <td>hahahahaha &gt;:) im evil mwahahahahahahahahaha</td>\n",
              "      <td>{'notes': '', 'label': ['0']}</td>\n",
              "      <td>NaN</td>\n",
              "    </tr>\n",
              "    <tr>\n",
              "      <th>19999</th>\n",
              "      <td>What&amp;;s something unique about Ohio? :)</td>\n",
              "      <td>{'notes': '', 'label': ['0']}</td>\n",
              "      <td>NaN</td>\n",
              "    </tr>\n",
              "    <tr>\n",
              "      <th>20000</th>\n",
              "      <td>Who is the biggest gossiper you know?</td>\n",
              "      <td>{'notes': '', 'label': ['0']}</td>\n",
              "      <td>NaN</td>\n",
              "    </tr>\n",
              "  </tbody>\n",
              "</table>\n",
              "<p>20001 rows × 3 columns</p>\n",
              "</div>"
            ],
            "text/plain": [
              "                                                 content  ... extras\n",
              "0                                 Get fucking real dude.  ...    NaN\n",
              "1       She is as dirty as they come  and that crook ...  ...    NaN\n",
              "2       why did you fuck it up. I could do it all day...  ...    NaN\n",
              "3       Dude they dont finish enclosing the fucking s...  ...    NaN\n",
              "4       WTF are you talking about Men? No men thats n...  ...    NaN\n",
              "...                                                  ...  ...    ...\n",
              "19996    I dont. But what is complaining about it goi...  ...    NaN\n",
              "19997   Bahah  yeah i&;m totally just gonna&; get pis...  ...    NaN\n",
              "19998       hahahahaha >:) im evil mwahahahahahahahahaha  ...    NaN\n",
              "19999            What&;s something unique about Ohio? :)  ...    NaN\n",
              "20000              Who is the biggest gossiper you know?  ...    NaN\n",
              "\n",
              "[20001 rows x 3 columns]"
            ]
          },
          "metadata": {
            "tags": []
          },
          "execution_count": 5
        }
      ]
    },
    {
      "cell_type": "code",
      "metadata": {
        "id": "IzjDnTp_vaf-",
        "colab": {
          "base_uri": "https://localhost:8080/"
        },
        "outputId": "e5657f8f-882d-4c5a-cf04-9f11b7a00497"
      },
      "source": [
        "#Strip whitespaces at the beginning and end of the tweets\n",
        "df['content'] = df['content'].str.strip()\n",
        "df['content'].head()"
      ],
      "execution_count": null,
      "outputs": [
        {
          "output_type": "execute_result",
          "data": {
            "text/plain": [
              "0                               Get fucking real dude.\n",
              "1    She is as dirty as they come  and that crook R...\n",
              "2    why did you fuck it up. I could do it all day ...\n",
              "3    Dude they dont finish enclosing the fucking sh...\n",
              "4    WTF are you talking about Men? No men thats no...\n",
              "Name: content, dtype: object"
            ]
          },
          "metadata": {
            "tags": []
          },
          "execution_count": 6
        }
      ]
    },
    {
      "cell_type": "code",
      "metadata": {
        "colab": {
          "base_uri": "https://localhost:8080/"
        },
        "id": "Jg7xnxhWoaY_",
        "outputId": "6350b119-f869-4fd8-f7ba-6a3509b350d4"
      },
      "source": [
        "#Remove missing values such as \"\n",
        "df = df.drop(df[df['content'] == '\"'].index) # 5 rows removed\n",
        "\n",
        "#Remove duplicates\n",
        "df = df.drop(df[df.duplicated(subset=['content'])].index) # 5368 duplicate rows removed\n",
        "df.shape"
      ],
      "execution_count": null,
      "outputs": [
        {
          "output_type": "execute_result",
          "data": {
            "text/plain": [
              "(14627, 3)"
            ]
          },
          "metadata": {
            "tags": []
          },
          "execution_count": 7
        }
      ]
    },
    {
      "cell_type": "code",
      "metadata": {
        "id": "kt1xzsJJ0P8C"
      },
      "source": [
        "#Remove hyperlinks within tweets\n",
        "df[df['content'].str.match(r'http\\S+')==True].count() # 54 rows removed with links\n",
        "df[df['content'].str.match(r'www\\S+')==True].count() # 2 rows removed with links\n",
        "df['content'] = df['content'].replace(r'http\\S+', '', regex=True).replace(r'www\\S+', '', regex=True)\n"
      ],
      "execution_count": null,
      "outputs": []
    },
    {
      "cell_type": "code",
      "metadata": {
        "colab": {
          "base_uri": "https://localhost:8080/",
          "height": 204
        },
        "id": "5Vz5x47e0P-j",
        "outputId": "66d17500-7ab4-4773-abd4-2b8ca5d26b93"
      },
      "source": [
        "#Simplifying and renaming 'annotation' column to 'label'. label=1 indicates aggressive tweet\n",
        "df[['notes', 'label']] = df['annotation'].apply(pd.Series)\n",
        "df['label'] = df['label'].apply(lambda x: int(x[0]))\n",
        "df.drop('annotation', axis=1, inplace = True)\n",
        "df = df[['content', 'label']]\n",
        "df.head()"
      ],
      "execution_count": null,
      "outputs": [
        {
          "output_type": "execute_result",
          "data": {
            "text/html": [
              "<div>\n",
              "<style scoped>\n",
              "    .dataframe tbody tr th:only-of-type {\n",
              "        vertical-align: middle;\n",
              "    }\n",
              "\n",
              "    .dataframe tbody tr th {\n",
              "        vertical-align: top;\n",
              "    }\n",
              "\n",
              "    .dataframe thead th {\n",
              "        text-align: right;\n",
              "    }\n",
              "</style>\n",
              "<table border=\"1\" class=\"dataframe\">\n",
              "  <thead>\n",
              "    <tr style=\"text-align: right;\">\n",
              "      <th></th>\n",
              "      <th>content</th>\n",
              "      <th>label</th>\n",
              "    </tr>\n",
              "  </thead>\n",
              "  <tbody>\n",
              "    <tr>\n",
              "      <th>0</th>\n",
              "      <td>Get fucking real dude.</td>\n",
              "      <td>1</td>\n",
              "    </tr>\n",
              "    <tr>\n",
              "      <th>1</th>\n",
              "      <td>She is as dirty as they come  and that crook R...</td>\n",
              "      <td>1</td>\n",
              "    </tr>\n",
              "    <tr>\n",
              "      <th>2</th>\n",
              "      <td>why did you fuck it up. I could do it all day ...</td>\n",
              "      <td>1</td>\n",
              "    </tr>\n",
              "    <tr>\n",
              "      <th>3</th>\n",
              "      <td>Dude they dont finish enclosing the fucking sh...</td>\n",
              "      <td>1</td>\n",
              "    </tr>\n",
              "    <tr>\n",
              "      <th>4</th>\n",
              "      <td>WTF are you talking about Men? No men thats no...</td>\n",
              "      <td>1</td>\n",
              "    </tr>\n",
              "  </tbody>\n",
              "</table>\n",
              "</div>"
            ],
            "text/plain": [
              "                                             content  label\n",
              "0                             Get fucking real dude.      1\n",
              "1  She is as dirty as they come  and that crook R...      1\n",
              "2  why did you fuck it up. I could do it all day ...      1\n",
              "3  Dude they dont finish enclosing the fucking sh...      1\n",
              "4  WTF are you talking about Men? No men thats no...      1"
            ]
          },
          "metadata": {
            "tags": []
          },
          "execution_count": 9
        }
      ]
    },
    {
      "cell_type": "markdown",
      "metadata": {
        "id": "NrVthZvAz2Ui"
      },
      "source": [
        "# 3. Loading the Pre-trained *GPT*-2 Transformer\n",
        "\n"
      ]
    },
    {
      "cell_type": "code",
      "metadata": {
        "colab": {
          "base_uri": "https://localhost:8080/",
          "height": 296,
          "referenced_widgets": [
            "6d2d8ce3f9b54072a4c19edbf9782838",
            "a63f581639bf4d86a05b4f8252686996",
            "6b65809894784d929c238c4ec08f11b9",
            "39577524bc9f4eac9e092f811a1ec517",
            "a588f379837944b6a81456d9871ccfc8",
            "dff1965a718e4a8b9ff7aeb1add5245a",
            "8b76c460f2cd4de49a10629056ce5d8f",
            "2e5df7da049e4410998d4fdcfcd4f181",
            "0647a07a3c674058bee2cb16d1df716b",
            "34d94540d6f242b882ff18785ccdb043",
            "559cfd20ae9545a6a9d4e0619d45759a",
            "3d71aa625daf4938adcd601e70617234",
            "e75116e5750549738605150343f99262",
            "2cba1b9e6d5048f89e398fac6745483a",
            "7fe225cfda6046e895f208bf19e2b83f",
            "2f42d4f43d6741bca2614a6b4fd944f2",
            "b7945d3e111744769a7c5d63bfd9d7bb",
            "7d147c89ec8a4a82bfdce9ad0cb5a462",
            "6ab9c2c9ef0a4eb9b681ee453484d80c",
            "99386d0e7a2e4cf4abb488e05bad3ae0",
            "7f6a8289078b4436a446cbbb6b10dbd4",
            "a5c30961af014b27af49e4201a12c97e",
            "2c93c0cda5d74fa19ddd4597b5e42016",
            "674a46913f6b4a6f807f15e039aba4be",
            "527b1534aa9042fc868f4e26d0d0537f",
            "9962541709234b0a851134bafda41f70",
            "ae13a7b2f40e4c88969d229e73e166e7",
            "0852c7bbdcef4507807938fbd4346fd6",
            "cb8e2b94f16645f189746c7b12361d14",
            "e95eebd1f1664e57b90c2e6fed790f60",
            "9954cabad8444c87ada9753dacdd955c",
            "9f113c45e9f0405d97f1331d5de29804",
            "e5737194add74369b061ce0c140b5523",
            "31a2e8f7a56040ed8effd47ed65cbe70",
            "df16a6a7b8e940939bd48bfd54cbdef8",
            "6abde3f6cf5a45adaf2a2092831ec107",
            "95cd0077e7d143b2bb0ff961136b8a30",
            "31e1dc935327458eb6f1aa350831c79d",
            "664f2eaaaea64e8c9c373c155ef93462",
            "d10fc15ace604d509d92cace3da66d1d"
          ]
        },
        "id": "twHAhY--1JDC",
        "outputId": "85b04dda-966c-4fc5-eea1-6a5d9072b56c"
      },
      "source": [
        "#get transformers\n",
        "from transformers import TFGPT2LMHeadModel, GPT2Tokenizer\n",
        "\n",
        "#get GPT2 tokenizer and GPT2 model\n",
        "tokenizer = GPT2Tokenizer.from_pretrained(\"gpt2-medium\",\n",
        "                            bos_token=\"<|startoftext|>\",\n",
        "                            eos_token=\"<|endoftext|>\",\n",
        "                            pad_token=\"<|pad|>\")\n",
        "\n",
        "# Download the pre-trained GPT-Neo model and transfer it to the GPU\n",
        "model = GPT2LMHeadModel.from_pretrained(\"gpt2-medium\")\n",
        "gc.collect()\n",
        "model = model.cuda()\n",
        "\n",
        "# Resize the token embeddings because we've just added 3 new tokens\n",
        "model.resize_token_embeddings(len(tokenizer))\n"
      ],
      "execution_count": null,
      "outputs": [
        {
          "output_type": "display_data",
          "data": {
            "application/vnd.jupyter.widget-view+json": {
              "model_id": "6d2d8ce3f9b54072a4c19edbf9782838",
              "version_minor": 0,
              "version_major": 2
            },
            "text/plain": [
              "HBox(children=(FloatProgress(value=0.0, description='Downloading', max=1042301.0, style=ProgressStyle(descript…"
            ]
          },
          "metadata": {
            "tags": []
          }
        },
        {
          "output_type": "stream",
          "text": [
            "\n"
          ],
          "name": "stdout"
        },
        {
          "output_type": "display_data",
          "data": {
            "application/vnd.jupyter.widget-view+json": {
              "model_id": "0647a07a3c674058bee2cb16d1df716b",
              "version_minor": 0,
              "version_major": 2
            },
            "text/plain": [
              "HBox(children=(FloatProgress(value=0.0, description='Downloading', max=456318.0, style=ProgressStyle(descripti…"
            ]
          },
          "metadata": {
            "tags": []
          }
        },
        {
          "output_type": "stream",
          "text": [
            "\n"
          ],
          "name": "stdout"
        },
        {
          "output_type": "display_data",
          "data": {
            "application/vnd.jupyter.widget-view+json": {
              "model_id": "b7945d3e111744769a7c5d63bfd9d7bb",
              "version_minor": 0,
              "version_major": 2
            },
            "text/plain": [
              "HBox(children=(FloatProgress(value=0.0, description='Downloading', max=1355256.0, style=ProgressStyle(descript…"
            ]
          },
          "metadata": {
            "tags": []
          }
        },
        {
          "output_type": "stream",
          "text": [
            "Special tokens have been added in the vocabulary, make sure the associated word embeddings are fine-tuned or trained.\n"
          ],
          "name": "stderr"
        },
        {
          "output_type": "stream",
          "text": [
            "\n"
          ],
          "name": "stdout"
        },
        {
          "output_type": "display_data",
          "data": {
            "application/vnd.jupyter.widget-view+json": {
              "model_id": "527b1534aa9042fc868f4e26d0d0537f",
              "version_minor": 0,
              "version_major": 2
            },
            "text/plain": [
              "HBox(children=(FloatProgress(value=0.0, description='Downloading', max=718.0, style=ProgressStyle(description_…"
            ]
          },
          "metadata": {
            "tags": []
          }
        },
        {
          "output_type": "stream",
          "text": [
            "\n"
          ],
          "name": "stdout"
        },
        {
          "output_type": "display_data",
          "data": {
            "application/vnd.jupyter.widget-view+json": {
              "model_id": "e5737194add74369b061ce0c140b5523",
              "version_minor": 0,
              "version_major": 2
            },
            "text/plain": [
              "HBox(children=(FloatProgress(value=0.0, description='Downloading', max=1520013706.0, style=ProgressStyle(descr…"
            ]
          },
          "metadata": {
            "tags": []
          }
        },
        {
          "output_type": "stream",
          "text": [
            "\n"
          ],
          "name": "stdout"
        },
        {
          "output_type": "execute_result",
          "data": {
            "text/plain": [
              "Embedding(50259, 1024)"
            ]
          },
          "metadata": {
            "tags": []
          },
          "execution_count": 10
        }
      ]
    },
    {
      "cell_type": "markdown",
      "metadata": {
        "id": "xnnmDiaR1ue8"
      },
      "source": [
        "# 3. Exploratory Data Analysis (EDA)"
      ]
    },
    {
      "cell_type": "code",
      "metadata": {
        "colab": {
          "base_uri": "https://localhost:8080/",
          "height": 204
        },
        "id": "0ymjm_j01vAO",
        "outputId": "b2624fd0-990b-4b7e-dee3-b85d400c5924"
      },
      "source": [
        "#Find word/token length of each tweet\n",
        "length_words = []\n",
        "for content in df['content'].values:\n",
        "    length_words.append(len(tokenizer.encode(content, return_tensors='np')[0]))\n",
        "df['len_words'] = length_words\n",
        "df.head()"
      ],
      "execution_count": null,
      "outputs": [
        {
          "output_type": "execute_result",
          "data": {
            "text/html": [
              "<div>\n",
              "<style scoped>\n",
              "    .dataframe tbody tr th:only-of-type {\n",
              "        vertical-align: middle;\n",
              "    }\n",
              "\n",
              "    .dataframe tbody tr th {\n",
              "        vertical-align: top;\n",
              "    }\n",
              "\n",
              "    .dataframe thead th {\n",
              "        text-align: right;\n",
              "    }\n",
              "</style>\n",
              "<table border=\"1\" class=\"dataframe\">\n",
              "  <thead>\n",
              "    <tr style=\"text-align: right;\">\n",
              "      <th></th>\n",
              "      <th>content</th>\n",
              "      <th>label</th>\n",
              "      <th>len_words</th>\n",
              "    </tr>\n",
              "  </thead>\n",
              "  <tbody>\n",
              "    <tr>\n",
              "      <th>0</th>\n",
              "      <td>Get fucking real dude.</td>\n",
              "      <td>1</td>\n",
              "      <td>5</td>\n",
              "    </tr>\n",
              "    <tr>\n",
              "      <th>1</th>\n",
              "      <td>She is as dirty as they come  and that crook R...</td>\n",
              "      <td>1</td>\n",
              "      <td>33</td>\n",
              "    </tr>\n",
              "    <tr>\n",
              "      <th>2</th>\n",
              "      <td>why did you fuck it up. I could do it all day ...</td>\n",
              "      <td>1</td>\n",
              "      <td>35</td>\n",
              "    </tr>\n",
              "    <tr>\n",
              "      <th>3</th>\n",
              "      <td>Dude they dont finish enclosing the fucking sh...</td>\n",
              "      <td>1</td>\n",
              "      <td>29</td>\n",
              "    </tr>\n",
              "    <tr>\n",
              "      <th>4</th>\n",
              "      <td>WTF are you talking about Men? No men thats no...</td>\n",
              "      <td>1</td>\n",
              "      <td>21</td>\n",
              "    </tr>\n",
              "  </tbody>\n",
              "</table>\n",
              "</div>"
            ],
            "text/plain": [
              "                                             content  label  len_words\n",
              "0                             Get fucking real dude.      1          5\n",
              "1  She is as dirty as they come  and that crook R...      1         33\n",
              "2  why did you fuck it up. I could do it all day ...      1         35\n",
              "3  Dude they dont finish enclosing the fucking sh...      1         29\n",
              "4  WTF are you talking about Men? No men thats no...      1         21"
            ]
          },
          "metadata": {
            "tags": []
          },
          "execution_count": 11
        }
      ]
    },
    {
      "cell_type": "code",
      "metadata": {
        "colab": {
          "base_uri": "https://localhost:8080/",
          "height": 204
        },
        "id": "pP10ohzB1xbx",
        "outputId": "613f501a-4d35-4719-dc1a-53f515638eb0"
      },
      "source": [
        "#Find number of sentences per tweet\n",
        "df['len_sentences'] = df['content'].apply(lambda x: len(re.split('(?<=[.!?]) +', x)))\n",
        "df.head()"
      ],
      "execution_count": null,
      "outputs": [
        {
          "output_type": "execute_result",
          "data": {
            "text/html": [
              "<div>\n",
              "<style scoped>\n",
              "    .dataframe tbody tr th:only-of-type {\n",
              "        vertical-align: middle;\n",
              "    }\n",
              "\n",
              "    .dataframe tbody tr th {\n",
              "        vertical-align: top;\n",
              "    }\n",
              "\n",
              "    .dataframe thead th {\n",
              "        text-align: right;\n",
              "    }\n",
              "</style>\n",
              "<table border=\"1\" class=\"dataframe\">\n",
              "  <thead>\n",
              "    <tr style=\"text-align: right;\">\n",
              "      <th></th>\n",
              "      <th>content</th>\n",
              "      <th>label</th>\n",
              "      <th>len_words</th>\n",
              "      <th>len_sentences</th>\n",
              "    </tr>\n",
              "  </thead>\n",
              "  <tbody>\n",
              "    <tr>\n",
              "      <th>0</th>\n",
              "      <td>Get fucking real dude.</td>\n",
              "      <td>1</td>\n",
              "      <td>5</td>\n",
              "      <td>1</td>\n",
              "    </tr>\n",
              "    <tr>\n",
              "      <th>1</th>\n",
              "      <td>She is as dirty as they come  and that crook R...</td>\n",
              "      <td>1</td>\n",
              "      <td>33</td>\n",
              "      <td>2</td>\n",
              "    </tr>\n",
              "    <tr>\n",
              "      <th>2</th>\n",
              "      <td>why did you fuck it up. I could do it all day ...</td>\n",
              "      <td>1</td>\n",
              "      <td>35</td>\n",
              "      <td>4</td>\n",
              "    </tr>\n",
              "    <tr>\n",
              "      <th>3</th>\n",
              "      <td>Dude they dont finish enclosing the fucking sh...</td>\n",
              "      <td>1</td>\n",
              "      <td>29</td>\n",
              "      <td>4</td>\n",
              "    </tr>\n",
              "    <tr>\n",
              "      <th>4</th>\n",
              "      <td>WTF are you talking about Men? No men thats no...</td>\n",
              "      <td>1</td>\n",
              "      <td>21</td>\n",
              "      <td>2</td>\n",
              "    </tr>\n",
              "  </tbody>\n",
              "</table>\n",
              "</div>"
            ],
            "text/plain": [
              "                                             content  ...  len_sentences\n",
              "0                             Get fucking real dude.  ...              1\n",
              "1  She is as dirty as they come  and that crook R...  ...              2\n",
              "2  why did you fuck it up. I could do it all day ...  ...              4\n",
              "3  Dude they dont finish enclosing the fucking sh...  ...              4\n",
              "4  WTF are you talking about Men? No men thats no...  ...              2\n",
              "\n",
              "[5 rows x 4 columns]"
            ]
          },
          "metadata": {
            "tags": []
          },
          "execution_count": 12
        }
      ]
    },
    {
      "cell_type": "code",
      "metadata": {
        "colab": {
          "base_uri": "https://localhost:8080/",
          "height": 204
        },
        "id": "zUkbP9ai1zi0",
        "outputId": "5fa59065-347a-499c-a03b-b40e67927f08"
      },
      "source": [
        "#Find number of characters per tweet\n",
        "df['len_chars'] = df['content'].apply(len)\n",
        "df.head()"
      ],
      "execution_count": null,
      "outputs": [
        {
          "output_type": "execute_result",
          "data": {
            "text/html": [
              "<div>\n",
              "<style scoped>\n",
              "    .dataframe tbody tr th:only-of-type {\n",
              "        vertical-align: middle;\n",
              "    }\n",
              "\n",
              "    .dataframe tbody tr th {\n",
              "        vertical-align: top;\n",
              "    }\n",
              "\n",
              "    .dataframe thead th {\n",
              "        text-align: right;\n",
              "    }\n",
              "</style>\n",
              "<table border=\"1\" class=\"dataframe\">\n",
              "  <thead>\n",
              "    <tr style=\"text-align: right;\">\n",
              "      <th></th>\n",
              "      <th>content</th>\n",
              "      <th>label</th>\n",
              "      <th>len_words</th>\n",
              "      <th>len_sentences</th>\n",
              "      <th>len_chars</th>\n",
              "    </tr>\n",
              "  </thead>\n",
              "  <tbody>\n",
              "    <tr>\n",
              "      <th>0</th>\n",
              "      <td>Get fucking real dude.</td>\n",
              "      <td>1</td>\n",
              "      <td>5</td>\n",
              "      <td>1</td>\n",
              "      <td>22</td>\n",
              "    </tr>\n",
              "    <tr>\n",
              "      <th>1</th>\n",
              "      <td>She is as dirty as they come  and that crook R...</td>\n",
              "      <td>1</td>\n",
              "      <td>33</td>\n",
              "      <td>2</td>\n",
              "      <td>129</td>\n",
              "    </tr>\n",
              "    <tr>\n",
              "      <th>2</th>\n",
              "      <td>why did you fuck it up. I could do it all day ...</td>\n",
              "      <td>1</td>\n",
              "      <td>35</td>\n",
              "      <td>4</td>\n",
              "      <td>129</td>\n",
              "    </tr>\n",
              "    <tr>\n",
              "      <th>3</th>\n",
              "      <td>Dude they dont finish enclosing the fucking sh...</td>\n",
              "      <td>1</td>\n",
              "      <td>29</td>\n",
              "      <td>4</td>\n",
              "      <td>125</td>\n",
              "    </tr>\n",
              "    <tr>\n",
              "      <th>4</th>\n",
              "      <td>WTF are you talking about Men? No men thats no...</td>\n",
              "      <td>1</td>\n",
              "      <td>21</td>\n",
              "      <td>2</td>\n",
              "      <td>74</td>\n",
              "    </tr>\n",
              "  </tbody>\n",
              "</table>\n",
              "</div>"
            ],
            "text/plain": [
              "                                             content  ...  len_chars\n",
              "0                             Get fucking real dude.  ...         22\n",
              "1  She is as dirty as they come  and that crook R...  ...        129\n",
              "2  why did you fuck it up. I could do it all day ...  ...        129\n",
              "3  Dude they dont finish enclosing the fucking sh...  ...        125\n",
              "4  WTF are you talking about Men? No men thats no...  ...         74\n",
              "\n",
              "[5 rows x 5 columns]"
            ]
          },
          "metadata": {
            "tags": []
          },
          "execution_count": 13
        }
      ]
    },
    {
      "cell_type": "code",
      "metadata": {
        "colab": {
          "base_uri": "https://localhost:8080/"
        },
        "id": "atsZmGrh2W2i",
        "outputId": "4054bdca-1fe0-484c-ca6b-f4e0361f70fc"
      },
      "source": [
        "df.info()"
      ],
      "execution_count": null,
      "outputs": [
        {
          "output_type": "stream",
          "text": [
            "<class 'pandas.core.frame.DataFrame'>\n",
            "Int64Index: 14627 entries, 0 to 20000\n",
            "Data columns (total 5 columns):\n",
            " #   Column         Non-Null Count  Dtype \n",
            "---  ------         --------------  ----- \n",
            " 0   content        14627 non-null  object\n",
            " 1   label          14627 non-null  int64 \n",
            " 2   len_words      14627 non-null  int64 \n",
            " 3   len_sentences  14627 non-null  int64 \n",
            " 4   len_chars      14627 non-null  int64 \n",
            "dtypes: int64(4), object(1)\n",
            "memory usage: 685.6+ KB\n"
          ],
          "name": "stdout"
        }
      ]
    },
    {
      "cell_type": "code",
      "metadata": {
        "colab": {
          "base_uri": "https://localhost:8080/",
          "height": 280
        },
        "id": "czXlarot2XqB",
        "outputId": "40f7d988-a556-45a5-8726-9182658d3d96"
      },
      "source": [
        "#Plot number of words against number of sentences. Orange data points are aggressive tweets\n",
        "sns.scatterplot(data = df, x = 'len_words', y = 'len_sentences', hue='label')\n",
        "plt.show()"
      ],
      "execution_count": null,
      "outputs": [
        {
          "output_type": "display_data",
          "data": {
            "image/png": "[encoded data removed]",
            "text/plain": [
              "<Figure size 432x288 with 1 Axes>"
            ]
          },
          "metadata": {
            "tags": [],
            "needs_background": "light"
          }
        }
      ]
    },
    {
      "cell_type": "code",
      "metadata": {
        "colab": {
          "base_uri": "https://localhost:8080/",
          "height": 280
        },
        "id": "VZ7BnDyh2XtU",
        "outputId": "fd5c2eb1-671a-4e85-a510-d1fe51eb4e65"
      },
      "source": [
        "#Plot number of words against number of characters. Orange data points are aggressive tweets\n",
        "sns.scatterplot(data = df, x = 'len_words', y = 'len_chars', hue='label')\n",
        "plt.show()"
      ],
      "execution_count": null,
      "outputs": [
        {
          "output_type": "display_data",
          "data": {
            "image/png": "[encoded data removed]",
            "text/plain": [
              "<Figure size 432x288 with 1 Axes>"
            ]
          },
          "metadata": {
            "tags": [],
            "needs_background": "light"
          }
        }
      ]
    },
    {
      "cell_type": "code",
      "metadata": {
        "colab": {
          "base_uri": "https://localhost:8080/",
          "height": 252
        },
        "id": "bM7dYbcQ2XwN",
        "outputId": "5f46c745-6c4b-4b86-a0d6-28885bf938b1"
      },
      "source": [
        "#Determine outliers for number of words\n",
        "sns.boxplot(data = df, y = 'len_words')\n",
        "plt.show()"
      ],
      "execution_count": null,
      "outputs": [
        {
          "output_type": "display_data",
          "data": {
            "image/png": "[encoded data removed]",
            "text/plain": [
              "<Figure size 432x288 with 1 Axes>"
            ]
          },
          "metadata": {
            "tags": [],
            "needs_background": "light"
          }
        }
      ]
    },
    {
      "cell_type": "code",
      "metadata": {
        "colab": {
          "base_uri": "https://localhost:8080/"
        },
        "id": "UU2PvNrWet3N",
        "outputId": "e8e994eb-e222-4b73-fa59-505b6fbd5f0b"
      },
      "source": [
        "df['len_words'].describe()"
      ],
      "execution_count": null,
      "outputs": [
        {
          "output_type": "execute_result",
          "data": {
            "text/plain": [
              "count    14627.000000\n",
              "mean        18.003487\n",
              "std         12.762766\n",
              "min          0.000000\n",
              "25%          9.000000\n",
              "50%         16.000000\n",
              "75%         26.000000\n",
              "max        410.000000\n",
              "Name: len_words, dtype: float64"
            ]
          },
          "metadata": {
            "tags": []
          },
          "execution_count": 18
        }
      ]
    },
    {
      "cell_type": "code",
      "metadata": {
        "colab": {
          "base_uri": "https://localhost:8080/",
          "height": 542
        },
        "id": "LR5kquAzcoTA",
        "outputId": "e10bb38a-0b7d-435f-ff19-3aa10ca19608"
      },
      "source": [
        "#Examine 3D plot using 3 variables \n",
        "import plotly.express as px\n",
        "# df = px.data.iris()\n",
        "fig = px.scatter_3d(df, x='len_chars', y='len_words', z='len_sentences',\n",
        "              color='label')\n",
        "fig.show()"
      ],
      "execution_count": null,
      "outputs": [
        {
          "output_type": "display_data",
          "data": {
            "text/html": [
              "<html>\n",
              "<head><meta charset=\"utf-8\" /></head>\n",
              "<body>\n",
              "    <div>\n",
              "            <script src=\"https://cdnjs.cloudflare.com/ajax/libs/mathjax/2.7.5/MathJax.js?config=TeX-AMS-MML_SVG\"></script><script type=\"text/javascript\">if (window.MathJax) {MathJax.Hub.Config({SVG: {font: \"STIX-Web\"}});}</script>\n",
              "                <script type=\"text/javascript\">window.PlotlyConfig = {MathJaxConfig: 'local'};</script>\n",
              "        <script src=\"https://cdn.plot.ly/plotly-latest.min.js\"></script>    \n",
              "            <div id=\"59292324-5daa-4996-84b1-aaf4347bc592\" class=\"plotly-graph-div\" style=\"height:525px; width:100%;\"></div>\n",
              "            <script type=\"text/javascript\">\n",
              "                \n",
              "                    window.PLOTLYENV=window.PLOTLYENV || {};\n",
              "                    \n",
              "                if (document.getElementById(\"59292324-5daa-4996-84b1-aaf4347bc592\")) {\n",
              "                    Plotly.newPlot(\n",
              "                        '59292324-5daa-4996-84b1-aaf4347bc592',\n",
              "                        [{\"hoverlabel\": {\"namelength\": 0}, \"hovertemplate\": \"len_chars=%{x}<br>len_words=%{y}<br>len_sentences=%{z}<br>label=%{marker.color}\", \"legendgroup\": \"\", \"marker\": {\"color\": [1, 1, 1, 1, 1, 1, 1, 1, 1, 1, 1, 1, 1, 1, 1, 1, 1, 1, 1, 1, 1, 1, 1, 1, 1, 1, 1, 1, 1, 1, 1, 1, 1, 1, 1, 1, 1, 1, 1, 1, 1, 1, 1, 1, 1, 1, 1, 1, 1, 1, 1, 1, 1, 1, 1, 1, 1, 1, 1, 1, 1, 1, 1, 1, 1, 1, 1, 1, 1, 1, 1, 1, 1, 1, 1, 1, 1, 1, 1, 1, 1, 1, 1, 1, 1, 1, 1, 1, 1, 1, 1, 1, 1, 1, 1, 1, 1, 1, 1, 1, 1, 1, 1, 1, 1, 1, 1, 1, 1, 1, 1, 1, 1, 1, 1, 1, 1, 1, 1, 1, 1, 1, 1, 1, 1, 1, 1, 1, 1, 1, 1, 1, 1, 1, 1, 1, 1, 1, 1, 1, 1, 1, 1, 1, 1, 1, 1, 1, 1, 1, 1, 1, 1, 1, 1, 1, 1, 1, 1, 1, 1, 1, 1, 1, 1, 1, 1, 1, 1, 1, 1, 1, 1, 1, 1, 1, 1, 1, 1, 1, 1, 1, 1, 1, 1, 1, 1, 1, 1, 1, 1, 1, 1, 1, 1, 1, 1, 1, 1, 1, 1, 1, 1, 1, 1, 1, 1, 1, 1, 1, 1, 1, 1, 1, 1, 1, 1, 1, 1, 1, 1, 1, 1, 1, 1, 1, 1, 1, 1, 1, 1, 1, 1, 1, 1, 1, 1, 1, 1, 1, 1, 1, 1, 1, 1, 1, 1, 1, 1, 1, 1, 1, 1, 1, 1, 1, 1, 1, 1, 1, 1, 1, 1, 1, 1, 1, 1, 1, 1, 1, 1, 1, 1, 1, 1, 1, 1, 1, 1, 1, 1, 1, 1, 1, 1, 1, 1, 1, 1, 1, 1, 1, 1, 1, 1, 1, 1, 1, 1, 1, 1, 1, 1, 1, 1, 1, 1, 1, 1, 1, 1, 1, 1, 1, 1, 1, 1, 1, 1, 1, 1, 1, 1, 1, 1, 1, 1, 1, 1, 1, 1, 1, 1, 1, 1, 1, 1, 1, 1, 1, 1, 1, 1, 1, 1, 1, 1, 1, 1, 1, 1, 1, 1, 1, 1, 1, 1, 1, 1, 1, 1, 1, 1, 1, 1, 1, 1, 1, 1, 1, 1, 1, 1, 1, 1, 1, 1, 1, 1, 1, 1, 1, 1, 1, 1, 1, 1, 1, 1, 1, 1, 1, 1, 1, 1, 1, 1, 1, 1, 1, 1, 1, 1, 1, 1, 1, 1, 1, 1, 1, 1, 1, 1, 1, 1, 1, 1, 1, 1, 1, 1, 1, 1, 1, 1, 1, 1, 1, 1, 1, 1, 1, 1, 1, 1, 1, 1, 1, 1, 1, 1, 1, 1, 1, 1, 1, 1, 1, 1, 1, 1, 1, 1, 1, 1, 1, 1, 1, 1, 1, 1, 1, 1, 1, 1, 1, 1, 1, 1, 1, 1, 1, 1, 1, 1, 1, 1, 1, 1, 1, 1, 1, 1, 1, 1, 1, 1, 1, 1, 1, 1, 1, 1, 1, 1, 1, 1, 1, 1, 1, 1, 1, 1, 1, 1, 1, 1, 1, 1, 1, 1, 1, 1, 1, 1, 1, 1, 1, 1, 1, 1, 1, 1, 1, 1, 1, 1, 1, 1, 1, 1, 1, 1, 1, 1, 1, 1, 1, 1, 1, 1, 1, 1, 1, 1, 1, 1, 1, 1, 1, 1, 1, 1, 1, 1, 1, 1, 1, 1, 1, 1, 1, 1, 1, 1, 1, 1, 1, 1, 1, 1, 1, 1, 1, 1, 1, 1, 1, 1, 1, 1, 1, 1, 1, 1, 1, 1, 1, 1, 1, 1, 1, 1, 1, 1, 1, 1, 1, 1, 1, 1, 1, 1, 1, 1, 1, 1, 1, 1, 1, 1, 1, 1, 1, 1, 1, 1, 1, 1, 1, 1, 1, 1, 1, 1, 1, 1, 1, 1, 1, 1, 1, 1, 1, 1, 1, 1, 1, 1, 1, 1, 1, 1, 1, 1, 1, 1, 1, 1, 1, 1, 1, 1, 1, 1, 1, 1, 1, 1, 1, 1, 1, 1, 1, 1, 1, 1, 1, 1, 1, 1, 1, 1, 1, 1, 1, 1, 1, 1, 1, 1, 1, 1, 1, 1, 1, 1, 1, 1, 1, 1, 1, 1, 1, 1, 1, 1, 1, 1, 1, 1, 1, 1, 1, 1, 1, 1, 1, 1, 1, 1, 1, 1, 1, 1, 1, 1, 1, 1, 1, 1, 1, 1, 1, 1, 1, 1, 1, 1, 1, 1, 1, 1, 1, 1, 1, 1, 1, 1, 1, 1, 1, 1, 1, 1, 1, 1, 1, 1, 1, 1, 1, 1, 1, 1, 1, 1, 1, 1, 1, 1, 1, 1, 1, 1, 1, 1, 1, 1, 1, 1, 1, 1, 1, 1, 1, 1, 1, 1, 1, 1, 1, 1, 1, 1, 1, 1, 1, 1, 1, 1, 1, 1, 1, 1, 1, 1, 1, 1, 1, 1, 1, 1, 1, 1, 1, 1, 1, 1, 1, 1, 1, 1, 1, 1, 1, 1, 1, 1, 1, 1, 1, 1, 1, 1, 1, 1, 1, 1, 1, 1, 1, 1, 1, 1, 1, 1, 1, 1, 1, 1, 1, 1, 1, 1, 1, 1, 1, 1, 1, 1, 1, 1, 1, 1, 1, 1, 1, 1, 1, 1, 1, 1, 1, 1, 1, 1, 1, 1, 1, 1, 1, 1, 1, 1, 1, 1, 1, 1, 1, 1, 1, 1, 1, 1, 1, 1, 1, 1, 1, 1, 1, 1, 1, 1, 1, 1, 1, 1, 1, 1, 1, 1, 1, 1, 1, 1, 1, 1, 1, 1, 1, 1, 1, 1, 1, 1, 1, 1, 1, 1, 1, 1, 1, 1, 1, 1, 1, 1, 1, 1, 1, 1, 1, 1, 1, 1, 1, 1, 1, 1, 1, 1, 1, 1, 1, 1, 1, 1, 1, 1, 1, 1, 1, 1, 1, 1, 1, 1, 1, 1, 1, 1, 1, 1, 1, 1, 1, 1, 1, 1, 1, 1, 1, 1, 1, 1, 1, 1, 1, 1, 1, 1, 1, 1, 1, 1, 1, 1, 1, 1, 1, 1, 1, 1, 1, 1, 1, 1, 1, 1, 1, 1, 1, 1, 1, 1, 1, 1, 1, 1, 1, 1, 1, 1, 1, 1, 1, 1, 1, 1, 1, 1, 1, 1, 1, 1, 1, 1, 1, 1, 1, 1, 1, 1, 1, 1, 1, 1, 1, 1, 1, 1, 1, 1, 1, 1, 1, 1, 1, 1, 1, 1, 1, 1, 1, 1, 1, 1, 1, 1, 1, 1, 1, 1, 1, 1, 1, 1, 1, 1, 1, 1, 1, 1, 1, 1, 1, 1, 1, 1, 1, 1, 1, 1, 1, 1, 1, 1, 1, 1, 1, 1, 1, 1, 1, 1, 1, 1, 1, 1, 1, 1, 1, 1, 1, 1, 1, 1, 1, 1, 1, 1, 1, 1, 1, 1, 1, 1, 1, 1, 1, 1, 1, 1, 1, 1, 1, 1, 1, 1, 1, 1, 1, 1, 1, 1, 1, 1, 1, 1, 1, 1, 1, 1, 1, 1, 1, 1, 1, 1, 1, 1, 1, 1, 1, 1, 1, 1, 1, 1, 1, 1, 1, 1, 1, 1, 1, 1, 1, 1, 1, 1, 1, 1, 1, 1, 1, 1, 1, 1, 1, 1, 1, 1, 1, 1, 1, 1, 1, 1, 1, 1, 1, 1, 1, 1, 1, 1, 1, 1, 1, 1, 1, 1, 1, 1, 1, 1, 1, 1, 1, 1, 1, 1, 1, 1, 1, 1, 1, 1, 1, 1, 1, 1, 1, 1, 1, 1, 1, 1, 1, 1, 1, 1, 1, 1, 1, 1, 1, 1, 1, 1, 1, 1, 1, 1, 1, 1, 1, 1, 1, 1, 1, 1, 1, 1, 1, 1, 1, 1, 1, 1, 1, 1, 1, 1, 1, 1, 1, 1, 1, 1, 1, 1, 1, 1, 1, 1, 1, 1, 1, 1, 1, 1, 1, 1, 1, 1, 1, 1, 1, 1, 1, 1, 1, 1, 1, 1, 1, 1, 1, 1, 1, 1, 1, 1, 1, 1, 1, 1, 1, 1, 1, 1, 1, 1, 1, 1, 1, 1, 1, 1, 1, 1, 1, 1, 1, 1, 1, 1, 1, 1, 1, 1, 1, 1, 1, 1, 1, 1, 1, 1, 1, 1, 1, 1, 1, 1, 1, 1, 1, 1, 1, 1, 1, 1, 1, 1, 1, 1, 1, 1, 1, 1, 1, 1, 1, 1, 1, 1, 1, 1, 1, 1, 1, 1, 1, 1, 1, 1, 1, 1, 1, 1, 1, 1, 1, 1, 1, 1, 1, 1, 1, 1, 1, 1, 1, 1, 1, 1, 1, 1, 1, 1, 1, 1, 1, 1, 1, 1, 1, 1, 1, 1, 1, 1, 1, 1, 1, 1, 1, 1, 1, 1, 1, 1, 1, 1, 1, 1, 1, 1, 1, 1, 1, 1, 1, 1, 1, 1, 1, 1, 1, 1, 1, 1, 1, 1, 1, 1, 1, 1, 1, 1, 1, 1, 1, 1, 1, 1, 1, 1, 1, 1, 1, 1, 1, 1, 1, 1, 1, 1, 1, 1, 1, 1, 1, 1, 1, 1, 1, 1, 1, 1, 1, 1, 1, 1, 1, 1, 1, 1, 1, 1, 1, 1, 1, 1, 1, 1, 1, 1, 1, 1, 1, 1, 1, 1, 1, 1, 1, 1, 1, 1, 1, 1, 1, 1, 1, 1, 1, 1, 1, 1, 1, 1, 1, 1, 1, 1, 1, 1, 1, 1, 1, 1, 1, 1, 1, 1, 1, 1, 1, 1, 1, 1, 1, 1, 1, 1, 1, 1, 1, 1, 1, 1, 1, 1, 1, 1, 1, 1, 1, 1, 1, 1, 1, 1, 1, 1, 1, 1, 1, 1, 1, 1, 1, 1, 1, 1, 1, 1, 1, 1, 1, 1, 1, 1, 1, 1, 1, 1, 1, 1, 1, 1, 1, 1, 1, 1, 1, 1, 1, 1, 1, 1, 1, 1, 1, 1, 1, 1, 1, 1, 1, 1, 1, 1, 1, 1, 1, 1, 1, 1, 1, 1, 1, 1, 1, 1, 1, 1, 1, 1, 1, 1, 1, 1, 1, 1, 1, 1, 1, 1, 1, 1, 1, 1, 1, 1, 1, 1, 1, 1, 1, 1, 1, 1, 1, 1, 1, 1, 1, 1, 1, 1, 1, 1, 1, 1, 1, 1, 1, 1, 1, 1, 1, 1, 1, 1, 1, 1, 1, 1, 1, 1, 1, 1, 1, 1, 1, 1, 1, 1, 1, 1, 1, 1, 1, 1, 1, 1, 1, 1, 1, 1, 1, 1, 1, 1, 1, 1, 1, 1, 1, 1, 1, 1, 1, 1, 1, 1, 1, 1, 1, 1, 1, 1, 1, 1, 1, 1, 1, 1, 1, 1, 1, 1, 1, 1, 1, 1, 1, 1, 1, 1, 1, 1, 1, 1, 1, 1, 1, 1, 1, 1, 1, 1, 1, 1, 1, 1, 1, 1, 1, 1, 1, 1, 1, 1, 1, 1, 1, 1, 1, 1, 1, 1, 1, 1, 1, 1, 1, 1, 1, 1, 1, 1, 1, 1, 1, 1, 1, 1, 1, 1, 1, 1, 1, 1, 1, 1, 1, 1, 1, 1, 1, 1, 1, 1, 1, 1, 1, 1, 1, 1, 1, 1, 1, 1, 1, 1, 1, 1, 1, 1, 1, 1, 1, 1, 1, 1, 1, 1, 1, 1, 1, 1, 1, 1, 1, 1, 1, 1, 1, 1, 1, 1, 1, 1, 1, 1, 1, 1, 1, 1, 1, 1, 1, 1, 1, 1, 1, 1, 1, 1, 1, 1, 1, 1, 1, 1, 1, 1, 1, 1, 1, 1, 1, 1, 1, 1, 1, 1, 1, 1, 1, 1, 1, 1, 1, 1, 1, 1, 1, 1, 1, 1, 1, 1, 1, 1, 1, 1, 1, 1, 1, 1, 1, 1, 1, 1, 1, 1, 1, 1, 1, 1, 1, 1, 1, 1, 1, 1, 1, 1, 1, 1, 1, 1, 1, 1, 1, 1, 1, 1, 1, 1, 1, 1, 1, 1, 1, 1, 1, 1, 1, 1, 1, 1, 1, 1, 1, 1, 1, 1, 1, 1, 1, 1, 1, 1, 1, 1, 1, 1, 1, 1, 1, 1, 1, 1, 1, 1, 1, 1, 1, 1, 1, 1, 1, 1, 1, 1, 1, 1, 1, 1, 1, 1, 1, 1, 1, 1, 1, 1, 1, 1, 1, 1, 1, 1, 1, 1, 1, 1, 1, 1, 1, 1, 1, 1, 1, 1, 1, 1, 1, 1, 1, 1, 1, 1, 1, 1, 1, 1, 1, 1, 1, 1, 1, 1, 1, 1, 1, 1, 1, 1, 1, 1, 1, 1, 1, 1, 1, 1, 1, 1, 1, 1, 1, 1, 1, 1, 1, 1, 1, 1, 1, 1, 1, 1, 1, 1, 1, 1, 1, 1, 1, 1, 1, 1, 1, 1, 1, 1, 1, 1, 1, 1, 1, 1, 1, 1, 1, 1, 1, 1, 1, 1, 1, 1, 1, 1, 1, 1, 1, 1, 1, 1, 1, 1, 1, 1, 1, 1, 1, 1, 1, 1, 1, 1, 1, 1, 1, 1, 1, 1, 1, 1, 1, 1, 1, 1, 1, 1, 1, 1, 1, 1, 1, 1, 1, 1, 1, 1, 1, 1, 1, 1, 1, 1, 1, 1, 1, 1, 1, 1, 1, 1, 1, 1, 1, 1, 1, 1, 1, 1, 1, 1, 1, 1, 1, 1, 1, 1, 1, 1, 1, 1, 1, 1, 1, 1, 1, 1, 1, 1, 1, 1, 1, 1, 1, 1, 1, 1, 1, 1, 1, 1, 1, 1, 1, 1, 1, 1, 1, 1, 1, 1, 1, 1, 1, 1, 1, 1, 1, 1, 1, 1, 1, 1, 1, 1, 1, 1, 1, 1, 1, 1, 1, 1, 1, 1, 1, 1, 1, 1, 1, 1, 1, 1, 1, 1, 1, 1, 1, 1, 1, 1, 1, 1, 1, 1, 1, 1, 1, 1, 1, 1, 1, 1, 1, 1, 1, 1, 1, 1, 1, 1, 1, 1, 1, 1, 1, 1, 1, 1, 1, 1, 1, 1, 1, 1, 1, 1, 1, 1, 1, 1, 1, 1, 1, 1, 1, 1, 1, 1, 1, 1, 1, 1, 1, 1, 1, 1, 1, 1, 1, 1, 1, 1, 1, 1, 1, 1, 1, 1, 1, 1, 1, 1, 1, 1, 1, 1, 1, 1, 1, 1, 1, 1, 1, 1, 1, 1, 1, 1, 1, 1, 1, 1, 1, 1, 1, 1, 1, 1, 1, 1, 1, 1, 1, 1, 1, 1, 1, 1, 1, 1, 1, 1, 1, 1, 1, 1, 1, 1, 1, 1, 1, 1, 1, 1, 1, 1, 1, 1, 1, 1, 1, 1, 1, 1, 1, 1, 1, 1, 1, 1, 1, 1, 1, 1, 1, 1, 1, 1, 1, 1, 1, 1, 1, 1, 1, 1, 1, 1, 1, 1, 1, 1, 1, 1, 1, 1, 1, 1, 1, 1, 1, 1, 1, 1, 1, 1, 1, 1, 1, 1, 1, 1, 1, 1, 1, 1, 1, 1, 1, 1, 1, 1, 1, 1, 1, 1, 1, 1, 1, 1, 1, 1, 1, 1, 1, 1, 1, 1, 1, 1, 1, 1, 1, 1, 1, 1, 1, 1, 1, 1, 1, 1, 1, 1, 1, 1, 1, 1, 1, 1, 1, 1, 1, 1, 1, 1, 1, 1, 1, 1, 1, 1, 1, 1, 1, 1, 1, 1, 1, 1, 1, 1, 1, 1, 1, 1, 1, 1, 1, 1, 1, 1, 1, 1, 1, 1, 1, 1, 1, 1, 1, 1, 1, 1, 1, 1, 1, 1, 1, 1, 1, 1, 1, 1, 1, 1, 1, 1, 1, 1, 1, 1, 1, 1, 1, 1, 1, 1, 1, 1, 1, 1, 1, 1, 1, 1, 1, 1, 1, 1, 1, 1, 1, 1, 1, 1, 1, 1, 1, 1, 1, 1, 1, 1, 1, 1, 1, 1, 1, 1, 1, 1, 1, 1, 1, 1, 1, 1, 1, 1, 1, 1, 1, 1, 1, 1, 1, 1, 1, 1, 1, 1, 1, 1, 1, 1, 1, 1, 1, 1, 1, 1, 1, 1, 1, 1, 1, 1, 1, 1, 1, 1, 1, 1, 1, 1, 1, 1, 1, 1, 1, 1, 1, 1, 1, 1, 1, 1, 1, 1, 1, 1, 1, 1, 1, 1, 1, 1, 1, 1, 1, 1, 1, 1, 1, 1, 1, 1, 1, 1, 1, 1, 1, 1, 1, 1, 1, 1, 1, 1, 1, 1, 1, 1, 1, 1, 1, 1, 1, 1, 1, 1, 1, 1, 1, 1, 1, 1, 1, 1, 1, 1, 1, 1, 1, 1, 1, 1, 1, 1, 1, 1, 1, 1, 1, 1, 1, 1, 1, 1, 1, 1, 1, 1, 1, 1, 1, 1, 1, 1, 1, 1, 1, 1, 1, 1, 1, 1, 1, 1, 1, 1, 1, 1, 1, 1, 1, 1, 1, 1, 1, 1, 1, 1, 1, 1, 1, 1, 1, 1, 1, 1, 1, 1, 1, 1, 1, 1, 1, 1, 1, 1, 1, 1, 1, 1, 1, 1, 1, 1, 1, 1, 1, 1, 1, 1, 1, 1, 1, 1, 1, 1, 1, 1, 1, 1, 1, 1, 1, 1, 1, 1, 1, 1, 1, 1, 1, 0, 0, 0, 0, 0, 0, 0, 0, 0, 0, 0, 0, 0, 0, 0, 0, 0, 0, 0, 0, 0, 0, 0, 0, 0, 0, 0, 0, 0, 0, 0, 0, 0, 0, 0, 0, 0, 0, 0, 0, 0, 0, 0, 0, 0, 0, 0, 0, 0, 0, 0, 0, 0, 0, 0, 0, 0, 0, 0, 0, 0, 0, 0, 0, 0, 0, 0, 0, 0, 0, 0, 0, 0, 0, 0, 0, 0, 0, 0, 0, 0, 0, 0, 0, 0, 0, 0, 0, 0, 0, 0, 0, 0, 0, 0, 0, 0, 0, 0, 0, 0, 0, 0, 0, 0, 0, 0, 0, 0, 0, 0, 0, 0, 0, 0, 0, 0, 0, 0, 0, 0, 0, 0, 0, 0, 0, 0, 0, 0, 0, 0, 0, 0, 0, 0, 0, 0, 0, 0, 0, 0, 0, 0, 0, 0, 0, 0, 0, 0, 0, 0, 0, 0, 0, 0, 0, 0, 0, 0, 0, 0, 0, 0, 0, 0, 0, 0, 0, 0, 0, 0, 0, 0, 0, 0, 0, 0, 0, 0, 0, 0, 0, 0, 0, 0, 0, 0, 0, 0, 0, 0, 0, 0, 0, 0, 0, 0, 0, 0, 0, 0, 0, 0, 0, 0, 0, 0, 0, 0, 0, 0, 0, 0, 0, 0, 0, 0, 0, 0, 0, 0, 0, 0, 0, 0, 0, 0, 0, 0, 0, 0, 0, 0, 0, 0, 0, 0, 0, 0, 0, 0, 0, 0, 0, 0, 0, 0, 0, 0, 0, 0, 0, 0, 0, 0, 0, 0, 0, 0, 0, 0, 0, 0, 0, 0, 0, 0, 0, 0, 0, 0, 0, 0, 0, 0, 0, 0, 0, 0, 0, 0, 0, 0, 0, 0, 0, 0, 0, 0, 0, 0, 0, 0, 0, 0, 0, 0, 0, 0, 0, 0, 0, 0, 0, 0, 0, 0, 0, 0, 0, 0, 0, 0, 0, 0, 0, 0, 0, 0, 0, 0, 0, 0, 0, 0, 0, 0, 0, 0, 0, 0, 0, 0, 0, 0, 0, 0, 0, 0, 0, 0, 0, 0, 0, 0, 0, 0, 0, 0, 0, 0, 0, 0, 0, 0, 0, 0, 0, 0, 0, 0, 0, 0, 0, 0, 0, 0, 0, 0, 0, 0, 0, 0, 0, 0, 0, 0, 0, 0, 0, 0, 0, 0, 0, 0, 0, 0, 0, 0, 0, 0, 0, 0, 0, 0, 0, 0, 0, 0, 0, 0, 0, 0, 0, 0, 0, 0, 0, 0, 0, 0, 0, 0, 0, 0, 0, 0, 0, 0, 0, 0, 0, 0, 0, 0, 0, 0, 0, 0, 0, 0, 0, 0, 0, 0, 0, 0, 0, 0, 0, 0, 0, 0, 0, 0, 0, 0, 0, 0, 0, 0, 0, 0, 0, 0, 0, 0, 0, 0, 0, 0, 0, 0, 0, 0, 0, 0, 0, 0, 0, 0, 0, 0, 0, 0, 0, 0, 0, 0, 0, 0, 0, 0, 0, 0, 0, 0, 0, 0, 0, 0, 0, 0, 0, 0, 0, 0, 0, 0, 0, 0, 0, 0, 0, 0, 0, 0, 0, 0, 0, 0, 0, 0, 0, 0, 0, 0, 0, 0, 0, 0, 0, 0, 0, 0, 0, 0, 0, 0, 0, 0, 0, 0, 0, 0, 0, 0, 0, 0, 0, 0, 0, 0, 0, 0, 0, 0, 0, 0, 0, 0, 0, 0, 0, 0, 0, 0, 0, 0, 0, 0, 0, 0, 0, 0, 0, 0, 0, 0, 0, 0, 0, 0, 0, 0, 0, 0, 0, 0, 0, 0, 0, 0, 0, 0, 0, 0, 0, 0, 0, 0, 0, 0, 0, 0, 0, 0, 0, 0, 0, 0, 0, 0, 0, 0, 0, 0, 0, 0, 0, 0, 0, 0, 0, 0, 0, 0, 0, 0, 0, 0, 0, 0, 0, 0, 0, 0, 0, 0, 0, 0, 0, 0, 0, 0, 0, 0, 0, 0, 0, 0, 0, 0, 0, 0, 0, 0, 0, 0, 0, 0, 0, 0, 0, 0, 0, 0, 0, 0, 0, 0, 0, 0, 0, 0, 0, 0, 0, 0, 0, 0, 0, 0, 0, 0, 0, 0, 0, 0, 0, 0, 0, 0, 0, 0, 0, 0, 0, 0, 0, 0, 0, 0, 0, 0, 0, 0, 0, 0, 0, 0, 0, 0, 0, 0, 0, 0, 0, 0, 0, 0, 0, 0, 0, 0, 0, 0, 0, 0, 0, 0, 0, 0, 0, 0, 0, 0, 0, 0, 0, 0, 0, 0, 0, 0, 0, 0, 0, 0, 0, 0, 0, 0, 0, 0, 0, 0, 0, 0, 0, 0, 0, 0, 0, 0, 0, 0, 0, 0, 0, 0, 0, 0, 0, 0, 0, 0, 0, 0, 0, 0, 0, 0, 0, 0, 0, 0, 0, 0, 0, 0, 0, 0, 0, 0, 0, 0, 0, 0, 0, 0, 0, 0, 0, 0, 0, 0, 0, 0, 0, 0, 0, 0, 0, 0, 0, 0, 0, 0, 0, 0, 0, 0, 0, 0, 0, 0, 0, 0, 0, 0, 0, 0, 0, 0, 0, 0, 0, 0, 0, 0, 0, 0, 0, 0, 0, 0, 0, 0, 0, 0, 0, 0, 0, 0, 0, 0, 0, 0, 0, 0, 0, 0, 0, 0, 0, 0, 0, 0, 0, 0, 0, 0, 0, 0, 0, 0, 0, 0, 0, 0, 0, 0, 0, 0, 0, 0, 0, 0, 0, 0, 0, 0, 0, 0, 0, 0, 0, 0, 0, 0, 0, 0, 0, 0, 0, 0, 0, 0, 0, 0, 0, 0, 0, 0, 0, 0, 0, 0, 0, 0, 0, 0, 0, 0, 0, 0, 0, 0, 0, 0, 0, 0, 0, 0, 0, 0, 0, 0, 0, 0, 0, 0, 0, 0, 0, 0, 0, 0, 0, 0, 0, 0, 0, 0, 0, 0, 0, 0, 0, 0, 0, 0, 0, 0, 0, 0, 0, 0, 0, 0, 0, 0, 0, 0, 0, 0, 0, 0, 0, 0, 0, 0, 0, 0, 0, 0, 0, 0, 0, 0, 0, 0, 0, 0, 0, 0, 0, 0, 0, 0, 0, 0, 0, 0, 0, 0, 0, 0, 0, 0, 0, 0, 0, 0, 0, 0, 0, 0, 0, 0, 0, 0, 0, 0, 0, 0, 0, 0, 0, 0, 0, 0, 0, 0, 0, 0, 0, 0, 0, 0, 0, 0, 0, 0, 0, 0, 0, 0, 0, 0, 0, 0, 0, 0, 0, 0, 0, 0, 0, 0, 0, 0, 0, 0, 0, 0, 0, 0, 0, 0, 0, 0, 0, 0, 0, 0, 0, 0, 0, 0, 0, 0, 0, 0, 0, 0, 0, 0, 0, 0, 0, 0, 0, 0, 0, 0, 0, 0, 0, 0, 0, 0, 0, 0, 0, 0, 0, 0, 0, 0, 0, 0, 0, 0, 0, 0, 0, 0, 0, 0, 0, 0, 0, 0, 0, 0, 0, 0, 0, 0, 0, 0, 0, 0, 0, 0, 0, 0, 0, 0, 0, 0, 0, 0, 0, 0, 0, 0, 0, 0, 0, 0, 0, 0, 0, 0, 0, 0, 0, 0, 0, 0, 0, 0, 0, 0, 0, 0, 0, 0, 0, 0, 0, 0, 0, 0, 0, 0, 0, 0, 0, 0, 0, 0, 0, 0, 0, 0, 0, 0, 0, 0, 0, 0, 0, 0, 0, 0, 0, 0, 0, 0, 0, 0, 0, 0, 0, 0, 0, 0, 0, 0, 0, 0, 0, 0, 0, 0, 0, 0, 0, 0, 0, 0, 0, 0, 0, 0, 0, 0, 0, 0, 0, 0, 0, 0, 0, 0, 0, 0, 0, 0, 0, 0, 0, 0, 0, 0, 0, 0, 0, 0, 0, 0, 0, 0, 0, 0, 0, 0, 0, 0, 0, 0, 0, 0, 0, 0, 0, 0, 0, 0, 0, 0, 0, 0, 0, 0, 0, 0, 0, 0, 0, 0, 0, 0, 0, 0, 0, 0, 0, 0, 0, 0, 0, 0, 0, 0, 0, 0, 0, 0, 0, 0, 0, 0, 0, 0, 0, 0, 0, 0, 0, 0, 0, 0, 0, 0, 0, 0, 0, 0, 0, 0, 0, 0, 0, 0, 0, 0, 0, 0, 0, 0, 0, 0, 0, 0, 0, 0, 0, 0, 0, 0, 0, 0, 0, 0, 0, 0, 0, 0, 0, 0, 0, 0, 0, 0, 0, 0, 0, 0, 0, 0, 0, 0, 0, 0, 0, 0, 0, 0, 0, 0, 0, 0, 0, 0, 0, 0, 0, 0, 0, 0, 0, 0, 0, 0, 0, 0, 0, 0, 0, 0, 0, 0, 0, 0, 0, 0, 0, 0, 0, 0, 0, 0, 0, 0, 0, 0, 0, 0, 0, 0, 0, 0, 0, 0, 0, 0, 0, 0, 0, 0, 0, 0, 0, 0, 0, 0, 0, 0, 0, 0, 0, 0, 0, 0, 0, 0, 0, 0, 0, 0, 0, 0, 0, 0, 0, 0, 0, 0, 0, 0, 0, 0, 0, 0, 0, 0, 0, 0, 0, 0, 0, 0, 0, 0, 0, 0, 0, 0, 0, 0, 0, 0, 0, 0, 0, 0, 0, 0, 0, 0, 0, 0, 0, 0, 0, 0, 0, 0, 0, 0, 0, 0, 0, 0, 0, 0, 0, 0, 0, 0, 0, 0, 0, 0, 0, 0, 0, 0, 0, 0, 0, 0, 0, 0, 0, 0, 0, 0, 0, 0, 0, 0, 0, 0, 0, 0, 0, 0, 0, 0, 0, 0, 0, 0, 0, 0, 0, 0, 0, 0, 0, 0, 0, 0, 0, 0, 0, 0, 0, 0, 0, 0, 0, 0, 0, 0, 0, 0, 0, 0, 0, 0, 0, 0, 0, 0, 0, 0, 0, 0, 0, 0, 0, 0, 0, 0, 0, 0, 0, 0, 0, 0, 0, 0, 0, 0, 0, 0, 0, 0, 0, 0, 0, 0, 0, 0, 0, 0, 0, 0, 0, 0, 0, 0, 0, 0, 0, 0, 0, 0, 0, 0, 0, 0, 0, 0, 0, 0, 0, 0, 0, 0, 0, 0, 0, 0, 0, 0, 0, 0, 0, 0, 0, 0, 0, 0, 0, 0, 0, 0, 0, 0, 0, 0, 0, 0, 0, 0, 0, 0, 0, 0, 0, 0, 0, 0, 0, 0, 0, 0, 0, 0, 0, 0, 0, 0, 0, 0, 0, 0, 0, 0, 0, 0, 0, 0, 0, 0, 0, 0, 0, 0, 0, 0, 0, 0, 0, 0, 0, 0, 0, 0, 0, 0, 0, 0, 0, 0, 0, 0, 0, 0, 0, 0, 0, 0, 0, 0, 0, 0, 0, 0, 0, 0, 0, 0, 0, 0, 0, 0, 0, 0, 0, 0, 0, 0, 0, 0, 0, 0, 0, 0, 0, 0, 0, 0, 0, 0, 0, 0, 0, 0, 0, 0, 0, 0, 0, 0, 0, 0, 0, 0, 0, 0, 0, 0, 0, 0, 0, 0, 0, 0, 0, 0, 0, 0, 0, 0, 0, 0, 0, 0, 0, 0, 0, 0, 0, 0, 0, 0, 0, 0, 0, 0, 0, 0, 0, 0, 0, 0, 0, 0, 0, 0, 0, 0, 0, 0, 0, 0, 0, 0, 0, 0, 0, 0, 0, 0, 0, 0, 0, 0, 0, 0, 0, 0, 0, 0, 0, 0, 0, 0, 0, 0, 0, 0, 0, 0, 0, 0, 0, 0, 0, 0, 0, 0, 0, 0, 0, 0, 0, 0, 0, 0, 0, 0, 0, 0, 0, 0, 0, 0, 0, 0, 0, 0, 0, 0, 0, 0, 0, 0, 0, 0, 0, 0, 0, 0, 0, 0, 0, 0, 0, 0, 0, 0, 0, 0, 0, 0, 0, 0, 0, 0, 0, 0, 0, 0, 0, 0, 0, 0, 0, 0, 0, 0, 0, 0, 0, 0, 0, 0, 0, 0, 0, 0, 0, 0, 0, 0, 0, 0, 0, 0, 0, 0, 0, 0, 0, 0, 0, 0, 0, 0, 0, 0, 0, 0, 0, 0, 0, 0, 0, 0, 0, 0, 0, 0, 0, 0, 0, 0, 0, 0, 0, 0, 0, 0, 0, 0, 0, 0, 0, 0, 0, 0, 0, 0, 0, 0, 0, 0, 0, 0, 0, 0, 0, 0, 0, 0, 0, 0, 0, 0, 0, 0, 0, 0, 0, 0, 0, 0, 0, 0, 0, 0, 0, 0, 0, 0, 0, 0, 0, 0, 0, 0, 0, 0, 0, 0, 0, 0, 0, 0, 0, 0, 0, 0, 0, 0, 0, 0, 0, 0, 0, 0, 0, 0, 0, 0, 0, 0, 0, 0, 0, 0, 0, 0, 0, 0, 0, 0, 0, 0, 0, 0, 0, 0, 0, 0, 0, 0, 0, 0, 0, 0, 0, 0, 0, 0, 0, 0, 0, 0, 0, 0, 0, 0, 0, 0, 0, 0, 0, 0, 0, 0, 0, 0, 0, 0, 0, 0, 0, 0, 0, 0, 0, 0, 0, 0, 0, 0, 0, 0, 0, 0, 0, 0, 0, 0, 0, 0, 0, 0, 0, 0, 0, 0, 0, 0, 0, 0, 0, 0, 0, 0, 0, 0, 0, 0, 0, 0, 0, 0, 0, 0, 0, 0, 0, 0, 0, 0, 0, 0, 0, 0, 0, 0, 0, 0, 0, 0, 0, 0, 0, 0, 0, 0, 0, 0, 0, 0, 0, 0, 0, 0, 0, 0, 0, 0, 0, 0, 0, 0, 0, 0, 0, 0, 0, 0, 0, 0, 0, 0, 0, 0, 0, 0, 0, 0, 0, 0, 0, 0, 0, 0, 0, 0, 0, 0, 0, 0, 0, 0, 0, 0, 0, 0, 0, 0, 0, 0, 0, 0, 0, 0, 0, 0, 0, 0, 0, 0, 0, 0, 0, 0, 0, 0, 0, 0, 0, 0, 0, 0, 0, 0, 0, 0, 0, 0, 0, 0, 0, 0, 0, 0, 0, 0, 0, 0, 0, 0, 0, 0, 0, 0, 0, 0, 0, 0, 0, 0, 0, 0, 0, 0, 0, 0, 0, 0, 0, 0, 0, 0, 0, 0, 0, 0, 0, 0, 0, 0, 0, 0, 0, 0, 0, 0, 0, 0, 0, 0, 0, 0, 0, 0, 0, 0, 0, 0, 0, 0, 0, 0, 0, 0, 0, 0, 0, 0, 0, 0, 0, 0, 0, 0, 0, 0, 0, 0, 0, 0, 0, 0, 0, 0, 0, 0, 0, 0, 0, 0, 0, 0, 0, 0, 0, 0, 0, 0, 0, 0, 0, 0, 0, 0, 0, 0, 0, 0, 0, 0, 0, 0, 0, 0, 0, 0, 0, 0, 0, 0, 0, 0, 0, 0, 0, 0, 0, 0, 0, 0, 0, 0, 0, 0, 0, 0, 0, 0, 0, 0, 0, 0, 0, 0, 0, 0, 0, 0, 0, 0, 0, 0, 0, 0, 0, 0, 0, 0, 0, 0, 0, 0, 0, 0, 0, 0, 0, 0, 0, 0, 0, 0, 0, 0, 0, 0, 0, 0, 0, 0, 0, 0, 0, 0, 0, 0, 0, 0, 0, 0, 0, 0, 0, 0, 0, 0, 0, 0, 0, 0, 0, 0, 0, 0, 0, 0, 0, 0, 0, 0, 0, 0, 0, 0, 0, 0, 0, 0, 0, 0, 0, 0, 0, 0, 0, 0, 0, 0, 0, 0, 0, 0, 0, 0, 0, 0, 0, 0, 0, 0, 0, 0, 0, 0, 0, 0, 0, 0, 0, 0, 0, 0, 0, 0, 0, 0, 0, 0, 0, 0, 0, 0, 0, 0, 0, 0, 0, 0, 0, 0, 0, 0, 0, 0, 0, 0, 0, 0, 0, 0, 0, 0, 0, 0, 0, 0, 0, 0, 0, 0, 0, 0, 0, 0, 0, 0, 0, 0, 0, 0, 0, 0, 0, 0, 0, 0, 0, 0, 0, 0, 0, 0, 0, 0, 0, 0, 0, 0, 0, 0, 0, 0, 0, 0, 0, 0, 0, 0, 0, 0, 0, 0, 0, 0, 0, 0, 0, 0, 0, 0, 0, 0, 0, 0, 0, 0, 0, 0, 0, 0, 0, 0, 0, 0, 0, 0, 0, 0, 0, 0, 0, 0, 0, 0, 0, 0, 0, 0, 0, 0, 0, 0, 0, 0, 0, 0, 0, 0, 0, 0, 0, 0, 0, 0, 0, 0, 0, 0, 0, 0, 0, 0, 0, 0, 0, 0, 0, 0, 0, 0, 0, 0, 0, 0, 0, 0, 0, 0, 0, 0, 0, 0, 0, 0, 0, 0, 0, 0, 0, 0, 0, 0, 0, 0, 0, 0, 0, 0, 0, 0, 0, 0, 0, 0, 0, 0, 0, 0, 0, 0, 0, 0, 0, 0, 0, 0, 0, 0, 0, 0, 0, 0, 0, 0, 0, 0, 0, 0, 0, 0, 0, 0, 0, 0, 0, 0, 0, 0, 0, 0, 0, 0, 0, 0, 0, 0, 0, 0, 0, 0, 0, 0, 0, 0, 0, 0, 0, 0, 0, 0, 0, 0, 0, 0, 0, 0, 0, 0, 0, 0, 0, 0, 0, 0, 0, 0, 0, 0, 0, 0, 0, 0, 0, 0, 0, 0, 0, 0, 0, 0, 0, 0, 0, 0, 0, 0, 0, 0, 0, 0, 0, 0, 0, 0, 0, 0, 0, 0, 0, 0, 0, 0, 0, 0, 0, 0, 0, 0, 0, 0, 0, 0, 0, 0, 0, 0, 0, 0, 0, 0, 0, 0, 0, 0, 0, 0, 0, 0, 0, 0, 0, 0, 0, 0, 0, 0, 0, 0, 0, 0, 0, 0, 0, 0, 0, 0, 0, 0, 0, 0, 0, 0, 0, 0, 0, 0, 0, 0, 0, 0, 0, 0, 0, 0, 0, 0, 0, 0, 0, 0, 0, 0, 0, 0, 0, 0, 0, 0, 0, 0, 0, 0, 0, 0, 0, 0, 0, 0, 0, 0, 0, 0, 0, 0, 0, 0, 0, 0, 0, 0, 0, 0, 0, 0, 0, 0, 0, 0, 0, 0, 0, 0, 0, 0, 0, 0, 0, 0, 0, 0, 0, 0, 0, 0, 0, 0, 0, 0, 0, 0, 0, 0, 0, 0, 0, 0, 0, 0, 0, 0, 0, 0, 0, 0, 0, 0, 0, 0, 0, 0, 0, 0, 0, 0, 0, 0, 0, 0, 0, 0, 0, 0, 0, 0, 0, 0, 0, 0, 0, 0, 0, 0, 0, 0, 0, 0, 0, 0, 0, 0, 0, 0, 0, 0, 0, 0, 0, 0, 0, 0, 0, 0, 0, 0, 0, 0, 0, 0, 0, 0, 0, 0, 0, 0, 0, 0, 0, 0, 0, 0, 0, 0, 0, 0, 0, 0, 0, 0, 0, 0, 0, 0, 0, 0, 0, 0, 0, 0, 0, 0, 0, 0, 0, 0, 0, 0, 0, 0, 0, 0, 0, 0, 0, 0, 0, 0, 0, 0, 0, 0, 0, 0, 0, 0, 0, 0, 0, 0, 0, 0, 0, 0, 0, 0, 0, 0, 0, 0, 0, 0, 0, 0, 0, 0, 0, 0, 0, 0, 0, 0, 0, 0, 0, 0, 0, 0, 0, 0, 0, 0, 0, 0, 0, 0, 0, 0, 0, 0, 0, 0, 0, 0, 0, 0, 0, 0, 0, 0, 0, 0, 0, 0, 0, 0, 0, 0, 0, 0, 0, 0, 0, 0, 0, 0, 0, 0, 0, 0, 0, 0, 0, 0, 0, 0, 0, 0, 0, 0, 0, 0, 0, 0, 0, 0, 0, 0, 0, 0, 0, 0, 0, 0, 0, 0, 0, 0, 0, 0, 0, 0, 0, 0, 0, 0, 0, 0, 0, 0, 0, 0, 0, 0, 0, 0, 0, 0, 0, 0, 0, 0, 0, 0, 0, 0, 0, 0, 0, 0, 0, 0, 0, 0, 0, 0, 0, 0, 0, 0, 0, 0, 0, 0, 0, 0, 0, 0, 0, 0, 0, 0, 0, 0, 0, 0, 0, 0, 0, 0, 0, 0, 0, 0, 0, 0, 0, 0, 0, 0, 0, 0, 0, 0, 0, 0, 0, 0, 0, 0, 0, 0, 0, 0, 0, 0, 0, 0, 0, 0, 0, 0, 0, 0, 0, 0, 0, 0, 0, 0, 0, 0, 0, 0, 0, 0, 0, 0, 0, 0, 0, 0, 0, 0, 0, 0, 0, 0, 0, 0, 0, 0, 0, 0, 0, 0, 0, 0, 0, 0, 0, 0, 0, 0, 0, 0, 0, 0, 0, 0, 0, 0, 0, 0, 0, 0, 0, 0, 0, 0, 0, 0, 0, 0, 0, 0, 0, 0, 0, 0, 0, 0, 0, 0, 0, 0, 0, 0, 0, 0, 0, 0, 0, 0, 0, 0, 0, 0, 0, 0, 0, 0, 0, 0, 0, 0, 0, 0, 0, 0, 0, 0, 0, 0, 0, 0, 0, 0, 0, 0, 0, 0, 0, 0, 0, 0, 0, 0, 0, 0, 0, 0, 0, 0, 0, 0, 0, 0, 0, 0, 0, 0, 0, 0, 0, 0, 0, 0, 0, 0, 0, 0, 0, 0, 0, 0, 0, 0, 0, 0, 0, 0, 0, 0, 0, 0, 0, 0, 0, 0, 0, 0, 0, 0, 0, 0, 0, 0, 0, 0, 0, 0, 0, 0, 0, 0, 0, 0, 0, 0, 0, 0, 0, 0, 0, 0, 0, 0, 0, 0, 0, 0, 0, 0, 0, 0, 0, 0, 0, 0, 0, 0, 0, 0, 0, 0, 0, 0, 0, 0, 0, 0, 0, 0, 0, 0, 0, 0, 0, 0, 0, 0, 0, 0, 0, 0, 0, 0, 0, 0, 0, 0, 0, 0, 0, 0, 0, 0, 0, 0, 0, 0, 0, 0, 0, 0, 0, 0, 0, 0, 0, 0, 0, 0, 0, 0, 0, 0, 0, 0, 0, 0, 0, 0, 0, 0, 0, 0, 0, 0, 0, 0, 0, 0, 0, 0, 0, 0, 0, 0, 0, 0, 0, 0, 0, 0, 0, 0, 0, 0, 0, 0, 0, 0, 0, 0, 0, 0, 0, 0, 0, 0, 0, 0, 0, 0, 0, 0, 0, 0, 0, 0, 0, 0, 0, 0, 0, 0, 0, 0, 0, 0, 0, 0, 0, 0, 0, 0, 0, 0, 0, 0, 0, 0, 0, 0, 0, 0, 0, 0, 0, 0, 0, 0, 0, 0, 0, 0, 0, 0, 0, 0, 0, 0, 0, 0, 0, 0, 0, 0, 0, 0, 0, 0, 0, 0, 0, 0, 0, 0, 0, 0, 0, 0, 0, 0, 0, 0, 0, 0, 0, 0, 0, 0, 0, 0, 0, 0, 0, 0, 0, 0, 0, 0, 0, 0, 0, 0, 0, 0, 0, 0, 0, 0, 0, 0, 0, 0, 0, 0, 0, 0, 0, 0, 0, 0, 0, 0, 0, 0, 0, 0, 0, 0, 0, 0, 0, 0, 0, 0, 0, 0, 0, 0, 0, 0, 0, 0, 0, 0, 0, 0, 0, 0, 0, 0, 0, 0, 0, 0, 0, 0, 0, 0, 0, 0, 0, 0, 0, 0, 0, 0, 0, 0, 0, 0, 0, 0, 0, 0, 0, 0, 0, 0, 0, 0, 0, 0, 0, 0, 0, 0, 0, 0, 0, 0, 0, 0, 0, 0, 0, 0, 0, 0, 0, 0, 0, 0, 0, 0, 0, 0, 0, 0, 0, 0, 0, 0, 0, 0, 0, 0, 0, 0, 0, 0, 0, 0, 0, 0, 0, 0, 0, 0, 0, 0, 0, 0, 0, 0, 0, 0, 0, 0, 0, 0, 0, 0, 0, 0, 0, 0, 0, 0, 0, 0, 0, 0, 0, 0, 0, 0, 0, 0, 0, 0, 0, 0, 0, 0, 0, 0, 0, 0, 0, 0, 0, 0, 0, 0, 0, 0, 0, 0, 0, 0, 0, 0, 0, 0, 0, 0, 0, 0, 0, 0, 0, 0, 0, 0, 0, 0, 0, 0, 0, 0, 0, 0, 0, 0, 0, 0, 0, 0, 0, 0, 0, 0, 0, 0, 0, 0, 0, 0, 0, 0, 0, 0, 0, 0, 0, 0, 0, 0, 0, 0, 0, 0, 0, 0, 0, 0, 0, 0, 0, 0, 0, 0, 0, 0, 0, 0, 0, 0, 0, 0, 0, 0, 0, 0, 0, 0, 0, 0, 0, 0, 0, 0, 0, 0, 0, 0, 0, 0, 0, 0, 0, 0, 0, 0, 0, 0, 0, 0, 0, 0, 0, 0, 0, 0, 0, 0, 0, 0, 0, 0, 0, 0, 0, 0, 0, 0, 0, 0, 0, 0, 0, 0, 0, 0, 0, 0, 0, 0, 0, 0, 0, 0, 0, 0, 0, 0, 0, 0, 0, 0, 0, 0, 0, 0, 0, 0, 0, 0, 0, 0, 0, 0, 0, 0, 0, 0, 0, 0, 0, 0, 0, 0, 0, 0, 0, 0, 0, 0, 0, 0, 0, 0, 0, 0, 0, 0, 0, 0, 0, 0, 0, 0, 0, 0, 0, 0, 0, 0, 0, 0, 0, 0, 0, 0, 0, 0, 0, 0, 0, 0, 0, 0, 0, 0, 0, 0, 0, 0, 0, 0, 0, 0, 0, 0, 0, 0, 0, 0, 0, 0, 0, 0, 0, 0, 0, 0, 0, 0, 0, 0, 0, 0, 0, 0, 0, 0, 0, 0, 0, 0, 0, 0, 0, 0, 0, 0, 0, 0, 0, 0, 0, 0, 0, 0, 0, 0, 0, 0, 0, 0, 0, 0, 0, 0, 0, 0, 0, 0, 0, 0, 0, 0, 0, 0, 0, 0, 0, 0, 0, 0, 0, 0, 0, 0, 0, 0, 0, 0, 0, 0, 0, 0, 0, 0, 0, 0, 0, 0, 0, 0, 0, 0, 0, 0, 0, 0, 0, 0, 0, 0, 0, 0, 0, 0, 0, 0, 0, 0, 0, 0, 0, 0, 0, 0, 0, 0, 0, 0, 0, 0, 0, 0, 0, 0, 0, 0, 0, 0, 0, 0, 0, 0, 0, 0, 0, 0, 0, 0, 0, 0, 0, 0, 0, 0, 0, 0, 0, 0, 0, 0, 0, 0, 0, 0, 0, 0, 0, 0, 0, 0, 0, 0, 0, 0, 0, 0, 0, 0, 0, 0, 0, 0, 0, 0, 0, 0, 0, 0, 0, 0, 0, 0, 0, 0, 0, 0, 0, 0, 0, 0, 0, 0, 0, 0, 0, 0, 0, 0, 0, 0, 0, 0, 0, 0, 0, 0, 0, 0, 0, 0, 0, 0, 0, 0, 0, 0, 0, 0, 0, 0, 0, 0, 0, 0, 0, 0, 0, 0, 0, 0, 0, 0, 0, 0, 0, 0, 0, 0, 0, 0, 0, 0, 0, 0, 0, 0, 0, 0, 0, 0, 0, 0, 0, 0, 0, 0, 0, 0, 0, 0, 0, 0, 0, 0, 0, 0, 0, 0, 0, 0, 0, 0, 0, 0, 0, 0, 0, 0, 0, 0, 0, 0, 0, 0, 0, 0, 0, 0, 0, 0, 0, 0, 0, 0, 0, 0, 0, 0, 0, 0, 0, 0, 0, 0, 0, 0, 0, 0, 0, 0, 0, 0, 0, 0, 0, 0, 0, 0, 0, 0, 0, 0, 0, 0, 0, 0, 0, 0, 0, 0, 0, 0, 0, 0, 0, 0, 0, 0, 0, 0, 0, 0, 0, 0, 0, 0, 0, 0, 0, 0, 0, 0, 0, 0, 0, 0, 0, 0, 0, 0, 0, 0, 0, 0, 0, 0, 0, 0, 0, 0, 0, 0, 0, 0, 0, 0, 0, 0, 0, 0, 0, 0, 0, 0, 0, 0, 0, 0, 0, 0, 0, 0, 0, 0, 0, 0, 0, 0, 0, 0, 0, 0, 0, 0, 0, 0, 0, 0, 0, 0, 0, 0, 0, 0, 0, 0, 0, 0, 0, 0, 0, 0, 0, 0, 0, 0, 0, 0, 0, 0, 0, 0, 0, 0, 0, 0, 0, 0, 0, 0, 0, 0, 0, 0, 0, 0, 0, 0, 0, 0, 0, 0, 0, 0, 0, 0, 0, 0, 0, 0, 0, 0, 0, 0, 0, 0, 0, 0, 0, 0, 0, 0, 0, 0, 0, 0, 0, 0, 0, 0, 0, 0, 0, 0, 0, 0, 0, 0, 0, 0, 0, 0, 0, 0, 0, 0, 0, 0, 0, 0, 0, 0, 0, 0, 0, 0, 0, 0, 0, 0, 0, 0, 0, 0, 0, 0, 0, 0, 0, 0, 0, 0, 0, 0, 0, 0, 0, 0, 0, 0, 0, 0, 0, 0, 0, 0, 0, 0, 0, 0, 0, 0, 0, 0, 0, 0, 0, 0, 0, 0, 0, 0, 0, 0, 0, 0, 0, 0, 0, 0, 0, 0, 0, 0, 0, 0, 0, 0, 0, 0, 0, 0, 0, 0, 0, 0, 0, 0, 0, 0, 0, 0, 0, 0, 0, 0, 0, 0, 0, 0, 0, 0, 0, 0, 0, 0, 0, 0, 0, 0, 0, 0, 0, 0, 0, 0, 0, 0, 0, 0, 0, 0, 0, 0, 0, 0, 0, 0, 0, 0, 0, 0, 0, 0, 0, 0, 0, 0, 0, 0, 0, 0, 0, 0, 0, 0, 0, 0, 0, 0, 0, 0, 0, 0, 0, 0, 0, 0, 0, 0, 0, 0, 0, 0, 0, 0, 0, 0, 0, 0, 0, 0, 0, 0, 0, 0, 0, 0, 0, 0, 0, 0, 0, 0, 0, 0, 0, 0, 0, 0, 0, 0, 0, 0, 0, 0, 0, 0, 0, 0, 0, 0, 0, 0, 0, 0, 0, 0, 0, 0, 0, 0, 0, 0, 0, 0, 0, 0, 0, 0, 0, 0, 0, 0, 0, 0, 0, 0, 0, 0, 0, 0, 0, 0, 0, 0, 0, 0, 0, 0, 0, 0, 0, 0, 0, 0, 0, 0, 0, 0, 0, 0, 0, 0, 0, 0, 0, 0, 0, 0, 0, 0, 0, 0, 0, 0, 0, 0, 0, 0, 0, 0, 0, 0, 0, 0, 0, 0, 0, 0, 0, 0, 0, 0, 0, 0, 0, 0, 0, 0, 0, 0, 0, 0, 0, 0, 0, 0, 0, 0, 0, 0, 0, 0, 0, 0, 0, 0, 0, 0, 0, 0, 0, 0, 0, 0, 0, 0, 0, 0, 0, 0, 0, 0, 0, 0, 0, 0, 0, 0, 0, 0, 0, 0, 0, 0, 0, 0, 0, 0, 0, 0, 0, 0, 0, 0, 0, 0, 0, 0, 0, 0, 0, 0, 0, 0, 0, 0, 0, 0, 0, 0, 0, 0, 0, 0, 0, 0, 0, 0, 0, 0, 0, 0, 0, 0, 0, 0, 0, 0, 0, 0, 0, 0, 0, 0, 0, 0, 0, 0, 0, 0, 0, 0, 0, 0, 0, 0, 0, 0, 0, 0, 0, 0, 0, 0, 0, 0, 0, 0, 0, 0, 0, 0, 0, 0, 0, 0, 0, 0, 0, 0, 0, 0, 0, 0, 0, 0, 0, 0, 0, 0, 0, 0, 0, 0, 0, 0, 0, 0, 0, 0, 0, 0, 0, 0, 0, 0, 0, 0, 0, 0, 0, 0, 0, 0, 0, 0, 0, 0, 0, 0, 0, 0, 0, 0, 0, 0, 0, 0, 0, 0, 0, 0, 0, 0, 0, 0, 0, 0, 0, 0, 0, 0, 0, 0, 0, 0, 0, 0, 0, 0, 0, 0, 0, 0, 0, 0, 0, 0, 0, 0, 0, 0, 0, 0, 0, 0, 0, 0, 0, 0, 0, 0, 0, 0, 0, 0, 0, 0, 0, 0, 0, 0, 0, 0, 0, 0, 0, 0, 0, 0, 0, 0, 0, 0, 0, 0, 0, 0, 0, 0, 0, 0, 0, 0, 0, 0, 0, 0, 0, 0, 0, 0, 0, 0, 0, 0, 0, 0, 0, 0, 0, 0, 0, 0, 0, 0, 0, 0, 0, 0, 0, 0, 0, 0, 0, 0, 0, 0, 0, 0, 0, 0, 0, 0, 0, 0, 0, 0, 0, 0, 0, 0, 0, 0, 0, 0, 0, 0, 0, 0, 0, 0, 0, 0, 0, 0, 0, 0, 0, 0, 0, 0, 0, 0, 0, 0, 0, 0, 0, 0, 0, 0, 0, 0, 0, 0, 0, 0, 0, 0, 0, 0, 0, 0, 0, 0, 0, 0, 0, 0, 0, 0, 0, 0, 0, 0, 0, 0, 0, 0, 0, 0, 0, 0, 0, 0, 0, 0, 0, 0, 0, 0, 0, 0, 0, 0, 0, 0, 0, 0, 0, 0, 0, 0, 0, 0, 0, 0, 0, 0, 0, 0, 0, 0, 0, 0, 0, 0, 0, 0, 0, 0, 0, 0, 0, 0, 0, 0, 0, 0, 0, 0, 0, 0, 0, 0, 0, 0, 0, 0, 0, 0, 0, 0, 0, 0, 0, 0, 0, 0, 0, 0, 0, 0, 0, 0, 0, 0, 0, 0, 0, 0, 0, 0, 0, 0, 0, 0, 0, 0, 0, 0, 0, 0, 0, 0, 0, 0, 0, 0, 0, 0, 0, 0, 0, 0, 0, 0, 0, 0, 0, 0, 0, 0, 0, 0, 0, 0, 0, 0, 0, 0, 0, 0, 0, 0, 0, 0, 0, 0, 0, 0, 0, 0, 0, 0, 0, 0, 0, 0, 0, 0, 0, 0, 0, 0, 0, 0, 0, 0, 0, 0, 0, 0, 0, 0, 0, 0, 0, 0, 0, 0, 0, 0, 0, 0, 0, 0, 0, 0, 0, 0, 0, 0, 0, 0, 0, 0, 0, 0, 0, 0, 0, 0, 0, 0, 0, 0, 0, 0, 0, 0, 0, 0, 0, 0, 0, 0, 0, 0, 0, 0, 0, 0, 0, 0, 0, 0, 0, 0, 0, 0, 0, 0, 0, 0, 0, 0, 0, 0, 0, 0, 0, 0, 0, 0, 0, 0, 0, 0, 0, 0, 0, 0, 0, 0, 0, 0, 0, 0, 0, 0, 0, 0, 0, 0, 0, 0, 0, 0, 0, 0, 0, 0, 0, 0, 0, 0, 0, 0, 0, 0, 0, 0, 0, 0, 0, 0, 0, 0, 0, 0, 0, 0, 0, 0, 0, 0, 0, 0, 0, 0, 0, 0, 0, 0, 0, 0, 0, 0, 0, 0, 0, 0, 0, 0, 0, 0, 0, 0, 0, 0, 0, 0, 0, 0, 0, 0, 0, 0, 0, 0, 0, 0, 0, 0, 0, 0, 0, 0, 0, 0, 0, 0, 0, 0, 0, 0, 0, 0, 0, 0, 0, 0, 0, 0, 0, 0, 0, 0, 0, 0, 0, 0, 0, 0, 0, 0, 0, 0, 0, 0, 0, 0, 0, 0, 0, 0, 0, 0, 0, 0, 0, 0, 0, 0, 0, 0, 0, 0, 0, 0, 0, 0, 0, 0, 0, 0, 0, 0, 0, 0, 0, 0, 0, 0, 0, 0, 0, 0, 0, 0, 0, 0, 0, 0, 0, 0, 0, 0, 0, 0, 0, 0, 0, 0, 0, 0, 0, 0, 0, 0, 0, 0, 0, 0, 0, 0, 0, 0, 0, 0, 0, 0, 0, 0, 0, 0, 0, 0, 0, 0, 0, 0, 0, 0, 0, 0, 0, 0, 0, 0, 0, 0, 0, 0, 0, 0, 0, 0, 0, 0, 0, 0, 0, 0, 0, 0, 0, 0, 0, 0, 0, 0, 0, 0, 0, 0, 0, 0, 0, 0, 0, 0, 0, 0, 0, 0, 0, 0, 0, 0, 0, 0, 0, 0, 0, 0, 0, 0, 0, 0, 0, 0, 0, 0, 0, 0, 0, 0, 0, 0, 0, 0, 0, 0, 0, 0, 0, 0, 0, 0, 0, 0, 0, 0, 0, 0, 0, 0, 0, 0, 0, 0, 0, 0, 0, 0, 0, 0, 0, 0, 0, 0, 0, 0, 0, 0, 0, 0, 0, 0, 0, 0, 0, 0, 0, 0, 0, 0, 0, 0, 0, 0, 0, 0, 0, 0, 0, 0, 0, 0, 0, 0, 0, 0, 0, 0, 0, 0, 0, 0, 0, 0, 0, 0, 0, 0, 0, 0, 0, 0, 0, 0, 0, 0, 0, 0, 0, 0, 0, 0, 0, 0, 0, 0, 0, 0, 0, 0, 0, 0, 0, 0, 0, 0, 0, 0, 0, 0, 0, 0, 0, 0, 0, 0, 0, 0, 0, 0, 0, 0, 0, 0, 0, 0, 0, 0, 0, 0, 0, 0, 0, 0, 0, 0, 0, 0, 0, 0, 0, 0, 0, 0, 0, 0, 0, 0, 0, 0, 0, 0, 0, 0, 0, 0, 0, 0, 0, 0, 0, 0, 0, 0, 0, 0, 0, 0, 0, 0, 0, 0, 0, 0, 0, 0, 0, 0, 0, 0, 0, 0, 0, 0, 0, 0, 0, 0, 0, 0, 0, 0, 0, 0, 0, 0, 0, 0, 0, 0, 0, 0, 0, 0, 0, 0, 0, 0, 0, 0, 0, 0, 0, 0, 0, 0, 0, 0, 0, 0, 0, 0, 0, 0, 0, 0, 0, 0, 0, 0, 0, 0, 0, 0, 0, 0, 0, 0, 0, 0, 0, 0, 0, 0, 0, 0, 0, 0, 0, 0, 0, 0, 0, 0, 0, 0, 0, 0, 0, 0, 0, 0, 0, 0, 0, 0, 0, 0, 0, 0, 0, 0, 0, 0, 0, 0, 0, 0, 0, 0, 0, 0, 0, 0, 0, 0, 0, 0, 0, 0, 0, 0, 0, 0, 0, 0, 0, 0, 0, 0, 0, 0, 0, 0, 0, 0, 0, 0, 0, 0, 0, 0, 0, 0, 0, 0, 0, 0, 0, 0, 0, 0, 0, 0, 0, 0, 0, 0, 0, 0, 0, 0, 0, 0, 0, 0, 0, 0, 0, 0, 0, 0, 0, 0, 0, 0, 0, 0, 0, 0, 0, 0, 0, 0, 0, 0, 0, 0, 0, 0, 0, 0, 0, 0, 0, 0, 0, 0, 0, 0, 0, 0, 0, 0, 0, 0, 0, 0, 0, 0, 0, 0, 0, 0, 0, 0, 0, 0, 0, 0, 0, 0, 0, 0, 0, 0, 0, 0, 0, 0, 0, 0, 0, 0, 0, 0, 0, 0, 0, 0, 0, 0, 0, 0, 0, 0, 0, 0, 0, 0, 0, 0, 0, 0, 0, 0, 0, 0, 0, 0, 0, 0, 0, 0, 0, 0, 0, 0, 0, 0, 0, 0, 0, 0, 0, 0, 0, 0, 0, 0, 0, 0, 0, 0, 0, 0, 0, 0, 0, 0, 0, 0, 0, 0, 0, 0, 0, 0, 0, 0, 0, 0, 0, 0, 0, 0, 0, 0, 0, 0, 0, 0, 0, 0, 0, 0, 0, 0, 0, 0, 0, 0, 0, 0, 0, 0, 0, 0, 0, 0, 0, 0, 0, 0, 0, 0, 0, 0, 0, 0, 0, 0, 0, 0, 0, 0, 0, 0, 0, 0, 0, 0, 0, 0, 0, 0, 0, 0, 0, 0, 0, 0, 0, 0, 0, 0, 0, 0, 0, 0, 0, 0, 0, 0, 0, 0, 0, 0, 0, 0, 0, 0, 0, 0, 0, 0, 0, 0, 0, 0, 0, 0, 0, 0, 0, 0, 0, 0, 0, 0, 0, 0, 0, 0, 0, 0, 0, 0, 0, 0, 0, 0, 0, 0, 0, 0, 0, 0, 0, 0, 0, 0, 0, 0, 0, 0, 0, 0, 0, 0, 0, 0, 0, 0, 0, 0, 0, 0, 0, 0, 0, 0, 0, 0, 0, 0, 0, 0, 0, 0, 0, 0, 0, 0, 0, 0, 0, 0, 0, 0, 0, 0, 0, 0, 0, 0, 0, 0, 0, 0, 0, 0, 0, 0, 0, 0, 0, 0, 0, 0, 0, 0, 0, 0, 0, 0, 0, 0, 0, 0, 0, 0, 0, 0, 0, 0, 0, 0, 0, 0, 0, 0, 0, 0, 0, 0, 0, 0, 0, 0, 0, 0, 0, 0, 0, 0, 0, 0, 0, 0, 0, 0, 0, 0, 0, 0, 0, 0, 0, 0, 0, 0, 0, 0, 0, 0, 0, 0, 0, 0, 0, 0, 0, 0, 0, 0, 0, 0, 0, 0, 0, 0, 0, 0, 0, 0, 0, 0, 0, 0, 0, 0, 0, 0, 0, 0, 0, 0, 0, 0, 0, 0, 0, 0, 0, 0, 0, 0, 0, 0, 0, 0, 0, 0, 0, 0, 0, 0, 0, 0, 0, 0, 0, 0, 0, 0, 0, 0, 0, 0, 0, 0, 0, 0, 0, 0, 0, 0, 0, 0, 0, 0, 0, 0, 0, 0, 0, 0, 0, 0, 0, 0, 0, 0, 0, 0, 0, 0, 0, 0, 0, 0, 0, 0, 0, 0, 0, 0, 0, 0, 0, 0, 0, 0, 0, 0, 0, 0, 0, 0, 0, 0, 0, 0, 0, 0, 0, 0, 0, 0, 0, 0, 0, 0, 0, 0, 0, 0, 0, 0, 0, 0, 0, 0, 0, 0, 0, 0, 0, 0, 0, 0, 0, 0, 0, 0, 0, 0, 0, 0, 0, 0, 0, 0, 0, 0, 0, 0, 0, 0, 0, 0, 0, 0, 0, 0, 0, 0, 0, 0, 0, 0, 0, 0, 0, 0, 0, 0, 0, 0, 0, 0, 0, 0, 0, 0, 0, 0, 0, 0, 0, 0, 0, 0, 0, 0, 0, 0, 0, 0, 0, 0, 0, 0, 0, 0, 0, 0, 0, 0, 0, 0, 0, 0, 0, 0, 0, 0, 0, 0, 0, 0, 0, 0, 0, 0, 0, 0, 0, 0, 0, 0, 0, 0, 0, 0, 0, 0, 0, 0, 0, 0, 0, 0, 0, 0, 0, 0, 0, 0, 0, 0, 0, 0, 0, 0, 0, 0, 0, 0, 0, 0, 0, 0, 0, 0, 0, 0, 0, 0, 0, 0, 0, 0, 0, 0, 0, 0, 0, 0, 0, 0, 0, 0, 0, 0, 0, 0, 0, 0, 0, 0, 0, 0, 0, 0, 0, 0, 0, 0, 0, 0, 0, 0, 0, 0, 0, 0, 0, 0, 0, 0, 0, 0, 0, 0, 0, 0, 0, 0, 0, 0, 0, 0, 0, 0, 0, 0, 0, 0, 0, 0, 0, 0, 0, 0, 0, 0, 0, 0, 0, 0, 0, 0, 0, 0, 0, 0, 0, 0, 0, 0, 0, 0, 0, 0, 0, 0, 0, 0, 0, 0, 0, 0, 0, 0, 0, 0, 0, 0, 0, 0, 0, 0, 0, 0, 0, 0, 0, 0, 0, 0, 0, 0, 0, 0, 0, 0, 0, 0, 0, 0, 0, 0, 0, 0, 0, 0, 0, 0, 0, 0, 0, 0, 0, 0, 0, 0, 0, 0, 0, 0, 0, 0, 0, 0, 0, 0, 0, 0, 0, 0, 0, 0, 0, 0, 0, 0, 0, 0, 0, 0, 0, 0, 0, 0, 0, 0, 0, 0, 0, 0, 0, 0, 0, 0, 0, 0, 0, 0, 0, 0, 0, 0, 0, 0, 0, 0, 0, 0, 0, 0, 0, 0, 0, 0, 0, 0, 0, 0, 0, 0, 0, 0, 0, 0, 0, 0, 0, 0, 0, 0, 0, 0, 0, 0, 0, 0, 0, 0, 0, 0, 0, 0, 0, 0, 0, 0, 0, 0, 0, 0, 0, 0, 0, 0, 0, 0, 0, 0, 0, 0, 0, 0, 0, 0, 0, 0, 0, 0, 0, 0, 0, 0, 0, 0, 0, 0, 0, 0, 0, 0, 0, 0, 0, 0, 0, 0, 0, 0, 0, 0, 0, 0, 0, 0, 0, 0, 0, 0, 0, 0, 0, 0, 0, 0, 0, 0, 0, 0, 0, 0, 0, 0, 0, 0, 0, 0, 0, 0, 0, 0, 0, 0, 0, 0, 0, 0, 0, 0, 0, 0, 0, 0, 0, 0, 0, 0, 0, 0, 0, 0, 0, 0, 0, 0, 0, 0, 0, 0, 0, 0, 0, 0, 0, 0, 0, 0, 0, 0, 0, 0, 0, 0, 0, 0, 0, 0, 0, 0, 0, 0, 0, 0, 0, 0, 0, 0, 0, 0, 0, 0, 0, 0, 0, 0, 0, 0, 0, 0, 0, 0, 0, 0, 0, 0, 0, 0, 0, 0, 0, 0, 0, 0, 0, 0, 0, 0, 0, 0, 0, 0, 0, 0, 0, 0, 0, 0, 0, 0, 0, 0, 0, 0, 0, 0, 0, 0, 0, 0, 0, 0, 0, 0, 0, 0, 0, 0, 0, 0, 0, 0, 0, 0, 0, 0, 0, 0, 0, 0, 0, 0, 0, 0, 0, 0, 0, 0, 0, 0, 0, 0, 0, 0, 0, 0, 0, 0, 0, 0, 0, 0, 0, 0, 0, 0, 0, 0, 0, 0, 0, 0, 0, 0, 0, 0, 0, 0, 0, 0, 0, 0, 0, 0, 0, 0, 0, 0, 0, 0, 0, 0, 0, 0, 0, 0, 0, 0, 0, 0, 0, 0, 0, 0, 0, 0, 0, 0, 0, 0, 0, 0, 0, 0, 0, 0, 0, 0, 0, 0, 0, 0, 0, 0, 0, 0, 0, 0, 0, 0, 0, 0, 0, 0, 0, 0, 0, 0, 0, 0, 0, 0, 0, 0, 0, 0, 0, 0, 0, 0, 0, 0, 0, 0, 0, 0, 0, 0, 0, 0, 0, 0, 0, 0, 0, 0, 0, 0, 0, 0, 0, 0, 0, 0, 0, 0, 0, 0, 0, 0, 0, 0, 0, 0, 0, 0, 0, 0, 0, 0, 0, 0, 0, 0, 0, 0, 0, 0, 0, 0, 0, 0, 0, 0, 0, 0, 0, 0, 0, 0, 0, 0, 0, 0, 0, 0, 0, 0, 0, 0, 0, 0, 0, 0, 0, 0, 0, 0, 0, 0, 0, 0, 0, 0, 0, 0, 0, 0, 0, 0, 0, 0, 0, 0, 0, 0, 0, 0, 0, 0, 0, 0, 0, 0, 0, 0, 0, 0, 0, 0, 0, 0, 0, 0, 0, 0, 0, 0, 0, 0, 0, 0, 0, 0, 0, 0, 0, 0, 0, 0, 0, 0, 0, 0, 0, 0, 0, 0, 0, 0, 0, 0, 0, 0, 0, 0, 0, 0, 0, 0, 0, 0, 0, 0, 0, 0, 0, 0, 0, 0, 0, 0, 0, 0, 0, 0, 0, 0, 0, 0, 0, 0, 0, 0, 0, 0, 0, 0, 0, 0, 0, 0, 0, 0, 0, 0, 0, 0, 0, 0, 0, 0, 0, 0, 0, 0, 0, 0, 0, 0, 0, 0, 0, 0, 0, 0, 0, 0, 0, 0, 0, 0, 0, 0, 0, 0, 0, 0, 0, 0, 0, 0, 0, 0, 0, 0, 0, 0, 0, 0, 0, 0, 0, 0, 0, 0, 0, 0, 0, 0, 0, 0, 0, 0, 0, 0, 0, 0, 0, 0, 0, 0, 0, 0, 0, 0, 0, 0, 0, 0, 0, 0, 0, 0, 0, 0, 0, 0, 0, 0, 0, 0, 0, 0, 0, 0, 0, 0, 0, 0, 0, 0, 0, 0, 0, 0, 0, 0, 0, 0, 0, 0, 0, 0, 0, 0, 0, 0, 0, 0, 0, 0, 0, 0, 0, 0, 0, 0, 0, 0, 0, 0, 0, 0, 0, 0, 0, 0, 0, 0, 0, 0, 0, 0, 0, 0, 0, 0, 0, 0, 0, 0, 0, 0, 0, 0, 0, 0, 0, 0, 0, 0, 0, 0, 0, 0, 0, 0, 0, 0, 0, 0, 0, 0, 0, 0, 0, 0, 0, 0, 0, 0, 0, 0, 0, 0, 0, 0, 0, 0, 0, 0, 0, 0, 0, 0, 0, 0, 0, 0, 0, 0, 0, 0, 0, 0, 0, 0, 0, 0, 0, 0, 0, 0, 0, 0, 0, 0, 0, 0, 0, 0, 0, 0, 0, 0, 0, 0, 0, 0, 0, 0, 0, 0, 0, 0, 0, 0, 0, 0, 0, 0, 0, 0, 0, 0, 0, 0, 0, 0, 0, 0, 0, 0, 0, 0, 0, 0, 0, 0, 0, 0, 0, 0, 0, 0, 0, 0, 0, 0, 0, 0, 0, 0, 0, 0, 0, 0, 0, 0, 0, 0, 0, 0, 0, 0, 0, 0, 0, 0, 0, 0, 0, 0, 0, 0, 0, 0, 0, 0, 0, 0, 0, 0, 0, 0, 0, 0, 0, 0, 0, 0, 0, 0, 0, 0, 0, 0, 0, 0, 0, 0, 0, 0, 0, 0, 0, 0, 0, 0, 0, 0, 0, 0, 0, 0, 0, 0, 0, 0, 0, 0, 0, 0, 0, 0, 0, 0, 0, 0, 0, 0, 0, 0, 0, 0, 0, 0, 0, 0, 0, 0, 0, 0, 0, 0, 0, 0, 0, 0, 0, 0, 0, 0, 0, 0, 0, 0, 0, 0, 0, 0, 0, 0, 0, 0, 0, 0, 0, 0, 0, 0, 0, 0, 0, 0, 0, 0, 0, 0, 0, 0, 0, 0, 0, 0, 0, 0, 0, 0, 0, 0, 0, 0, 0, 0, 0, 0, 0, 0, 0, 0, 0, 0, 0, 0, 0, 0, 0, 0, 0, 0, 0, 0, 0, 0, 0, 0, 0, 0, 0, 0, 0, 0, 0, 0, 0, 0, 0, 0, 0, 0, 0, 0, 0, 0, 0, 0, 0, 0, 0, 0, 0, 0, 0, 0, 0, 0, 0, 0, 0, 0, 0, 0, 0, 0, 0, 0, 0, 0, 0, 0, 0, 0, 0, 0, 0, 0, 0, 0, 0, 0, 0, 0, 0, 0, 0, 0, 0, 0, 0, 0, 0, 0, 0, 0, 0, 0, 0, 0, 0, 0, 0, 0, 0, 0, 0, 0, 0, 0, 0, 0, 0, 0, 0, 0, 0, 0, 0, 0, 0, 0, 0, 0, 0, 0, 0, 0, 0, 0, 0, 0, 0, 0, 0, 0, 0, 0, 0, 0, 0, 0, 0, 0, 0, 0, 0, 0, 0, 0, 0, 0, 0, 0, 0, 0, 0, 0, 0, 0, 0, 0, 0, 0, 0, 0, 0, 0, 0, 0, 0, 0, 0, 0, 0, 0, 0, 0, 0, 0, 0, 0, 0, 0, 0, 0, 0, 0, 0, 0, 0, 0, 0, 0, 0, 0, 0, 0, 0, 0, 0, 0, 0, 0, 0, 0, 0, 0, 0, 0, 0, 0, 0, 0, 0, 0, 0, 0, 0, 0, 0, 0, 0, 0, 0, 0, 0, 0, 0, 0, 0, 0, 0, 0, 0, 0, 0, 0, 0, 0, 0, 0, 0, 0, 0, 0, 0, 0, 0, 0, 0, 0, 0, 0, 0, 0, 0, 0, 0, 0, 0, 0, 0, 0, 0, 0, 0, 0, 0, 0, 0, 0, 0, 0, 0, 0, 0, 0, 0, 0, 0, 0, 0, 0, 0, 0, 0, 0, 0, 0, 0, 0, 0, 0, 0, 0, 0, 0, 0, 0, 0, 0, 0, 0, 0, 0, 0, 0, 0, 0, 0, 0, 0, 0, 0, 0, 0, 0, 0, 0, 0, 0, 0, 0, 0, 0, 0, 0, 0, 0, 0, 0, 0, 0, 0, 0, 0, 0, 0, 0, 0, 0, 0, 0, 0, 0, 0, 0, 0, 0, 0, 0, 0, 0, 0, 0, 0, 0, 0, 0, 0, 0, 0, 0, 0, 0, 0, 0, 0, 0, 0, 0, 0, 0, 0, 0, 0, 0, 0, 0, 0, 0, 0, 0, 0, 0, 0, 0, 0, 0, 0, 0, 0, 0, 0, 0, 0, 0, 0, 0, 0, 0, 0, 0, 0, 0, 0, 0, 0, 0, 0, 0, 0, 0, 0, 0, 0, 0, 0, 0, 0, 0, 0, 0, 0, 0, 0, 0, 0, 0, 0, 0, 0, 0, 0, 0, 0, 0, 0, 0, 0, 0, 0, 0, 0, 0, 0, 0, 0, 0, 0, 0, 0, 0, 0, 0, 0, 0, 0, 0, 0, 0, 0, 0, 0, 0, 0, 0, 0, 0, 0, 0, 0, 0, 0, 0, 0, 0, 0, 0, 0, 0, 0, 0, 0, 0, 0, 0, 0, 0, 0, 0, 0, 0, 0, 0, 0, 0, 0, 0, 0, 0, 0, 0, 0, 0, 0, 0, 0, 0, 0, 0, 0, 0, 0, 0, 0, 0, 0, 0, 0, 0, 0, 0, 0, 0, 0, 0, 0, 0, 0, 0, 0, 0, 0, 0, 0, 0, 0, 0, 0, 0, 0, 0, 0, 0, 0, 0, 0, 0, 0, 0, 0, 0, 0, 0, 0, 0, 0, 0, 0, 0, 0, 0, 0, 0, 0, 0, 0, 0, 0, 0, 0, 0, 0, 0, 0, 0, 0, 0, 0, 0, 0, 0, 0, 0, 0, 0, 0, 0, 0, 0, 0, 0, 0, 0, 0, 0, 0, 0, 0, 0, 0, 0, 0, 0, 0, 0, 0, 0, 0, 0, 0, 0, 0, 0, 0, 0, 0, 0, 0, 0, 0, 0, 0, 0, 0, 0, 0, 0, 0, 0, 0, 0, 0, 0, 0, 0, 0, 0, 0, 0, 0, 0, 0, 0, 0, 0, 0, 0, 0, 0, 0, 0, 0, 0, 0, 0, 0, 0, 0, 0, 0, 0, 0, 0, 0, 0, 0, 0, 0, 0, 0, 0, 0, 0, 0, 0, 0, 0, 0, 0, 0, 0, 0, 0, 0, 0, 0, 0, 0, 0, 0, 0, 0, 0, 0, 0, 0, 0, 0, 0, 0, 0, 0, 0, 0, 0, 0, 0, 0, 0, 0, 0, 0, 0, 0, 0, 0, 0, 0, 0, 0, 0, 0, 0, 0, 0, 0, 0, 0, 0, 0, 0, 0, 0, 0, 0, 0, 0, 0, 0, 0, 0, 0, 0, 0, 0, 0, 0, 0, 0, 0, 0, 0, 0, 0, 0, 0, 0, 0, 0, 0, 0, 0, 0, 0, 0, 0, 0, 0, 0, 0, 0, 0, 0, 0, 0, 0, 0, 0, 0, 0, 0, 0, 0, 0, 0, 0, 0, 0, 0, 0, 0, 0, 0, 0, 0, 0, 0, 0, 0, 0, 0, 0, 0, 0, 0, 0, 0, 0, 0, 0, 0, 0, 0, 0, 0, 0, 0, 0, 0, 0, 0, 0, 0, 0, 0, 0, 0, 0, 0, 0, 0, 0, 0, 0, 0, 0, 0, 0, 0, 0, 0, 0, 0, 0, 0, 0, 0, 0, 0, 0, 0, 0, 0, 0, 0, 0, 0, 0, 0, 0, 0, 0, 0, 0, 0, 0, 0, 0, 0, 0, 0, 0, 0, 0, 0, 0, 0, 0, 0, 0, 0, 0, 0, 0, 0, 0, 0, 0, 0, 0, 0, 0, 0, 0, 0, 0, 0, 0, 0, 0, 0, 0, 0, 0, 0, 0, 0, 0, 0, 0, 0, 0, 0, 0, 0, 0, 0, 0, 0, 0, 0, 0, 0, 0, 0, 0, 0, 0, 0, 0, 0, 0, 0, 0, 0, 0, 0, 0, 0, 0, 0, 0, 0, 0, 0, 0, 0, 0, 0, 0, 0, 0, 0, 0, 0, 0, 0, 0, 0, 0, 0, 0, 0, 0, 0, 0, 0, 0, 0, 0, 0, 0, 0, 0, 0, 0, 0, 0, 0, 0, 0, 0, 0, 0, 0, 0, 0, 0, 0, 0, 0, 0, 0, 0, 0, 0, 0, 0, 0, 0, 0, 0, 0, 0, 0, 0, 0, 0, 0, 0, 0, 0, 0, 0, 0, 0, 0, 0, 0, 0, 0, 0, 0, 0, 0, 0, 0, 0, 0, 0, 0, 0, 0, 0, 0, 0, 0, 0, 0, 0, 0, 0, 0, 0, 0, 0, 0, 0, 0, 0, 0, 0, 0, 0, 0, 0, 0, 0, 0, 0, 0, 0, 0, 0, 0, 0, 0, 0, 0, 0, 0, 0, 0, 0, 0, 0, 0, 0, 0, 0, 0, 0, 0, 0, 0, 0, 0, 0, 0, 0, 0, 0, 0, 0, 0, 0, 0, 0, 0, 0, 0, 0, 0, 0, 0, 0, 0, 0, 0, 0, 0, 0, 0, 0, 0, 0, 0, 0, 0, 0, 0, 0, 0, 0, 0, 0, 0, 0, 0, 0, 0, 0, 0, 0, 0, 0, 0, 0, 0, 0, 0, 0, 0, 0, 0, 0, 0, 0, 0, 0, 0, 0, 0, 0, 0, 0, 0, 0, 0, 0, 0, 0, 0, 0, 0, 0, 0, 0, 0, 0, 0, 0, 0, 0, 0, 0, 0, 0, 0, 0, 0, 0, 0, 0, 0, 0, 0, 0, 0, 0, 0, 0, 0, 0, 0, 0, 0, 0, 0, 0, 0, 0, 0, 0, 0, 0, 0, 0, 0, 0, 0, 0, 0, 0, 0, 0, 0, 0, 0, 0, 0, 0, 0, 0, 0, 0, 0, 0, 0, 0, 0, 0, 0, 0, 0, 0, 0, 0, 0, 0, 0, 0, 0, 0, 0, 0, 0, 0, 0, 0, 0, 0, 0, 0, 0, 0, 0, 0, 0, 0, 0, 0, 0, 0, 0, 0, 0, 0, 0, 0, 0, 0, 0, 0, 0, 0, 0, 0, 0, 0, 0, 0, 0, 0, 0, 0, 0, 0, 0, 0, 0, 0, 0, 0, 0, 0, 0, 0, 0, 0, 0, 0, 0, 0, 0, 0, 0, 0, 0, 0, 0, 0, 0, 0, 0, 0, 0, 0, 0, 0, 0, 0, 0, 0, 0, 0, 0, 0, 0, 0, 0, 0, 0, 0, 0, 0, 0, 0, 0, 0, 0, 0, 0, 0, 0, 0, 0, 0, 0, 0, 0, 0, 0, 0, 0, 0, 0, 0, 0, 0, 0, 0, 0, 0, 0, 0, 0, 0, 0, 0, 0, 0, 0, 0, 0, 0, 0, 0, 0, 0, 0, 0, 0, 0, 0, 0, 0, 0, 0, 0, 0, 0, 0, 0, 0, 0, 0, 0, 0, 0, 0, 0, 0, 0, 0, 0, 0, 0, 0, 0, 0, 0, 0, 0, 0, 0, 0, 0, 0, 0, 0, 0, 0, 0, 0, 0, 0, 0, 0, 0, 0, 0, 0, 0, 0, 0, 0, 0, 0, 0, 0, 0, 0, 0, 0, 0, 0, 0, 0, 0, 0, 0, 0, 0, 0, 0, 0, 0, 0, 0, 0, 0, 0, 0, 0, 0, 0, 0, 0, 0, 0, 0, 0, 0, 0, 0, 0, 0, 0, 0, 0, 0, 0, 0, 0, 0, 0, 0, 0, 0, 0, 0, 0, 0, 0, 0, 0, 0, 0, 0, 0, 0, 0, 0, 0, 0, 0, 0, 0, 0, 0, 0, 0, 0, 0, 0, 0, 0, 0, 0, 0, 0, 0, 0, 0, 0, 0, 0, 0, 0, 0, 0, 0, 0, 0, 0, 0, 0, 0, 0, 0, 0, 0, 0, 0, 0, 0, 0, 0, 0, 0, 0, 0, 0, 0, 0, 0, 0, 0, 0, 0, 0, 0, 0, 0, 0, 0, 0, 0, 0, 0, 0, 0, 0, 0, 0, 0, 0, 0, 0, 0, 0, 0, 0, 0, 0, 0, 0, 0, 0, 0, 0, 0, 0, 0, 0, 0, 0, 0, 0, 0, 0, 0, 0, 0, 0, 0, 0, 0, 0, 0, 0, 0, 0, 0, 0, 0, 0, 0, 0, 0, 0, 0, 0, 0, 0, 0, 0, 0, 0, 0, 0, 0, 0, 0, 0, 0, 0, 0, 0, 0, 0, 0, 0, 0, 0, 0, 0, 0, 0, 0, 0, 0, 0, 0, 0, 0, 0, 0, 0, 0, 0, 0, 0, 0, 0, 0, 0, 0, 0, 0, 0, 0, 0, 0, 0, 0, 0, 0, 0, 0, 0, 0, 0, 0, 0, 0, 0, 0, 0, 0, 0, 0, 0, 0, 0, 0, 0, 0, 0, 0, 0, 0, 0, 0, 0, 0, 0, 0, 0, 0, 0, 0, 0, 0, 0, 0, 0, 0, 0, 0, 0, 0, 0, 0, 0, 0, 0, 0, 0, 0, 0, 0, 0, 0, 0, 0, 0, 0, 0, 0, 0, 0, 0, 0, 0, 0, 0, 0, 0, 0, 0, 0, 0, 0, 0, 0, 0, 0, 0, 0, 0, 0, 0, 0, 0, 0, 0, 0, 0, 0, 0, 0, 0, 0, 0, 0, 0, 0, 0, 0, 0, 0, 0, 0, 0, 0, 0, 0, 0, 0, 0, 0, 0, 0, 0, 0, 0, 0, 0, 0, 0, 0, 0, 0, 0, 0, 0, 0, 0, 0, 0, 0, 0, 0, 0, 0, 0, 0, 0, 0, 0, 0, 0, 0, 0, 0, 0, 0, 0, 0, 0, 0, 0, 0, 0, 0, 0, 0, 0, 0, 0, 0, 0, 0, 0, 0, 0, 0, 0, 0, 0, 0, 0, 0, 0, 0, 0, 0, 0, 0, 0, 0, 0, 0, 0, 0, 0, 0, 0, 0, 0, 0, 0, 0, 0, 0, 0, 0, 0, 0, 0, 0, 0, 0, 0, 0, 0, 0, 0, 0, 0, 0, 0, 0, 0, 0, 0, 0, 0, 0, 0, 0, 0, 0, 0, 0, 0, 0, 0, 0, 0, 0, 0, 0, 0, 0, 0, 0, 0, 0, 0, 0, 0, 0, 0, 0, 0, 0, 0, 0, 0, 0, 0, 0, 0, 0, 0, 0, 0, 0, 0, 0, 0, 0, 0, 0, 0, 0, 0, 0, 0, 0, 0, 0, 0, 0, 0, 0, 0, 0, 0, 0, 0, 0, 0, 0, 0, 0, 0, 0, 0, 0, 0, 0, 0, 0, 0, 0, 0, 0, 0, 0, 0, 0, 0, 0, 0, 0, 0, 0, 0, 0, 0, 0, 0, 0, 0, 0, 0, 0, 0, 0, 0, 0, 0, 0, 0, 0, 0, 0, 0, 0, 0, 0, 0, 0, 0, 0, 0, 0, 0, 0, 0, 0, 0, 0, 0, 0, 0, 0, 0, 0, 0, 0, 0, 0, 0, 0, 0, 0, 0, 0, 0, 0, 0, 0, 0, 0, 0, 0, 0, 0, 0, 0, 0, 0, 0, 0, 0, 0, 0, 0, 0, 0, 0, 0, 0, 0, 0, 0, 0, 0, 0, 0, 0, 0, 0, 0, 0, 0, 0, 0, 0, 0, 0, 0, 0, 0, 0, 0, 0, 0, 0, 0, 0, 0, 0, 0, 0, 0, 0, 0, 0, 0, 0, 0, 0, 0, 0, 0, 0, 0, 0, 0, 0, 0, 0, 0, 0, 0, 0, 0, 0, 0, 0, 0, 0, 0, 0, 0, 0, 0, 0, 0, 0, 0, 0, 0, 0, 0, 0, 0, 0, 0, 0, 0, 0, 0, 0, 0, 0, 0, 0, 0, 0, 0, 0, 0, 0, 0, 0, 0, 0, 0, 0, 0, 0, 0, 0, 0, 0, 0, 0, 0, 0, 0, 0, 0, 0, 0, 0, 0, 0, 0, 0, 0, 0, 0, 0, 0, 0, 0, 0, 0, 0, 0, 0, 0, 0, 0, 0, 0, 0, 0, 0, 0, 0, 0, 0, 0, 0, 0, 0, 0, 0, 0, 0, 0, 0, 0, 0, 0, 0, 0, 0, 0, 0, 0, 0, 0, 0, 0, 0, 0, 0, 0, 0, 0, 0, 0, 0, 0, 0, 0, 0, 0, 0, 0, 0, 0, 0, 0, 0, 0, 0, 0, 0, 0, 0, 0, 0, 0, 0, 0, 0, 0, 0, 0, 0, 0, 0, 0, 0, 0, 0, 0, 0, 0, 0, 0, 0, 0, 0, 0, 0, 0, 0, 0, 0, 0, 0, 0, 0, 0, 0, 0, 0, 0, 0, 0, 0, 0, 0, 0, 0, 0, 0, 0, 0, 0, 0, 0, 0, 0, 0, 0, 0, 0, 0, 0, 0, 0, 0, 0, 0, 0, 0, 0, 0, 0, 0, 0, 0, 0, 0, 0, 0, 0, 0, 0, 0, 0, 0, 0, 0, 0, 0, 0, 0, 0, 0, 0, 0, 0, 0, 0, 0, 0, 0, 0, 0, 0, 0, 0, 0, 0, 0, 0, 0, 0, 0, 0, 0, 0, 0, 0, 0, 0, 0, 0, 0, 0, 0, 0, 0, 0, 0, 0, 0, 0, 0, 0, 0, 0, 0, 0, 0, 0, 0, 0, 0, 0, 0, 0, 0, 0, 0, 0, 0, 0, 0, 0, 0, 0, 0, 0, 0, 0, 0, 0, 0, 0, 0, 0, 0, 0, 0, 0, 0, 0, 0, 0, 0, 0, 0, 0, 0, 0, 0, 0, 0, 0, 0, 0, 0, 0, 0, 0, 0, 0, 0, 0, 0, 0, 0, 0, 0, 0, 0, 0, 0, 0, 0, 0, 0, 0, 0, 0, 0, 0, 0, 0, 0, 0, 0, 0, 0, 0, 0, 0, 0, 0, 0, 0, 0, 0, 0, 0, 0, 0, 0, 0, 0, 0, 0, 0, 0, 0, 0, 0, 0, 0, 0, 0, 0, 0, 0, 0, 0, 0, 0, 0, 0, 0, 0, 0, 0, 0, 0, 0, 0, 0, 0, 0, 0, 0, 0, 0, 0, 0, 0, 0, 0, 0, 0, 0, 0, 0, 0, 0, 0, 0, 0, 0, 0, 0, 0, 0, 0, 0, 0, 0, 0, 0, 0, 0, 0, 0, 0, 0, 0, 0, 0, 0, 0, 0, 0, 0, 0, 0, 0, 0, 0, 0, 0, 0, 0, 0, 0, 0, 0, 0, 0, 0, 0, 0, 0, 0, 0, 0, 0, 0, 0, 0, 0, 0, 0, 0, 0, 0, 0, 0, 0, 0, 0, 0, 0, 0, 0, 0, 0, 0, 0, 0, 0, 0, 0, 0, 0, 0, 0, 0, 0, 0, 0, 0, 0, 0, 0, 0, 0, 0, 0, 0, 0, 0, 0, 0, 0, 0, 0, 0, 0, 0, 0, 0, 0, 0, 0, 0, 0, 0, 0, 0, 0, 0, 0, 0, 0, 0, 0, 0, 0, 0, 0, 0, 0, 0, 0, 0, 0, 0, 0, 0, 0, 0, 0, 0, 0, 0, 0, 0, 0, 0, 0, 0, 0, 0, 0, 0, 0, 0, 0, 0, 0, 0, 0, 0, 0, 0, 0, 0, 0, 0, 0, 0, 0, 0, 0, 0, 0, 0, 0, 0, 0, 0, 0, 0, 0, 0, 0, 0, 0, 0, 0, 0, 0, 0, 0, 0, 0, 0, 0, 0, 0, 0, 0, 0, 0, 0, 0, 0, 0, 0, 0, 0, 0, 0, 0, 0, 0, 0, 0, 0, 0, 0, 0, 0, 0, 0, 0, 0, 0, 0, 0, 0, 0, 0, 0, 0, 0, 0, 0, 0, 0, 0, 0, 0, 0, 0, 0, 0, 0, 0, 0, 0, 0, 0, 0, 0, 0, 0, 0, 0, 0, 0, 0, 0, 0, 0, 0, 0, 0, 0, 0, 0, 0, 0, 0, 0, 0, 0, 0, 0, 0, 0, 0, 0, 0, 0, 0, 0, 0, 0, 0, 0, 0, 0, 0, 0, 0, 0, 0, 0, 0, 0, 0, 0, 0, 0, 0, 0, 0, 0, 0, 0, 0, 0, 0, 0, 0, 0, 0, 0, 0, 0, 0, 0, 0, 0, 0, 0, 0, 0, 0, 0, 0, 0, 0, 0, 0, 0, 0, 0, 0, 0, 0, 0, 0, 0, 0, 0, 0, 0, 0, 0, 0, 0, 0, 0, 0, 0, 0, 0, 0, 0, 0, 0, 0, 0, 0, 0, 0, 0, 0, 0, 0, 0, 0, 0, 0, 0, 0, 0, 0, 0, 0, 0, 0, 0, 0, 0, 0, 0, 0, 0, 0, 0, 0, 0, 0, 0, 0, 0, 0, 0, 0, 0, 0, 0, 0, 0, 0, 0, 0, 0, 0, 0, 0, 0, 0, 0, 0, 0, 0, 0, 0, 0, 0, 0, 0, 0, 0, 0, 0, 0, 0, 0, 0, 0, 0, 0, 0, 0, 0, 0, 0, 0, 0, 0, 0, 0, 0, 0, 0, 0, 0, 0, 0, 0, 0, 0, 0, 0, 0, 0, 0, 0, 0, 0, 0, 0, 0, 0, 0, 0, 0, 0, 0, 0, 0, 0, 0, 0, 0, 0, 0, 0, 0, 0, 0, 0, 0, 0, 0, 0, 0, 0, 0, 0, 0, 0, 0, 0, 0, 0, 0, 0, 0, 0, 0, 0, 0, 0, 0, 0, 0, 0, 0, 0, 0, 0, 0, 0, 0, 0, 0, 0, 0, 0, 0, 0, 0, 0, 0, 0, 0, 0, 0, 0, 0, 0, 0, 0, 0, 0, 0, 0, 0, 0, 0, 0, 0, 0, 0, 0, 0, 0, 0, 0, 0, 0, 0, 0, 0, 0, 0, 0, 0, 0, 0, 0, 0, 0, 0, 0, 0, 0, 0, 0, 0, 0, 0, 0, 0, 0, 0, 0, 0, 0, 0, 0, 0, 0, 0, 0, 0, 0, 0, 0, 0, 0, 0, 0, 0, 0, 0, 0, 0, 0, 0, 0, 0, 0, 0, 0, 0, 0, 0, 0, 0, 0, 0, 0, 0, 0, 0, 0, 0, 0, 0, 0, 0, 0, 0, 0, 0, 0, 0, 0, 0, 0, 0, 0, 0, 0, 0, 0, 0, 0, 0, 0, 0, 0, 0, 0, 0, 0, 0, 0, 0, 0, 0, 0, 0, 0, 0, 0, 0, 0, 0, 0, 0, 0, 0, 0, 0, 0, 0, 0, 0, 0, 0, 0, 0, 0, 0, 0, 0, 0, 0, 0, 0, 0, 0, 0, 0, 0, 0, 0, 0, 0, 0, 0, 0, 0, 0, 0, 0, 0, 0, 0, 0, 0, 0, 0, 0, 0, 0, 0, 0, 0, 0, 0, 0, 0, 0, 0, 0, 0, 0, 0, 0, 0, 0, 0, 0, 0, 0, 0, 0, 0, 0, 0, 0, 0, 0, 0, 0, 0, 0, 0, 0, 0, 0, 0, 0, 0, 0, 0, 0, 0, 0, 0, 0, 0, 0, 0, 0, 0, 0, 0, 0, 0, 0, 0, 0, 0, 0, 0, 0, 0, 0, 0, 0, 0, 0, 0, 0, 0, 0, 0, 0, 0, 0, 0, 0, 0, 0, 0, 0, 0, 0, 0, 0, 0, 0, 0, 0, 0, 0, 0, 0, 0, 0, 0, 0, 0, 0, 0, 0, 0, 0, 0, 0, 0, 0, 0, 0, 0, 0, 0, 0, 0, 0, 0, 0, 0, 0, 0, 0, 0, 0, 0, 0, 0, 0, 0, 0, 0, 0, 0, 0, 0, 0, 0, 0, 0, 0, 0, 0, 0, 0, 0, 0, 0, 0, 0, 0, 0, 0, 0, 0, 0, 0, 0, 0, 0, 0, 0, 0, 0, 0, 0, 0, 0, 0, 0, 0, 0, 0, 0, 0, 0, 0, 0, 0, 0, 0, 0, 0, 0, 0, 0, 0, 0, 0, 0, 0, 0, 0, 0, 0, 0, 0, 0, 0, 0, 0, 0, 0, 0, 0, 0, 0, 0, 0, 0, 0, 0, 0, 0, 0, 0, 0, 0, 0, 0, 0, 0, 0, 0, 0, 0, 0, 0, 0, 0, 0, 0, 0, 0, 0, 0, 0, 0, 0, 0, 0, 0, 0, 0, 0, 0, 0, 0, 0, 0, 0, 0, 0, 0, 0, 0, 0, 0, 0, 0, 0, 0, 0, 0, 0, 0, 0, 0, 0, 0, 0, 0, 0, 0, 0, 0, 0, 0, 0, 0, 0, 0, 0, 0, 0, 0, 0, 0, 0, 0, 0, 0, 0, 0, 0, 0, 0, 0, 0, 0, 0, 0, 0, 0, 0, 0, 0, 0, 0, 0, 0, 0, 0, 0, 0, 0, 0, 0, 0, 0, 0, 0, 0, 0, 0, 0, 0, 0, 0, 0, 0, 0, 0, 0, 0, 0, 0, 0, 0, 0, 0, 0, 0, 0, 0, 0, 0, 0, 0, 0, 0, 0, 0, 0, 0, 0, 0, 0, 0, 0, 0, 0, 0, 0, 0, 0, 0, 0, 0, 0, 0, 0, 0, 0, 0, 0, 0, 0, 0, 0, 0, 0, 0, 0, 0, 0, 0, 0, 0, 0, 0, 0, 0, 0, 0, 0, 0, 0, 0, 0, 0, 0, 0, 0, 0, 0, 0, 0, 0, 0, 0, 0, 0, 0, 0, 0, 0, 0, 0, 0, 0, 0, 0, 0, 0, 0, 0, 0, 0, 0, 0, 0, 0, 0, 0, 0, 0, 0, 0, 0, 0, 0, 0, 0, 0, 0, 0, 0, 0, 0, 0, 0, 0, 0, 0, 0, 0, 0, 0, 0, 0, 0, 0, 0, 0, 0, 0, 0, 0, 0, 0, 0, 0, 0, 0, 0, 0, 0, 0, 0, 0, 0, 0, 0, 0, 0, 0, 0, 0, 0, 0, 0, 0, 0, 0, 0, 0, 0, 0, 0, 0, 0, 0, 0, 0, 0, 0, 0, 0, 0, 0, 0, 0, 0, 0, 0, 0, 0, 0, 0, 0, 0, 0, 0, 0, 0, 0, 0, 0, 0, 0, 0, 0, 0, 0, 0, 0, 0, 0, 0, 0, 0, 0, 0, 0, 0, 0, 0, 0, 0, 0, 0, 0, 0, 0, 0, 0, 0, 0, 0, 0, 0, 0, 0, 0, 0, 0, 0, 0, 0, 0, 0, 0, 0, 0, 0, 0, 0, 0, 0, 0, 0, 0, 0, 0, 0, 0, 0, 0, 0, 0, 0, 0, 0, 0, 0, 0, 0, 0, 0, 0, 0, 0, 0, 0, 0, 0, 0, 0, 0, 0, 0, 0, 0, 0, 0, 0, 0, 0, 0, 0, 0, 0, 0, 0, 0, 0, 0, 0, 0, 0, 0, 0, 0, 0, 0, 0, 0, 0, 0, 0, 0, 0, 0, 0, 0, 0, 0, 0, 0, 0, 0, 0, 0, 0, 0, 0, 0, 0, 0, 0, 0, 0, 0, 0, 0, 0, 0, 0, 0, 0, 0, 0, 0, 0, 0, 0, 0, 0, 0, 0, 0, 0, 0, 0, 0, 0, 0, 0, 0, 0, 0, 0, 0, 0, 0, 0, 0, 0, 0, 0, 0, 0, 0, 0, 0, 0, 0, 0, 0, 0, 0, 0, 0, 0, 0, 0, 0, 0, 0, 0, 0, 0, 0, 0, 0, 0, 0, 0, 0, 0, 0, 0, 0, 0, 0, 0, 0, 0, 0, 0, 0, 0, 0, 0, 0, 0, 0, 0, 0, 0, 0, 0, 0, 0, 0, 0, 0, 0, 0, 0, 0, 0, 0, 0, 0, 0, 0, 0, 0, 0, 0, 0, 0, 0, 0, 0, 0, 0, 0, 0, 0, 0, 0, 0, 0, 0, 0, 0, 0, 0, 0, 0, 0, 0, 0, 0, 0, 0, 0, 0, 0, 0, 0, 0, 0, 0, 0, 0, 0, 0, 0, 0, 0, 0, 0, 0, 0, 0, 0, 0, 0, 0, 0, 0, 0, 0, 0, 0, 0, 0, 0, 0, 0, 0, 0, 0, 0, 0, 0, 0, 0, 0, 0], \"coloraxis\": \"coloraxis\", \"symbol\": \"circle\"}, \"mode\": \"markers\", \"name\": \"\", \"scene\": \"scene\", \"showlegend\": false, \"type\": \"scatter3d\", \"x\": [22, 129, 129, 125, 74, 107, 129, 130, 128, 76, 108, 17, 27, 22, 34, 44, 45, 13, 75, 43, 70, 119, 35, 26, 46, 109, 129, 127, 51, 56, 92, 25, 77, 48, 40, 52, 39, 26, 8, 74, 87, 103, 86, 91, 50, 28, 119, 125, 33, 93, 113, 100, 111, 30, 36, 129, 51, 118, 128, 135, 129, 39, 125, 118, 40, 45, 131, 108, 117, 129, 124, 106, 65, 121, 120, 57, 120, 80, 66, 25, 74, 78, 70, 59, 116, 84, 57, 72, 23, 120, 84, 63, 76, 103, 132, 119, 128, 24, 95, 60, 129, 32, 48, 63, 110, 46, 101, 45, 124, 107, 98, 46, 138, 131, 53, 46, 90, 128, 18, 66, 103, 41, 43, 46, 60, 123, 120, 18, 96, 27, 130, 53, 130, 66, 93, 69, 129, 103, 126, 92, 85, 120, 16, 121, 108, 43, 109, 81, 84, 45, 54, 19, 88, 126, 85, 54, 79, 87, 75, 18, 125, 40, 29, 32, 81, 75, 112, 48, 122, 97, 64, 53, 118, 38, 79, 64, 53, 126, 115, 34, 127, 49, 129, 64, 113, 122, 125, 59, 46, 117, 77, 88, 75, 119, 12, 53, 51, 114, 48, 114, 108, 61, 23, 99, 85, 14, 124, 123, 36, 71, 42, 65, 92, 56, 35, 31, 60, 120, 120, 125, 113, 29, 78, 101, 60, 75, 46, 106, 41, 27, 104, 65, 53, 120, 60, 10, 125, 63, 23, 100, 38, 92, 131, 86, 93, 110, 93, 125, 24, 94, 50, 28, 26, 30, 68, 103, 36, 33, 92, 110, 97, 76, 126, 125, 127, 55, 71, 133, 88, 108, 107, 127, 30, 67, 67, 129, 79, 33, 54, 37, 112, 108, 39, 112, 126, 40, 125, 71, 25, 60, 82, 110, 49, 52, 109, 33, 50, 16, 115, 69, 92, 120, 81, 26, 33, 68, 39, 119, 24, 50, 39, 25, 127, 124, 29, 28, 120, 128, 47, 45, 92, 73, 108, 94, 117, 34, 129, 47, 123, 124, 125, 103, 74, 89, 22, 37, 13, 128, 124, 6, 93, 132, 112, 92, 92, 120, 123, 127, 66, 90, 78, 129, 123, 129, 82, 94, 16, 124, 49, 100, 56, 88, 60, 117, 13, 23, 28, 115, 133, 129, 71, 54, 114, 128, 79, 125, 112, 131, 89, 24, 42, 82, 108, 86, 98, 96, 85, 129, 74, 108, 35, 55, 119, 101, 98, 128, 36, 103, 102, 8, 53, 114, 78, 29, 53, 92, 102, 126, 110, 41, 104, 11, 47, 48, 82, 53, 49, 104, 126, 113, 57, 99, 119, 98, 33, 52, 125, 130, 40, 88, 70, 79, 71, 120, 75, 97, 115, 121, 34, 37, 76, 60, 123, 64, 57, 41, 34, 87, 130, 13, 43, 121, 126, 34, 67, 96, 85, 127, 16, 78, 64, 30, 111, 37, 115, 82, 82, 32, 100, 11, 121, 66, 52, 11, 94, 43, 70, 11, 20, 93, 50, 126, 48, 28, 116, 45, 17, 64, 101, 39, 92, 57, 20, 101, 34, 99, 72, 37, 55, 119, 28, 8, 30, 91, 126, 38, 106, 52, 23, 20, 61, 70, 125, 98, 127, 130, 64, 128, 127, 15, 79, 88, 40, 128, 125, 119, 109, 23, 104, 40, 115, 124, 122, 57, 68, 112, 12, 80, 119, 95, 53, 99, 93, 152, 103, 130, 91, 96, 102, 47, 79, 63, 113, 82, 127, 76, 116, 130, 71, 30, 89, 68, 57, 110, 72, 101, 72, 125, 101, 115, 20, 25, 87, 37, 79, 67, 27, 94, 88, 52, 98, 51, 57, 88, 65, 90, 122, 92, 92, 56, 108, 71, 126, 96, 133, 68, 91, 45, 102, 126, 70, 111, 122, 47, 69, 46, 122, 66, 55, 126, 106, 64, 123, 54, 47, 35, 78, 94, 63, 85, 77, 50, 120, 87, 69, 68, 48, 91, 125, 91, 105, 39, 91, 117, 122, 128, 47, 100, 87, 87, 123, 119, 122, 21, 133, 133, 117, 48, 114, 124, 93, 52, 100, 40, 31, 38, 54, 123, 48, 82, 10, 53, 128, 89, 62, 95, 87, 55, 36, 129, 126, 30, 30, 56, 108, 115, 121, 83, 81, 10, 121, 82, 67, 121, 98, 16, 29, 132, 29, 33, 92, 59, 29, 54, 126, 122, 69, 73, 64, 125, 109, 89, 108, 96, 61, 82, 85, 125, 115, 65, 47, 101, 91, 65, 94, 93, 131, 66, 98, 63, 119, 109, 124, 132, 76, 42, 26, 85, 118, 43, 29, 95, 46, 41, 95, 82, 123, 121, 54, 58, 22, 74, 122, 131, 108, 116, 91, 92, 65, 63, 43, 70, 53, 84, 66, 85, 104, 39, 37, 82, 27, 34, 22, 10, 62, 122, 56, 73, 68, 106, 117, 109, 129, 30, 86, 45, 76, 32, 59, 84, 86, 100, 93, 39, 22, 50, 48, 20, 91, 10, 120, 43, 61, 50, 23, 113, 18, 74, 44, 125, 22, 24, 44, 79, 34, 119, 126, 46, 119, 97, 124, 128, 92, 122, 20, 128, 123, 23, 123, 114, 103, 45, 33, 28, 69, 36, 60, 27, 64, 129, 86, 58, 10, 59, 91, 29, 94, 124, 78, 53, 122, 85, 40, 127, 68, 91, 61, 62, 28, 78, 75, 17, 13, 109, 54, 34, 92, 70, 57, 46, 70, 51, 102, 100, 73, 58, 8, 79, 124, 8, 97, 91, 21, 69, 25, 37, 55, 35, 49, 123, 112, 124, 102, 81, 128, 28, 98, 100, 4, 31, 58, 81, 57, 36, 54, 100, 72, 102, 127, 44, 98, 97, 57, 91, 129, 133, 48, 90, 96, 31, 112, 33, 75, 93, 105, 42, 50, 74, 129, 99, 113, 8, 85, 5, 61, 40, 129, 28, 53, 67, 126, 115, 130, 128, 116, 17, 116, 126, 115, 26, 44, 49, 94, 81, 42, 23, 86, 10, 87, 10, 130, 59, 95, 100, 110, 26, 15, 79, 112, 86, 108, 119, 53, 124, 96, 125, 74, 88, 124, 126, 81, 110, 121, 63, 85, 58, 114, 110, 35, 75, 21, 80, 116, 67, 70, 19, 38, 10, 18, 23, 13, 40, 123, 122, 130, 73, 47, 36, 16, 37, 40, 126, 72, 39, 44, 18, 43, 16, 68, 20, 53, 31, 68, 102, 92, 91, 36, 115, 77, 25, 117, 37, 98, 125, 126, 33, 63, 34, 34, 34, 34, 34, 99, 116, 72, 119, 23, 61, 78, 84, 123, 12, 69, 93, 22, 20, 38, 93, 109, 16, 127, 62, 122, 48, 83, 35, 30, 124, 44, 85, 85, 87, 112, 29, 126, 83, 124, 70, 94, 27, 84, 80, 83, 45, 59, 94, 83, 125, 11, 17, 73, 35, 36, 34, 18, 85, 116, 130, 58, 65, 90, 44, 105, 106, 94, 63, 92, 125, 45, 30, 72, 36, 112, 117, 40, 56, 40, 69, 54, 34, 72, 71, 25, 59, 33, 83, 36, 15, 36, 129, 10, 28, 88, 67, 58, 120, 100, 29, 46, 59, 18, 116, 26, 29, 42, 96, 30, 118, 39, 43, 131, 11, 129, 101, 48, 130, 123, 88, 58, 129, 106, 13, 71, 121, 92, 10, 39, 18, 12, 37, 13, 12, 27, 35, 32, 125, 79, 120, 76, 124, 123, 112, 93, 108, 120, 94, 125, 16, 42, 22, 121, 101, 104, 127, 49, 52, 23, 74, 19, 34, 66, 93, 45, 126, 71, 47, 36, 133, 114, 18, 25, 19, 72, 44, 45, 127, 89, 99, 127, 108, 36, 36, 76, 32, 29, 16, 99, 106, 39, 90, 18, 127, 126, 34, 62, 112, 105, 61, 27, 37, 34, 111, 88, 62, 117, 55, 110, 12, 18, 132, 50, 87, 82, 70, 41, 112, 79, 77, 119, 118, 122, 114, 42, 60, 110, 110, 124, 130, 27, 81, 108, 70, 74, 106, 55, 83, 73, 113, 44, 69, 108, 56, 45, 60, 131, 47, 123, 19, 78, 43, 62, 103, 27, 10, 11, 37, 84, 53, 21, 114, 8, 117, 46, 117, 24, 129, 86, 36, 26, 46, 111, 69, 35, 80, 84, 108, 94, 78, 89, 63, 60, 51, 11, 72, 119, 12, 83, 88, 47, 111, 19, 49, 123, 75, 30, 57, 54, 57, 51, 118, 9, 100, 55, 82, 55, 90, 126, 123, 95, 76, 106, 25, 60, 73, 33, 57, 20, 61, 107, 9, 114, 59, 60, 92, 112, 33, 81, 103, 122, 123, 125, 109, 75, 76, 122, 64, 132, 119, 126, 26, 130, 113, 95, 108, 121, 40, 127, 54, 73, 106, 70, 69, 35, 40, 42, 70, 21, 48, 50, 113, 30, 66, 25, 48, 42, 48, 44, 71, 93, 126, 132, 128, 115, 54, 55, 25, 88, 73, 103, 18, 53, 82, 51, 38, 21, 84, 75, 86, 14, 75, 26, 81, 26, 116, 60, 22, 69, 42, 42, 60, 63, 55, 114, 61, 89, 36, 73, 44, 122, 124, 38, 109, 64, 95, 79, 10, 15, 88, 61, 87, 34, 129, 129, 37, 59, 107, 83, 58, 128, 128, 95, 112, 25, 68, 127, 57, 83, 17, 22, 36, 107, 127, 128, 129, 127, 81, 28, 66, 116, 91, 127, 132, 68, 128, 73, 56, 71, 117, 100, 45, 51, 126, 16, 45, 79, 11, 35, 16, 122, 114, 55, 121, 32, 18, 23, 25, 86, 107, 20, 28, 60, 54, 115, 43, 123, 129, 82, 127, 57, 44, 19, 102, 119, 94, 122, 63, 103, 19, 96, 129, 83, 127, 72, 37, 99, 14, 51, 72, 52, 50, 66, 110, 105, 32, 118, 11, 42, 108, 126, 64, 33, 21, 107, 65, 46, 127, 57, 62, 77, 124, 57, 107, 53, 58, 23, 44, 65, 78, 12, 76, 82, 77, 104, 118, 68, 16, 25, 126, 113, 86, 50, 128, 29, 64, 68, 47, 29, 86, 38, 49, 126, 10, 31, 95, 65, 67, 119, 128, 129, 65, 38, 57, 52, 80, 53, 127, 128, 44, 11, 127, 115, 22, 102, 73, 120, 135, 61, 30, 25, 64, 109, 30, 51, 65, 113, 126, 127, 125, 28, 122, 80, 38, 122, 126, 56, 123, 127, 18, 119, 128, 13, 130, 118, 56, 99, 34, 72, 58, 58, 60, 121, 15, 23, 60, 92, 117, 121, 45, 113, 70, 121, 42, 45, 42, 65, 90, 54, 25, 123, 59, 86, 111, 33, 116, 124, 131, 118, 49, 98, 83, 76, 124, 111, 110, 128, 45, 131, 84, 28, 23, 41, 90, 129, 98, 85, 63, 73, 123, 120, 22, 19, 85, 90, 19, 129, 66, 108, 132, 75, 103, 50, 122, 55, 66, 20, 75, 82, 103, 94, 97, 126, 39, 130, 121, 112, 50, 56, 69, 8, 89, 128, 129, 62, 72, 28, 62, 37, 131, 128, 123, 126, 105, 119, 99, 99, 127, 93, 105, 54, 84, 52, 122, 129, 83, 125, 114, 126, 109, 5, 51, 123, 41, 106, 7, 66, 60, 112, 122, 109, 66, 126, 72, 44, 112, 48, 66, 110, 111, 51, 128, 54, 78, 17, 74, 68, 114, 12, 78, 102, 94, 68, 119, 32, 32, 85, 41, 113, 82, 128, 85, 93, 86, 82, 82, 110, 121, 14, 126, 98, 127, 121, 47, 114, 77, 85, 51, 71, 113, 80, 45, 41, 56, 58, 30, 29, 86, 77, 64, 70, 33, 66, 68, 130, 111, 130, 129, 21, 113, 130, 57, 18, 126, 105, 120, 60, 38, 78, 96, 30, 90, 130, 134, 33, 119, 92, 102, 37, 68, 73, 51, 129, 120, 116, 54, 110, 125, 90, 106, 127, 118, 105, 132, 129, 58, 124, 125, 14, 41, 91, 119, 121, 57, 100, 17, 14, 131, 93, 125, 93, 52, 82, 101, 67, 83, 87, 116, 113, 16, 130, 71, 82, 75, 101, 122, 57, 130, 97, 121, 26, 42, 128, 69, 45, 127, 72, 122, 131, 122, 57, 17, 91, 51, 121, 68, 49, 120, 101, 107, 107, 26, 63, 49, 105, 55, 23, 75, 51, 4, 67, 90, 126, 99, 86, 23, 34, 31, 31, 77, 14, 114, 23, 65, 58, 91, 18, 30, 83, 90, 13, 26, 27, 122, 5, 129, 80, 47, 120, 29, 69, 121, 103, 115, 128, 21, 33, 16, 14, 65, 76, 67, 119, 30, 27, 77, 79, 120, 115, 94, 64, 29, 42, 97, 105, 103, 127, 77, 107, 50, 128, 8, 112, 22, 119, 52, 5, 11, 35, 18, 60, 68, 114, 81, 27, 60, 99, 67, 126, 50, 49, 18, 63, 11, 69, 108, 128, 14, 124, 28, 26, 78, 120, 32, 65, 17, 124, 55, 32, 53, 128, 80, 10, 44, 64, 39, 31, 22, 50, 108, 34, 83, 70, 99, 117, 121, 111, 27, 80, 51, 78, 42, 44, 121, 20, 97, 71, 59, 44, 90, 67, 109, 83, 15, 15, 19, 130, 88, 12, 26, 122, 116, 14, 85, 58, 121, 105, 53, 17, 40, 24, 124, 16, 35, 27, 18, 34, 58, 20, 83, 46, 45, 15, 10, 36, 22, 80, 7, 106, 86, 16, 8, 33, 76, 45, 36, 41, 28, 45, 47, 25, 12, 102, 76, 16, 77, 58, 27, 16, 35, 21, 38, 65, 64, 21, 36, 77, 38, 77, 21, 11, 90, 114, 30, 73, 17, 25, 46, 24, 115, 128, 19, 112, 61, 45, 21, 48, 57, 46, 10, 14, 19, 55, 18, 77, 16, 5, 19, 38, 90, 17, 59, 111, 107, 74, 9, 38, 57, 72, 38, 106, 43, 60, 36, 31, 49, 101, 19, 25, 79, 21, 90, 128, 112, 114, 23, 55, 20, 38, 33, 123, 50, 32, 18, 10, 24, 50, 52, 103, 124, 84, 109, 48, 83, 126, 8, 31, 51, 64, 53, 9, 98, 43, 60, 47, 114, 89, 59, 40, 130, 7, 107, 27, 22, 35, 33, 19, 92, 120, 12, 57, 25, 14, 15, 26, 37, 21, 27, 8, 38, 38, 126, 7, 22, 22, 22, 12, 30, 15, 6, 123, 43, 29, 16, 30, 23, 26, 119, 41, 37, 11, 20, 78, 16, 15, 41, 109, 86, 14, 45, 50, 15, 55, 49, 17, 17, 5, 21, 40, 16, 68, 18, 26, 30, 38, 28, 22, 17, 77, 11, 111, 65, 38, 61, 37, 53, 31, 16, 20, 64, 21, 30, 17, 17, 13, 56, 82, 35, 17, 41, 12, 17, 30, 19, 11, 56, 6, 20, 13, 44, 11, 11, 37, 30, 40, 8, 20, 32, 65, 20, 29, 57, 20, 49, 19, 17, 38, 12, 34, 25, 44, 23, 19, 122, 9, 29, 14, 93, 13, 8, 71, 31, 104, 26, 22, 36, 15, 128, 14, 82, 108, 25, 19, 96, 15, 25, 41, 47, 57, 18, 89, 32, 24, 123, 92, 13, 33, 14, 34, 45, 28, 9, 32, 20, 30, 31, 10, 24, 38, 42, 22, 88, 18, 16, 53, 121, 29, 14, 45, 34, 29, 23, 29, 27, 18, 23, 26, 87, 35, 23, 24, 115, 72, 41, 17, 11, 42, 47, 49, 11, 22, 9, 13, 103, 15, 13, 20, 25, 23, 18, 11, 23, 11, 67, 55, 73, 69, 22, 40, 75, 5, 23, 30, 24, 10, 22, 15, 17, 29, 15, 17, 21, 45, 16, 32, 22, 65, 8, 11, 35, 92, 49, 9, 25, 11, 25, 14, 13, 8, 50, 68, 27, 17, 62, 35, 34, 105, 29, 17, 23, 102, 85, 130, 110, 25, 90, 34, 58, 23, 74, 16, 18, 41, 29, 57, 5, 262, 59, 51, 109, 99, 3, 16, 255, 64, 129, 109, 8, 15, 22, 18, 254, 45, 58, 33, 42, 12, 44, 195, 153, 81, 215, 207, 48, 119, 7, 36, 77, 133, 91, 24, 61, 16, 53, 229, 39, 185, 196, 29, 35, 43, 20, 254, 45, 27, 90, 178, 17, 26, 53, 19, 33, 116, 17, 121, 79, 69, 89, 37, 119, 119, 37, 38, 40, 28, 75, 62, 26, 67, 19, 42, 259, 138, 40, 75, 46, 34, 61, 39, 30, 109, 106, 45, 44, 23, 9, 18, 92, 45, 2, 21, 18, 256, 6, 33, 254, 103, 220, 104, 202, 30, 146, 119, 41, 63, 109, 47, 41, 26, 85, 191, 10, 257, 110, 21, 104, 37, 33, 40, 31, 35, 52, 89, 159, 45, 45, 108, 42, 257, 102, 78, 109, 41, 162, 18, 230, 24, 146, 96, 14, 28, 44, 244, 241, 9, 137, 171, 215, 38, 51, 173, 21, 12, 132, 78, 80, 128, 38, 71, 204, 70, 74, 34, 110, 63, 266, 210, 44, 22, 76, 249, 258, 80, 24, 30, 90, 147, 150, 72, 69, 18, 67, 36, 165, 31, 14, 38, 87, 36, 176, 90, 171, 86, 9, 24, 12, 21, 12, 97, 265, 100, 95, 21, 134, 34, 58, 14, 57, 27, 13, 159, 160, 23, 64, 83, 17, 50, 23, 23, 119, 10, 5, 37, 19, 86, 55, 39, 80, 28, 161, 158, 39, 37, 70, 10, 213, 252, 141, 26, 16, 27, 13, 66, 65, 86, 22, 7, 49, 29, 113, 7, 83, 9, 53, 25, 82, 111, 136, 192, 97, 40, 176, 266, 19, 13, 198, 247, 35, 67, 45, 55, 105, 253, 46, 112, 32, 35, 257, 62, 15, 114, 127, 45, 120, 68, 97, 127, 31, 71, 55, 111, 119, 29, 128, 7, 20, 116, 129, 39, 118, 76, 33, 67, 33, 36, 99, 66, 30, 122, 68, 91, 54, 44, 116, 56, 126, 59, 52, 56, 26, 48, 92, 53, 12, 36, 25, 48, 45, 65, 125, 104, 39, 97, 19, 47, 87, 76, 11, 22, 106, 83, 53, 24, 65, 57, 15, 38, 8, 90, 127, 21, 70, 40, 10, 25, 88, 73, 3, 10, 129, 99, 46, 41, 8, 67, 112, 34, 83, 111, 78, 76, 127, 100, 62, 118, 22, 27, 112, 42, 93, 21, 89, 20, 30, 23, 85, 115, 45, 73, 68, 128, 64, 129, 68, 40, 84, 71, 122, 61, 42, 70, 123, 67, 71, 88, 31, 126, 119, 120, 5, 59, 75, 51, 34, 116, 115, 100, 71, 51, 122, 23, 65, 130, 91, 62, 111, 29, 21, 47, 56, 110, 65, 108, 70, 39, 129, 66, 7, 75, 30, 34, 41, 123, 51, 121, 25, 40, 128, 52, 39, 32, 65, 25, 16, 100, 27, 52, 105, 123, 91, 124, 116, 122, 93, 35, 91, 85, 96, 17, 93, 47, 28, 45, 109, 111, 79, 101, 45, 81, 86, 49, 30, 60, 59, 70, 54, 42, 76, 100, 62, 64, 42, 126, 44, 23, 119, 68, 89, 37, 48, 91, 33, 85, 39, 48, 60, 126, 86, 32, 24, 62, 80, 120, 65, 45, 53, 49, 27, 131, 25, 17, 124, 33, 9, 87, 118, 29, 94, 32, 110, 102, 127, 127, 129, 14, 76, 59, 113, 36, 126, 19, 40, 48, 43, 40, 20, 125, 125, 27, 77, 125, 87, 96, 80, 32, 15, 33, 31, 101, 90, 114, 18, 25, 128, 18, 121, 29, 43, 38, 112, 26, 94, 61, 89, 66, 18, 128, 46, 94, 47, 9, 38, 41, 107, 44, 47, 32, 46, 110, 112, 78, 61, 31, 57, 57, 42, 85, 35, 23, 71, 75, 70, 123, 130, 111, 82, 84, 70, 121, 92, 114, 14, 131, 84, 129, 66, 116, 97, 71, 31, 126, 73, 36, 52, 10, 124, 80, 65, 86, 98, 111, 22, 97, 33, 41, 27, 62, 67, 105, 84, 95, 76, 115, 56, 77, 50, 71, 67, 29, 25, 83, 70, 21, 40, 124, 105, 127, 57, 121, 28, 47, 70, 32, 45, 33, 126, 58, 33, 129, 128, 43, 89, 16, 56, 124, 124, 88, 72, 75, 80, 111, 33, 37, 31, 66, 53, 86, 23, 17, 10, 104, 127, 127, 108, 65, 64, 55, 97, 29, 29, 53, 110, 95, 97, 131, 111, 77, 39, 65, 59, 60, 122, 126, 125, 128, 121, 91, 35, 132, 39, 125, 92, 60, 105, 119, 50, 33, 100, 124, 67, 127, 122, 129, 64, 59, 5, 99, 71, 124, 22, 30, 120, 23, 129, 132, 119, 123, 120, 34, 111, 123, 51, 42, 23, 116, 13, 26, 53, 27, 98, 106, 19, 31, 123, 116, 96, 42, 75, 41, 53, 76, 29, 94, 89, 108, 69, 117, 36, 64, 9, 106, 95, 53, 81, 98, 92, 45, 100, 30, 127, 70, 68, 80, 96, 16, 89, 72, 132, 30, 124, 88, 109, 92, 117, 130, 73, 94, 117, 65, 43, 80, 126, 118, 82, 104, 9, 110, 65, 35, 77, 95, 88, 131, 126, 101, 85, 53, 113, 16, 74, 88, 126, 120, 16, 111, 43, 116, 114, 109, 100, 99, 72, 97, 20, 52, 102, 117, 22, 50, 74, 121, 128, 126, 89, 118, 119, 109, 100, 31, 36, 20, 118, 119, 128, 113, 94, 125, 105, 64, 64, 129, 131, 126, 105, 47, 104, 104, 61, 11, 126, 123, 81, 62, 92, 61, 81, 131, 125, 92, 39, 94, 43, 52, 123, 45, 124, 18, 121, 124, 79, 81, 44, 120, 60, 43, 59, 36, 95, 7, 36, 20, 101, 81, 69, 114, 87, 105, 103, 126, 105, 65, 125, 51, 40, 131, 22, 111, 75, 32, 53, 41, 17, 59, 92, 17, 32, 38, 66, 75, 127, 77, 38, 119, 42, 126, 65, 111, 121, 19, 41, 105, 106, 45, 106, 44, 77, 127, 62, 26, 85, 83, 50, 45, 63, 110, 121, 115, 107, 32, 70, 74, 118, 18, 18, 60, 55, 85, 67, 54, 129, 115, 31, 131, 122, 126, 55, 76, 76, 55, 23, 11, 72, 101, 86, 112, 58, 125, 129, 124, 56, 125, 94, 55, 102, 37, 125, 21, 80, 33, 68, 120, 119, 109, 14, 33, 74, 88, 99, 113, 61, 118, 126, 23, 128, 91, 69, 81, 37, 115, 70, 120, 72, 73, 115, 102, 71, 123, 53, 132, 46, 25, 31, 106, 82, 124, 92, 45, 69, 110, 21, 130, 72, 50, 19, 127, 82, 58, 111, 70, 117, 55, 65, 46, 47, 127, 46, 80, 99, 134, 33, 40, 17, 21, 16, 49, 96, 24, 33, 101, 56, 38, 64, 124, 86, 104, 65, 125, 40, 56, 117, 109, 16, 28, 70, 26, 30, 69, 47, 131, 67, 27, 66, 31, 29, 123, 55, 47, 38, 15, 34, 73, 60, 43, 121, 128, 110, 114, 79, 33, 69, 111, 18, 62, 89, 13, 56, 96, 49, 29, 11, 108, 90, 89, 91, 35, 52, 113, 56, 47, 85, 25, 75, 32, 18, 24, 121, 74, 54, 89, 18, 79, 82, 83, 55, 128, 64, 17, 29, 107, 118, 66, 117, 61, 75, 52, 88, 60, 52, 93, 99, 111, 131, 85, 124, 106, 77, 37, 44, 78, 51, 114, 125, 24, 111, 77, 83, 30, 20, 122, 113, 37, 73, 44, 123, 23, 41, 50, 61, 101, 125, 52, 61, 34, 122, 66, 53, 104, 54, 60, 56, 41, 72, 90, 20, 16, 70, 9, 81, 39, 16, 130, 125, 52, 15, 16, 45, 84, 53, 117, 117, 69, 76, 123, 131, 103, 106, 124, 78, 54, 86, 66, 125, 72, 46, 64, 83, 121, 17, 67, 97, 130, 77, 24, 122, 128, 80, 61, 94, 18, 101, 37, 128, 117, 117, 115, 69, 50, 33, 39, 127, 105, 43, 74, 112, 125, 98, 81, 104, 107, 67, 34, 126, 57, 32, 111, 37, 91, 114, 15, 95, 76, 79, 94, 131, 102, 108, 123, 101, 92, 127, 109, 44, 127, 73, 50, 128, 77, 110, 46, 126, 118, 40, 122, 103, 59, 42, 36, 103, 73, 74, 92, 66, 123, 83, 16, 40, 84, 45, 107, 11, 97, 126, 103, 91, 72, 37, 128, 89, 115, 132, 75, 76, 30, 57, 88, 40, 22, 69, 88, 91, 116, 116, 63, 32, 129, 35, 44, 92, 44, 89, 48, 50, 26, 96, 26, 55, 117, 118, 95, 28, 26, 66, 53, 120, 59, 60, 78, 125, 109, 130, 124, 53, 121, 100, 18, 69, 102, 29, 94, 38, 125, 130, 48, 18, 23, 78, 59, 47, 36, 122, 56, 59, 98, 61, 59, 98, 124, 44, 45, 20, 51, 42, 85, 64, 24, 70, 73, 71, 33, 50, 46, 101, 115, 75, 113, 107, 123, 95, 55, 57, 133, 99, 23, 33, 91, 126, 78, 114, 46, 102, 97, 128, 40, 45, 40, 69, 93, 116, 87, 9, 123, 113, 106, 123, 109, 101, 128, 102, 125, 40, 55, 125, 83, 121, 39, 20, 62, 120, 110, 80, 58, 49, 76, 24, 50, 49, 125, 48, 123, 47, 127, 65, 32, 77, 37, 21, 79, 73, 130, 110, 60, 53, 82, 83, 131, 75, 74, 27, 82, 61, 56, 29, 85, 124, 37, 25, 126, 129, 122, 127, 130, 29, 96, 122, 53, 91, 27, 91, 64, 108, 49, 89, 19, 60, 119, 27, 84, 72, 61, 33, 66, 74, 125, 92, 27, 59, 118, 25, 49, 37, 38, 114, 32, 46, 79, 76, 105, 75, 67, 126, 14, 21, 111, 123, 32, 110, 47, 108, 133, 66, 87, 107, 46, 35, 125, 126, 121, 100, 45, 127, 113, 38, 82, 39, 126, 107, 115, 70, 26, 80, 104, 25, 35, 66, 84, 31, 38, 39, 122, 99, 20, 43, 126, 129, 128, 95, 31, 70, 128, 118, 115, 24, 45, 125, 28, 42, 44, 126, 128, 81, 117, 51, 109, 119, 122, 79, 35, 24, 114, 90, 74, 73, 39, 78, 49, 126, 10, 57, 99, 72, 19, 32, 21, 118, 78, 17, 114, 99, 111, 24, 26, 41, 31, 32, 57, 13, 20, 98, 59, 20, 122, 66, 29, 92, 30, 45, 23, 119, 17, 39, 56, 84, 113, 74, 26, 97, 71, 25, 63, 105, 39, 34, 103, 61, 32, 116, 116, 108, 46, 122, 121, 23, 34, 114, 99, 103, 106, 78, 22, 100, 45, 25, 97, 98, 48, 75, 125, 86, 130, 53, 72, 61, 74, 25, 91, 64, 63, 89, 32, 17, 49, 16, 125, 31, 25, 75, 64, 54, 124, 17, 29, 52, 81, 48, 47, 45, 85, 126, 60, 50, 107, 60, 11, 44, 84, 123, 128, 89, 106, 125, 29, 84, 125, 26, 113, 85, 127, 53, 71, 112, 49, 54, 82, 27, 85, 116, 30, 35, 20, 127, 93, 17, 56, 49, 67, 123, 127, 86, 89, 108, 97, 16, 12, 55, 124, 105, 107, 55, 86, 95, 85, 24, 74, 65, 14, 113, 133, 99, 55, 78, 120, 19, 46, 94, 21, 70, 96, 129, 125, 67, 24, 121, 41, 83, 71, 71, 87, 45, 112, 110, 88, 124, 109, 30, 119, 37, 81, 109, 94, 111, 71, 90, 54, 89, 125, 103, 95, 109, 78, 90, 107, 36, 30, 29, 112, 42, 77, 97, 116, 122, 127, 131, 79, 121, 64, 32, 77, 30, 125, 124, 63, 119, 134, 65, 88, 33, 90, 108, 124, 96, 55, 125, 56, 55, 92, 25, 74, 72, 38, 59, 64, 124, 115, 131, 108, 127, 82, 76, 89, 37, 11, 20, 46, 105, 42, 22, 130, 40, 46, 21, 41, 117, 123, 66, 118, 122, 121, 124, 21, 42, 128, 112, 31, 124, 88, 112, 126, 70, 129, 88, 69, 96, 18, 33, 44, 81, 23, 54, 23, 44, 113, 23, 56, 83, 25, 116, 72, 120, 50, 72, 65, 44, 30, 59, 84, 59, 124, 107, 120, 50, 45, 70, 123, 120, 47, 76, 71, 28, 52, 28, 80, 34, 16, 59, 49, 123, 115, 133, 122, 87, 135, 83, 66, 50, 77, 39, 40, 112, 65, 59, 124, 62, 63, 98, 107, 53, 44, 89, 104, 41, 42, 125, 48, 62, 133, 125, 40, 125, 128, 28, 31, 40, 40, 130, 38, 83, 124, 21, 38, 72, 41, 63, 130, 117, 124, 51, 76, 122, 32, 59, 44, 64, 65, 104, 54, 118, 123, 74, 55, 91, 93, 123, 104, 76, 125, 107, 116, 47, 128, 92, 70, 28, 88, 126, 47, 65, 124, 50, 59, 124, 47, 71, 121, 119, 25, 104, 25, 40, 125, 129, 29, 124, 77, 38, 41, 135, 87, 100, 125, 26, 122, 108, 129, 99, 115, 128, 88, 126, 60, 84, 101, 84, 97, 118, 77, 109, 87, 127, 106, 54, 15, 127, 86, 51, 107, 129, 104, 124, 89, 84, 26, 128, 61, 107, 50, 93, 70, 130, 38, 23, 125, 96, 125, 130, 114, 23, 21, 58, 89, 87, 23, 128, 125, 76, 123, 95, 113, 120, 124, 78, 52, 83, 125, 54, 44, 127, 57, 58, 72, 121, 64, 95, 69, 65, 110, 125, 113, 47, 128, 77, 19, 18, 85, 105, 72, 125, 34, 47, 125, 50, 74, 32, 47, 85, 129, 78, 80, 72, 53, 79, 110, 87, 65, 86, 132, 53, 101, 43, 94, 76, 62, 101, 113, 120, 21, 26, 31, 123, 54, 40, 64, 125, 132, 99, 50, 67, 90, 28, 109, 51, 67, 27, 24, 126, 95, 78, 80, 22, 11, 106, 43, 6, 124, 37, 62, 39, 73, 23, 49, 100, 38, 103, 63, 123, 37, 115, 89, 88, 116, 89, 123, 52, 65, 114, 59, 67, 125, 14, 90, 129, 72, 76, 121, 22, 114, 128, 78, 69, 18, 75, 81, 36, 120, 59, 129, 79, 79, 109, 129, 85, 97, 99, 61, 38, 41, 32, 71, 106, 127, 48, 123, 16, 91, 47, 11, 104, 26, 75, 76, 42, 94, 79, 121, 128, 28, 31, 84, 37, 112, 129, 110, 103, 60, 109, 90, 101, 83, 101, 75, 90, 117, 27, 70, 9, 128, 127, 44, 142, 124, 21, 32, 37, 17, 101, 65, 42, 56, 95, 28, 127, 23, 61, 129, 46, 97, 14, 48, 60, 68, 79, 123, 8, 30, 20, 50, 72, 18, 31, 30, 134, 45, 124, 86, 106, 91, 90, 127, 130, 33, 127, 129, 16, 82, 129, 106, 46, 49, 64, 41, 115, 18, 107, 98, 56, 103, 21, 48, 60, 57, 115, 118, 104, 24, 103, 109, 22, 74, 86, 97, 133, 79, 122, 37, 64, 126, 40, 57, 95, 27, 57, 103, 92, 125, 91, 75, 43, 14, 94, 15, 123, 26, 25, 70, 64, 116, 62, 111, 106, 18, 82, 81, 130, 37, 69, 123, 115, 85, 48, 24, 121, 48, 34, 68, 53, 37, 88, 113, 58, 55, 110, 44, 113, 59, 74, 51, 115, 72, 101, 9, 127, 121, 27, 66, 107, 126, 78, 47, 50, 54, 31, 128, 55, 15, 62, 117, 96, 12, 129, 38, 104, 27, 109, 132, 94, 124, 20, 114, 80, 81, 87, 91, 103, 125, 107, 86, 115, 84, 116, 59, 57, 122, 130, 17, 126, 90, 74, 94, 129, 128, 30, 83, 27, 124, 108, 54, 127, 111, 29, 101, 10, 45, 64, 97, 84, 121, 113, 48, 99, 24, 68, 80, 25, 119, 67, 119, 46, 90, 106, 102, 48, 92, 125, 126, 88, 101, 51, 93, 73, 107, 25, 13, 31, 54, 124, 110, 94, 61, 54, 117, 64, 129, 50, 120, 130, 40, 85, 30, 130, 43, 61, 79, 10, 9, 35, 80, 40, 62, 26, 124, 22, 81, 34, 32, 106, 105, 78, 59, 51, 86, 73, 56, 88, 79, 20, 119, 70, 105, 90, 48, 89, 73, 49, 50, 126, 119, 66, 98, 83, 42, 115, 23, 103, 127, 114, 49, 75, 107, 56, 127, 81, 118, 113, 45, 128, 39, 62, 99, 121, 119, 15, 55, 35, 54, 123, 96, 22, 91, 63, 112, 107, 10, 91, 37, 61, 49, 9, 84, 119, 123, 73, 133, 68, 77, 82, 127, 14, 115, 121, 68, 48, 116, 70, 99, 57, 28, 30, 64, 9, 55, 71, 57, 72, 99, 70, 77, 113, 103, 125, 22, 88, 27, 89, 72, 10, 43, 37, 78, 85, 59, 97, 129, 126, 36, 13, 65, 55, 60, 129, 124, 63, 125, 33, 92, 70, 25, 104, 33, 104, 15, 15, 58, 116, 76, 119, 127, 88, 57, 116, 63, 57, 66, 69, 129, 110, 43, 78, 50, 24, 74, 102, 115, 15, 125, 59, 115, 98, 116, 122, 129, 23, 121, 121, 42, 26, 132, 53, 25, 124, 129, 89, 124, 126, 83, 19, 49, 64, 99, 40, 47, 42, 123, 49, 79, 97, 34, 8, 72, 74, 127, 124, 120, 122, 127, 56, 125, 77, 127, 28, 37, 124, 65, 58, 110, 30, 129, 59, 112, 125, 84, 130, 129, 130, 128, 126, 40, 107, 35, 119, 123, 124, 40, 46, 38, 70, 77, 8, 109, 19, 117, 27, 21, 32, 121, 114, 46, 37, 78, 57, 109, 129, 36, 105, 23, 59, 39, 61, 46, 104, 130, 58, 117, 35, 104, 103, 69, 116, 109, 74, 128, 124, 128, 16, 72, 120, 120, 129, 95, 78, 104, 64, 37, 124, 115, 41, 122, 33, 33, 81, 102, 57, 36, 30, 14, 107, 116, 66, 105, 53, 26, 61, 117, 19, 48, 128, 12, 119, 70, 101, 20, 59, 45, 49, 23, 62, 45, 95, 38, 129, 128, 73, 83, 100, 81, 96, 76, 20, 20, 15, 20, 76, 32, 22, 109, 41, 107, 70, 23, 81, 73, 77, 59, 15, 57, 49, 26, 119, 32, 105, 102, 33, 122, 67, 123, 116, 116, 122, 94, 40, 39, 115, 8, 63, 70, 121, 73, 113, 23, 120, 76, 101, 31, 116, 76, 44, 90, 132, 13, 48, 38, 112, 98, 122, 121, 55, 74, 125, 130, 88, 38, 71, 124, 43, 55, 41, 22, 44, 80, 66, 126, 35, 127, 129, 67, 33, 128, 36, 126, 119, 54, 101, 125, 118, 84, 29, 115, 111, 98, 58, 70, 23, 111, 118, 122, 37, 42, 129, 125, 84, 91, 89, 119, 72, 86, 111, 39, 103, 105, 123, 104, 124, 92, 57, 30, 85, 126, 56, 32, 27, 34, 42, 123, 92, 57, 34, 125, 62, 125, 48, 116, 94, 128, 62, 123, 119, 123, 108, 129, 101, 62, 29, 62, 86, 62, 129, 29, 123, 94, 126, 103, 68, 133, 43, 44, 101, 101, 16, 29, 54, 66, 98, 55, 56, 129, 99, 41, 40, 124, 129, 88, 122, 43, 77, 21, 126, 57, 58, 31, 24, 113, 31, 38, 126, 98, 110, 113, 80, 73, 27, 49, 95, 115, 54, 111, 89, 90, 65, 47, 133, 48, 122, 128, 36, 87, 67, 103, 108, 51, 105, 83, 124, 30, 117, 34, 122, 104, 24, 92, 111, 114, 57, 89, 129, 30, 35, 29, 18, 36, 120, 54, 93, 118, 57, 16, 39, 28, 29, 47, 105, 11, 108, 109, 106, 89, 101, 93, 9, 90, 119, 88, 44, 50, 75, 50, 38, 52, 54, 34, 70, 44, 22, 37, 20, 18, 110, 40, 52, 93, 26, 22, 127, 115, 110, 102, 121, 62, 78, 24, 65, 41, 39, 118, 51, 121, 89, 37, 109, 127, 83, 111, 101, 65, 75, 66, 84, 101, 115, 58, 27, 90, 108, 120, 38, 74, 105, 77, 121, 128, 114, 126, 121, 125, 121, 36, 125, 89, 69, 125, 45, 38, 125, 63, 64, 90, 132, 12, 22, 91, 28, 44, 42, 112, 120, 41, 24, 117, 60, 99, 112, 120, 66, 103, 55, 125, 123, 110, 76, 61, 20, 129, 54, 122, 94, 100, 88, 45, 70, 52, 75, 45, 109, 38, 78, 125, 59, 41, 120, 46, 118, 131, 106, 91, 68, 80, 61, 29, 114, 101, 86, 62, 64, 40, 126, 21, 62, 65, 95, 53, 60, 118, 87, 60, 84, 81, 79, 117, 120, 116, 78, 57, 103, 89, 70, 28, 94, 103, 108, 121, 89, 118, 62, 24, 81, 74, 64, 98, 129, 114, 79, 106, 36, 71, 109, 79, 21, 54, 132, 84, 125, 81, 93, 130, 84, 27, 27, 101, 71, 33, 69, 7, 110, 54, 95, 78, 120, 118, 33, 85, 27, 104, 78, 108, 28, 76, 34, 101, 128, 93, 100, 25, 52, 84, 87, 107, 42, 21, 128, 104, 95, 64, 80, 75, 17, 26, 99, 125, 80, 128, 40, 54, 118, 36, 106, 121, 35, 82, 126, 51, 127, 75, 49, 52, 123, 81, 28, 34, 113, 55, 127, 124, 55, 103, 83, 91, 103, 34, 125, 49, 132, 132, 128, 70, 103, 25, 85, 78, 123, 36, 72, 61, 81, 127, 50, 94, 42, 97, 99, 127, 88, 38, 71, 97, 55, 44, 69, 125, 70, 37, 72, 24, 120, 113, 37, 97, 121, 13, 122, 126, 101, 77, 125, 127, 127, 129, 124, 82, 128, 30, 69, 123, 108, 26, 80, 11, 107, 98, 75, 116, 118, 128, 59, 122, 100, 30, 44, 128, 72, 108, 110, 44, 118, 128, 129, 101, 89, 36, 72, 126, 132, 91, 32, 56, 33, 55, 113, 62, 55, 70, 112, 60, 29, 49, 103, 86, 72, 64, 124, 92, 46, 117, 92, 71, 94, 29, 56, 25, 103, 129, 93, 62, 34, 112, 32, 113, 128, 68, 74, 26, 79, 127, 86, 53, 38, 37, 105, 108, 30, 129, 117, 85, 82, 121, 68, 81, 103, 121, 59, 22, 89, 75, 131, 114, 40, 109, 47, 114, 104, 121, 52, 84, 72, 125, 117, 68, 119, 46, 61, 50, 38, 87, 79, 132, 79, 62, 63, 67, 73, 30, 41, 85, 46, 29, 85, 84, 28, 27, 79, 50, 90, 132, 57, 114, 118, 102, 26, 100, 42, 127, 127, 47, 120, 108, 112, 36, 131, 36, 29, 123, 67, 75, 92, 109, 77, 60, 102, 119, 21, 107, 62, 83, 131, 81, 89, 115, 107, 123, 104, 104, 92, 91, 71, 36, 124, 123, 94, 23, 119, 122, 56, 76, 44, 94, 44, 23, 124, 93, 122, 62, 32, 127, 121, 56, 88, 123, 87, 68, 112, 112, 49, 57, 103, 55, 86, 131, 40, 57, 131, 50, 82, 127, 129, 34, 58, 131, 34, 58, 77, 42, 115, 124, 69, 114, 39, 116, 123, 57, 69, 119, 125, 54, 27, 74, 100, 90, 81, 29, 48, 80, 92, 23, 67, 25, 49, 46, 50, 44, 25, 46, 80, 77, 87, 56, 118, 27, 53, 20, 116, 104, 88, 128, 44, 113, 122, 95, 82, 86, 68, 52, 118, 115, 54, 66, 103, 90, 16, 121, 129, 56, 42, 115, 49, 109, 132, 88, 105, 40, 101, 38, 105, 41, 113, 35, 25, 92, 124, 99, 126, 99, 45, 70, 35, 61, 81, 73, 87, 115, 41, 127, 130, 78, 44, 49, 47, 81, 114, 111, 111, 102, 27, 87, 134, 130, 30, 98, 131, 72, 84, 70, 99, 126, 53, 118, 107, 63, 19, 126, 28, 112, 21, 112, 131, 134, 59, 128, 62, 104, 39, 114, 115, 121, 98, 62, 61, 100, 132, 82, 83, 119, 77, 41, 121, 56, 62, 130, 46, 64, 59, 110, 55, 125, 50, 105, 110, 46, 41, 125, 44, 108, 76, 86, 80, 54, 52, 126, 31, 77, 71, 24, 108, 81, 92, 132, 38, 16, 36, 88, 64, 32, 54, 116, 83, 55, 90, 117, 73, 71, 63, 96, 95, 125, 106, 126, 104, 38, 17, 47, 95, 107, 76, 127, 67, 107, 67, 43, 84, 123, 20, 19, 94, 90, 46, 127, 106, 40, 114, 46, 117, 111, 93, 103, 55, 87, 57, 77, 106, 117, 75, 32, 125, 103, 84, 70, 73, 113, 100, 117, 26, 47, 132, 54, 51, 80, 99, 48, 66, 69, 129, 110, 86, 21, 62, 30, 111, 77, 57, 47, 42, 94, 85, 105, 123, 136, 133, 111, 119, 49, 82, 99, 126, 47, 50, 92, 124, 127, 92, 81, 131, 71, 26, 128, 129, 81, 38, 22, 126, 25, 128, 124, 67, 81, 97, 64, 120, 104, 100, 87, 84, 131, 81, 32, 48, 60, 18, 128, 22, 61, 131, 15, 123, 127, 85, 94, 118, 88, 92, 97, 76, 113, 69, 130, 71, 30, 125, 102, 125, 97, 118, 40, 86, 114, 17, 56, 47, 119, 87, 120, 99, 72, 72, 96, 126, 107, 19, 129, 131, 120, 56, 55, 126, 69, 32, 115, 16, 70, 116, 119, 79, 54, 91, 94, 72, 92, 119, 56, 84, 36, 82, 127, 79, 45, 91, 42, 24, 94, 127, 54, 122, 37, 57, 26, 118, 62, 59, 105, 68, 122, 25, 79, 70, 14, 26, 74, 89, 119, 98, 128, 126, 87, 122, 14, 128, 93, 131, 76, 115, 130, 132, 56, 111, 95, 63, 81, 123, 64, 56, 26, 16, 123, 89, 27, 130, 125, 62, 104, 101, 126, 88, 83, 128, 45, 129, 125, 53, 95, 100, 110, 24, 123, 82, 85, 105, 128, 59, 78, 43, 90, 127, 81, 22, 22, 107, 16, 48, 124, 61, 101, 77, 69, 122, 102, 53, 128, 117, 57, 49, 30, 125, 116, 92, 37, 104, 32, 38, 126, 33, 127, 115, 101, 106, 112, 106, 126, 36, 47, 80, 0, 79, 109, 120, 113, 103, 132, 132, 125, 30, 91, 29, 49, 84, 73, 107, 54, 129, 95, 64, 64, 100, 79, 51, 80, 115, 62, 90, 71, 95, 93, 29, 125, 59, 23, 64, 130, 113, 62, 81, 68, 35, 123, 27, 126, 90, 82, 59, 71, 27, 86, 96, 51, 99, 71, 21, 35, 119, 55, 123, 20, 83, 17, 60, 75, 113, 64, 100, 69, 37, 15, 37, 128, 84, 69, 58, 22, 75, 53, 40, 53, 127, 57, 114, 49, 69, 105, 93, 96, 123, 46, 89, 105, 84, 46, 44, 44, 41, 33, 48, 82, 43, 126, 108, 56, 43, 116, 70, 87, 58, 119, 127, 38, 104, 110, 94, 95, 122, 85, 63, 24, 113, 121, 62, 131, 74, 126, 96, 28, 102, 59, 103, 112, 100, 97, 128, 41, 56, 45, 90, 125, 125, 88, 126, 28, 115, 50, 59, 58, 116, 123, 108, 101, 108, 128, 38, 127, 73, 92, 36, 87, 50, 52, 87, 51, 63, 123, 47, 69, 47, 36, 120, 58, 54, 131, 62, 20, 44, 98, 58, 81, 49, 126, 123, 126, 131, 121, 120, 31, 98, 32, 68, 100, 83, 40, 23, 131, 123, 127, 84, 101, 111, 21, 43, 19, 59, 90, 127, 92, 71, 125, 67, 124, 119, 41, 54, 122, 102, 127, 61, 35, 34, 120, 101, 97, 87, 69, 107, 80, 47, 107, 88, 70, 94, 125, 103, 115, 65, 123, 119, 124, 40, 72, 88, 95, 94, 128, 69, 121, 125, 85, 122, 119, 28, 44, 105, 126, 101, 25, 112, 88, 111, 116, 131, 120, 90, 72, 86, 54, 62, 34, 122, 107, 116, 31, 27, 63, 85, 90, 123, 29, 40, 89, 29, 31, 47, 73, 73, 115, 74, 119, 97, 126, 131, 51, 22, 38, 70, 120, 88, 111, 18, 126, 131, 127, 103, 102, 105, 111, 124, 51, 49, 53, 39, 25, 63, 77, 27, 101, 100, 111, 74, 134, 71, 131, 78, 91, 16, 106, 27, 104, 56, 25, 39, 74, 58, 68, 60, 40, 51, 127, 92, 87, 58, 104, 51, 49, 56, 60, 66, 38, 88, 57, 49, 90, 96, 30, 52, 26, 82, 33, 121, 125, 106, 29, 111, 60, 100, 125, 52, 80, 122, 108, 120, 49, 67, 73, 87, 78, 74, 64, 54, 129, 35, 96, 50, 70, 51, 24, 118, 51, 130, 88, 38, 128, 110, 116, 87, 67, 32, 81, 101, 94, 115, 60, 105, 80, 101, 112, 61, 121, 85, 114, 116, 111, 118, 81, 122, 40, 37, 72, 130, 36, 110, 72, 80, 107, 127, 112, 32, 124, 108, 64, 132, 21, 106, 24, 49, 23, 124, 69, 61, 132, 122, 115, 22, 40, 126, 128, 128, 116, 104, 109, 104, 122, 45, 125, 71, 122, 101, 69, 61, 43, 43, 55, 106, 130, 88, 125, 112, 130, 109, 116, 87, 86, 68, 75, 21, 112, 61, 46, 26, 25, 102, 53, 83, 87, 120, 88, 106, 100, 110, 109, 127, 76, 36, 105, 97, 12, 57, 95, 54, 68, 108, 49, 120, 124, 127, 91, 47, 50, 37, 71, 107, 34, 39, 97, 89, 54, 118, 115, 91, 79, 106, 70, 49, 129, 127, 51, 44, 125, 99, 70, 62, 58, 73, 124, 33, 33, 101, 109, 27, 102, 47, 118, 120, 128, 120, 119, 75, 118, 57, 88, 77, 95, 67, 117, 122, 87, 118, 124, 123, 106, 126, 29, 43, 54, 122, 114, 18, 71, 34, 61, 97, 79, 38, 42, 63, 62, 82, 77, 121, 67, 95, 118, 57, 47, 68, 79, 114, 131, 94, 78, 35, 129, 119, 72, 98, 61, 75, 68, 98, 80, 103, 124, 125, 127, 128, 127, 121, 86, 126, 131, 124, 68, 45, 31, 32, 125, 78, 125, 62, 56, 77, 43, 104, 92, 120, 25, 17, 25, 123, 37, 29, 62, 66, 119, 97, 112, 109, 80, 58, 24, 21, 124, 54, 39, 88, 125, 16, 90, 60, 70, 81, 111, 24, 42, 108, 131, 127, 54, 38, 68, 123, 116, 24, 82, 66, 103, 53, 29, 123, 102, 98, 124, 110, 43, 116, 126, 89, 118, 126, 69, 39, 126, 118, 27, 28, 78, 113, 133, 129, 46, 82, 79, 17, 112, 31, 122, 62, 50, 74, 119, 89, 114, 97, 23, 110, 111, 79, 125, 122, 132, 120, 130, 58, 121, 116, 126, 112, 58, 43, 65, 100, 84, 112, 25, 109, 81, 118, 94, 78, 95, 44, 122, 28, 51, 40, 125, 76, 112, 67, 36, 23, 31, 92, 82, 72, 27, 90, 33, 108, 114, 128, 66, 101, 62, 89, 112, 103, 70, 42, 111, 120, 126, 19, 128, 37, 88, 99, 54, 69, 28, 105, 92, 110, 53, 125, 55, 67, 131, 70, 47, 33, 129, 119, 47, 59, 109, 135, 57, 130, 54, 50, 25, 56, 70, 90, 63, 94, 92, 54, 34, 41, 130, 60, 94, 52, 97, 24, 35, 45, 10, 130, 120, 42, 64, 122, 78, 126, 84, 103, 114, 37, 31, 76, 66, 112, 93, 66, 46, 59, 47, 105, 113, 120, 122, 83, 126, 115, 117, 45, 38, 60, 57, 19, 115, 65, 41, 67, 99, 21, 125, 72, 116, 116, 57, 125, 114, 60, 40, 47, 28, 123, 123, 131, 131, 56, 126, 130, 49, 127, 79, 128, 93, 37, 73, 66, 100, 35, 94, 105, 95, 41, 73, 104, 125, 52, 100, 110, 96, 73, 54, 131, 38, 75, 34, 137, 98, 51, 85, 50, 51, 41, 127, 36, 30, 52, 105, 114, 39, 92, 70, 61, 27, 31, 20, 125, 121, 54, 108, 48, 59, 27, 59, 99, 110, 125, 81, 81, 75, 105, 31, 31, 41, 38, 80, 36, 73, 127, 98, 114, 126, 65, 72, 123, 65, 109, 124, 125, 34, 17, 113, 127, 123, 122, 110, 103, 79, 128, 22, 86, 34, 20, 49, 52, 124, 106, 129, 131, 31, 127, 42, 27, 24, 38, 49, 27, 14, 65, 78, 48, 48, 72, 93, 86, 107, 70, 107, 97, 21, 76, 95, 70, 104, 94, 130, 132, 49, 121, 67, 114, 103, 71, 67, 25, 45, 126, 111, 29, 132, 120, 55, 111, 30, 122, 124, 91, 76, 124, 22, 17, 64, 48, 120, 113, 28, 106, 89, 128, 115, 66, 86, 40, 128, 130, 119, 85, 125, 118, 123, 71, 93, 111, 41, 19, 85, 117, 109, 63, 30, 63, 94, 79, 132, 92, 127, 128, 27, 126, 130, 58, 30, 31, 104, 67, 96, 49, 121, 103, 50, 128, 129, 62, 85, 128, 97, 112, 131, 57, 91, 45, 20, 31, 27, 80, 127, 27, 109, 23, 63, 118, 72, 56, 119, 43, 37, 37, 77, 45, 118, 129, 92, 46, 61, 40, 77, 75, 108, 107, 68, 96, 83, 108, 125, 51, 56, 51, 123, 130, 125, 129, 115, 123, 37, 123, 62, 32, 61, 23, 75, 104, 121, 36, 71, 95, 71, 63, 90, 122, 63, 122, 54, 116, 101, 122, 34, 128, 54, 109, 130, 125, 113, 53, 128, 124, 109, 103, 71, 36, 79, 111, 39, 40, 35, 32, 124, 87, 132, 99, 110, 62, 78, 23, 69, 43, 50, 117, 66, 73, 126, 112, 32, 22, 100, 83, 33, 39, 44, 113, 52, 101, 104, 74, 43, 30, 120, 100, 29, 116, 75, 126, 129, 107, 75, 77, 49, 120, 73, 58, 62, 68, 116, 127, 83, 98, 78, 77, 117, 67, 44, 63, 43, 41, 33, 58, 24, 108, 110, 47, 124, 119, 122, 93, 99, 22, 83, 63, 61, 134, 38, 18, 101, 65, 97, 83, 82, 112, 40, 30, 80, 43, 123, 38, 125, 73, 120, 100, 60, 28, 88, 68, 128, 85, 78, 129, 82, 129, 102, 70, 41, 109, 69, 21, 121, 64, 123, 47, 65, 54, 121, 68, 104, 105, 121, 125, 40, 121, 108, 126, 42, 129, 40, 79, 113, 79, 126, 116, 131, 125, 80, 74, 71, 43, 62, 63, 123, 58, 126, 27, 40, 124, 34, 45, 82, 58, 125, 88, 122, 43, 125, 100, 14, 108, 119, 85, 112, 128, 58, 80, 59, 87, 81, 87, 72, 81, 122, 122, 127, 57, 126, 94, 80, 59, 122, 68, 54, 31, 125, 129, 72, 47, 21, 46, 79, 69, 82, 56, 43, 116, 45, 36, 101, 119, 128, 110, 32, 81, 47, 83, 63, 93, 95, 95, 76, 61, 107, 53, 116, 120, 18, 73, 87, 120, 67, 125, 52, 43, 114, 41, 117, 57, 74, 127, 60, 50, 130, 92, 59, 109, 118, 57, 79, 34, 44, 65, 96, 108, 48, 27, 129, 126, 63, 51, 95, 130, 130, 76, 32, 110, 64, 51, 53, 69, 31, 128, 86, 132, 20, 122, 124, 82, 118, 85, 110, 19, 106, 105, 101, 79, 110, 57, 49, 59, 51, 70, 73, 121, 15, 24, 94, 122, 136, 35, 92, 58, 133, 116, 119, 46, 124, 63, 82, 78, 20, 31, 84, 34, 123, 44, 126, 52, 60, 131, 38, 121, 128, 117, 117, 104, 104, 40, 120, 53, 28, 48, 128, 55, 113, 116, 126, 60, 87, 128, 38, 119, 17, 114, 39, 129, 65, 120, 43, 49, 38, 45, 127, 20, 88, 55, 88, 15, 22, 108, 98, 94, 127, 67, 84, 16, 20, 106, 40, 87, 108, 99, 61, 96, 98, 95, 41, 32, 31, 120, 34, 76, 64, 45, 38, 124, 130, 72, 113, 100, 129, 61, 105, 38, 112, 76, 81, 84, 37, 78, 116, 123, 63, 79, 110, 99, 101, 103, 40, 26, 88, 103, 118, 122, 64, 124, 84, 56, 125, 27, 45, 122, 98, 28, 100, 44, 88, 90, 105, 130, 34, 53, 90, 93, 128, 129, 109, 115, 103, 128, 41, 60, 128, 78, 129, 39, 89, 45, 67, 57, 28, 51, 34, 74, 34, 45, 107, 130, 47, 97, 80, 122, 118, 121, 39, 25, 82, 127, 125, 65, 11, 43, 49, 126, 124, 24, 38, 37, 118, 109, 23, 122, 102, 121, 85, 116, 22, 123, 54, 73, 77, 36, 119, 124, 117, 109, 65, 21, 126, 97, 51, 38, 67, 61, 127, 104, 96, 59, 124, 122, 127, 65, 95, 98, 76, 87, 69, 100, 92, 42, 52, 35, 124, 79, 20, 96, 127, 69, 77, 57, 36, 74, 66, 87, 16, 115, 21, 116, 95, 116, 42, 92, 125, 127, 119, 46, 77, 52, 132, 96, 50, 61, 115, 122, 55, 86, 81, 29, 80, 96, 22, 91, 93, 43, 105, 73, 48, 91, 45, 119, 81, 88, 29, 50, 125, 36, 44, 55, 69, 50, 61, 102, 96, 129, 129, 61, 125, 101, 74, 74, 65, 125, 110, 18, 21, 113, 51, 34, 104, 96, 49, 117, 47, 47, 121, 49, 80, 72, 78, 77, 55, 79, 125, 100, 122, 125, 39, 40, 91, 119, 37, 81, 92, 28, 72, 68, 86, 77, 74, 22, 44, 115, 68, 43, 35, 100, 93, 116, 129, 93, 111, 75, 88, 127, 66, 81, 119, 121, 71, 108, 120, 73, 69, 50, 41, 93, 55, 33, 126, 123, 67, 103, 84, 67, 112, 47, 108, 98, 113, 46, 101, 40, 50, 115, 93, 49, 124, 98, 17, 68, 19, 122, 89, 116, 135, 67, 25, 37, 19, 127, 89, 32, 80, 76, 128, 39, 122, 123, 65, 126, 85, 40, 124, 85, 121, 124, 25, 58, 115, 78, 65, 59, 126, 24, 64, 71, 27, 120, 84, 46, 83, 53, 98, 80, 32, 91, 63, 13, 127, 44, 86, 65, 122, 52, 130, 58, 81, 25, 122, 105, 128, 104, 42, 49, 100, 132, 110, 16, 126, 40, 39, 115, 31, 97, 84, 105, 47, 46, 58, 99, 99, 28, 72, 70, 33, 41, 70, 39, 130, 130, 91, 93, 35, 123, 90, 109, 78, 76, 128, 92, 42, 106, 55, 52, 57, 114, 37, 43, 115, 121, 107, 27, 96, 105, 15, 30, 38, 100, 82, 67, 45, 33, 64, 114, 59, 64, 34, 69, 123, 121, 45, 120, 59, 57, 122, 112, 130, 124, 75, 100, 112, 97, 70, 107, 127, 86, 95, 23, 38, 97, 119, 131, 139, 47, 56, 125, 53, 68, 40, 100, 65, 112, 100, 109, 38, 36, 39, 57, 90, 72, 41, 75, 86, 50, 36, 31, 73, 28, 53, 124, 46, 38, 129, 19, 45, 81, 63, 63, 28, 80, 90, 124, 67, 28, 91, 123, 49, 59, 84, 37, 125, 126, 121, 126, 121, 78, 74, 94, 128, 73, 88, 125, 130, 77, 127, 98, 44, 46, 46, 63, 120, 38, 87, 118, 130, 45, 102, 47, 90, 113, 51, 103, 76, 56, 78, 117, 88, 95, 47, 74, 32, 49, 25, 125, 48, 113, 117, 117, 67, 120, 101, 59, 74, 40, 71, 58, 81, 64, 115, 49, 62, 13, 42, 99, 29, 107, 37, 60, 70, 120, 62, 103, 27, 124, 11, 47, 47, 76, 89, 127, 125, 29, 92, 41, 124, 60, 94, 103, 72, 131, 123, 91, 101, 102, 94, 92, 33, 39, 70, 22, 26, 110, 42, 52, 124, 111, 98, 25, 114, 70, 116, 72, 39, 40, 45, 27, 112, 48, 107, 98, 127, 127, 128, 26, 27, 126, 29, 60, 123, 123, 115, 104, 38, 64, 79, 71, 57, 18, 20, 101, 51, 99, 118, 113, 104, 86, 89, 22, 116, 126, 127, 92, 79, 128, 121, 66, 44, 60, 88, 66, 47, 102, 71, 67, 129, 34, 49, 53, 52, 21, 76, 130, 123, 130, 102, 42, 69, 91, 25, 16, 94, 110, 131, 21, 26, 129, 78, 125, 124, 25, 17, 44, 85, 30, 60, 128, 90, 27, 124, 105, 89, 104, 107, 116, 128, 121, 46, 51, 43, 53, 18, 82, 123, 97, 115, 27, 54, 30, 23, 71, 65, 106, 123, 126, 64, 45, 118, 62, 130, 76, 35, 62, 89, 62, 102, 73, 106, 118, 37, 51, 111, 77, 64, 69, 28, 66, 39, 56, 103, 36, 93, 125, 113, 105, 117, 59, 24, 119, 122, 24, 87, 73, 73, 93, 32, 93, 121, 99, 114, 94, 42, 69, 130, 125, 121, 83, 131, 127, 94, 32, 67, 63, 130, 48, 68, 88, 79, 24, 26, 74, 127, 120, 58, 47, 101, 78, 64, 66, 76, 107, 34, 58, 21, 115, 64, 74, 110, 28, 61, 90, 72, 95, 100, 88, 95, 122, 128, 125, 72, 74, 62, 73, 121, 77, 56, 94, 107, 119, 128, 126, 126, 111, 116, 118, 103, 116, 28, 81, 49, 95, 123, 58, 124, 36, 125, 125, 82, 56, 71, 54, 123, 76, 125, 29, 104, 70, 102, 50, 43, 61, 128, 75, 126, 124, 119, 86, 18, 34, 51, 36, 101, 91, 21, 117, 89, 114, 126, 81, 125, 58, 120, 58, 64, 65, 130, 37, 28, 7, 4, 8, 7, 9, 15, 31, 154, 6, 64, 6, 116, 174, 37, 127, 62, 65, 35, 6, 26, 75, 88, 25, 15, 97, 8, 79, 344, 42, 10, 10, 104, 130, 76, 50, 43, 62, 21, 41, 28, 31, 29, 6, 22, 34, 15, 9, 75, 47, 49, 14, 57, 191, 35, 6, 63, 24, 55, 58, 53, 15, 17, 15, 17, 28, 6, 30, 28, 21, 20, 124, 21, 26, 23, 24, 33, 56, 51, 110, 59, 79, 17, 47, 4, 70, 33, 14, 22, 98, 36, 7, 44, 14, 69, 23, 85, 24, 34, 14, 20, 11, 37, 18, 20, 52, 29, 17, 101, 49, 92, 19, 19, 46, 14, 98, 65, 38, 156, 109, 7, 7, 132, 8, 242, 10, 52, 29, 39, 60, 46, 32, 52, 58, 23, 51, 31, 98, 60, 21, 32, 12, 18, 44, 16, 2, 28, 27, 121, 46, 23, 14, 4, 23, 52, 49, 4, 108, 13, 52, 44, 113, 16, 47, 47, 153, 35, 56, 20, 104, 58, 95, 56, 84, 37, 23, 15, 21, 46, 13, 40, 34, 10, 58, 42, 23, 29, 5, 51, 12, 44, 143, 62, 50, 92, 31, 35, 22, 6, 50, 76, 34, 36, 25, 6, 36, 29, 17, 57, 66, 31, 37, 20, 17, 49, 88, 19, 150, 442, 33, 34, 79, 15, 48, 29, 131, 130, 5, 3, 100, 24, 39, 26, 42, 72, 42, 125, 45, 47, 35, 17, 20, 5, 37, 65, 41, 115, 68, 41, 141, 30, 10, 43, 63, 193, 21, 34, 32, 10, 20, 36, 74, 7, 53, 54, 13, 79, 34, 109, 38, 83, 33, 44, 15, 95, 18, 14, 75, 14, 8, 4, 29, 39, 32, 22, 5, 4, 42, 76, 45, 11, 16, 20, 18, 11, 321, 63, 12, 61, 35, 15, 20, 9, 65, 14, 114, 25, 15, 13, 66, 4, 12, 34, 178, 45, 128, 60, 21, 15, 11, 130, 42, 20, 45, 16, 53, 57, 23, 36, 20, 41, 30, 9, 10, 33, 117, 32, 13, 37, 34, 45, 83, 170, 83, 56, 49, 30, 31, 44, 86, 30, 11, 49, 5, 4, 71, 34, 71, 22, 35, 90, 26, 43, 143, 121, 53, 11, 10, 46, 16, 84, 48, 38, 33, 38, 90, 26, 166, 104, 50, 42, 24, 15, 54, 10, 110, 27, 41, 51, 18, 17, 45, 54, 55, 40, 18, 150, 34, 46, 37, 38, 4, 26, 18, 12, 55, 8, 18, 18, 56, 34, 40, 30, 105, 55, 56, 45, 37, 44, 25, 56, 59, 30, 42, 61, 7, 38, 24, 79, 173, 61, 42, 29, 121, 26, 4, 208, 124, 5, 93, 83, 78, 10, 25, 10, 4, 21, 38, 32, 68, 16, 60, 21, 25, 473, 34, 4, 25, 18, 64, 5, 51, 39, 12, 10, 77, 36, 3, 29, 52, 125, 60, 11, 55, 39, 34, 41, 91, 23, 166, 6, 62, 64, 49, 154, 15, 30, 19, 70, 75, 16, 30, 27, 203, 243, 173, 50, 29, 18, 21, 74, 42, 14, 61, 34, 11, 21, 110, 99, 21, 13, 3, 17, 43, 24, 63, 16, 20, 39, 34, 31, 27, 14, 88, 34, 88, 61, 6, 96, 61, 19, 7, 41, 4, 41, 79, 15, 2, 44, 5, 7, 42, 35, 18, 37, 7, 33, 56, 37, 102, 95, 131, 79, 19, 84, 23, 44, 14, 9, 8, 38, 13, 54, 66, 49, 45, 70, 50, 279, 92, 114, 91, 130, 30, 107, 28, 51, 23, 35, 31, 10, 24, 94, 21, 52, 17, 19, 48, 23, 29, 41, 49, 16, 120, 18, 49, 83, 20, 52, 22, 44, 18, 16, 170, 46, 136, 17, 38, 3, 68, 15, 16, 5, 25, 21, 5, 28, 41, 30, 29, 70, 16, 98, 41, 5, 106, 28, 40, 31, 62, 83, 16, 214, 39, 56, 71, 46, 21, 35, 43, 12, 27, 30, 10, 2, 37, 40, 23, 21, 26, 100, 4, 71, 42, 2, 100, 71, 29, 104, 4, 23, 118, 40, 34, 96, 37, 38, 20, 22, 59, 76, 5, 41, 54, 102, 47, 24, 18, 98, 138, 88, 276, 43, 58, 38, 44, 45, 20, 42, 47, 81, 50, 61, 24, 26, 154, 42, 21, 63, 5, 75, 35, 37, 19, 63, 93, 81, 8, 52, 40, 41, 88, 40, 25, 18, 22, 39, 75, 73, 49, 69, 87, 20, 43, 5, 177, 26, 43, 84, 86, 49, 15, 52, 7, 27, 30, 40, 43, 111, 42, 39, 62, 42, 8, 69, 23, 36, 7, 28, 8, 20, 31, 86, 14, 90, 24, 57, 75, 81, 42, 6, 243, 44, 38, 74, 26, 64, 87, 5, 42, 45, 33, 49, 32, 39, 89, 23, 42, 29, 12, 115, 30, 26, 8, 75, 43, 13, 18, 210, 31, 90, 13, 50, 78, 13, 33, 8, 75, 27, 49, 7, 28, 34, 61, 16, 27, 2, 64, 25, 22, 117, 48, 5, 42, 16, 12, 50, 7, 32, 59, 19, 16, 159, 32, 18, 42, 95, 108, 122, 42, 15, 49, 100, 29, 20, 24, 136, 52, 23, 47, 8, 8, 12, 28, 29, 34, 165, 47, 56, 26, 120, 25, 64, 26, 45, 5, 46, 11, 18, 48, 31, 113, 94, 235, 94, 27, 98, 32, 121, 38, 120, 26, 34, 24, 95, 19, 122, 25, 55, 61, 5, 58, 40, 34, 137, 29, 27, 26, 55, 68, 8, 41, 11, 191, 94, 210, 53, 20, 45, 43, 18, 46, 23, 110, 29, 184, 56, 63, 247, 137, 11, 65, 48, 14, 75, 126, 60, 72, 76, 39, 94, 7, 35, 45, 28, 50, 11, 54, 57, 22, 50, 7, 21, 69, 46, 14, 35, 79, 10, 11, 70, 3, 17, 25, 82, 45, 44, 25, 53, 20, 25, 54, 93, 35, 58, 42, 52, 3, 64, 134, 33, 8, 20, 48, 61, 20, 14, 6, 30, 12, 45, 119, 13, 45, 94, 40, 22, 45, 46, 34, 5, 19, 8, 9, 110, 48, 34, 107, 21, 211, 16, 15, 20, 48, 57, 69, 26, 22, 11, 76, 25, 45, 8, 85, 23, 98, 148, 35, 153, 15, 14, 90, 41, 56, 106, 15, 268, 548, 31, 5, 168, 9, 37, 36, 100, 16, 25, 86, 112, 28, 23, 76, 51, 24, 83, 43, 32, 31, 26, 66, 8, 66, 10, 28, 83, 36, 72, 94, 1003, 73, 66, 43, 13, 37, 8, 41, 15, 16, 9, 41, 51, 150, 68, 13, 42, 31, 17, 206, 41, 18, 68, 36, 24, 46, 12, 39, 87, 25, 78, 37, 57, 65, 22, 20, 139, 22, 146, 69, 44, 28, 7, 18, 38, 78, 28, 119, 119, 7, 3, 89, 1, 62, 158, 39, 89, 42, 36, 70, 36, 64, 51, 80, 25, 5, 30, 61, 32, 59, 16, 47, 72, 75, 42, 1, 34, 14, 42, 42, 3, 30, 10, 53, 90, 5, 46, 9, 116, 99, 2, 54, 66, 133, 1736, 11, 24, 28, 185, 17, 57, 22, 53, 69, 40, 53, 131, 15, 42, 17, 28, 22, 15, 89, 5, 52, 50, 33, 57, 89, 13, 30, 122, 97, 37, 159, 12, 12, 44, 26, 21, 27, 67, 152, 13, 11, 34, 23, 87, 52, 97, 49, 165, 6, 44, 33, 11, 4, 13, 13, 23, 108, 1, 7, 17, 20, 15, 46, 32, 29, 160, 235, 42, 158, 51, 29, 63, 14, 22, 37, 18, 70, 291, 25, 29, 9, 1, 23, 12, 12, 26, 26, 90, 3, 53, 33, 25, 34, 13, 20, 54, 63, 12, 88, 9, 35, 55, 28, 69, 49, 43, 42, 22, 15, 63, 25, 44, 22, 13, 13, 40, 50, 72, 701, 17, 59, 100, 29, 13, 41, 31, 15, 17, 29, 37, 121, 98, 8, 13, 82, 28, 29, 68, 48, 120, 68, 110, 6, 59, 60, 255, 28, 4, 12, 48, 137, 16, 9, 75, 81, 53, 66, 40, 29, 28, 32, 71, 28, 67, 51, 15, 37, 52, 42, 59, 53, 12, 79, 53, 37, 68, 62, 116, 64, 145, 22, 38, 9, 52, 24, 30, 90, 88, 68, 69, 63, 9, 26, 24, 95, 38, 20, 10, 24, 89, 24, 2, 5, 25, 61, 21, 8, 22, 31, 36, 4, 33, 24, 74, 24, 38, 22, 27, 9, 60, 4, 43, 22, 20, 52, 46, 34, 47, 105, 35, 76, 13, 15, 73, 39, 29, 38, 52, 86, 37, 6, 16, 23, 31, 249, 14, 4, 33, 50, 24, 48, 19, 14, 17, 63, 12, 41, 50, 36, 34, 14, 9, 123, 32, 60, 9, 23, 36, 76, 42, 89, 10, 71, 42, 42, 15, 10, 38, 94, 22, 44, 36, 13, 246, 5, 118, 76, 46, 54, 65, 16, 12, 19, 31, 53, 7, 48, 53, 42, 59, 58, 29, 53, 13, 57, 9, 14, 17, 33, 52, 56, 28, 22, 33, 28, 6, 12, 71, 2, 8, 41, 21, 52, 14, 25, 5, 65, 35, 272, 48, 12, 59, 73, 22, 255, 13, 29, 89, 15, 54, 14, 23, 20, 15, 20, 37, 39, 30, 31, 47, 24, 31, 99, 60, 33, 40, 43, 29, 81, 3, 43, 43, 114, 77, 209, 141, 95, 44, 200, 29, 72, 21, 4, 210, 36, 87, 76, 18, 16, 38, 58, 32, 13, 24, 94, 71, 25, 102, 27, 68, 68, 90, 13, 24, 15, 18, 70, 53, 30, 26, 20, 31, 18, 24, 7, 87, 32, 6, 22, 86, 7, 16, 189, 224, 67, 32, 31, 82, 46, 85, 169, 60, 30, 18, 101, 14, 152, 17, 22, 30, 6, 28, 9, 16, 53, 19, 15, 8, 101, 2, 29, 30, 10, 107, 94, 40, 24, 11, 25, 42, 32, 14, 19, 44, 21, 9, 51, 82, 29, 7, 25, 31, 42, 57, 63, 49, 12, 133, 140, 31, 31, 364, 136, 4, 90, 6, 27, 44, 172, 2, 49, 8, 7, 54, 27, 19, 10, 14, 165, 7, 62, 10, 20, 26, 65, 4, 17, 140, 42, 9, 20, 64, 8, 44, 26, 28, 15, 40, 25, 45, 19, 74, 35, 39, 51, 25, 28, 102, 28, 19, 44, 158, 20, 136, 6, 194, 17, 274, 32, 43, 43, 6, 44, 17, 57, 69, 18, 48, 2, 44, 47, 29, 52, 61, 31, 64, 29, 10, 38, 81, 57, 45, 58, 115, 47, 35, 28, 75, 162, 15, 18, 35, 44, 203, 51, 173, 6, 6, 12, 40, 52, 63, 30, 94, 15, 42, 59, 32, 117, 34, 9, 30, 33, 55, 55, 21, 29, 39, 38, 11, 48, 13, 56, 31, 55, 32, 146, 48, 23, 161, 276, 36, 23, 94, 17, 60, 59, 21, 28, 25, 60, 81, 30, 123, 19, 18, 34, 51, 27, 27, 147, 4, 33, 159, 21, 18, 37, 91, 92, 78, 46, 45, 41, 46, 24, 29, 17, 36, 147, 34, 36, 73, 47, 13, 60, 29, 19, 30, 70, 95, 11, 41, 38, 38, 4, 35, 29, 132, 31, 22, 21, 43, 31, 14, 52, 27, 43, 55, 116, 20, 74, 227, 3, 26, 229, 68, 73, 66, 16, 40, 24, 34, 25, 25, 85, 11, 57, 77, 31, 14, 31, 20, 15, 33, 107, 52, 4, 32, 58, 33, 70, 100, 126, 62, 25, 7, 18, 42, 21, 19, 6, 50, 8, 4, 32, 30, 83, 18, 147, 25, 43, 106, 8, 37, 118, 2, 16, 53, 132, 172, 68, 29, 18, 129, 86, 50, 14, 3, 32, 1, 32, 7, 39, 19, 54, 8, 37, 22, 71, 32, 44, 58, 11, 64, 48, 41, 20, 16, 33, 38, 10, 3, 331, 2, 80, 82, 98, 37, 37, 8, 80, 35, 43, 4, 17, 32, 8, 1, 52, 48, 98, 67, 26, 112, 28, 17, 28, 41, 2, 54, 14, 14, 27, 14, 95, 46, 80, 135, 3, 31, 49, 48, 80, 9, 23, 24, 45, 18, 45, 9, 37, 42, 33, 38, 23, 39, 173, 28, 21, 44, 34, 29, 46, 108, 51, 60, 51, 12, 11, 33, 51, 36, 8, 3, 56, 11, 12, 9, 40, 51, 62, 40, 321, 53, 46, 27, 49, 63, 160, 36, 80, 57, 5, 26, 82, 18, 120, 75, 48, 77, 19, 88, 8, 12, 20, 369, 20, 6, 43, 46, 27, 10, 63, 145, 64, 147, 95, 36, 51, 22, 54, 84, 43, 23, 30, 17, 12, 11, 35, 73, 23, 30, 62, 198, 49, 62, 125, 32, 87, 8, 24, 71, 7, 38, 61, 53, 44, 45, 8, 21, 35, 16, 22, 20, 25, 62, 13, 13, 108, 45, 15, 19, 27, 11, 42, 8, 6, 13, 49, 39, 24, 169, 125, 30, 55, 40, 39, 167, 78, 47, 294, 54, 42, 13, 3, 53, 117, 32, 64, 64, 57, 57, 152, 63, 19, 99, 107, 65, 26, 182, 24, 9, 474, 18, 32, 7, 53, 4, 92, 22, 56, 67, 25, 25, 54, 14, 38, 33, 110, 14, 25, 71, 37, 29, 14, 18, 46, 17, 15, 71, 47, 83, 29, 87, 30, 6, 14, 79, 23, 25, 20, 28, 144, 42, 20, 15, 36, 10, 22, 152, 80, 13, 51, 59, 15, 41, 7, 22, 64, 44, 46, 43, 5, 44, 2, 6, 51, 64, 13, 25, 17, 44, 19, 50, 125, 13, 109, 55, 55, 4, 176, 84, 71, 108, 43, 82, 53, 57, 77, 10, 5, 23, 59, 16, 19, 53, 9, 54, 4, 14, 30, 20, 15, 16, 37, 41, 54, 37, 28, 27, 8, 2, 178, 62, 20, 119, 4, 22, 37, 43, 28, 91, 17, 35, 47, 67, 40, 12, 42, 30, 21, 60, 42, 70, 20, 61, 20, 44, 54, 44, 59, 62, 15, 8, 43, 63, 17, 22, 113, 29, 47, 96, 26, 57, 33, 60, 64, 18, 105, 106, 20, 34, 85, 35, 30, 41, 37, 106, 36, 46, 118, 25, 31, 22, 5, 31, 35, 50, 26, 60, 10, 20, 28, 138, 100, 116, 24, 70, 200, 82, 104, 14, 34, 43, 44, 10, 32, 11, 6, 27, 156, 15, 3, 17, 42, 125, 4, 18, 52, 66, 61, 12, 22, 29, 11, 149, 28, 16, 17, 3, 85, 45, 53, 33, 190, 34, 64, 13, 34, 55, 63, 66, 15, 33, 36, 17, 23, 33, 45, 15, 116, 30, 25, 91, 57, 31, 46, 25, 29, 180, 7, 31, 12, 77, 6, 34, 72, 2, 62, 33, 43, 76, 26, 72, 56, 71, 44, 20, 25, 335, 10, 49, 2, 27, 6, 99, 9, 50, 6, 18, 26, 36, 52, 33, 43, 13, 83, 32, 185, 10, 67, 45, 276, 21, 30, 219, 86, 35, 69, 83, 20, 33, 29, 39, 12, 30, 42, 30, 17, 32, 77, 30, 72, 53, 24, 86, 45, 18, 28, 101, 33, 20, 226, 16, 29, 34, 116, 70, 25, 27, 189, 38, 100, 16, 75, 23, 22, 30, 38, 33, 94, 7, 7, 40, 21, 167, 35, 30, 61, 9, 36, 69, 49, 39, 45, 3, 92, 40, 38, 71, 7, 46, 51, 12, 46, 28, 21, 42, 16, 141, 8, 82, 14, 56, 37, 49, 47, 6, 26, 263, 20, 16, 103, 40, 41, 150, 43, 9, 8, 48, 46, 47, 17, 6, 41, 92, 19, 34, 128, 33, 57, 12, 44, 46, 43, 24, 60, 6, 27, 9, 21, 18, 45, 38, 238, 41, 20, 27, 177, 19, 14, 14, 72, 9, 16, 39, 43, 36, 23, 154, 62, 18, 176, 79, 55, 86, 23, 30, 31, 12, 173, 12, 7, 108, 50, 22, 34, 6, 39, 84, 6, 42, 68, 36, 38, 48, 12, 35, 14, 26, 26, 76, 198, 90, 48, 8, 49, 31, 25, 48, 46, 34, 19, 10, 35, 24, 128, 70, 9, 23, 47, 84, 37, 22, 20, 28, 9, 42, 53, 75, 209, 10, 28, 70, 48, 65, 13, 197, 12, 91, 22, 71, 23, 14, 865, 155, 37, 116, 12, 71, 47, 10, 58, 22, 7, 14, 43, 67, 27, 28, 18, 36, 28, 18, 15, 29, 75, 28, 20, 31, 18, 39, 50, 12, 74, 147, 39, 113, 17, 23, 56, 134, 60, 30, 12, 34, 22, 17, 41, 29, 18, 17, 36, 10, 46, 39, 49, 52, 120, 39, 7, 24, 27, 95, 26, 22, 24, 28, 20, 21, 175, 248, 27, 22, 26, 57, 7, 63, 28, 180, 8, 12, 23, 158, 43, 15, 43, 12, 45, 190, 57, 121, 38, 6, 27, 81, 15, 126, 7, 73, 15, 36, 24, 63, 50, 36, 58, 94, 27, 118, 12, 21, 78, 12, 35, 107, 44, 88, 34, 58, 86, 39, 52, 77, 31, 110, 24, 25, 31, 26, 9, 20, 102, 20, 14, 39, 10, 26, 107, 27, 113, 72, 63, 51, 116, 33, 30, 2, 64, 74, 67, 42, 59, 59, 14, 73, 27, 31, 71, 10, 162, 57, 22, 24, 15, 25, 68, 9, 27, 245, 23, 186, 24, 234, 46, 37, 42, 51, 55, 53, 102, 58, 105, 13, 28, 29, 32, 34, 42, 31, 63, 32, 11, 12, 26, 72, 13, 36, 21, 14, 7, 20, 19, 10, 18, 32, 35, 11, 26, 82, 34, 15, 14, 25, 53, 115, 15, 50, 12, 22, 13, 39, 8, 30, 47, 81, 26, 35, 83, 56, 42, 32, 29, 43, 27, 43, 57, 279, 42, 78, 114, 27, 199, 47, 22, 20, 28, 12, 116, 21, 21, 44, 21, 170, 14, 16, 102, 36, 50, 12, 18, 44, 73, 12, 34, 8, 13, 14, 59, 189, 19, 19, 38, 885, 37, 119, 18, 32, 26, 67, 10, 26, 34, 113, 18, 16, 16, 25, 76, 22, 23, 25, 23, 49, 49, 20, 54, 39, 134, 10, 63, 47, 34, 45, 83, 79, 84, 20, 461, 212, 28, 289, 76, 75, 29, 82, 14, 33, 31, 10, 23, 26, 12, 94, 37, 6, 37, 64, 19, 16, 32, 58, 34, 11, 25, 128, 50, 83, 17, 16, 48, 62, 16, 92, 31, 37, 27, 48, 60, 24, 33, 78, 41, 24, 75, 25, 53, 97, 62, 33, 65, 32, 24, 42, 49, 21, 232, 33, 6, 25, 146, 21, 11, 62, 115, 31, 67, 42, 6, 59, 76, 29, 40, 243, 41, 57, 4, 178, 85, 52, 80, 50, 89, 127, 24, 35, 4, 24, 76, 14, 37, 25, 239, 34, 31, 123, 62, 32, 22, 64, 232, 11, 6, 41, 58, 30, 52, 196, 96, 19, 105, 5, 92, 28, 33, 48, 67, 16, 20, 59, 48, 61, 26, 48, 67, 50, 24, 34, 22, 24, 20, 18, 55, 44, 32, 38, 13, 35, 43, 34, 40, 33, 48, 4, 111, 7, 38, 341, 89, 6, 97, 14, 16, 7, 44, 41, 37, 172, 35, 34, 6, 19, 38, 70, 42, 166, 58, 11, 11, 14, 123, 21, 256, 5, 7, 126, 70, 29, 7, 27, 111, 47, 23, 9, 22, 269, 79, 19, 184, 10, 119, 39, 93, 41, 63, 5, 93, 13, 24, 32, 34, 4, 24, 32, 41, 20, 5, 14, 138, 23, 46, 37, 70, 28, 26, 23, 37, 15, 79, 17, 101, 36, 80, 107, 13, 48, 20, 60, 19, 230, 28, 36, 36, 7, 74, 26, 38, 21, 39, 15, 31, 13, 18, 39, 172, 22, 26, 80, 162, 36, 22, 77, 22, 48, 50, 71, 39, 53, 53, 34, 82, 35, 67, 15, 39, 76, 3, 12, 33, 33, 13, 30, 36, 11, 52, 29, 49, 23, 18, 52, 23, 45, 7, 14, 61, 36, 23, 28, 45, 4, 35, 8, 22, 5, 49, 69, 23, 46, 42, 12, 7, 38, 226, 75, 43, 12, 63, 12, 59, 19, 82, 100, 44, 15, 57, 74, 68, 61, 44, 27, 23, 40, 16, 57, 24, 58, 4, 28, 111, 28, 59, 90, 25, 108, 23, 278, 20, 19, 9, 181, 72, 45, 83, 28, 41, 53, 16, 39, 65, 32, 17, 30, 98, 14, 10, 21, 43, 17, 15, 101, 85, 43, 42, 22, 51, 219, 17, 145, 21, 60, 46, 17, 60, 30, 23, 40, 64, 51, 22, 7, 14, 49, 44, 6, 60, 36, 13, 39, 36, 61, 65, 11, 30, 13, 72, 37, 36, 76, 24, 54, 21, 115, 23, 9, 101, 41, 61, 49, 16, 35, 48, 22, 79, 66, 50, 63, 157, 35, 79, 20, 33, 18, 57, 24, 98, 59, 16, 108, 48, 50, 93, 35, 71, 5, 29, 4, 117, 40, 142, 36, 49, 25, 58, 34, 67, 25, 31, 19, 15, 32, 60, 26, 218, 47, 65, 9, 49, 50, 33, 58, 63, 41, 44, 49, 20, 132, 437, 36, 3, 128, 44, 32, 87, 86, 57, 30, 38, 84, 29, 10, 88, 25, 33, 132, 106, 125, 57, 185, 37, 27, 145, 69, 22, 16, 35, 6, 14, 9, 64, 40, 47, 81, 68, 34, 15, 7, 53, 23, 19, 37, 47, 65, 40, 147, 127, 58, 18, 86, 3, 47, 14, 64, 34, 107, 46, 156, 39, 25, 15, 37, 16, 21, 28, 38, 23, 148, 41, 105, 67, 14, 35, 88, 37, 88, 44, 41, 29, 20, 45, 30, 114, 71, 68, 70, 134, 27, 6, 28, 20, 41, 72, 27, 77, 57, 75, 33, 21, 12, 39, 233, 27, 68, 46, 37, 28, 57, 28, 40, 40, 682, 28, 98, 47, 64, 50, 108, 57, 1, 22, 44, 37, 87, 47, 31, 18, 113, 25, 24, 3, 68, 47, 40, 91, 42, 20, 20, 30, 8, 27, 10, 54, 7, 55, 14, 23, 40, 17, 92, 41, 17, 101, 80, 14, 320, 80, 40, 182, 10, 156, 48, 22, 68, 119, 17, 7, 48, 15, 4, 123, 20, 15, 70, 17, 6, 4, 21, 6, 16, 25, 15, 58, 49, 202, 103, 23, 15, 44, 38, 21, 15, 58, 21, 24, 60, 37, 69, 58, 7, 53, 36, 63, 0, 15, 36, 267, 7, 13, 4, 30, 45, 12, 124, 19, 30, 81, 30, 66, 81, 181, 39, 37, 43, 53, 29, 6, 97, 50, 89, 214, 11, 43, 15, 35, 10, 83, 4, 13, 63, 19, 18, 56, 7, 55, 42, 16, 6, 25, 48, 60, 36, 9, 33, 144, 46, 72, 27, 78, 19, 18, 72, 24, 100, 14, 115, 26, 20, 56, 32, 15, 10, 49, 14, 58, 4, 35, 80, 28, 78, 63, 46, 20, 73, 13, 129, 63, 211, 25, 34, 11, 37, 26, 45, 175, 5, 100, 34, 64, 16, 113, 56, 163, 99, 68, 45, 106, 138, 62, 121, 63, 55, 103, 16, 29, 16, 18, 50, 23, 51, 56, 30, 19, 82, 20, 37, 28, 24, 305, 145, 14, 15, 24, 15, 125, 102, 18, 26, 66, 84, 79, 35, 36, 19, 19, 10, 35, 49, 237, 13, 36, 61, 7, 286, 26, 23, 56, 13, 57, 40, 43, 17, 29, 192, 119, 49, 148, 13, 29, 14, 29, 42, 90, 11, 15, 26, 175, 7, 106, 2, 23, 67, 93, 64, 19, 19, 33, 33, 90, 51, 22, 55, 35, 23, 34, 7, 16, 2, 9, 20, 35, 38, 35, 36, 65, 86, 60, 17, 19, 14, 43, 26, 55, 135, 92, 17, 48, 23, 74, 60, 155, 22, 19, 32, 89, 27, 23, 17, 47, 31, 213, 39, 96, 16, 25, 41, 14, 24, 11, 77, 13, 27, 97, 17, 16, 16, 114, 21, 33, 6, 7, 49, 15, 74, 338, 55, 96, 28, 36, 9, 31, 38, 31, 63, 62, 174, 6, 26, 96, 44, 22, 10, 29, 28, 29, 104, 72, 21, 43, 32, 74, 49, 4, 61, 37, 14, 115, 121, 22, 37, 48, 176, 486, 42, 54, 57, 207, 22, 22, 14, 17, 75, 19, 26, 26, 12, 40, 3, 72, 47, 154, 52, 67, 138, 30, 61, 70, 32, 30, 110, 53, 11, 139, 19, 20, 27, 13, 22, 41, 34, 80, 29, 14, 26, 62, 12, 95, 128, 19, 50, 121, 38, 24, 26, 13, 11, 198, 34, 5, 55, 30, 7, 19, 60, 9, 58, 24, 46, 30, 47, 33, 74, 54, 18, 12, 43, 10, 39, 91, 78, 8, 74, 35, 80, 78, 27, 8, 16, 14, 38, 106, 17, 30, 67, 75, 58, 37, 31, 90, 24, 30, 57, 43, 1081, 49, 60, 23, 4, 28, 49, 41, 25, 78, 37, 49, 26, 32, 56, 42, 7, 10, 5, 121, 8, 95, 9, 46, 25, 202, 22, 20, 44, 46, 53, 33, 23, 9, 24, 3, 100, 16, 3, 43, 29, 10, 27, 23, 19, 7, 20, 45, 42, 71, 85, 15, 15, 29, 29, 54, 36, 15, 9, 12, 99, 6, 31, 52, 23, 21, 74, 36, 5, 10, 15, 74, 28, 16, 30, 21, 7, 75, 6, 16, 37, 26, 32, 24, 56, 79, 29, 24, 28, 53, 56, 39, 217, 24, 44, 24, 31, 29, 12, 16, 22, 55, 69, 136, 41, 23, 52, 38, 23, 100, 33, 93, 158, 79, 77, 46, 19, 16, 16, 19, 11, 43, 215, 39, 56, 38, 30, 6, 95, 38, 55, 40, 15, 27, 38, 32, 219, 46, 73, 29, 63, 61, 96, 16, 32, 34, 87, 223, 26, 20, 118, 10, 7, 116, 44, 21, 30, 5, 7, 30, 47, 37, 32, 45, 7, 10, 143, 23, 26, 55, 38, 60, 8, 73, 210, 35, 78, 61, 34, 87, 33, 44, 27, 40, 49, 87, 30, 10, 42, 251, 37, 40, 46, 14, 13, 44, 11, 29, 98, 39, 47, 66, 10, 7, 118, 11, 24, 31, 14, 180, 31, 41, 30, 107, 8, 21, 9, 37, 56, 112, 4, 92, 13, 33, 24, 15, 4, 11, 55, 40, 25, 55, 78, 39, 32, 8, 46, 40, 145, 18, 19, 19, 7, 51, 4, 25, 192, 92, 49, 44, 44, 43, 35, 16, 27, 44, 20, 7, 34, 47, 46, 22, 10, 2, 26, 7, 26, 18, 35, 17, 19, 10, 39, 16, 25, 19, 55, 33, 37, 19, 46, 19, 170, 15, 5, 17, 12, 43, 39, 15, 18, 62, 166, 60, 12, 13, 25, 78, 63, 54, 168, 8, 55, 46, 43, 201, 40, 149, 16, 13, 15, 54, 51, 29, 35, 39, 88, 47, 55, 62, 44, 126, 92, 49, 38, 17, 30, 20, 50, 21, 5, 78, 33, 102, 58, 16, 5, 27, 25, 79, 56, 38, 36, 10, 35, 77, 206, 44, 32, 15, 36, 42, 71, 199, 87, 10, 28, 18, 66, 43, 48, 117, 6, 15, 24, 11, 54, 35, 37, 6, 17, 6, 85, 25, 27, 76, 19, 50, 112, 28, 50, 55, 54, 43, 175, 42, 48, 4, 95, 119, 33, 35, 16, 20, 32, 105, 9, 129, 82, 33, 131, 83, 29, 52, 82, 13, 48, 92, 26, 140, 56, 167, 10, 66, 46, 46, 60, 17, 61, 37, 41, 41, 54, 37, 81, 21, 80, 52, 31, 69, 40, 118, 14, 18, 18, 30, 80, 115, 5, 17, 47, 42, 26, 5, 12, 6, 74, 29, 58, 10, 19, 23, 82, 53, 23, 49, 116, 27, 35, 36, 41, 47, 81, 67, 6, 58, 18, 68, 21, 18, 13, 10, 24, 12, 25, 15, 88, 126, 41, 78, 9, 40, 36, 25, 6, 7, 17, 77, 38, 53, 113, 77, 120, 15, 140, 60, 32, 25, 32, 61, 76, 38, 27, 75, 102, 6, 41, 40, 83, 20, 27, 88, 20, 23, 145, 29, 18, 180, 39, 43, 40, 125, 34, 113, 30, 20, 78, 138, 27, 42, 221, 27, 61, 24, 11, 35, 45, 234, 23, 19, 60, 65, 164, 84, 38, 11, 54, 78, 26, 46, 61, 25, 14, 39, 59, 30, 12, 38, 279, 71, 7, 32, 28, 38, 28, 70, 91, 60, 46, 127, 51, 16, 40, 51, 36, 74, 23, 37, 34, 13, 28, 156, 49, 4, 108, 25, 30, 12, 29, 57, 35, 25, 60, 49, 33, 16, 51, 43, 37, 137, 18, 58, 38, 118, 3, 43, 21, 50, 47, 19, 55, 15, 16, 56, 8, 30, 84, 76, 42, 47, 39, 30, 213, 11, 23, 15, 120, 17, 88, 38, 32, 29, 32, 34, 21, 63, 32, 71, 39, 178, 12, 70, 12, 30, 54, 42, 142, 49, 55, 31, 20, 39, 102, 119, 27, 187, 21, 53, 12, 312, 25, 98, 188, 67, 18, 10, 147, 39, 34, 69, 28, 28, 14, 41, 18, 55, 29, 35, 111, 6, 8, 16, 99, 52, 19, 54, 39, 26, 27, 118, 124, 78, 66, 42, 40, 73, 39, 225, 18, 29, 13, 117, 3, 27, 81, 72, 30, 31, 53, 72, 24, 162, 23, 188, 18, 8, 15, 49, 7, 38, 16, 65, 161, 15, 56, 250, 25, 75, 43, 20, 48, 2, 29, 95, 39, 28, 16, 40, 110, 154, 7, 29, 232, 58, 102, 54, 76, 18, 26, 48, 43, 57, 94, 22, 46, 128, 25, 47, 53, 39, 64, 68, 37, 19, 21, 25, 232, 56, 3, 30, 34, 25, 95, 111, 17, 200, 43, 50, 71, 53, 98, 43, 2, 44, 28, 33, 67, 49, 45, 26, 28, 119, 7, 119, 48, 8, 30, 29, 35, 10, 65, 42, 64, 28, 72, 25, 54, 18, 22, 6, 50, 42, 16, 37, 36, 102, 71, 24, 35, 28, 7, 13, 42, 127, 16, 24, 17, 20, 25, 106, 11, 43, 97, 26, 59, 15, 1, 42, 16, 31, 174, 27, 114, 21, 40, 41, 30, 42, 31, 28, 14, 31, 89, 23, 14, 58, 29, 235, 126, 13, 6, 87, 16, 80, 19, 59, 25, 16, 119, 201, 17, 22, 88, 87, 34, 41, 37, 64, 28, 171, 30, 44, 54, 56, 10, 17, 44, 114, 71, 100, 8, 12, 28, 10, 46, 83, 28, 20, 16, 44, 17, 55, 32, 20, 41, 11, 43, 54, 22, 91, 24, 9, 8, 120, 32, 88, 33, 52, 23, 9, 120, 58, 47, 74, 182, 17, 192, 36, 92, 47, 90, 55, 35, 82, 48, 27, 139, 4, 30, 5, 42, 7, 43, 53, 40, 20, 54, 22, 76, 47, 19, 69, 35, 15, 144, 64, 13, 16, 70, 3, 23, 119, 44, 31, 57, 11, 10, 38, 55, 60, 54, 57, 84, 158, 37, 68, 34, 73, 16, 60, 53, 94, 244, 18, 23, 40, 31, 31, 19, 37, 19, 49, 58, 15, 45, 20, 26, 17, 147, 48, 48, 20, 66, 33, 124, 41, 88, 32, 39, 40, 23, 24, 348, 60, 12, 27, 16, 38, 110, 6, 12, 5, 34, 50, 35, 74, 41, 125, 12, 10, 72, 165, 25, 135, 44, 10, 50, 38, 38, 88, 220, 52, 25, 14, 33, 60, 12, 32, 97, 66, 48, 44, 15, 30, 27, 30, 38, 149, 16, 16, 66, 3, 28, 13, 8, 178, 5, 29, 222, 5, 40, 48, 17, 59, 212, 6, 132, 4, 24, 204, 60, 37, 52, 41, 18, 51, 15, 28, 118, 21, 28, 11, 31, 17, 75, 42, 12, 61, 125, 40, 13, 55, 27, 18, 57, 10, 43, 8, 62, 35, 48, 23, 29, 42, 28, 54, 24, 38, 37, 33, 57, 47, 9, 10, 38, 70, 13, 57, 76, 58, 15, 13, 28, 2, 140, 150, 13, 13, 12, 98, 113, 12, 62, 81, 41, 10, 41, 55, 78, 19, 9, 82, 114, 50, 131, 110, 92, 34, 29, 35, 76, 75, 14, 43, 23, 0, 67, 13, 13, 219, 58, 68, 19, 17, 35, 37, 51, 9, 26, 171, 78, 40, 81, 25, 35, 13, 16, 18, 25, 179, 48, 72, 18, 28, 23, 25, 32, 657, 10, 35, 19, 7, 22, 454, 48, 50, 12, 55, 55, 37, 61, 24, 16, 36, 8, 12, 57, 13, 35, 13, 5, 37, 54, 18, 91, 7, 90, 57, 54, 10, 12, 49, 16, 54, 98, 34, 101, 27, 99, 34, 24, 11, 26, 64, 1, 174, 15, 74, 55, 20, 33, 42, 28, 11, 19, 104, 139, 49, 50, 6, 35, 16, 29, 62, 38, 9, 56, 40, 46, 13, 10, 23, 21, 7, 11, 33, 20, 114, 9, 21, 27, 11, 36, 34, 71, 40, 45, 41, 36, 43, 51, 36, 114, 22, 41, 52, 35, 30, 50, 47, 3, 59, 39, 9, 13, 43, 41, 5, 45, 62, 28, 249, 44, 49, 21, 36, 28, 53, 61, 58, 62, 67, 16, 28, 25, 19, 17, 14, 24, 68, 178, 42, 80, 44, 21, 81, 71, 68, 55, 39, 73, 27, 7, 21, 27, 33, 11, 33, 44, 38, 72, 9, 17, 7, 36, 14, 30, 40, 38, 75, 27, 94, 3, 49, 25, 19, 7, 41, 69, 31, 51, 7, 4, 20, 29, 28, 43, 45, 10, 62, 97, 21, 12, 35, 81, 28, 14, 5, 125, 59, 14, 9, 9, 50, 82, 39, 40, 35, 51, 21, 68, 39, 13, 76, 43, 52, 11, 106, 148, 37, 376, 34, 52, 37, 8, 11, 17, 6, 20, 37, 52, 23, 49, 22, 70, 31, 8, 6, 91, 80, 2, 28, 22, 47, 40, 48, 36, 25, 96, 23, 10, 16, 42, 144, 15, 41, 14, 26, 30, 43, 20, 26, 36, 29, 652, 86, 5, 25, 100, 81, 24, 21, 23, 22, 39, 84, 78, 18, 14, 15, 7, 69, 4, 144, 9, 44, 23, 95, 18, 26, 51, 7, 14, 50, 73, 7, 15, 106, 69, 22, 12, 52, 26, 31, 40, 44, 16, 47, 43, 73, 34, 127, 56, 91, 32, 34, 24, 27, 45, 9, 8, 31, 35, 22, 33, 30, 21, 29, 38, 32, 64, 54, 76, 60, 35, 55, 5, 72, 131, 8, 44, 21, 12, 14, 17, 36, 115, 65, 39, 6, 43, 9, 40, 24, 120, 12, 8, 17, 29, 58, 26, 35, 80, 70, 38, 65, 47, 90, 35, 31, 19, 49, 51, 33, 30, 45, 153, 43, 16, 49, 24, 41, 7, 92, 41, 6, 63, 32, 22, 56, 21, 16, 20, 62, 43, 34, 53, 127, 44, 39, 37], \"y\": [5, 33, 35, 29, 21, 23, 28, 31, 35, 24, 28, 4, 8, 9, 9, 11, 16, 3, 18, 14, 16, 32, 9, 9, 13, 25, 38, 34, 14, 14, 24, 6, 19, 16, 10, 20, 10, 10, 4, 20, 24, 33, 24, 28, 14, 11, 30, 30, 10, 22, 30, 26, 28, 11, 10, 35, 12, 27, 39, 36, 29, 11, 30, 38, 15, 9, 29, 30, 30, 34, 32, 35, 24, 25, 25, 17, 29, 21, 20, 7, 20, 22, 22, 17, 28, 20, 12, 17, 6, 29, 27, 19, 21, 26, 36, 31, 35, 8, 27, 17, 39, 9, 14, 18, 23, 12, 21, 12, 29, 26, 25, 13, 43, 31, 15, 9, 22, 32, 8, 18, 27, 8, 16, 13, 14, 35, 31, 5, 25, 11, 33, 15, 37, 19, 20, 19, 35, 24, 32, 21, 20, 35, 4, 25, 30, 17, 36, 19, 19, 14, 14, 7, 21, 31, 17, 13, 19, 21, 23, 4, 30, 17, 5, 8, 22, 19, 33, 14, 34, 23, 21, 14, 29, 11, 20, 15, 14, 40, 31, 12, 33, 12, 35, 17, 26, 33, 25, 16, 13, 28, 19, 23, 22, 30, 4, 16, 12, 30, 12, 31, 25, 25, 5, 25, 20, 5, 27, 29, 10, 20, 13, 16, 27, 15, 10, 11, 15, 35, 29, 29, 22, 9, 20, 24, 22, 17, 16, 23, 12, 13, 28, 17, 13, 30, 14, 4, 32, 15, 6, 26, 11, 28, 40, 18, 22, 29, 23, 34, 6, 28, 17, 9, 6, 6, 19, 23, 9, 9, 29, 27, 24, 19, 25, 34, 33, 15, 19, 34, 26, 27, 25, 36, 8, 17, 20, 33, 20, 8, 16, 16, 29, 29, 10, 26, 30, 8, 38, 23, 8, 16, 21, 29, 12, 13, 28, 9, 16, 4, 26, 17, 23, 36, 20, 5, 10, 22, 14, 33, 7, 15, 19, 11, 37, 33, 11, 9, 32, 33, 15, 9, 26, 24, 27, 24, 31, 10, 36, 12, 30, 33, 32, 26, 20, 24, 7, 14, 3, 35, 31, 3, 26, 31, 33, 21, 24, 32, 31, 34, 22, 25, 21, 32, 25, 31, 20, 21, 7, 30, 12, 25, 17, 24, 17, 28, 5, 11, 7, 27, 32, 30, 20, 18, 28, 35, 25, 35, 28, 32, 33, 6, 12, 23, 30, 24, 25, 25, 19, 32, 18, 28, 10, 13, 28, 29, 25, 33, 7, 25, 25, 2, 18, 26, 18, 9, 16, 22, 23, 36, 31, 12, 31, 3, 12, 14, 24, 14, 13, 29, 30, 28, 13, 30, 31, 25, 10, 16, 29, 35, 15, 23, 22, 21, 22, 27, 22, 24, 33, 32, 13, 11, 20, 15, 31, 16, 16, 11, 7, 22, 32, 3, 10, 35, 35, 8, 14, 23, 22, 34, 7, 16, 20, 12, 29, 8, 30, 23, 24, 11, 29, 3, 24, 18, 15, 5, 25, 12, 22, 3, 5, 28, 15, 25, 11, 7, 30, 14, 6, 15, 31, 9, 27, 14, 8, 20, 16, 22, 17, 11, 16, 28, 8, 3, 8, 26, 38, 12, 30, 12, 9, 6, 15, 19, 38, 28, 33, 31, 19, 29, 35, 4, 22, 24, 13, 37, 33, 31, 30, 7, 28, 11, 29, 28, 27, 17, 23, 29, 4, 25, 32, 20, 13, 25, 19, 64, 46, 32, 30, 21, 24, 14, 24, 14, 32, 22, 32, 15, 30, 35, 19, 9, 21, 22, 20, 35, 21, 27, 23, 36, 21, 28, 5, 6, 17, 10, 19, 23, 13, 26, 22, 14, 23, 13, 15, 20, 15, 25, 28, 21, 23, 17, 26, 17, 33, 26, 37, 28, 22, 15, 26, 37, 17, 32, 26, 14, 19, 13, 33, 20, 16, 35, 20, 18, 33, 16, 12, 12, 25, 22, 20, 24, 22, 16, 27, 26, 16, 19, 14, 24, 36, 25, 25, 12, 25, 30, 34, 37, 11, 22, 23, 31, 31, 30, 33, 4, 36, 33, 27, 12, 28, 25, 24, 15, 30, 14, 13, 13, 16, 32, 15, 22, 4, 16, 39, 20, 18, 23, 24, 11, 9, 35, 34, 10, 8, 14, 28, 31, 29, 21, 20, 3, 28, 20, 18, 29, 22, 4, 10, 40, 6, 8, 23, 16, 5, 15, 31, 33, 16, 19, 14, 32, 29, 22, 29, 24, 18, 21, 18, 41, 34, 23, 15, 29, 31, 16, 31, 24, 29, 21, 22, 16, 30, 27, 30, 39, 20, 10, 6, 27, 29, 13, 7, 22, 14, 18, 24, 19, 27, 31, 12, 14, 8, 22, 40, 34, 27, 38, 22, 35, 23, 16, 14, 18, 16, 32, 14, 20, 26, 16, 7, 23, 10, 6, 9, 4, 17, 26, 14, 18, 19, 30, 33, 25, 29, 11, 20, 8, 19, 8, 14, 20, 20, 25, 23, 15, 6, 14, 13, 5, 23, 3, 30, 15, 16, 14, 7, 30, 5, 24, 12, 34, 6, 6, 14, 21, 9, 35, 29, 11, 33, 27, 33, 37, 28, 27, 9, 33, 42, 8, 27, 34, 26, 11, 10, 8, 21, 12, 14, 7, 17, 30, 19, 16, 2, 19, 24, 10, 23, 32, 23, 13, 32, 23, 11, 31, 24, 22, 16, 18, 6, 18, 20, 7, 4, 29, 14, 10, 22, 23, 16, 11, 15, 12, 28, 23, 17, 14, 3, 23, 34, 4, 30, 20, 7, 16, 8, 10, 17, 9, 16, 31, 29, 38, 27, 20, 32, 8, 35, 27, 2, 9, 16, 18, 20, 10, 17, 26, 15, 37, 34, 11, 33, 24, 15, 21, 38, 31, 18, 31, 27, 6, 31, 7, 18, 35, 42, 13, 14, 18, 33, 27, 25, 2, 19, 3, 16, 11, 33, 9, 13, 23, 28, 31, 37, 36, 32, 4, 32, 33, 29, 6, 15, 13, 24, 31, 10, 8, 24, 4, 22, 3, 38, 14, 24, 25, 31, 11, 5, 20, 29, 30, 30, 33, 15, 33, 22, 34, 21, 24, 32, 37, 20, 30, 38, 15, 23, 22, 34, 29, 8, 17, 5, 25, 24, 20, 20, 8, 15, 5, 6, 7, 6, 13, 33, 29, 34, 19, 12, 12, 6, 10, 12, 30, 22, 10, 11, 5, 14, 5, 15, 6, 15, 9, 15, 21, 23, 20, 10, 28, 19, 12, 30, 10, 20, 29, 34, 8, 18, 12, 12, 12, 12, 12, 26, 30, 19, 37, 8, 16, 21, 19, 29, 3, 21, 23, 6, 5, 11, 23, 29, 5, 41, 14, 28, 12, 21, 10, 9, 27, 11, 23, 20, 26, 33, 10, 29, 20, 28, 20, 22, 8, 28, 23, 22, 13, 16, 25, 22, 28, 4, 6, 20, 8, 8, 11, 8, 19, 33, 39, 19, 23, 20, 12, 26, 35, 25, 29, 25, 33, 14, 11, 20, 9, 28, 41, 11, 13, 11, 17, 15, 9, 24, 15, 9, 15, 8, 26, 9, 5, 11, 31, 3, 5, 24, 14, 18, 28, 24, 11, 8, 17, 5, 25, 13, 11, 10, 30, 8, 33, 12, 14, 30, 5, 34, 25, 13, 33, 29, 21, 16, 32, 32, 6, 25, 32, 20, 3, 13, 9, 3, 8, 5, 5, 8, 9, 11, 35, 21, 25, 18, 29, 25, 31, 22, 30, 35, 22, 32, 5, 10, 7, 28, 23, 27, 35, 13, 12, 7, 20, 5, 10, 14, 28, 12, 26, 18, 13, 10, 33, 30, 6, 7, 9, 25, 15, 12, 40, 25, 23, 36, 25, 9, 11, 16, 13, 9, 5, 34, 23, 12, 25, 8, 30, 39, 9, 18, 26, 23, 13, 9, 9, 8, 33, 28, 16, 28, 18, 26, 4, 6, 44, 11, 22, 21, 20, 11, 21, 24, 20, 29, 48, 33, 32, 10, 14, 33, 35, 28, 39, 7, 19, 23, 18, 17, 25, 13, 21, 17, 28, 14, 16, 25, 16, 15, 20, 37, 13, 32, 6, 18, 9, 14, 28, 6, 4, 4, 14, 21, 14, 7, 31, 4, 29, 13, 25, 8, 30, 23, 9, 10, 12, 29, 15, 8, 18, 22, 27, 30, 26, 23, 21, 13, 16, 5, 19, 39, 4, 23, 23, 15, 33, 7, 15, 40, 21, 9, 13, 16, 19, 15, 30, 3, 28, 13, 21, 13, 23, 33, 30, 26, 20, 24, 6, 19, 23, 13, 14, 6, 17, 33, 4, 28, 19, 18, 24, 40, 11, 19, 25, 38, 33, 33, 27, 19, 19, 27, 19, 31, 30, 28, 6, 33, 32, 30, 25, 32, 12, 31, 18, 23, 25, 23, 20, 12, 10, 16, 21, 6, 16, 16, 27, 10, 19, 7, 21, 13, 15, 12, 21, 24, 33, 32, 37, 33, 12, 15, 6, 22, 22, 29, 7, 16, 20, 11, 11, 6, 19, 19, 20, 4, 15, 7, 20, 6, 30, 18, 8, 17, 12, 11, 16, 19, 18, 26, 16, 34, 10, 17, 13, 33, 30, 11, 23, 17, 25, 23, 6, 5, 21, 14, 21, 9, 33, 34, 11, 17, 23, 23, 11, 42, 33, 24, 28, 8, 16, 35, 15, 24, 4, 6, 7, 29, 30, 33, 34, 32, 20, 7, 18, 29, 28, 36, 41, 18, 35, 20, 14, 18, 31, 23, 20, 18, 38, 5, 14, 18, 3, 10, 6, 37, 29, 17, 34, 8, 7, 10, 7, 25, 26, 7, 13, 14, 17, 30, 13, 32, 32, 23, 33, 12, 13, 5, 37, 30, 27, 33, 16, 27, 5, 29, 35, 26, 27, 19, 11, 25, 4, 14, 26, 14, 16, 19, 29, 24, 10, 23, 4, 14, 26, 29, 18, 6, 7, 29, 18, 9, 32, 12, 14, 24, 33, 15, 26, 17, 14, 7, 12, 16, 23, 4, 24, 22, 24, 23, 29, 18, 6, 6, 36, 30, 20, 15, 38, 9, 19, 21, 16, 6, 25, 10, 15, 33, 3, 10, 23, 15, 22, 37, 35, 31, 15, 12, 24, 12, 17, 14, 30, 33, 10, 3, 40, 29, 10, 29, 19, 30, 36, 15, 9, 8, 17, 28, 9, 16, 17, 29, 31, 29, 30, 9, 22, 21, 11, 32, 33, 17, 30, 35, 4, 24, 39, 4, 32, 35, 14, 24, 9, 19, 20, 20, 17, 32, 5, 7, 20, 27, 30, 30, 11, 31, 18, 31, 10, 12, 12, 17, 25, 15, 8, 34, 13, 17, 31, 8, 33, 30, 34, 33, 11, 25, 22, 23, 34, 34, 25, 33, 13, 44, 20, 10, 5, 13, 20, 29, 30, 19, 20, 17, 34, 28, 11, 8, 24, 21, 6, 32, 15, 29, 42, 18, 29, 17, 37, 14, 16, 7, 16, 23, 32, 22, 19, 46, 12, 39, 31, 29, 13, 17, 21, 3, 22, 53, 34, 17, 18, 7, 18, 10, 31, 36, 27, 31, 24, 27, 37, 39, 35, 29, 25, 20, 28, 17, 35, 42, 23, 30, 23, 30, 26, 3, 17, 35, 10, 28, 2, 18, 15, 25, 29, 25, 17, 38, 18, 12, 28, 12, 19, 38, 29, 14, 34, 15, 27, 7, 15, 20, 29, 5, 19, 30, 25, 22, 30, 8, 8, 22, 10, 32, 24, 30, 22, 20, 23, 21, 23, 31, 33, 4, 32, 25, 35, 35, 14, 28, 22, 23, 14, 26, 38, 24, 13, 9, 13, 15, 10, 10, 17, 19, 16, 21, 12, 15, 18, 34, 24, 31, 31, 6, 36, 34, 12, 5, 31, 27, 28, 17, 11, 24, 22, 8, 24, 27, 35, 10, 33, 25, 30, 11, 22, 20, 17, 27, 29, 29, 15, 31, 30, 28, 28, 32, 30, 21, 39, 38, 16, 33, 32, 4, 11, 23, 31, 33, 13, 26, 10, 3, 34, 22, 35, 31, 13, 27, 31, 16, 15, 19, 32, 25, 6, 37, 18, 20, 22, 25, 38, 16, 41, 27, 32, 8, 11, 32, 19, 13, 32, 15, 31, 39, 30, 14, 6, 22, 14, 32, 20, 12, 33, 28, 38, 27, 11, 19, 12, 27, 17, 7, 18, 11, 2, 18, 23, 40, 25, 19, 12, 11, 7, 16, 21, 3, 26, 7, 17, 16, 17, 8, 10, 20, 22, 5, 9, 8, 29, 3, 32, 19, 15, 26, 10, 20, 26, 25, 30, 36, 5, 8, 4, 5, 16, 18, 21, 26, 11, 9, 21, 23, 31, 28, 27, 13, 10, 11, 29, 35, 25, 31, 21, 24, 11, 37, 4, 32, 6, 27, 12, 3, 3, 10, 5, 19, 23, 41, 23, 7, 14, 29, 17, 29, 12, 10, 8, 17, 3, 16, 37, 34, 3, 31, 10, 5, 22, 30, 8, 19, 4, 30, 15, 10, 13, 30, 21, 3, 12, 16, 12, 7, 8, 14, 28, 11, 27, 15, 26, 24, 33, 30, 8, 21, 15, 23, 11, 10, 28, 9, 24, 16, 24, 19, 38, 26, 30, 25, 5, 5, 6, 32, 23, 3, 9, 26, 29, 8, 22, 17, 38, 27, 15, 8, 14, 6, 33, 6, 11, 7, 4, 14, 15, 6, 24, 10, 13, 4, 3, 10, 6, 21, 3, 28, 19, 5, 2, 6, 22, 13, 12, 12, 9, 10, 12, 6, 5, 37, 28, 4, 30, 17, 6, 5, 8, 7, 12, 23, 16, 5, 8, 20, 11, 18, 6, 4, 26, 31, 8, 19, 6, 6, 18, 7, 33, 34, 5, 24, 16, 13, 5, 17, 22, 19, 6, 6, 3, 16, 4, 20, 5, 4, 7, 13, 19, 4, 16, 32, 31, 21, 3, 9, 18, 19, 9, 30, 15, 17, 10, 8, 15, 28, 8, 8, 27, 6, 24, 36, 34, 25, 9, 17, 6, 12, 13, 38, 15, 11, 5, 3, 8, 15, 14, 32, 42, 17, 28, 12, 19, 39, 3, 7, 12, 17, 14, 4, 26, 13, 16, 11, 29, 24, 14, 12, 32, 2, 40, 9, 8, 11, 9, 5, 22, 29, 4, 14, 6, 7, 4, 8, 13, 6, 10, 3, 10, 13, 38, 3, 7, 8, 6, 4, 7, 4, 2, 34, 10, 11, 5, 10, 7, 7, 25, 12, 13, 4, 8, 21, 4, 8, 11, 30, 20, 5, 11, 11, 6, 16, 12, 4, 5, 3, 8, 13, 4, 19, 5, 9, 11, 17, 10, 9, 7, 23, 4, 28, 17, 14, 15, 10, 14, 10, 4, 8, 22, 9, 8, 6, 8, 3, 16, 21, 12, 7, 9, 4, 4, 11, 6, 4, 18, 3, 13, 4, 17, 3, 3, 11, 13, 11, 3, 8, 15, 15, 5, 11, 13, 5, 13, 5, 5, 9, 4, 9, 8, 8, 7, 8, 30, 2, 9, 3, 24, 4, 4, 22, 10, 37, 11, 7, 10, 7, 39, 6, 29, 32, 10, 5, 22, 4, 8, 10, 17, 19, 8, 30, 9, 6, 39, 21, 5, 8, 3, 7, 14, 5, 2, 8, 6, 15, 11, 4, 8, 9, 12, 7, 19, 5, 5, 16, 36, 8, 4, 11, 9, 11, 7, 8, 7, 5, 8, 8, 21, 10, 8, 8, 28, 20, 9, 6, 3, 10, 19, 10, 3, 8, 3, 3, 22, 5, 4, 6, 9, 6, 4, 3, 8, 2, 18, 15, 25, 19, 6, 18, 22, 2, 9, 10, 8, 4, 12, 6, 6, 9, 5, 6, 8, 9, 4, 13, 9, 15, 2, 6, 8, 22, 12, 3, 7, 4, 7, 4, 6, 4, 13, 17, 12, 5, 19, 13, 8, 38, 6, 7, 7, 26, 22, 31, 28, 7, 21, 9, 33, 8, 22, 7, 6, 13, 7, 22, 3, 68, 14, 19, 29, 40, 2, 5, 56, 21, 44, 37, 4, 7, 9, 5, 58, 13, 15, 12, 12, 5, 11, 51, 39, 20, 58, 77, 20, 27, 4, 10, 22, 33, 26, 6, 17, 6, 18, 135, 20, 51, 52, 7, 16, 11, 6, 51, 11, 16, 23, 55, 5, 10, 13, 6, 9, 31, 4, 29, 23, 21, 29, 8, 40, 34, 11, 11, 17, 9, 27, 13, 7, 28, 6, 12, 72, 42, 10, 22, 12, 16, 14, 10, 11, 32, 38, 12, 17, 9, 6, 5, 28, 19, 1, 6, 8, 67, 3, 9, 82, 26, 51, 25, 65, 10, 31, 33, 11, 16, 30, 11, 12, 8, 29, 63, 3, 79, 32, 9, 44, 12, 13, 18, 11, 10, 16, 66, 44, 16, 10, 35, 11, 76, 25, 19, 32, 14, 45, 8, 55, 11, 42, 22, 4, 11, 15, 73, 70, 4, 33, 47, 60, 15, 16, 42, 11, 4, 45, 25, 23, 33, 11, 21, 45, 16, 16, 12, 36, 25, 84, 61, 9, 8, 27, 68, 62, 22, 6, 10, 21, 39, 42, 20, 18, 6, 24, 9, 45, 7, 4, 12, 27, 10, 91, 32, 49, 22, 2, 6, 6, 6, 4, 24, 72, 32, 25, 9, 28, 15, 19, 5, 18, 9, 4, 40, 37, 6, 19, 22, 5, 16, 5, 8, 34, 8, 2, 12, 4, 20, 13, 10, 20, 11, 26, 46, 14, 9, 22, 6, 57, 63, 43, 8, 5, 11, 6, 25, 15, 20, 9, 3, 18, 11, 34, 5, 22, 3, 13, 13, 22, 26, 62, 57, 37, 10, 43, 76, 5, 5, 54, 66, 11, 23, 13, 23, 29, 71, 14, 29, 9, 6, 86, 19, 5, 28, 34, 12, 27, 16, 20, 33, 9, 22, 21, 42, 33, 8, 28, 4, 6, 30, 31, 8, 26, 15, 10, 19, 9, 8, 25, 15, 10, 32, 20, 21, 12, 12, 29, 13, 34, 18, 14, 15, 8, 12, 28, 15, 6, 11, 7, 12, 11, 19, 30, 26, 11, 24, 4, 14, 20, 24, 4, 8, 29, 21, 16, 4, 17, 15, 4, 9, 3, 20, 38, 9, 19, 10, 5, 7, 23, 31, 3, 3, 37, 25, 12, 15, 4, 15, 30, 12, 25, 26, 19, 21, 30, 18, 17, 25, 7, 6, 34, 11, 27, 7, 22, 8, 7, 7, 23, 27, 11, 19, 20, 28, 15, 32, 18, 11, 24, 18, 31, 17, 10, 18, 28, 19, 18, 21, 9, 39, 30, 27, 3, 18, 17, 19, 11, 30, 36, 29, 20, 17, 29, 6, 17, 33, 28, 17, 34, 7, 7, 14, 16, 30, 13, 29, 19, 11, 42, 18, 3, 20, 10, 11, 10, 24, 15, 31, 8, 10, 29, 16, 11, 11, 15, 6, 4, 25, 9, 13, 24, 32, 18, 30, 34, 35, 25, 10, 22, 21, 31, 5, 23, 10, 8, 16, 27, 28, 19, 27, 10, 20, 28, 17, 7, 16, 16, 17, 13, 11, 22, 29, 13, 20, 12, 32, 10, 7, 30, 17, 20, 9, 14, 22, 9, 21, 15, 13, 20, 39, 21, 10, 9, 20, 21, 27, 14, 13, 15, 16, 8, 39, 6, 4, 35, 10, 4, 18, 32, 9, 23, 10, 32, 24, 32, 32, 30, 5, 20, 16, 34, 12, 43, 5, 13, 15, 10, 12, 6, 38, 30, 7, 17, 32, 21, 24, 20, 11, 6, 10, 7, 25, 23, 29, 6, 7, 32, 4, 33, 8, 13, 12, 27, 8, 26, 15, 20, 18, 6, 34, 14, 25, 11, 3, 14, 14, 28, 11, 10, 7, 12, 33, 31, 19, 18, 7, 16, 15, 12, 21, 13, 6, 17, 18, 17, 32, 36, 26, 23, 17, 18, 32, 27, 23, 3, 29, 18, 35, 17, 33, 24, 19, 9, 40, 19, 11, 17, 3, 31, 19, 19, 22, 25, 26, 6, 23, 9, 10, 8, 17, 22, 24, 21, 27, 17, 30, 14, 22, 16, 19, 14, 8, 8, 24, 19, 8, 13, 26, 27, 38, 14, 30, 8, 14, 20, 13, 13, 11, 29, 16, 10, 31, 31, 13, 27, 4, 15, 34, 34, 23, 21, 18, 20, 25, 9, 11, 10, 19, 18, 26, 6, 5, 6, 26, 27, 29, 25, 20, 14, 17, 27, 11, 11, 20, 32, 27, 22, 32, 27, 21, 11, 18, 15, 18, 30, 24, 34, 38, 30, 21, 12, 33, 10, 29, 20, 19, 30, 31, 14, 9, 21, 35, 16, 32, 28, 34, 13, 15, 2, 21, 17, 33, 5, 12, 36, 7, 30, 33, 30, 42, 30, 12, 29, 38, 15, 11, 6, 29, 4, 10, 13, 8, 28, 31, 6, 13, 32, 29, 28, 11, 18, 12, 16, 23, 10, 27, 25, 30, 21, 24, 8, 15, 3, 28, 26, 16, 18, 21, 25, 10, 22, 8, 29, 19, 17, 23, 21, 6, 22, 19, 34, 9, 30, 22, 25, 23, 28, 32, 16, 22, 34, 17, 10, 19, 33, 34, 19, 26, 3, 24, 20, 16, 22, 25, 23, 26, 31, 26, 23, 13, 29, 7, 18, 22, 32, 31, 4, 30, 9, 32, 31, 25, 27, 30, 19, 23, 8, 14, 27, 31, 6, 14, 19, 30, 31, 28, 23, 28, 34, 29, 22, 8, 9, 6, 34, 30, 32, 34, 28, 31, 23, 19, 18, 35, 35, 36, 26, 10, 30, 31, 19, 3, 31, 28, 24, 17, 24, 16, 20, 34, 32, 26, 11, 22, 12, 15, 27, 12, 33, 6, 35, 32, 21, 22, 13, 27, 15, 10, 14, 9, 23, 3, 12, 6, 22, 22, 25, 31, 21, 25, 27, 34, 28, 15, 29, 17, 9, 30, 6, 26, 19, 13, 12, 13, 5, 18, 26, 6, 9, 9, 17, 22, 35, 19, 8, 31, 13, 30, 18, 27, 31, 5, 9, 25, 26, 11, 29, 13, 25, 40, 18, 7, 19, 27, 14, 9, 17, 28, 32, 26, 28, 8, 22, 17, 32, 5, 7, 17, 19, 24, 21, 13, 35, 31, 12, 36, 36, 27, 12, 22, 16, 19, 6, 5, 21, 24, 25, 34, 22, 33, 38, 31, 16, 30, 30, 15, 30, 12, 29, 6, 22, 9, 17, 28, 32, 29, 4, 8, 16, 23, 23, 27, 12, 25, 29, 7, 39, 26, 19, 23, 17, 25, 19, 28, 21, 19, 28, 25, 19, 28, 11, 36, 14, 7, 7, 26, 19, 26, 19, 12, 18, 28, 4, 38, 21, 13, 6, 32, 16, 13, 29, 17, 25, 13, 14, 14, 14, 30, 11, 22, 21, 30, 8, 13, 6, 7, 5, 14, 29, 9, 6, 28, 17, 11, 17, 29, 19, 22, 19, 29, 11, 15, 25, 24, 4, 11, 21, 8, 9, 16, 13, 30, 16, 8, 17, 8, 10, 30, 14, 10, 11, 5, 10, 16, 16, 12, 29, 33, 31, 25, 20, 10, 23, 30, 6, 20, 24, 5, 15, 25, 11, 8, 3, 28, 24, 24, 22, 9, 16, 25, 16, 13, 30, 7, 18, 8, 5, 7, 30, 18, 13, 21, 7, 20, 21, 19, 16, 37, 12, 4, 9, 26, 37, 17, 35, 16, 18, 16, 21, 18, 14, 21, 24, 32, 29, 21, 30, 33, 20, 11, 12, 22, 12, 31, 29, 7, 34, 20, 23, 9, 7, 28, 26, 12, 17, 14, 37, 7, 13, 15, 15, 24, 30, 14, 13, 11, 29, 18, 12, 27, 14, 17, 18, 9, 19, 29, 5, 5, 20, 3, 19, 11, 4, 36, 39, 12, 5, 4, 10, 21, 18, 33, 31, 16, 21, 33, 32, 25, 32, 30, 25, 14, 24, 20, 27, 19, 10, 14, 23, 28, 5, 17, 26, 30, 19, 8, 33, 31, 19, 15, 25, 5, 25, 11, 46, 30, 32, 27, 18, 13, 12, 10, 29, 30, 12, 17, 25, 32, 28, 20, 26, 31, 17, 9, 31, 15, 9, 30, 11, 26, 27, 5, 18, 21, 20, 30, 34, 33, 25, 33, 25, 28, 31, 33, 14, 26, 23, 16, 36, 18, 28, 11, 31, 34, 13, 41, 24, 16, 13, 11, 28, 25, 19, 32, 16, 33, 22, 5, 13, 23, 13, 28, 4, 29, 36, 30, 22, 16, 9, 30, 24, 28, 35, 21, 17, 10, 19, 25, 11, 8, 18, 21, 23, 28, 30, 19, 8, 37, 9, 13, 28, 14, 22, 12, 11, 7, 22, 7, 14, 27, 26, 26, 7, 6, 18, 10, 31, 21, 21, 20, 29, 27, 31, 33, 13, 33, 22, 8, 18, 26, 10, 25, 9, 28, 32, 11, 5, 7, 17, 15, 10, 9, 32, 14, 16, 23, 16, 13, 24, 30, 14, 10, 6, 18, 13, 19, 14, 8, 24, 17, 21, 8, 21, 14, 34, 36, 21, 33, 27, 32, 22, 15, 16, 28, 18, 6, 12, 27, 34, 22, 32, 12, 28, 25, 32, 11, 13, 10, 17, 21, 32, 21, 5, 37, 30, 23, 28, 29, 27, 41, 27, 29, 13, 13, 39, 20, 32, 8, 7, 20, 35, 28, 17, 21, 14, 16, 7, 11, 12, 33, 11, 30, 10, 36, 14, 7, 21, 11, 7, 23, 17, 29, 31, 13, 14, 22, 24, 32, 19, 22, 8, 23, 20, 13, 8, 24, 32, 11, 9, 34, 35, 38, 25, 26, 12, 24, 31, 14, 28, 8, 25, 18, 29, 16, 24, 5, 16, 27, 13, 21, 18, 14, 9, 14, 19, 26, 19, 9, 14, 28, 8, 15, 7, 10, 30, 8, 12, 26, 22, 28, 22, 18, 38, 5, 7, 28, 30, 9, 26, 10, 25, 35, 19, 23, 27, 12, 7, 30, 33, 28, 19, 16, 31, 28, 10, 21, 12, 26, 27, 27, 25, 9, 22, 29, 6, 10, 17, 26, 9, 11, 10, 28, 26, 5, 14, 31, 34, 35, 28, 8, 16, 29, 32, 28, 10, 19, 37, 7, 12, 10, 30, 33, 19, 32, 15, 25, 25, 39, 23, 10, 7, 27, 22, 18, 19, 12, 25, 15, 31, 3, 14, 20, 16, 8, 11, 8, 29, 19, 4, 34, 28, 31, 9, 7, 10, 8, 11, 11, 3, 8, 26, 23, 4, 34, 18, 7, 27, 8, 18, 8, 26, 5, 11, 18, 24, 26, 18, 9, 41, 25, 8, 16, 25, 11, 7, 31, 18, 10, 34, 28, 24, 18, 28, 33, 7, 10, 30, 25, 25, 31, 19, 7, 21, 13, 6, 21, 22, 12, 20, 28, 28, 45, 14, 19, 14, 23, 10, 26, 23, 16, 28, 11, 6, 15, 6, 35, 11, 6, 19, 16, 19, 41, 4, 12, 16, 20, 12, 13, 14, 20, 31, 17, 12, 28, 17, 4, 11, 20, 32, 31, 21, 30, 30, 8, 19, 32, 8, 27, 20, 34, 18, 17, 32, 12, 14, 22, 7, 23, 31, 9, 10, 6, 29, 25, 5, 12, 15, 20, 30, 31, 21, 23, 31, 28, 8, 3, 15, 29, 27, 29, 19, 18, 28, 25, 6, 20, 17, 3, 40, 36, 20, 15, 22, 27, 6, 16, 29, 5, 19, 26, 34, 28, 17, 7, 37, 12, 23, 19, 18, 23, 11, 24, 27, 21, 36, 23, 10, 30, 9, 17, 27, 40, 27, 20, 21, 14, 24, 33, 30, 35, 29, 23, 23, 32, 9, 10, 11, 28, 10, 19, 24, 33, 25, 37, 35, 22, 33, 22, 10, 21, 6, 34, 31, 15, 30, 33, 17, 21, 9, 20, 26, 32, 25, 15, 32, 12, 14, 23, 6, 21, 21, 13, 15, 17, 28, 29, 32, 23, 28, 18, 20, 25, 11, 3, 8, 14, 26, 12, 6, 30, 10, 12, 7, 11, 30, 31, 16, 28, 32, 34, 29, 9, 12, 28, 29, 9, 34, 24, 31, 25, 19, 35, 25, 19, 29, 7, 11, 15, 24, 5, 12, 6, 11, 30, 8, 16, 23, 6, 28, 16, 27, 12, 15, 19, 11, 11, 16, 25, 13, 30, 26, 37, 15, 14, 17, 29, 26, 14, 20, 18, 7, 15, 9, 22, 8, 4, 12, 12, 29, 29, 34, 32, 21, 35, 19, 18, 14, 17, 11, 12, 32, 21, 20, 33, 13, 15, 29, 32, 17, 11, 22, 26, 8, 11, 23, 17, 18, 38, 29, 11, 28, 32, 9, 11, 15, 11, 28, 11, 16, 28, 7, 11, 16, 11, 17, 34, 31, 31, 12, 18, 28, 11, 19, 13, 22, 18, 27, 18, 30, 36, 19, 11, 23, 20, 27, 28, 19, 31, 28, 27, 14, 28, 27, 17, 8, 24, 33, 13, 22, 38, 13, 15, 31, 15, 18, 36, 28, 11, 27, 7, 10, 42, 36, 10, 35, 22, 14, 10, 36, 22, 27, 33, 7, 34, 30, 31, 27, 30, 50, 21, 33, 20, 22, 28, 19, 24, 35, 20, 26, 20, 34, 27, 15, 4, 36, 21, 19, 27, 31, 25, 37, 25, 22, 7, 39, 21, 30, 14, 23, 20, 29, 13, 6, 33, 25, 31, 30, 29, 11, 9, 19, 22, 30, 8, 28, 43, 20, 32, 25, 34, 31, 31, 20, 15, 21, 27, 14, 11, 30, 19, 17, 20, 25, 16, 24, 20, 19, 30, 38, 31, 14, 35, 21, 8, 7, 21, 23, 20, 34, 8, 13, 32, 14, 16, 7, 11, 25, 32, 20, 21, 21, 12, 19, 30, 25, 15, 19, 32, 12, 24, 10, 18, 18, 15, 25, 38, 27, 12, 7, 10, 29, 15, 9, 18, 31, 31, 22, 13, 18, 25, 8, 31, 20, 21, 6, 7, 28, 25, 21, 22, 8, 4, 29, 11, 3, 42, 9, 15, 10, 21, 7, 12, 26, 13, 25, 17, 37, 12, 35, 26, 23, 34, 22, 34, 14, 18, 29, 14, 18, 26, 4, 31, 24, 17, 22, 32, 5, 33, 33, 20, 18, 5, 22, 22, 10, 26, 14, 30, 21, 21, 30, 34, 30, 22, 25, 13, 11, 12, 9, 18, 28, 40, 17, 34, 5, 21, 13, 3, 31, 7, 19, 17, 10, 24, 23, 29, 29, 6, 8, 24, 9, 29, 32, 27, 26, 17, 25, 22, 28, 23, 27, 18, 25, 28, 9, 20, 4, 32, 26, 14, 44, 34, 9, 10, 9, 5, 30, 17, 10, 15, 23, 6, 35, 7, 15, 31, 14, 24, 5, 12, 14, 17, 24, 28, 3, 8, 6, 16, 19, 6, 10, 10, 34, 9, 34, 21, 30, 24, 21, 35, 30, 12, 34, 30, 6, 29, 32, 33, 11, 12, 14, 10, 30, 4, 30, 23, 13, 26, 5, 12, 17, 12, 31, 32, 24, 8, 25, 28, 8, 18, 19, 19, 35, 22, 31, 16, 16, 39, 11, 13, 23, 7, 16, 25, 23, 34, 24, 24, 13, 5, 29, 5, 25, 9, 7, 18, 16, 28, 19, 31, 28, 7, 24, 19, 41, 13, 20, 42, 30, 22, 17, 4, 32, 12, 10, 18, 18, 12, 23, 38, 23, 15, 27, 16, 31, 15, 19, 12, 28, 18, 23, 4, 30, 32, 6, 16, 24, 34, 22, 14, 12, 13, 9, 30, 15, 4, 19, 30, 23, 5, 31, 13, 25, 8, 29, 31, 22, 31, 6, 33, 20, 24, 22, 26, 25, 39, 28, 15, 25, 21, 28, 15, 14, 29, 36, 5, 29, 30, 18, 23, 30, 35, 7, 18, 9, 31, 27, 17, 30, 27, 11, 28, 3, 12, 18, 26, 23, 31, 30, 10, 26, 8, 17, 20, 7, 30, 24, 32, 10, 25, 34, 30, 13, 25, 30, 28, 21, 22, 15, 24, 17, 27, 6, 4, 8, 16, 27, 27, 25, 18, 19, 24, 19, 35, 13, 32, 33, 10, 19, 8, 32, 12, 14, 17, 4, 4, 10, 27, 8, 15, 8, 34, 6, 20, 8, 8, 30, 26, 19, 15, 17, 20, 20, 17, 21, 15, 7, 31, 22, 28, 27, 12, 22, 20, 13, 15, 32, 24, 15, 25, 24, 10, 25, 6, 22, 29, 29, 12, 20, 28, 13, 33, 21, 31, 29, 12, 26, 14, 18, 24, 31, 28, 5, 14, 10, 18, 31, 30, 6, 24, 20, 27, 33, 4, 25, 10, 15, 12, 3, 21, 28, 35, 18, 42, 20, 19, 19, 27, 6, 28, 25, 15, 13, 26, 18, 29, 12, 8, 8, 14, 5, 13, 20, 14, 20, 24, 22, 21, 25, 22, 29, 6, 24, 9, 23, 17, 3, 12, 12, 16, 21, 20, 25, 35, 33, 15, 4, 16, 14, 16, 35, 29, 19, 29, 9, 28, 22, 7, 28, 9, 28, 7, 6, 18, 24, 17, 25, 35, 21, 13, 29, 16, 17, 18, 17, 29, 28, 17, 21, 12, 7, 22, 24, 31, 5, 30, 20, 27, 31, 28, 31, 35, 8, 31, 33, 10, 9, 31, 11, 7, 36, 37, 21, 36, 27, 20, 6, 14, 12, 27, 11, 11, 12, 31, 13, 24, 25, 9, 5, 19, 19, 31, 32, 30, 31, 29, 15, 27, 22, 39, 7, 11, 32, 22, 14, 30, 8, 27, 18, 27, 33, 28, 33, 39, 36, 34, 34, 21, 26, 8, 31, 27, 35, 12, 13, 16, 18, 22, 2, 32, 5, 30, 7, 7, 6, 35, 25, 12, 11, 18, 15, 31, 30, 9, 24, 6, 16, 14, 19, 13, 31, 37, 18, 36, 10, 30, 25, 20, 25, 32, 20, 28, 34, 31, 6, 19, 31, 32, 32, 27, 15, 29, 15, 10, 27, 30, 11, 28, 9, 11, 16, 25, 14, 11, 8, 3, 24, 33, 17, 31, 14, 7, 17, 26, 6, 13, 27, 3, 31, 18, 24, 6, 16, 11, 15, 8, 17, 10, 27, 10, 38, 35, 21, 24, 24, 22, 26, 20, 8, 5, 6, 5, 17, 7, 5, 28, 10, 26, 20, 7, 22, 16, 17, 20, 5, 14, 12, 7, 28, 6, 25, 22, 7, 31, 16, 35, 29, 27, 29, 20, 9, 10, 28, 3, 17, 18, 24, 18, 29, 7, 32, 21, 27, 9, 30, 18, 14, 26, 28, 4, 15, 9, 30, 23, 31, 31, 15, 19, 34, 26, 20, 12, 17, 30, 11, 13, 9, 6, 12, 21, 28, 29, 10, 30, 33, 13, 9, 34, 12, 29, 29, 15, 28, 36, 38, 22, 8, 32, 29, 29, 14, 18, 5, 30, 31, 32, 11, 10, 31, 29, 23, 24, 24, 32, 19, 18, 31, 13, 25, 32, 41, 32, 31, 25, 12, 9, 22, 33, 17, 7, 8, 11, 11, 28, 25, 14, 9, 31, 21, 32, 13, 26, 24, 33, 16, 27, 33, 35, 27, 32, 25, 19, 12, 12, 22, 18, 34, 9, 28, 20, 31, 31, 16, 31, 16, 12, 31, 27, 6, 9, 14, 15, 29, 16, 14, 28, 29, 9, 9, 34, 36, 21, 30, 12, 20, 7, 29, 14, 17, 9, 8, 32, 11, 13, 38, 26, 26, 32, 21, 17, 7, 12, 30, 30, 12, 29, 27, 17, 15, 13, 33, 13, 27, 33, 8, 24, 18, 27, 25, 15, 23, 21, 34, 10, 25, 12, 35, 31, 5, 29, 27, 27, 11, 30, 31, 9, 8, 7, 6, 9, 32, 14, 27, 32, 14, 5, 10, 8, 8, 12, 26, 4, 21, 30, 26, 18, 22, 31, 3, 33, 34, 23, 11, 12, 21, 13, 12, 15, 18, 8, 17, 12, 7, 13, 9, 4, 37, 12, 14, 22, 8, 7, 33, 28, 34, 30, 30, 16, 21, 8, 18, 8, 13, 33, 14, 30, 22, 11, 25, 31, 27, 32, 33, 16, 21, 21, 20, 35, 23, 16, 9, 19, 29, 29, 9, 19, 29, 16, 34, 32, 24, 37, 32, 33, 34, 13, 33, 20, 20, 28, 12, 12, 28, 15, 16, 24, 33, 4, 9, 25, 8, 11, 11, 31, 30, 10, 5, 31, 15, 25, 32, 51, 18, 28, 15, 29, 28, 26, 18, 18, 7, 33, 18, 35, 24, 23, 23, 13, 17, 15, 22, 12, 31, 12, 19, 34, 16, 13, 35, 14, 31, 30, 26, 33, 17, 20, 12, 10, 28, 21, 22, 15, 19, 11, 35, 5, 15, 17, 25, 14, 15, 30, 22, 13, 25, 24, 21, 31, 32, 28, 19, 14, 26, 21, 20, 6, 22, 25, 24, 36, 21, 30, 15, 7, 30, 20, 17, 32, 27, 36, 22, 26, 10, 17, 37, 22, 7, 15, 36, 28, 33, 21, 25, 34, 18, 8, 9, 26, 17, 9, 21, 4, 30, 16, 25, 17, 36, 27, 9, 24, 5, 27, 20, 24, 7, 18, 10, 20, 29, 28, 26, 11, 14, 22, 22, 29, 11, 6, 34, 29, 27, 17, 21, 19, 5, 10, 24, 33, 22, 41, 9, 12, 29, 11, 26, 30, 14, 15, 30, 11, 32, 22, 12, 12, 31, 24, 9, 8, 32, 12, 31, 32, 15, 25, 20, 22, 28, 10, 28, 11, 34, 38, 38, 21, 24, 9, 22, 24, 34, 9, 18, 18, 22, 34, 18, 24, 13, 33, 26, 33, 20, 10, 17, 23, 16, 10, 24, 31, 18, 10, 26, 8, 29, 33, 11, 25, 30, 4, 41, 34, 26, 19, 37, 33, 34, 29, 35, 23, 32, 9, 18, 39, 26, 8, 21, 3, 30, 28, 20, 30, 34, 33, 16, 27, 31, 9, 13, 35, 21, 24, 28, 12, 29, 35, 39, 29, 31, 12, 18, 34, 38, 19, 10, 16, 8, 15, 33, 17, 15, 18, 35, 20, 9, 11, 34, 28, 27, 25, 35, 25, 12, 27, 27, 16, 18, 7, 16, 7, 26, 33, 24, 19, 10, 23, 11, 32, 39, 21, 19, 10, 21, 34, 27, 14, 10, 8, 22, 25, 8, 31, 30, 21, 21, 28, 20, 24, 21, 32, 12, 7, 30, 22, 32, 27, 11, 30, 15, 29, 30, 29, 12, 22, 17, 36, 29, 21, 27, 15, 15, 16, 11, 24, 22, 33, 19, 16, 16, 18, 20, 9, 12, 26, 11, 7, 21, 21, 9, 8, 26, 14, 30, 41, 14, 29, 31, 33, 7, 32, 11, 35, 32, 15, 36, 24, 44, 11, 38, 9, 7, 33, 18, 19, 22, 23, 19, 15, 21, 29, 6, 33, 17, 23, 31, 23, 18, 29, 33, 29, 26, 28, 27, 27, 18, 11, 35, 36, 29, 5, 30, 28, 14, 18, 13, 21, 12, 7, 29, 24, 38, 17, 7, 31, 30, 13, 23, 29, 21, 23, 32, 28, 16, 16, 36, 19, 23, 36, 11, 15, 38, 13, 18, 34, 34, 10, 19, 39, 11, 15, 21, 13, 28, 36, 16, 33, 12, 35, 27, 14, 20, 35, 32, 15, 7, 19, 27, 21, 21, 10, 11, 20, 22, 6, 17, 9, 12, 12, 15, 13, 8, 11, 20, 21, 22, 15, 31, 8, 17, 9, 29, 35, 28, 34, 10, 31, 39, 23, 21, 21, 17, 13, 34, 42, 11, 15, 23, 27, 4, 33, 34, 16, 11, 31, 12, 28, 34, 26, 30, 12, 28, 10, 25, 9, 31, 11, 6, 31, 29, 32, 33, 24, 14, 21, 12, 19, 22, 17, 23, 28, 11, 35, 34, 28, 15, 13, 11, 21, 29, 27, 28, 33, 8, 22, 36, 30, 9, 28, 31, 18, 21, 17, 30, 30, 13, 30, 24, 16, 6, 31, 8, 31, 6, 31, 38, 40, 14, 27, 17, 27, 11, 28, 28, 31, 24, 17, 16, 21, 27, 20, 21, 26, 22, 11, 32, 19, 15, 32, 14, 17, 15, 31, 16, 33, 17, 32, 32, 12, 12, 34, 11, 26, 17, 20, 18, 14, 13, 29, 9, 18, 18, 9, 27, 23, 26, 30, 10, 4, 9, 24, 18, 9, 13, 29, 20, 15, 23, 33, 21, 17, 19, 24, 21, 34, 26, 35, 26, 8, 4, 11, 26, 33, 22, 28, 14, 30, 14, 12, 20, 28, 3, 6, 23, 17, 12, 32, 24, 12, 36, 14, 35, 31, 24, 29, 16, 21, 15, 23, 25, 36, 20, 12, 41, 32, 19, 18, 20, 25, 29, 36, 7, 12, 38, 17, 13, 19, 27, 12, 20, 18, 32, 31, 18, 8, 17, 15, 27, 24, 17, 14, 12, 25, 19, 28, 24, 45, 38, 22, 29, 15, 20, 27, 31, 14, 15, 25, 38, 34, 22, 23, 39, 17, 7, 32, 27, 19, 15, 5, 29, 7, 29, 32, 21, 22, 26, 16, 31, 25, 23, 31, 20, 33, 18, 8, 12, 23, 6, 32, 4, 15, 27, 3, 26, 30, 22, 27, 22, 24, 26, 26, 26, 29, 18, 31, 18, 6, 34, 34, 33, 26, 34, 10, 21, 27, 5, 13, 15, 28, 24, 35, 24, 17, 19, 28, 28, 32, 5, 41, 35, 35, 15, 15, 29, 17, 8, 35, 5, 18, 31, 28, 16, 14, 21, 23, 20, 20, 36, 18, 22, 11, 20, 32, 20, 15, 34, 13, 6, 28, 38, 13, 35, 11, 15, 5, 32, 16, 14, 30, 20, 31, 8, 23, 20, 7, 8, 21, 27, 30, 23, 35, 28, 28, 28, 5, 32, 21, 35, 18, 28, 37, 39, 17, 26, 31, 22, 24, 30, 15, 21, 8, 5, 32, 22, 8, 32, 29, 11, 24, 25, 33, 22, 20, 44, 12, 29, 30, 14, 25, 25, 29, 6, 34, 20, 20, 26, 40, 15, 19, 12, 20, 33, 26, 6, 9, 28, 4, 14, 37, 18, 27, 24, 17, 35, 30, 16, 32, 31, 15, 12, 10, 31, 24, 41, 10, 29, 11, 9, 31, 11, 30, 27, 34, 29, 32, 28, 35, 8, 10, 21, 0, 22, 29, 30, 26, 28, 37, 31, 38, 9, 24, 8, 13, 26, 22, 26, 17, 28, 25, 18, 14, 28, 21, 11, 26, 32, 16, 27, 20, 25, 25, 10, 32, 19, 6, 13, 32, 29, 15, 20, 20, 10, 29, 7, 30, 21, 17, 18, 21, 9, 23, 21, 17, 25, 18, 6, 10, 34, 13, 37, 7, 21, 5, 16, 17, 25, 21, 29, 17, 10, 6, 13, 36, 19, 13, 15, 8, 21, 13, 10, 14, 26, 16, 31, 14, 17, 29, 25, 25, 29, 13, 23, 27, 28, 14, 11, 14, 9, 10, 12, 17, 9, 42, 25, 17, 14, 41, 19, 21, 15, 33, 35, 10, 25, 28, 24, 20, 40, 26, 16, 5, 25, 35, 15, 31, 20, 31, 29, 11, 31, 18, 27, 28, 23, 29, 27, 9, 13, 17, 21, 30, 34, 23, 32, 9, 27, 14, 17, 13, 30, 34, 30, 24, 28, 31, 10, 28, 19, 21, 7, 20, 15, 19, 22, 18, 19, 32, 13, 22, 15, 10, 32, 13, 18, 35, 17, 8, 12, 28, 14, 24, 10, 23, 26, 34, 33, 30, 29, 6, 29, 8, 17, 27, 22, 11, 6, 29, 29, 30, 20, 24, 29, 4, 12, 6, 17, 24, 35, 21, 22, 30, 21, 35, 38, 10, 17, 29, 27, 31, 18, 10, 12, 33, 25, 26, 24, 17, 29, 19, 12, 24, 18, 14, 24, 32, 24, 30, 15, 34, 28, 34, 15, 18, 17, 21, 29, 36, 23, 30, 29, 20, 27, 30, 8, 12, 32, 38, 23, 7, 26, 23, 33, 32, 34, 33, 25, 18, 37, 12, 15, 12, 34, 31, 27, 12, 7, 25, 25, 26, 35, 12, 13, 23, 11, 9, 12, 22, 23, 41, 20, 32, 22, 32, 43, 15, 5, 9, 19, 32, 26, 27, 7, 28, 31, 35, 23, 24, 25, 30, 33, 13, 12, 14, 11, 7, 17, 20, 7, 22, 24, 25, 17, 37, 22, 36, 23, 31, 4, 27, 12, 27, 13, 8, 10, 19, 15, 18, 17, 10, 12, 32, 23, 23, 16, 31, 16, 13, 16, 15, 18, 9, 22, 17, 14, 22, 25, 8, 15, 7, 19, 9, 29, 26, 21, 10, 40, 20, 22, 30, 15, 16, 35, 29, 28, 14, 15, 23, 16, 17, 14, 14, 15, 29, 8, 23, 14, 17, 12, 7, 24, 16, 35, 21, 9, 39, 25, 30, 21, 18, 10, 21, 22, 22, 33, 14, 23, 18, 25, 26, 17, 32, 20, 30, 28, 29, 28, 27, 37, 15, 14, 20, 33, 9, 29, 21, 24, 28, 31, 27, 10, 30, 28, 16, 36, 8, 28, 7, 13, 7, 32, 17, 15, 32, 30, 28, 7, 9, 33, 32, 37, 32, 22, 33, 30, 32, 13, 28, 21, 32, 28, 20, 21, 15, 10, 16, 25, 34, 22, 28, 34, 29, 30, 29, 22, 29, 23, 23, 6, 23, 17, 16, 7, 6, 21, 12, 33, 25, 34, 25, 26, 26, 31, 26, 41, 23, 12, 27, 22, 4, 17, 23, 14, 18, 26, 16, 38, 39, 32, 23, 16, 16, 8, 24, 28, 10, 10, 23, 22, 17, 29, 29, 20, 23, 26, 17, 17, 32, 35, 17, 12, 27, 30, 20, 19, 13, 17, 31, 11, 9, 22, 26, 11, 27, 14, 24, 29, 37, 33, 32, 21, 26, 19, 25, 20, 25, 19, 34, 33, 25, 33, 27, 28, 29, 34, 7, 12, 15, 35, 28, 5, 16, 9, 15, 27, 23, 12, 9, 20, 16, 21, 18, 28, 15, 21, 33, 14, 15, 26, 25, 33, 50, 23, 19, 9, 37, 27, 25, 29, 20, 18, 15, 23, 22, 26, 35, 34, 33, 35, 30, 32, 26, 23, 31, 31, 17, 15, 7, 13, 31, 27, 32, 15, 10, 21, 12, 23, 26, 29, 5, 4, 8, 26, 12, 8, 17, 20, 34, 23, 29, 29, 22, 14, 9, 6, 42, 13, 9, 25, 29, 6, 29, 16, 19, 24, 25, 9, 13, 27, 40, 32, 18, 10, 16, 32, 31, 10, 20, 19, 26, 12, 7, 28, 29, 26, 30, 28, 11, 29, 29, 25, 28, 34, 15, 12, 30, 31, 7, 7, 25, 26, 33, 35, 15, 21, 18, 6, 24, 7, 27, 15, 12, 17, 26, 24, 34, 28, 6, 31, 30, 23, 29, 29, 31, 29, 34, 16, 42, 25, 28, 30, 14, 12, 15, 22, 20, 27, 9, 27, 20, 24, 23, 21, 26, 14, 32, 8, 15, 12, 35, 23, 30, 19, 11, 5, 9, 21, 20, 16, 6, 25, 9, 33, 32, 33, 17, 25, 16, 26, 29, 30, 17, 11, 35, 28, 34, 6, 34, 11, 24, 24, 12, 18, 10, 25, 20, 33, 12, 34, 14, 20, 30, 27, 12, 9, 38, 29, 12, 16, 29, 38, 15, 40, 14, 17, 7, 17, 16, 21, 18, 23, 28, 15, 11, 9, 35, 20, 25, 23, 33, 9, 10, 12, 4, 35, 29, 13, 19, 26, 18, 34, 23, 26, 31, 11, 8, 19, 18, 26, 23, 19, 14, 14, 12, 31, 31, 25, 39, 21, 33, 28, 31, 13, 8, 19, 15, 6, 27, 24, 17, 17, 19, 6, 67, 17, 37, 30, 21, 34, 28, 14, 11, 11, 9, 36, 32, 29, 37, 20, 32, 37, 15, 31, 22, 38, 24, 10, 17, 20, 22, 6, 22, 33, 22, 14, 30, 25, 31, 14, 28, 33, 29, 16, 20, 34, 9, 19, 13, 43, 23, 14, 25, 12, 13, 11, 30, 14, 11, 16, 26, 29, 8, 24, 18, 15, 13, 8, 8, 37, 35, 12, 27, 12, 14, 5, 15, 30, 32, 33, 29, 24, 19, 24, 11, 10, 12, 10, 21, 10, 22, 36, 29, 28, 30, 15, 19, 32, 14, 25, 32, 32, 11, 5, 35, 33, 38, 32, 31, 28, 20, 36, 10, 22, 9, 6, 14, 14, 42, 33, 38, 44, 9, 34, 8, 6, 6, 10, 12, 9, 4, 15, 19, 12, 12, 20, 23, 22, 26, 19, 27, 22, 4, 20, 28, 20, 22, 22, 28, 32, 13, 28, 22, 28, 23, 23, 22, 7, 11, 31, 32, 9, 29, 30, 17, 27, 8, 34, 43, 29, 23, 35, 6, 7, 15, 13, 28, 28, 8, 26, 21, 33, 27, 16, 29, 11, 31, 34, 34, 21, 36, 29, 34, 20, 26, 30, 15, 7, 21, 25, 30, 15, 11, 15, 26, 19, 30, 29, 33, 30, 8, 27, 22, 19, 11, 11, 25, 19, 24, 13, 29, 25, 14, 36, 35, 16, 20, 38, 23, 26, 33, 16, 24, 13, 5, 8, 9, 21, 33, 8, 30, 5, 15, 32, 20, 14, 30, 11, 9, 10, 21, 11, 30, 31, 27, 13, 17, 12, 22, 20, 31, 37, 26, 20, 22, 23, 31, 15, 12, 17, 38, 36, 36, 35, 35, 29, 10, 29, 16, 10, 15, 7, 18, 27, 33, 11, 18, 27, 17, 22, 25, 34, 18, 27, 15, 35, 28, 38, 8, 24, 16, 32, 37, 28, 35, 16, 35, 31, 24, 21, 17, 13, 22, 29, 10, 14, 14, 7, 29, 21, 30, 22, 29, 16, 17, 8, 20, 14, 11, 31, 17, 21, 34, 30, 7, 5, 21, 20, 11, 9, 15, 27, 10, 26, 23, 24, 10, 9, 33, 28, 9, 28, 20, 31, 30, 31, 23, 21, 12, 28, 23, 15, 14, 16, 31, 30, 22, 26, 20, 19, 36, 22, 11, 16, 12, 11, 8, 24, 8, 29, 34, 17, 31, 32, 27, 24, 23, 7, 19, 21, 16, 32, 9, 6, 28, 15, 23, 20, 19, 35, 9, 7, 16, 13, 37, 12, 30, 18, 36, 26, 17, 8, 24, 22, 38, 26, 22, 28, 21, 30, 22, 21, 11, 27, 19, 4, 31, 16, 37, 12, 22, 14, 26, 20, 23, 26, 33, 30, 10, 37, 29, 31, 11, 39, 11, 24, 25, 22, 40, 30, 43, 32, 20, 19, 21, 12, 17, 20, 28, 15, 25, 9, 10, 36, 7, 13, 30, 14, 34, 23, 46, 14, 32, 25, 5, 32, 31, 20, 29, 34, 14, 23, 17, 22, 20, 21, 17, 19, 32, 27, 33, 17, 31, 24, 20, 16, 37, 18, 12, 8, 30, 42, 20, 10, 6, 11, 17, 20, 21, 12, 13, 30, 12, 12, 27, 28, 35, 31, 10, 21, 12, 22, 16, 24, 23, 25, 21, 17, 29, 13, 29, 26, 6, 23, 19, 32, 17, 32, 12, 11, 31, 13, 26, 15, 20, 29, 15, 15, 31, 27, 16, 27, 31, 15, 22, 10, 10, 20, 23, 21, 12, 8, 31, 27, 15, 11, 23, 33, 37, 20, 10, 25, 18, 13, 15, 17, 7, 30, 26, 32, 7, 31, 35, 21, 31, 23, 31, 5, 23, 25, 23, 19, 30, 12, 14, 18, 13, 18, 21, 45, 4, 9, 26, 29, 41, 8, 23, 14, 35, 34, 33, 12, 26, 16, 20, 20, 5, 7, 22, 11, 31, 14, 33, 16, 14, 35, 9, 31, 24, 33, 30, 22, 26, 11, 31, 15, 7, 13, 31, 16, 26, 28, 26, 15, 26, 31, 11, 27, 5, 27, 11, 37, 14, 28, 10, 15, 14, 14, 31, 5, 22, 15, 25, 5, 9, 37, 30, 27, 35, 18, 19, 9, 7, 31, 9, 22, 25, 27, 16, 23, 25, 24, 11, 9, 14, 28, 10, 21, 17, 13, 8, 31, 34, 16, 31, 27, 33, 17, 30, 15, 25, 19, 20, 24, 10, 20, 28, 30, 17, 22, 28, 31, 28, 27, 14, 6, 20, 34, 32, 33, 16, 32, 24, 14, 33, 11, 16, 35, 24, 10, 26, 8, 19, 26, 24, 33, 11, 17, 23, 24, 30, 35, 31, 29, 58, 29, 13, 17, 34, 21, 35, 9, 22, 12, 18, 17, 11, 12, 9, 19, 10, 11, 26, 28, 13, 25, 20, 31, 31, 32, 13, 6, 23, 31, 33, 17, 4, 16, 10, 34, 37, 6, 10, 9, 36, 32, 7, 28, 26, 27, 24, 35, 9, 35, 12, 18, 21, 10, 37, 32, 40, 34, 19, 6, 30, 26, 16, 11, 19, 17, 37, 28, 28, 22, 31, 35, 40, 15, 25, 30, 19, 25, 19, 25, 27, 12, 12, 9, 36, 27, 7, 32, 34, 16, 17, 15, 13, 24, 15, 22, 4, 22, 5, 29, 28, 30, 14, 23, 31, 32, 32, 10, 20, 12, 46, 27, 12, 14, 25, 37, 13, 23, 18, 7, 20, 23, 4, 22, 22, 10, 25, 18, 10, 28, 16, 31, 28, 19, 7, 13, 37, 9, 9, 15, 16, 12, 17, 29, 27, 30, 31, 22, 39, 32, 20, 20, 18, 36, 28, 7, 6, 32, 12, 10, 19, 29, 13, 32, 13, 15, 31, 13, 18, 20, 21, 33, 20, 19, 31, 24, 31, 36, 12, 10, 21, 27, 11, 21, 25, 7, 17, 23, 24, 18, 18, 5, 13, 28, 17, 14, 12, 31, 28, 32, 37, 30, 24, 20, 27, 35, 16, 23, 40, 31, 26, 29, 29, 26, 19, 14, 9, 18, 12, 8, 30, 32, 16, 27, 17, 18, 25, 12, 23, 23, 27, 13, 29, 15, 17, 31, 23, 12, 33, 26, 7, 18, 5, 23, 21, 32, 35, 18, 7, 9, 6, 29, 28, 9, 21, 19, 35, 11, 29, 37, 16, 31, 20, 11, 36, 21, 39, 29, 6, 16, 29, 19, 17, 15, 35, 4, 18, 19, 9, 28, 20, 15, 21, 14, 27, 19, 9, 20, 20, 5, 34, 14, 23, 19, 31, 18, 29, 20, 26, 7, 28, 32, 41, 25, 14, 16, 29, 31, 24, 3, 29, 9, 9, 30, 6, 23, 17, 29, 17, 15, 17, 33, 30, 7, 20, 18, 8, 9, 14, 14, 30, 46, 25, 24, 12, 28, 21, 30, 17, 22, 32, 25, 10, 27, 18, 14, 14, 34, 11, 9, 40, 32, 33, 7, 26, 27, 3, 6, 12, 27, 23, 19, 11, 8, 16, 32, 15, 21, 8, 18, 31, 28, 10, 27, 15, 15, 36, 27, 34, 34, 15, 26, 31, 26, 19, 31, 32, 20, 20, 7, 10, 29, 32, 36, 41, 13, 16, 28, 18, 15, 11, 26, 21, 30, 23, 27, 12, 7, 13, 15, 26, 19, 15, 19, 24, 13, 10, 8, 21, 7, 16, 30, 14, 10, 32, 6, 13, 18, 15, 15, 11, 19, 19, 33, 20, 9, 21, 28, 13, 15, 23, 12, 32, 37, 35, 35, 27, 24, 16, 30, 34, 20, 23, 40, 34, 17, 29, 28, 11, 14, 9, 22, 33, 10, 24, 30, 33, 12, 25, 15, 22, 24, 17, 23, 21, 22, 18, 36, 29, 21, 15, 17, 8, 13, 8, 33, 10, 32, 26, 24, 21, 32, 28, 21, 22, 10, 19, 17, 27, 19, 34, 14, 17, 3, 14, 28, 10, 26, 9, 17, 16, 29, 16, 26, 6, 33, 3, 12, 13, 19, 26, 30, 29, 6, 17, 11, 33, 21, 26, 26, 18, 35, 30, 18, 30, 30, 25, 25, 10, 13, 19, 6, 10, 32, 12, 24, 26, 29, 27, 6, 25, 26, 37, 21, 11, 11, 13, 7, 31, 9, 27, 22, 36, 35, 30, 7, 7, 31, 9, 15, 31, 24, 26, 25, 9, 18, 23, 18, 15, 8, 7, 23, 12, 23, 29, 25, 27, 27, 28, 7, 27, 26, 31, 21, 22, 30, 33, 24, 12, 16, 23, 18, 13, 22, 16, 17, 30, 9, 15, 12, 15, 8, 23, 29, 35, 35, 28, 14, 25, 29, 8, 5, 28, 28, 36, 5, 8, 30, 26, 34, 34, 7, 8, 12, 23, 8, 16, 37, 21, 8, 43, 28, 23, 31, 28, 28, 43, 32, 16, 12, 13, 14, 8, 20, 33, 29, 28, 9, 19, 8, 5, 24, 21, 24, 34, 35, 22, 13, 30, 21, 36, 27, 9, 13, 23, 17, 21, 17, 25, 32, 12, 11, 29, 20, 19, 17, 8, 19, 13, 16, 27, 7, 20, 28, 33, 32, 28, 15, 5, 36, 35, 6, 26, 23, 20, 29, 9, 25, 24, 24, 32, 23, 10, 20, 27, 32, 25, 19, 33, 32, 27, 11, 17, 15, 32, 12, 17, 23, 26, 6, 7, 17, 36, 24, 17, 12, 30, 19, 18, 16, 19, 30, 10, 15, 6, 25, 18, 20, 28, 7, 16, 24, 18, 20, 21, 22, 34, 33, 36, 33, 20, 21, 19, 18, 42, 22, 16, 36, 26, 30, 33, 40, 28, 26, 29, 33, 35, 29, 9, 23, 12, 24, 29, 11, 34, 8, 28, 36, 21, 13, 19, 16, 32, 24, 34, 7, 29, 17, 26, 12, 13, 16, 33, 22, 32, 30, 29, 22, 5, 9, 15, 10, 25, 22, 6, 28, 24, 31, 31, 22, 33, 18, 29, 17, 15, 15, 31, 9, 8, 3, 1, 1, 4, 4, 4, 9, 31, 3, 16, 2, 32, 39, 11, 28, 14, 16, 8, 3, 10, 24, 25, 7, 6, 33, 3, 19, 86, 15, 4, 4, 29, 35, 19, 11, 15, 17, 5, 8, 9, 11, 8, 5, 6, 9, 6, 3, 15, 13, 12, 4, 11, 42, 6, 3, 15, 5, 15, 13, 14, 4, 13, 5, 4, 8, 2, 10, 6, 9, 8, 39, 9, 6, 6, 10, 10, 11, 10, 28, 16, 22, 7, 10, 2, 14, 8, 3, 7, 28, 10, 3, 11, 4, 17, 10, 17, 5, 10, 6, 5, 5, 9, 7, 6, 12, 7, 7, 24, 18, 24, 5, 5, 11, 4, 37, 15, 11, 46, 25, 3, 3, 36, 3, 66, 6, 12, 9, 11, 14, 10, 12, 10, 16, 7, 11, 7, 23, 17, 7, 9, 4, 5, 13, 5, 1, 8, 6, 33, 15, 6, 3, 2, 9, 12, 11, 2, 25, 2, 13, 13, 26, 5, 12, 14, 49, 6, 24, 6, 27, 19, 23, 11, 21, 8, 6, 4, 6, 14, 4, 8, 11, 3, 15, 8, 7, 10, 3, 11, 5, 11, 32, 17, 10, 20, 11, 13, 5, 3, 15, 33, 5, 11, 7, 2, 8, 9, 6, 16, 17, 8, 24, 5, 5, 10, 22, 4, 38, 101, 8, 9, 18, 5, 9, 8, 29, 24, 2, 1, 27, 8, 13, 5, 11, 15, 9, 30, 10, 13, 9, 8, 5, 2, 8, 14, 12, 27, 16, 9, 45, 7, 4, 12, 13, 50, 6, 7, 8, 3, 6, 11, 13, 4, 10, 26, 4, 28, 8, 27, 12, 19, 6, 10, 6, 33, 6, 3, 20, 4, 2, 2, 8, 9, 6, 4, 2, 2, 11, 21, 16, 6, 6, 10, 5, 4, 69, 18, 4, 13, 12, 2, 8, 5, 16, 4, 35, 7, 5, 6, 17, 3, 4, 7, 42, 14, 30, 15, 8, 6, 4, 33, 12, 6, 11, 5, 11, 17, 7, 8, 6, 12, 14, 3, 3, 11, 36, 9, 4, 9, 9, 11, 24, 46, 22, 12, 13, 8, 8, 22, 25, 8, 5, 8, 1, 2, 17, 11, 18, 5, 10, 21, 7, 16, 42, 30, 11, 4, 2, 11, 7, 25, 10, 13, 8, 10, 22, 8, 41, 29, 12, 14, 6, 5, 11, 4, 44, 7, 8, 11, 7, 4, 14, 11, 15, 9, 8, 32, 15, 11, 11, 7, 2, 8, 8, 5, 13, 3, 7, 6, 22, 7, 9, 7, 34, 15, 19, 11, 17, 13, 5, 13, 14, 11, 11, 13, 4, 8, 6, 18, 46, 17, 8, 7, 24, 7, 3, 52, 30, 2, 25, 17, 23, 5, 7, 2, 1, 10, 8, 9, 29, 3, 16, 8, 10, 107, 6, 2, 8, 5, 12, 3, 13, 8, 4, 3, 14, 8, 2, 6, 12, 30, 17, 4, 14, 9, 9, 18, 21, 7, 41, 4, 17, 24, 12, 37, 7, 7, 5, 16, 17, 4, 9, 6, 55, 63, 36, 11, 10, 7, 8, 20, 9, 4, 17, 10, 5, 7, 24, 28, 5, 3, 1, 4, 13, 5, 18, 6, 7, 10, 8, 8, 11, 5, 25, 9, 21, 13, 2, 39, 12, 5, 4, 10, 3, 12, 19, 4, 2, 14, 2, 5, 11, 9, 6, 8, 4, 10, 19, 12, 19, 39, 28, 22, 9, 19, 7, 12, 6, 4, 4, 10, 5, 11, 23, 13, 12, 21, 11, 75, 29, 24, 26, 26, 9, 30, 8, 12, 6, 10, 16, 4, 8, 30, 6, 12, 5, 4, 10, 9, 7, 14, 11, 5, 28, 6, 9, 20, 3, 12, 7, 10, 6, 5, 43, 15, 64, 6, 9, 2, 15, 3, 7, 3, 6, 8, 3, 7, 9, 8, 8, 25, 4, 34, 20, 1, 36, 10, 13, 7, 17, 21, 4, 55, 10, 13, 14, 11, 9, 7, 14, 4, 14, 12, 4, 1, 9, 11, 6, 7, 10, 26, 3, 25, 10, 1, 41, 20, 9, 39, 1, 6, 29, 10, 11, 26, 9, 12, 6, 6, 17, 21, 2, 9, 18, 33, 11, 5, 5, 21, 31, 22, 69, 10, 23, 13, 16, 13, 6, 12, 16, 14, 11, 22, 6, 7, 38, 10, 6, 15, 2, 20, 10, 9, 7, 15, 39, 17, 3, 13, 8, 8, 20, 16, 6, 6, 5, 11, 17, 22, 10, 17, 18, 5, 8, 3, 44, 7, 9, 22, 21, 11, 3, 11, 2, 7, 12, 9, 10, 31, 10, 12, 15, 17, 3, 14, 11, 8, 2, 6, 2, 4, 22, 23, 4, 23, 6, 14, 17, 21, 11, 4, 58, 16, 9, 17, 8, 20, 25, 1, 12, 12, 8, 10, 13, 10, 32, 6, 9, 6, 4, 27, 9, 8, 3, 19, 12, 4, 5, 56, 6, 21, 5, 16, 21, 2, 6, 4, 22, 10, 9, 4, 8, 9, 16, 5, 8, 2, 15, 10, 5, 37, 11, 2, 12, 4, 5, 10, 2, 9, 15, 5, 5, 40, 7, 4, 14, 24, 32, 32, 9, 7, 13, 26, 10, 5, 10, 35, 18, 11, 25, 3, 3, 5, 6, 7, 13, 58, 13, 13, 7, 30, 8, 16, 22, 11, 2, 11, 2, 4, 17, 10, 30, 22, 53, 29, 6, 24, 7, 27, 9, 28, 13, 10, 10, 30, 6, 28, 11, 14, 16, 3, 11, 8, 10, 29, 11, 6, 7, 15, 17, 5, 18, 4, 41, 23, 63, 21, 5, 12, 8, 7, 10, 6, 29, 7, 46, 12, 15, 48, 37, 4, 14, 17, 4, 16, 37, 20, 18, 17, 10, 19, 3, 9, 10, 7, 13, 4, 17, 16, 7, 10, 3, 7, 14, 12, 4, 12, 17, 4, 3, 25, 2, 5, 7, 26, 10, 14, 6, 18, 5, 16, 22, 34, 13, 15, 14, 12, 1, 14, 28, 8, 3, 6, 11, 22, 7, 6, 3, 11, 4, 12, 28, 4, 10, 24, 12, 7, 21, 17, 10, 2, 6, 6, 4, 34, 11, 10, 29, 5, 53, 5, 7, 7, 9, 13, 19, 8, 7, 3, 15, 8, 12, 3, 18, 4, 21, 35, 8, 38, 8, 4, 24, 9, 13, 26, 4, 102, 119, 7, 3, 45, 4, 9, 9, 18, 6, 19, 27, 32, 6, 7, 21, 14, 9, 26, 10, 9, 10, 7, 16, 2, 15, 3, 9, 19, 9, 17, 24, 234, 18, 17, 11, 7, 7, 5, 11, 6, 5, 2, 14, 15, 36, 16, 4, 8, 8, 5, 46, 9, 7, 21, 14, 9, 13, 5, 10, 20, 7, 20, 8, 15, 25, 8, 6, 36, 8, 39, 22, 9, 10, 3, 7, 9, 15, 7, 24, 29, 4, 2, 21, 1, 16, 62, 9, 23, 13, 8, 17, 7, 18, 13, 18, 8, 3, 8, 13, 7, 14, 5, 17, 18, 18, 11, 1, 11, 5, 10, 8, 1, 6, 4, 19, 28, 2, 9, 2, 36, 21, 2, 14, 15, 30, 410, 3, 8, 6, 46, 6, 18, 8, 11, 14, 22, 13, 49, 6, 12, 7, 8, 7, 5, 26, 2, 15, 13, 8, 12, 18, 5, 8, 29, 23, 10, 44, 4, 6, 11, 9, 7, 9, 17, 45, 3, 4, 11, 6, 19, 11, 28, 21, 42, 4, 14, 12, 3, 2, 4, 4, 7, 22, 1, 4, 5, 5, 5, 14, 8, 9, 87, 50, 30, 37, 13, 8, 16, 4, 6, 11, 5, 17, 66, 6, 6, 5, 1, 6, 4, 3, 12, 7, 30, 2, 15, 10, 6, 11, 5, 5, 17, 15, 3, 19, 3, 8, 12, 8, 24, 15, 10, 9, 6, 4, 15, 6, 11, 5, 5, 5, 7, 13, 15, 166, 6, 13, 29, 8, 5, 11, 6, 6, 5, 8, 8, 30, 21, 5, 6, 18, 8, 7, 16, 13, 28, 16, 28, 3, 12, 20, 66, 6, 2, 6, 9, 37, 4, 2, 24, 18, 11, 17, 11, 7, 7, 8, 23, 10, 47, 11, 5, 12, 11, 10, 12, 18, 4, 16, 17, 8, 18, 19, 28, 15, 40, 8, 9, 3, 10, 6, 7, 21, 27, 17, 20, 14, 3, 7, 7, 20, 11, 6, 6, 12, 25, 5, 2, 3, 5, 14, 6, 3, 7, 8, 10, 2, 8, 7, 17, 7, 11, 9, 8, 2, 15, 1, 9, 5, 6, 11, 9, 14, 11, 25, 11, 29, 4, 4, 25, 11, 6, 11, 12, 19, 10, 3, 6, 7, 9, 124, 8, 2, 10, 18, 8, 14, 5, 3, 6, 18, 3, 8, 14, 12, 9, 5, 4, 33, 8, 19, 3, 6, 8, 27, 11, 35, 4, 15, 9, 11, 6, 3, 10, 21, 3, 17, 10, 3, 62, 3, 39, 17, 12, 12, 23, 7, 4, 6, 8, 13, 2, 19, 12, 10, 21, 17, 7, 15, 3, 14, 3, 8, 6, 8, 11, 17, 8, 5, 10, 11, 3, 4, 20, 2, 4, 14, 5, 13, 8, 6, 2, 16, 8, 78, 10, 3, 16, 17, 8, 56, 4, 11, 22, 4, 15, 5, 9, 7, 3, 7, 10, 9, 7, 8, 18, 6, 8, 32, 25, 6, 13, 10, 8, 19, 1, 10, 11, 24, 25, 51, 48, 29, 11, 53, 7, 19, 5, 1, 47, 10, 27, 25, 5, 7, 12, 19, 8, 5, 8, 23, 18, 6, 21, 9, 17, 16, 21, 5, 8, 4, 5, 15, 15, 6, 7, 6, 9, 6, 7, 4, 26, 8, 2, 6, 29, 4, 6, 47, 60, 25, 11, 8, 25, 10, 20, 42, 19, 7, 4, 23, 2, 36, 4, 5, 11, 3, 11, 4, 4, 23, 8, 5, 3, 24, 1, 7, 8, 2, 34, 22, 12, 9, 4, 8, 9, 10, 4, 9, 16, 7, 4, 13, 20, 8, 2, 8, 9, 18, 14, 13, 12, 6, 30, 37, 10, 8, 88, 33, 3, 29, 2, 7, 11, 36, 2, 15, 4, 4, 14, 9, 4, 3, 4, 43, 4, 14, 4, 7, 5, 21, 1, 7, 33, 9, 3, 5, 18, 3, 11, 6, 6, 6, 9, 6, 18, 11, 18, 13, 10, 12, 6, 10, 29, 6, 19, 11, 52, 7, 31, 3, 53, 6, 77, 10, 16, 12, 3, 12, 4, 14, 17, 7, 14, 2, 11, 13, 7, 11, 19, 8, 15, 9, 3, 10, 33, 14, 10, 15, 29, 13, 14, 8, 21, 40, 6, 3, 8, 13, 57, 10, 66, 3, 3, 6, 9, 15, 16, 8, 24, 5, 10, 14, 7, 26, 9, 6, 15, 8, 15, 15, 6, 7, 14, 9, 3, 10, 6, 16, 8, 15, 8, 37, 17, 11, 36, 57, 9, 9, 20, 5, 15, 15, 5, 8, 7, 19, 19, 9, 25, 7, 6, 7, 17, 8, 10, 56, 2, 9, 45, 6, 5, 9, 31, 20, 21, 10, 13, 14, 12, 6, 8, 5, 7, 47, 8, 8, 23, 10, 4, 18, 7, 8, 8, 20, 26, 6, 10, 8, 15, 1, 8, 9, 38, 12, 7, 9, 11, 8, 5, 12, 6, 14, 14, 26, 6, 21, 62, 2, 5, 69, 18, 17, 16, 8, 11, 6, 7, 8, 7, 29, 5, 15, 25, 7, 3, 12, 8, 3, 8, 24, 17, 2, 9, 12, 7, 19, 25, 30, 15, 8, 3, 3, 11, 8, 8, 2, 11, 1, 1, 7, 7, 27, 7, 38, 6, 9, 32, 2, 7, 34, 1, 5, 23, 31, 47, 17, 8, 6, 39, 28, 15, 3, 1, 8, 1, 8, 3, 12, 4, 13, 2, 9, 6, 27, 7, 12, 22, 4, 24, 12, 11, 5, 6, 8, 15, 3, 2, 75, 2, 19, 15, 27, 17, 8, 3, 21, 8, 10, 3, 7, 8, 2, 1, 12, 15, 22, 16, 10, 23, 10, 3, 14, 9, 1, 16, 4, 4, 10, 4, 39, 11, 25, 37, 2, 7, 12, 14, 21, 2, 7, 5, 18, 4, 15, 4, 8, 9, 18, 7, 6, 11, 41, 7, 6, 12, 8, 8, 16, 24, 14, 13, 12, 4, 3, 9, 13, 8, 5, 2, 12, 4, 8, 3, 15, 13, 15, 14, 76, 12, 14, 7, 9, 14, 39, 12, 22, 12, 3, 6, 25, 6, 29, 18, 12, 19, 7, 25, 3, 5, 6, 102, 5, 3, 9, 11, 9, 4, 19, 37, 18, 33, 23, 9, 12, 6, 13, 22, 10, 7, 8, 5, 3, 5, 10, 20, 7, 7, 13, 44, 12, 12, 87, 10, 27, 4, 11, 15, 3, 12, 14, 15, 9, 12, 6, 8, 9, 5, 7, 11, 10, 17, 4, 6, 24, 16, 5, 7, 7, 4, 9, 5, 4, 6, 15, 8, 9, 54, 30, 7, 16, 10, 13, 38, 17, 14, 80, 12, 11, 4, 2, 15, 30, 10, 14, 15, 14, 18, 45, 42, 6, 26, 31, 21, 8, 47, 6, 5, 98, 4, 8, 3, 14, 2, 29, 6, 14, 19, 12, 6, 20, 5, 8, 6, 25, 3, 5, 24, 11, 7, 4, 5, 12, 7, 7, 15, 13, 21, 9, 21, 12, 4, 5, 20, 8, 9, 7, 10, 43, 10, 5, 6, 8, 4, 6, 40, 24, 4, 13, 15, 5, 16, 2, 7, 23, 11, 12, 14, 2, 11, 2, 3, 14, 16, 5, 9, 5, 16, 5, 12, 30, 4, 36, 12, 13, 2, 42, 19, 14, 31, 14, 23, 17, 17, 17, 4, 4, 6, 23, 6, 7, 11, 3, 12, 2, 3, 6, 8, 7, 5, 11, 10, 15, 9, 6, 7, 2, 1, 41, 20, 5, 32, 1, 8, 8, 12, 8, 23, 4, 8, 12, 14, 9, 7, 12, 6, 8, 13, 9, 15, 5, 14, 8, 9, 15, 19, 17, 14, 3, 3, 16, 14, 5, 6, 27, 10, 11, 25, 6, 12, 7, 15, 16, 8, 23, 28, 7, 10, 17, 9, 12, 8, 11, 30, 8, 11, 31, 7, 7, 6, 1, 9, 7, 11, 7, 14, 1, 6, 10, 30, 24, 33, 8, 18, 49, 16, 18, 4, 7, 14, 11, 4, 8, 4, 2, 6, 40, 5, 2, 5, 10, 31, 2, 5, 12, 15, 17, 3, 7, 6, 3, 37, 11, 9, 6, 2, 15, 10, 12, 8, 48, 10, 19, 4, 13, 12, 16, 18, 7, 6, 8, 6, 9, 7, 13, 5, 25, 8, 6, 24, 13, 11, 13, 8, 9, 50, 2, 11, 2, 24, 3, 9, 21, 1, 16, 9, 9, 16, 6, 16, 16, 19, 14, 6, 8, 84, 3, 20, 1, 7, 2, 24, 3, 11, 3, 5, 5, 12, 12, 8, 8, 4, 18, 7, 51, 2, 20, 12, 66, 5, 7, 63, 19, 10, 23, 20, 6, 7, 8, 13, 4, 9, 10, 11, 6, 7, 19, 9, 18, 14, 6, 20, 12, 8, 7, 39, 7, 6, 60, 7, 10, 9, 28, 19, 8, 7, 45, 9, 24, 3, 21, 6, 5, 9, 9, 10, 23, 2, 3, 10, 7, 39, 9, 12, 15, 3, 9, 21, 9, 13, 12, 1, 20, 9, 7, 31, 4, 13, 14, 4, 33, 10, 6, 10, 5, 31, 3, 16, 3, 14, 8, 9, 10, 3, 7, 93, 6, 7, 21, 10, 11, 64, 10, 5, 5, 9, 10, 15, 7, 2, 9, 29, 4, 11, 32, 10, 16, 5, 9, 14, 11, 7, 12, 3, 8, 3, 6, 6, 11, 11, 73, 12, 6, 6, 38, 5, 4, 5, 19, 4, 4, 9, 9, 10, 4, 32, 16, 7, 45, 18, 12, 20, 4, 8, 10, 3, 43, 3, 1, 43, 12, 5, 10, 2, 7, 23, 3, 9, 20, 7, 11, 12, 5, 14, 4, 10, 6, 17, 50, 19, 14, 3, 13, 8, 8, 12, 14, 10, 7, 4, 8, 7, 36, 15, 5, 5, 17, 30, 9, 9, 5, 15, 3, 10, 20, 17, 51, 3, 9, 25, 12, 19, 4, 61, 3, 20, 6, 17, 6, 4, 200, 37, 10, 31, 3, 16, 9, 3, 18, 9, 4, 6, 9, 20, 8, 10, 4, 8, 7, 6, 6, 9, 17, 9, 5, 9, 4, 8, 12, 5, 16, 34, 12, 24, 8, 8, 21, 35, 18, 14, 4, 10, 10, 5, 16, 6, 5, 4, 10, 4, 11, 13, 12, 11, 39, 8, 5, 6, 10, 31, 7, 9, 5, 8, 6, 9, 38, 62, 8, 7, 6, 19, 4, 14, 10, 45, 4, 3, 9, 37, 12, 4, 10, 6, 16, 45, 17, 26, 7, 2, 6, 23, 6, 30, 4, 14, 4, 8, 8, 18, 12, 10, 15, 24, 7, 36, 4, 8, 18, 2, 12, 44, 11, 25, 7, 13, 18, 10, 13, 17, 7, 26, 7, 7, 7, 9, 4, 6, 23, 4, 5, 12, 4, 7, 29, 7, 29, 26, 23, 16, 26, 8, 10, 1, 21, 25, 15, 12, 18, 13, 3, 16, 7, 8, 14, 4, 40, 21, 14, 10, 7, 8, 18, 4, 7, 65, 6, 55, 6, 58, 12, 12, 15, 13, 17, 13, 26, 13, 40, 6, 10, 8, 7, 8, 11, 7, 15, 7, 7, 6, 6, 18, 6, 11, 6, 8, 4, 5, 7, 3, 7, 8, 8, 4, 9, 18, 8, 4, 3, 6, 15, 27, 6, 11, 5, 7, 3, 12, 4, 7, 11, 17, 8, 8, 22, 13, 14, 9, 11, 18, 7, 12, 15, 64, 11, 20, 31, 10, 53, 13, 8, 7, 8, 3, 34, 6, 6, 12, 6, 53, 5, 7, 27, 13, 12, 5, 5, 13, 17, 4, 8, 3, 4, 4, 14, 43, 7, 5, 9, 199, 9, 29, 5, 10, 5, 15, 4, 18, 7, 31, 5, 5, 6, 6, 21, 9, 7, 9, 8, 11, 11, 6, 12, 16, 32, 5, 17, 12, 14, 10, 17, 15, 21, 4, 132, 56, 8, 73, 20, 20, 7, 27, 4, 10, 8, 4, 7, 6, 4, 27, 12, 2, 9, 16, 6, 6, 7, 12, 12, 3, 6, 28, 11, 23, 5, 4, 12, 15, 7, 25, 10, 10, 8, 16, 17, 8, 8, 19, 10, 6, 18, 9, 12, 23, 15, 9, 16, 10, 5, 10, 11, 4, 69, 7, 2, 8, 34, 7, 5, 23, 21, 15, 16, 9, 2, 18, 18, 7, 8, 55, 12, 11, 2, 44, 22, 13, 20, 12, 21, 33, 10, 12, 2, 7, 16, 5, 8, 5, 48, 8, 9, 30, 14, 8, 5, 15, 50, 4, 4, 11, 22, 7, 10, 47, 24, 7, 26, 2, 20, 10, 11, 14, 15, 5, 5, 13, 12, 13, 9, 10, 15, 13, 8, 8, 7, 7, 11, 8, 12, 20, 10, 10, 4, 8, 12, 12, 9, 7, 12, 2, 32, 3, 9, 77, 18, 2, 21, 4, 3, 3, 10, 7, 10, 41, 27, 9, 2, 6, 12, 23, 8, 41, 17, 4, 3, 3, 41, 5, 71, 3, 5, 29, 16, 10, 2, 8, 39, 13, 11, 1, 7, 62, 21, 5, 43, 3, 32, 11, 29, 14, 17, 2, 27, 5, 7, 9, 9, 2, 6, 9, 20, 8, 2, 5, 36, 6, 13, 10, 28, 8, 6, 6, 11, 5, 21, 4, 22, 14, 24, 29, 4, 14, 6, 20, 6, 61, 12, 10, 8, 2, 18, 10, 11, 5, 9, 5, 8, 5, 8, 9, 36, 4, 6, 20, 38, 9, 6, 17, 8, 13, 12, 20, 9, 13, 14, 7, 19, 10, 13, 8, 18, 20, 2, 6, 11, 7, 5, 5, 9, 7, 14, 11, 13, 6, 7, 11, 8, 9, 3, 3, 14, 9, 6, 9, 17, 3, 7, 4, 7, 3, 11, 16, 6, 15, 10, 2, 3, 10, 55, 26, 10, 5, 14, 5, 13, 4, 19, 28, 12, 4, 12, 21, 18, 15, 10, 6, 7, 12, 4, 12, 5, 19, 2, 13, 25, 6, 30, 24, 7, 26, 7, 70, 7, 6, 4, 44, 19, 10, 20, 7, 15, 17, 4, 9, 15, 7, 6, 7, 22, 4, 4, 3, 9, 6, 3, 28, 24, 8, 9, 9, 12, 54, 7, 33, 4, 22, 8, 4, 14, 9, 8, 16, 17, 14, 6, 2, 3, 14, 11, 2, 13, 8, 4, 10, 10, 16, 15, 4, 7, 5, 17, 9, 9, 19, 8, 12, 5, 36, 9, 3, 27, 14, 15, 11, 6, 7, 13, 8, 26, 17, 9, 23, 36, 8, 20, 6, 8, 4, 15, 8, 23, 15, 5, 33, 19, 11, 22, 7, 15, 3, 7, 2, 39, 10, 27, 6, 14, 8, 15, 7, 13, 4, 8, 6, 4, 12, 12, 7, 57, 13, 15, 5, 11, 11, 7, 13, 18, 12, 8, 10, 12, 32, 103, 9, 2, 31, 9, 8, 20, 27, 15, 9, 10, 21, 9, 4, 22, 8, 8, 29, 27, 30, 18, 48, 7, 5, 31, 16, 6, 5, 12, 4, 5, 4, 14, 10, 10, 21, 16, 8, 4, 2, 13, 7, 8, 9, 12, 15, 11, 33, 36, 15, 5, 21, 2, 17, 4, 18, 10, 26, 14, 38, 9, 9, 5, 9, 4, 9, 6, 9, 6, 33, 12, 24, 22, 3, 8, 20, 8, 21, 10, 12, 5, 7, 10, 8, 29, 21, 16, 18, 37, 7, 2, 7, 5, 11, 21, 7, 23, 12, 18, 7, 7, 4, 11, 57, 7, 21, 11, 10, 7, 23, 8, 10, 9, 164, 12, 24, 11, 19, 9, 23, 15, 1, 5, 12, 9, 25, 11, 9, 9, 30, 6, 3, 1, 16, 8, 10, 30, 13, 7, 6, 8, 3, 8, 4, 17, 4, 16, 3, 6, 13, 6, 32, 11, 5, 24, 19, 4, 70, 19, 10, 42, 6, 35, 9, 7, 14, 32, 5, 2, 15, 3, 2, 30, 6, 9, 18, 6, 1, 3, 11, 3, 5, 9, 8, 12, 11, 50, 26, 7, 6, 11, 8, 5, 4, 10, 5, 6, 14, 13, 14, 14, 3, 17, 8, 18, 0, 4, 8, 56, 3, 5, 2, 11, 8, 2, 31, 6, 8, 21, 8, 20, 22, 43, 13, 8, 12, 13, 8, 2, 37, 13, 20, 55, 5, 8, 5, 10, 5, 22, 2, 3, 18, 5, 5, 16, 3, 17, 13, 3, 4, 8, 14, 14, 8, 3, 12, 40, 10, 26, 8, 24, 6, 6, 26, 7, 22, 8, 35, 7, 5, 17, 9, 4, 4, 12, 4, 15, 2, 8, 16, 6, 19, 15, 10, 6, 24, 6, 37, 23, 50, 6, 11, 6, 10, 6, 10, 47, 3, 28, 8, 16, 5, 29, 13, 38, 21, 19, 16, 28, 34, 22, 39, 20, 13, 40, 5, 7, 5, 7, 13, 8, 16, 12, 6, 5, 26, 5, 9, 9, 8, 69, 32, 3, 3, 5, 10, 34, 26, 7, 8, 19, 15, 15, 9, 9, 4, 4, 3, 9, 12, 64, 5, 11, 18, 1, 63, 6, 7, 12, 5, 14, 8, 9, 4, 8, 65, 35, 14, 38, 2, 13, 4, 7, 11, 27, 3, 4, 8, 46, 3, 22, 1, 7, 19, 20, 15, 5, 6, 10, 11, 26, 15, 6, 10, 13, 7, 26, 4, 11, 1, 4, 5, 10, 10, 11, 10, 14, 17, 12, 9, 5, 4, 10, 7, 10, 34, 34, 7, 14, 6, 18, 14, 38, 7, 6, 11, 19, 8, 9, 7, 12, 7, 51, 10, 23, 5, 6, 13, 6, 6, 3, 18, 5, 12, 26, 6, 7, 6, 29, 6, 10, 3, 4, 10, 4, 17, 84, 14, 32, 13, 8, 2, 9, 12, 9, 13, 14, 49, 2, 7, 30, 12, 8, 3, 10, 7, 10, 32, 18, 7, 9, 6, 19, 15, 3, 15, 11, 2, 46, 35, 5, 12, 12, 40, 120, 11, 10, 21, 48, 6, 7, 6, 6, 17, 5, 6, 8, 3, 9, 1, 18, 9, 40, 11, 13, 33, 7, 19, 18, 9, 8, 30, 23, 4, 34, 7, 5, 6, 4, 11, 14, 8, 21, 8, 3, 5, 45, 4, 20, 27, 6, 19, 26, 10, 7, 7, 6, 4, 44, 12, 3, 12, 11, 5, 4, 19, 6, 16, 6, 17, 21, 17, 10, 24, 12, 6, 3, 13, 2, 12, 18, 23, 4, 19, 11, 22, 31, 6, 3, 7, 5, 9, 22, 3, 10, 17, 21, 11, 12, 10, 30, 7, 10, 19, 12, 259, 14, 25, 10, 3, 12, 12, 11, 7, 17, 8, 10, 9, 9, 13, 8, 4, 4, 3, 27, 2, 32, 5, 11, 19, 49, 6, 9, 12, 10, 12, 11, 6, 2, 8, 2, 23, 3, 2, 13, 8, 3, 7, 6, 4, 2, 8, 11, 10, 17, 20, 4, 3, 6, 8, 12, 8, 5, 4, 4, 23, 2, 9, 14, 7, 7, 18, 7, 3, 4, 5, 17, 7, 8, 7, 6, 1, 17, 2, 3, 12, 10, 12, 6, 18, 19, 5, 5, 6, 11, 12, 13, 61, 7, 15, 7, 9, 6, 5, 4, 6, 14, 19, 36, 11, 8, 14, 9, 6, 21, 11, 22, 43, 15, 23, 14, 7, 7, 5, 5, 5, 13, 47, 10, 15, 9, 8, 5, 26, 9, 14, 10, 3, 7, 9, 8, 62, 17, 17, 8, 15, 20, 28, 4, 8, 10, 39, 55, 8, 8, 32, 2, 3, 29, 15, 5, 8, 2, 4, 8, 11, 12, 10, 11, 3, 4, 40, 7, 8, 13, 16, 19, 1, 22, 49, 13, 21, 22, 9, 24, 14, 11, 9, 7, 12, 20, 6, 5, 11, 64, 11, 10, 11, 3, 2, 12, 4, 8, 27, 10, 10, 25, 4, 3, 32, 2, 6, 8, 4, 39, 8, 11, 8, 29, 4, 7, 3, 10, 15, 23, 3, 19, 6, 8, 6, 4, 2, 5, 14, 10, 9, 16, 21, 11, 16, 5, 14, 8, 46, 4, 9, 7, 4, 15, 4, 11, 47, 27, 14, 9, 10, 11, 11, 5, 20, 14, 6, 2, 16, 11, 11, 6, 6, 2, 9, 2, 7, 6, 6, 4, 6, 2, 12, 5, 6, 6, 12, 12, 8, 9, 11, 8, 41, 5, 1, 6, 4, 8, 10, 6, 7, 16, 43, 15, 5, 5, 8, 20, 15, 11, 35, 4, 15, 19, 10, 61, 11, 45, 6, 7, 4, 13, 10, 7, 16, 9, 25, 11, 14, 27, 12, 29, 20, 11, 12, 9, 7, 4, 10, 6, 3, 19, 9, 25, 14, 4, 2, 7, 8, 16, 14, 10, 12, 3, 9, 31, 61, 13, 9, 5, 6, 12, 21, 49, 19, 4, 6, 7, 16, 19, 12, 25, 2, 5, 10, 5, 16, 12, 8, 3, 6, 3, 19, 6, 9, 28, 8, 11, 25, 11, 12, 20, 10, 14, 41, 10, 16, 3, 21, 26, 8, 15, 4, 4, 7, 29, 3, 30, 24, 9, 34, 19, 8, 12, 25, 3, 10, 24, 6, 31, 14, 34, 5, 20, 8, 11, 17, 4, 15, 9, 10, 13, 13, 8, 34, 7, 16, 31, 8, 25, 10, 24, 3, 6, 7, 11, 21, 28, 2, 5, 11, 13, 8, 3, 5, 4, 20, 9, 14, 3, 5, 9, 27, 14, 5, 10, 33, 8, 9, 12, 9, 12, 18, 15, 4, 16, 6, 16, 7, 4, 2, 2, 9, 3, 8, 7, 34, 28, 9, 23, 3, 11, 7, 9, 2, 2, 6, 20, 9, 16, 33, 19, 27, 5, 38, 23, 13, 5, 7, 22, 18, 8, 11, 18, 25, 3, 10, 16, 24, 5, 14, 27, 6, 8, 32, 7, 8, 48, 12, 16, 12, 37, 8, 35, 6, 8, 21, 33, 9, 9, 54, 7, 13, 11, 4, 12, 10, 68, 9, 5, 14, 14, 45, 23, 11, 3, 13, 17, 9, 15, 18, 7, 4, 9, 14, 8, 6, 10, 61, 17, 4, 9, 6, 9, 11, 28, 30, 14, 13, 29, 17, 5, 12, 13, 7, 20, 6, 7, 9, 5, 8, 42, 11, 2, 29, 8, 9, 3, 6, 12, 8, 12, 12, 12, 8, 5, 12, 13, 10, 38, 8, 19, 9, 34, 2, 9, 8, 17, 10, 5, 14, 6, 6, 13, 4, 6, 39, 20, 10, 13, 9, 11, 82, 4, 5, 6, 32, 4, 18, 9, 13, 8, 7, 12, 6, 12, 9, 25, 9, 40, 4, 21, 3, 6, 13, 9, 42, 12, 12, 12, 8, 9, 33, 28, 9, 37, 8, 12, 6, 73, 14, 21, 46, 20, 5, 4, 37, 10, 13, 19, 8, 7, 6, 10, 6, 15, 9, 10, 31, 3, 5, 7, 22, 12, 4, 12, 9, 7, 6, 25, 31, 36, 16, 11, 9, 19, 9, 53, 4, 10, 4, 26, 2, 6, 17, 17, 8, 12, 13, 33, 6, 43, 8, 56, 4, 3, 4, 11, 5, 9, 4, 24, 36, 5, 17, 70, 8, 16, 11, 9, 12, 1, 8, 30, 9, 8, 4, 8, 25, 42, 2, 6, 49, 21, 30, 13, 23, 3, 9, 14, 12, 10, 20, 12, 9, 34, 11, 13, 19, 9, 20, 20, 10, 5, 10, 10, 59, 17, 2, 12, 8, 13, 35, 32, 5, 48, 9, 11, 23, 18, 27, 9, 2, 9, 7, 8, 14, 13, 11, 8, 10, 29, 4, 30, 13, 3, 7, 7, 8, 5, 17, 14, 18, 6, 27, 6, 15, 5, 9, 3, 11, 9, 6, 8, 9, 26, 17, 9, 10, 6, 3, 5, 11, 34, 5, 6, 5, 7, 9, 25, 5, 13, 30, 9, 26, 3, 1, 14, 5, 8, 49, 9, 27, 5, 8, 9, 9, 28, 8, 6, 5, 8, 21, 8, 6, 16, 8, 61, 26, 4, 2, 26, 3, 20, 7, 16, 6, 4, 34, 57, 6, 5, 19, 23, 7, 11, 10, 13, 10, 41, 7, 12, 19, 11, 4, 4, 11, 29, 17, 25, 4, 4, 7, 5, 11, 23, 11, 5, 5, 13, 6, 12, 8, 9, 12, 5, 8, 12, 9, 19, 7, 4, 4, 31, 7, 28, 7, 22, 8, 4, 34, 20, 13, 33, 51, 6, 66, 8, 20, 12, 31, 16, 7, 22, 14, 10, 34, 1, 10, 4, 8, 3, 11, 14, 9, 7, 11, 6, 27, 13, 5, 16, 8, 5, 49, 17, 4, 4, 17, 2, 4, 39, 15, 8, 11, 3, 5, 10, 13, 15, 12, 13, 30, 34, 9, 19, 9, 16, 6, 15, 10, 19, 52, 6, 6, 9, 9, 20, 5, 12, 7, 13, 15, 4, 9, 5, 9, 5, 37, 15, 14, 8, 17, 10, 27, 10, 19, 17, 10, 8, 6, 5, 80, 15, 2, 7, 6, 10, 25, 3, 4, 1, 13, 15, 8, 25, 12, 23, 4, 4, 19, 43, 6, 33, 9, 3, 16, 14, 12, 20, 68, 18, 6, 6, 7, 14, 4, 13, 21, 14, 15, 9, 4, 9, 10, 7, 12, 43, 5, 4, 14, 2, 7, 5, 3, 51, 2, 11, 61, 3, 17, 12, 5, 17, 150, 4, 31, 1, 5, 56, 12, 8, 36, 10, 4, 12, 4, 8, 29, 10, 7, 4, 8, 6, 18, 9, 4, 13, 34, 9, 5, 12, 12, 5, 17, 2, 9, 3, 17, 8, 9, 5, 9, 11, 11, 15, 7, 13, 8, 8, 15, 23, 4, 4, 8, 23, 6, 14, 18, 12, 5, 6, 6, 1, 37, 43, 2, 4, 6, 20, 28, 4, 14, 22, 10, 3, 9, 12, 20, 5, 3, 17, 37, 16, 31, 29, 25, 10, 8, 10, 18, 26, 6, 14, 6, 0, 17, 6, 5, 53, 13, 16, 6, 4, 10, 9, 12, 4, 6, 44, 20, 10, 22, 6, 9, 4, 8, 7, 6, 42, 14, 15, 6, 5, 6, 6, 10, 159, 5, 8, 7, 3, 8, 108, 11, 14, 5, 14, 16, 9, 15, 9, 3, 8, 4, 6, 13, 2, 9, 6, 2, 12, 37, 4, 22, 4, 25, 17, 12, 3, 5, 11, 4, 12, 23, 9, 23, 8, 29, 12, 8, 5, 4, 27, 1, 43, 5, 17, 12, 7, 7, 9, 9, 3, 6, 26, 32, 20, 11, 3, 9, 6, 6, 15, 12, 4, 12, 14, 10, 7, 4, 9, 9, 4, 4, 8, 5, 30, 4, 6, 8, 5, 7, 8, 17, 11, 12, 12, 8, 18, 13, 11, 29, 6, 10, 11, 8, 8, 10, 12, 2, 14, 19, 4, 6, 10, 11, 2, 10, 17, 7, 56, 14, 35, 10, 8, 7, 15, 12, 12, 20, 16, 5, 9, 10, 8, 5, 4, 14, 20, 58, 14, 19, 10, 5, 18, 16, 15, 18, 10, 19, 7, 3, 8, 6, 13, 3, 8, 10, 8, 17, 5, 7, 2, 9, 5, 13, 11, 9, 19, 8, 27, 3, 9, 8, 10, 2, 10, 21, 9, 13, 1, 1, 8, 11, 7, 12, 12, 3, 19, 23, 7, 5, 8, 24, 6, 6, 3, 31, 16, 3, 3, 4, 13, 35, 14, 11, 10, 12, 5, 13, 9, 5, 20, 10, 10, 6, 30, 38, 9, 96, 8, 14, 17, 3, 3, 5, 3, 6, 10, 13, 8, 10, 8, 16, 8, 2, 3, 22, 17, 2, 14, 9, 16, 19, 11, 8, 8, 25, 5, 3, 5, 10, 39, 8, 14, 6, 7, 8, 11, 6, 6, 9, 9, 147, 19, 3, 4, 23, 22, 9, 6, 6, 6, 10, 17, 16, 5, 5, 5, 3, 23, 2, 33, 4, 11, 7, 23, 7, 9, 20, 5, 4, 15, 17, 4, 5, 32, 50, 7, 3, 12, 8, 10, 10, 11, 4, 13, 10, 15, 9, 32, 13, 24, 14, 10, 6, 8, 12, 4, 3, 9, 17, 6, 14, 8, 5, 7, 14, 8, 26, 11, 19, 21, 13, 17, 2, 18, 33, 2, 15, 6, 3, 5, 7, 16, 37, 18, 13, 2, 11, 3, 10, 5, 26, 5, 5, 5, 5, 20, 6, 11, 18, 16, 14, 21, 12, 22, 11, 8, 7, 10, 15, 7, 14, 15, 37, 10, 5, 13, 6, 15, 2, 26, 17, 1, 20, 7, 10, 15, 7, 3, 6, 19, 9, 10, 13, 43, 16, 10, 10], \"z\": [1, 2, 4, 4, 2, 2, 2, 1, 3, 3, 2, 1, 1, 2, 1, 1, 2, 1, 2, 2, 1, 3, 1, 1, 1, 2, 1, 4, 2, 2, 4, 1, 1, 3, 2, 3, 2, 2, 1, 1, 3, 3, 3, 2, 1, 1, 4, 4, 2, 4, 4, 3, 1, 2, 2, 3, 2, 3, 4, 4, 2, 1, 1, 1, 2, 1, 2, 1, 1, 2, 2, 2, 1, 2, 1, 3, 2, 2, 1, 2, 1, 3, 2, 2, 2, 2, 2, 3, 1, 4, 3, 2, 2, 2, 1, 2, 2, 2, 3, 2, 5, 1, 1, 3, 1, 1, 2, 1, 4, 4, 3, 1, 4, 3, 3, 1, 1, 3, 2, 2, 3, 1, 3, 1, 1, 2, 3, 1, 2, 3, 4, 3, 4, 2, 2, 2, 2, 2, 4, 3, 1, 1, 1, 2, 3, 2, 4, 2, 1, 2, 2, 1, 1, 4, 1, 1, 2, 2, 2, 1, 2, 1, 1, 1, 4, 1, 5, 2, 5, 1, 1, 1, 3, 2, 3, 1, 2, 1, 7, 3, 3, 2, 3, 1, 1, 2, 2, 1, 2, 3, 1, 3, 5, 3, 1, 1, 1, 2, 2, 7, 2, 3, 1, 4, 2, 1, 2, 3, 2, 3, 4, 1, 1, 1, 1, 2, 1, 3, 2, 2, 2, 1, 2, 2, 2, 2, 2, 3, 2, 1, 2, 1, 2, 4, 2, 1, 3, 2, 1, 2, 1, 4, 5, 3, 3, 3, 4, 3, 1, 5, 2, 1, 1, 1, 2, 1, 1, 1, 1, 2, 2, 2, 1, 4, 3, 2, 2, 3, 3, 3, 2, 3, 1, 2, 3, 3, 2, 1, 2, 2, 2, 2, 2, 1, 3, 1, 2, 2, 2, 2, 1, 3, 2, 2, 2, 1, 2, 1, 1, 2, 3, 5, 2, 1, 1, 3, 2, 3, 1, 2, 3, 1, 3, 2, 2, 2, 5, 3, 2, 2, 2, 2, 3, 2, 2, 1, 3, 1, 2, 2, 4, 3, 2, 3, 1, 2, 1, 1, 2, 1, 3, 2, 3, 2, 2, 2, 5, 2, 2, 4, 3, 4, 1, 2, 2, 2, 1, 4, 2, 4, 2, 4, 2, 3, 2, 3, 1, 3, 2, 4, 2, 2, 2, 2, 3, 2, 2, 2, 1, 1, 2, 1, 1, 3, 3, 1, 1, 4, 1, 1, 1, 1, 1, 2, 2, 1, 1, 3, 1, 1, 1, 2, 1, 1, 2, 2, 1, 3, 4, 2, 2, 1, 2, 1, 4, 2, 1, 2, 3, 1, 1, 2, 3, 1, 1, 4, 4, 2, 3, 3, 3, 2, 2, 2, 1, 4, 2, 3, 2, 2, 3, 3, 3, 2, 1, 2, 1, 2, 5, 1, 1, 2, 4, 1, 1, 2, 2, 3, 2, 2, 4, 2, 2, 1, 2, 2, 2, 2, 3, 1, 1, 1, 1, 1, 3, 1, 2, 1, 1, 2, 2, 1, 3, 2, 4, 3, 1, 2, 1, 1, 1, 2, 2, 2, 3, 2, 2, 1, 1, 3, 1, 1, 2, 1, 2, 3, 3, 1, 2, 1, 2, 1, 4, 4, 2, 4, 4, 1, 1, 1, 2, 2, 3, 1, 2, 2, 2, 1, 3, 2, 3, 3, 2, 2, 2, 2, 1, 3, 3, 1, 2, 2, 1, 3, 2, 4, 3, 2, 2, 1, 1, 1, 1, 3, 3, 2, 10, 2, 1, 1, 1, 2, 1, 3, 3, 3, 2, 4, 2, 2, 1, 1, 2, 1, 1, 1, 4, 3, 5, 1, 2, 2, 2, 2, 1, 2, 1, 1, 1, 2, 3, 2, 3, 2, 3, 1, 1, 2, 2, 2, 2, 2, 3, 2, 1, 2, 3, 3, 1, 5, 1, 2, 2, 2, 1, 3, 2, 1, 4, 2, 1, 1, 2, 2, 1, 2, 3, 2, 1, 2, 3, 2, 3, 2, 3, 1, 1, 3, 1, 3, 3, 4, 3, 1, 5, 1, 3, 2, 3, 1, 2, 2, 4, 3, 1, 2, 3, 4, 3, 2, 2, 2, 2, 2, 2, 3, 1, 1, 1, 3, 3, 1, 2, 2, 5, 4, 2, 4, 2, 1, 1, 1, 1, 3, 1, 1, 2, 3, 1, 1, 2, 1, 1, 1, 1, 2, 1, 2, 1, 4, 2, 3, 4, 4, 1, 2, 1, 3, 1, 1, 1, 1, 2, 1, 5, 2, 1, 2, 2, 1, 2, 3, 3, 1, 3, 1, 1, 4, 3, 2, 1, 3, 3, 2, 2, 2, 1, 4, 2, 2, 1, 1, 5, 1, 2, 2, 2, 1, 1, 2, 2, 2, 2, 3, 1, 3, 3, 1, 1, 3, 2, 2, 2, 1, 1, 3, 1, 2, 3, 2, 1, 2, 1, 3, 1, 1, 3, 2, 1, 1, 4, 2, 3, 2, 1, 1, 2, 1, 2, 1, 2, 1, 1, 3, 1, 2, 1, 3, 1, 4, 1, 1, 2, 3, 2, 3, 3, 1, 3, 3, 3, 2, 2, 1, 2, 3, 1, 2, 1, 5, 2, 1, 1, 1, 1, 1, 1, 2, 1, 2, 2, 2, 1, 3, 1, 1, 1, 2, 1, 2, 1, 1, 2, 1, 2, 3, 1, 2, 2, 1, 2, 1, 1, 1, 3, 1, 1, 3, 2, 1, 1, 3, 2, 2, 1, 1, 1, 3, 3, 1, 2, 1, 2, 1, 1, 2, 2, 2, 2, 2, 3, 3, 1, 1, 1, 2, 3, 3, 1, 2, 1, 2, 1, 1, 1, 2, 1, 1, 3, 1, 3, 3, 2, 3, 4, 2, 2, 4, 2, 1, 1, 1, 2, 3, 4, 2, 1, 2, 2, 2, 2, 1, 1, 1, 1, 1, 1, 1, 1, 3, 1, 1, 1, 1, 1, 1, 3, 4, 3, 1, 3, 1, 2, 2, 1, 1, 1, 1, 2, 1, 1, 2, 1, 3, 2, 1, 1, 1, 3, 4, 3, 3, 2, 2, 2, 4, 1, 4, 5, 4, 2, 1, 2, 2, 3, 2, 3, 1, 2, 2, 1, 4, 2, 1, 2, 1, 1, 1, 1, 1, 1, 3, 4, 2, 4, 2, 2, 2, 1, 1, 2, 3, 3, 1, 1, 1, 1, 1, 2, 1, 1, 1, 2, 2, 4, 2, 1, 1, 3, 3, 1, 1, 1, 1, 5, 1, 1, 1, 1, 1, 1, 1, 2, 2, 3, 4, 1, 3, 1, 4, 1, 1, 2, 5, 1, 1, 1, 3, 2, 1, 3, 1, 2, 3, 2, 1, 1, 2, 1, 1, 1, 3, 3, 2, 1, 2, 2, 2, 1, 2, 4, 2, 2, 2, 2, 1, 1, 2, 1, 1, 1, 1, 1, 1, 1, 2, 4, 4, 3, 2, 2, 1, 3, 2, 3, 2, 2, 3, 1, 1, 2, 1, 1, 2, 1, 1, 2, 3, 1, 1, 1, 1, 2, 2, 1, 1, 1, 1, 1, 4, 1, 1, 3, 2, 1, 1, 1, 2, 1, 1, 2, 2, 1, 1, 1, 2, 1, 4, 2, 1, 1, 1, 3, 1, 2, 4, 2, 1, 3, 3, 2, 1, 1, 2, 1, 1, 2, 1, 1, 2, 1, 1, 1, 1, 1, 4, 2, 2, 2, 1, 2, 2, 2, 5, 4, 2, 3, 1, 2, 2, 2, 2, 3, 4, 1, 1, 1, 2, 1, 2, 1, 1, 2, 2, 2, 2, 1, 1, 2, 1, 1, 2, 4, 2, 2, 2, 4, 3, 2, 1, 1, 2, 1, 1, 1, 1, 1, 1, 2, 2, 2, 4, 2, 2, 2, 2, 1, 1, 1, 1, 1, 3, 1, 1, 3, 2, 2, 1, 1, 3, 1, 3, 2, 1, 1, 1, 2, 2, 2, 5, 3, 3, 1, 2, 3, 4, 3, 3, 1, 1, 1, 4, 1, 3, 1, 1, 2, 2, 3, 3, 5, 3, 3, 2, 2, 1, 2, 2, 3, 1, 1, 4, 1, 1, 1, 1, 2, 2, 2, 4, 1, 1, 1, 2, 2, 5, 2, 2, 1, 1, 3, 2, 1, 2, 1, 1, 2, 4, 2, 2, 2, 2, 1, 4, 4, 1, 3, 2, 2, 4, 2, 2, 2, 3, 2, 1, 1, 3, 1, 3, 1, 3, 2, 1, 2, 2, 3, 2, 5, 2, 2, 1, 2, 3, 2, 1, 1, 1, 2, 2, 1, 3, 2, 2, 3, 1, 1, 1, 4, 2, 2, 1, 1, 2, 2, 2, 3, 1, 2, 1, 1, 4, 2, 3, 3, 1, 2, 2, 3, 1, 4, 1, 2, 1, 3, 2, 3, 3, 3, 1, 2, 1, 1, 3, 1, 1, 1, 1, 1, 3, 1, 2, 2, 1, 2, 2, 4, 3, 2, 2, 1, 1, 1, 3, 1, 2, 1, 1, 1, 1, 1, 1, 1, 3, 2, 2, 2, 2, 1, 1, 1, 3, 2, 2, 3, 1, 2, 2, 3, 3, 2, 2, 2, 3, 3, 1, 1, 2, 2, 2, 3, 1, 2, 3, 3, 3, 2, 1, 2, 2, 2, 3, 1, 2, 2, 1, 2, 1, 1, 1, 1, 3, 3, 2, 3, 4, 1, 3, 4, 3, 3, 5, 3, 3, 2, 2, 2, 3, 1, 1, 2, 3, 1, 1, 2, 1, 2, 2, 3, 3, 3, 2, 2, 1, 2, 1, 6, 3, 1, 2, 2, 3, 4, 2, 5, 3, 3, 3, 2, 2, 1, 2, 2, 2, 3, 1, 1, 1, 3, 4, 3, 3, 2, 2, 4, 1, 2, 3, 2, 1, 1, 2, 2, 3, 2, 1, 2, 1, 2, 1, 2, 1, 2, 3, 2, 1, 1, 1, 4, 1, 2, 3, 2, 2, 2, 2, 2, 3, 1, 2, 2, 3, 1, 1, 2, 1, 1, 4, 3, 1, 2, 3, 1, 1, 1, 3, 1, 2, 2, 2, 1, 1, 1, 1, 2, 2, 5, 4, 2, 2, 1, 1, 2, 1, 1, 5, 1, 1, 1, 4, 3, 2, 2, 3, 3, 2, 2, 2, 2, 2, 3, 1, 3, 2, 3, 3, 3, 3, 1, 3, 2, 2, 3, 2, 2, 5, 4, 1, 1, 7, 1, 2, 4, 2, 3, 1, 3, 2, 2, 3, 2, 1, 1, 4, 3, 1, 5, 2, 4, 1, 2, 1, 1, 1, 1, 3, 2, 2, 3, 2, 1, 1, 1, 4, 2, 5, 4, 1, 3, 2, 3, 4, 3, 3, 2, 2, 3, 1, 2, 1, 3, 2, 1, 1, 2, 4, 1, 4, 3, 2, 2, 2, 2, 1, 3, 1, 4, 3, 3, 3, 1, 4, 1, 1, 1, 1, 1, 4, 3, 1, 1, 2, 2, 4, 2, 2, 1, 1, 1, 1, 1, 2, 3, 3, 2, 3, 2, 2, 3, 1, 3, 3, 2, 2, 2, 1, 1, 2, 3, 5, 2, 4, 5, 2, 3, 2, 2, 1, 1, 2, 1, 2, 4, 1, 1, 3, 4, 4, 2, 2, 2, 1, 1, 1, 3, 3, 5, 5, 1, 2, 1, 4, 1, 1, 3, 4, 2, 2, 2, 3, 2, 3, 2, 1, 3, 2, 2, 3, 2, 2, 3, 3, 2, 3, 4, 5, 1, 5, 2, 3, 3, 2, 1, 2, 1, 1, 4, 5, 2, 2, 1, 1, 2, 1, 1, 2, 3, 3, 2, 1, 2, 2, 3, 2, 3, 2, 1, 5, 3, 1, 2, 3, 3, 2, 1, 2, 2, 2, 2, 1, 1, 2, 2, 2, 3, 3, 1, 2, 2, 3, 3, 3, 1, 2, 4, 4, 2, 1, 2, 2, 2, 3, 3, 3, 1, 6, 1, 2, 2, 6, 5, 1, 1, 1, 1, 4, 2, 3, 2, 2, 3, 4, 1, 2, 1, 2, 2, 1, 4, 3, 2, 4, 3, 4, 2, 2, 4, 2, 3, 1, 2, 2, 2, 3, 2, 3, 4, 3, 2, 1, 3, 2, 3, 2, 2, 1, 3, 2, 3, 2, 2, 2, 3, 3, 2, 1, 1, 1, 4, 2, 4, 2, 2, 2, 2, 1, 3, 2, 1, 2, 1, 2, 1, 1, 1, 1, 1, 2, 1, 2, 2, 1, 1, 5, 2, 3, 1, 1, 4, 2, 2, 2, 3, 1, 1, 1, 1, 2, 1, 4, 2, 1, 1, 2, 1, 4, 1, 4, 1, 3, 2, 3, 3, 2, 1, 1, 2, 1, 5, 1, 6, 1, 4, 2, 1, 1, 1, 1, 4, 3, 4, 3, 2, 1, 3, 3, 2, 2, 1, 2, 1, 1, 1, 1, 2, 1, 3, 1, 1, 3, 3, 1, 4, 1, 1, 1, 1, 1, 1, 1, 1, 1, 2, 2, 1, 3, 1, 2, 2, 3, 2, 3, 3, 2, 1, 1, 1, 4, 3, 1, 1, 3, 1, 3, 1, 1, 1, 1, 1, 2, 2, 1, 1, 1, 4, 3, 1, 2, 3, 4, 1, 1, 2, 3, 2, 2, 2, 2, 1, 3, 1, 3, 2, 1, 1, 2, 1, 2, 1, 1, 1, 1, 2, 2, 2, 1, 3, 1, 1, 1, 2, 1, 1, 1, 3, 1, 1, 1, 1, 1, 2, 2, 1, 3, 1, 1, 2, 1, 2, 3, 2, 2, 2, 1, 2, 2, 1, 2, 1, 5, 3, 2, 1, 1, 1, 1, 2, 3, 3, 1, 3, 3, 1, 2, 3, 5, 4, 1, 1, 1, 2, 1, 3, 1, 1, 2, 2, 1, 1, 2, 3, 2, 1, 1, 1, 3, 2, 1, 3, 2, 2, 2, 1, 2, 4, 1, 1, 3, 1, 3, 4, 5, 1, 2, 3, 1, 2, 3, 4, 2, 2, 1, 1, 2, 2, 2, 2, 2, 1, 2, 1, 2, 4, 1, 1, 2, 2, 2, 1, 4, 1, 2, 1, 1, 3, 1, 2, 1, 1, 3, 2, 2, 1, 1, 2, 2, 4, 1, 2, 1, 2, 1, 2, 2, 1, 2, 1, 1, 2, 4, 1, 2, 1, 1, 1, 2, 1, 1, 3, 2, 1, 1, 1, 1, 1, 2, 2, 1, 1, 1, 1, 1, 2, 2, 3, 2, 1, 2, 2, 2, 1, 1, 1, 1, 1, 2, 3, 1, 3, 1, 2, 2, 1, 2, 1, 2, 3, 1, 2, 1, 2, 1, 1, 2, 1, 1, 2, 3, 3, 1, 1, 2, 1, 3, 2, 2, 2, 2, 1, 1, 5, 1, 1, 3, 1, 1, 1, 2, 1, 1, 1, 1, 1, 1, 2, 2, 1, 1, 2, 4, 1, 1, 1, 1, 1, 1, 2, 2, 1, 2, 1, 5, 1, 1, 1, 2, 1, 2, 2, 1, 1, 1, 1, 1, 1, 2, 1, 3, 3, 3, 1, 1, 1, 2, 3, 2, 3, 1, 2, 2, 1, 4, 1, 1, 1, 1, 1, 4, 1, 1, 1, 2, 2, 2, 1, 2, 1, 2, 1, 1, 1, 1, 1, 4, 1, 1, 2, 2, 2, 2, 1, 1, 1, 1, 1, 4, 2, 2, 2, 2, 1, 1, 2, 1, 2, 1, 1, 1, 1, 1, 1, 1, 1, 1, 1, 1, 2, 1, 1, 2, 1, 2, 1, 1, 2, 1, 1, 3, 1, 1, 1, 1, 2, 5, 1, 2, 2, 1, 1, 2, 2, 1, 2, 1, 1, 1, 1, 2, 2, 1, 1, 2, 1, 2, 1, 1, 2, 1, 2, 4, 1, 1, 1, 1, 4, 1, 1, 1, 3, 1, 4, 3, 2, 1, 2, 1, 2, 1, 1, 1, 2, 1, 2, 1, 6, 1, 1, 2, 2, 1, 1, 3, 2, 3, 3, 1, 1, 1, 1, 5, 2, 1, 1, 1, 1, 1, 2, 5, 1, 3, 5, 1, 1, 1, 2, 1, 5, 2, 1, 2, 1, 3, 3, 2, 1, 2, 1, 2, 1, 1, 1, 1, 1, 1, 1, 1, 1, 1, 1, 1, 2, 1, 1, 1, 3, 1, 1, 1, 2, 1, 3, 3, 2, 3, 1, 1, 1, 1, 2, 3, 3, 1, 1, 1, 1, 1, 1, 1, 5, 3, 2, 4, 1, 1, 1, 1, 1, 1, 1, 1, 6, 1, 2, 1, 3, 4, 3, 2, 1, 2, 2, 1, 1, 2, 1, 2, 2, 1, 5, 1, 2, 1, 1, 1, 1, 2, 1, 1, 1, 1, 1, 3, 3, 1, 1, 1, 5, 2, 2, 2, 1, 5, 1, 1, 1, 5, 2, 1, 1, 1, 4, 6, 1, 4, 3, 8, 3, 1, 2, 1, 1, 3, 1, 2, 2, 1, 1, 2, 1, 1, 1, 3, 2, 7, 2, 1, 1, 2, 1, 3, 2, 1, 1, 3, 4, 4, 3, 1, 1, 3, 1, 5, 1, 1, 2, 1, 1, 1, 2, 6, 3, 1, 1, 2, 1, 1, 3, 4, 3, 3, 1, 4, 2, 1, 1, 2, 1, 1, 2, 5, 1, 2, 2, 1, 1, 1, 1, 4, 1, 1, 1, 1, 1, 1, 1, 1, 1, 1, 4, 2, 1, 5, 1, 3, 4, 1, 2, 1, 1, 1, 1, 1, 2, 1, 1, 1, 3, 3, 1, 4, 1, 3, 1, 2, 1, 1, 1, 1, 1, 1, 8, 1, 1, 2, 7, 2, 3, 2, 1, 2, 2, 1, 2, 1, 1, 6, 1, 1, 3, 4, 1, 2, 2, 1, 1, 1, 1, 2, 1, 3, 2, 3, 1, 1, 2, 1, 1, 1, 2, 1, 2, 1, 1, 3, 2, 2, 1, 3, 3, 2, 2, 2, 1, 4, 3, 4, 2, 2, 3, 1, 2, 1, 2, 1, 1, 2, 2, 2, 3, 1, 1, 1, 3, 2, 2, 1, 1, 3, 2, 2, 1, 2, 2, 1, 1, 1, 2, 6, 4, 2, 1, 1, 2, 2, 3, 1, 1, 2, 4, 2, 1, 1, 1, 2, 2, 1, 2, 2, 1, 3, 2, 1, 1, 1, 2, 2, 1, 5, 2, 3, 1, 1, 1, 4, 2, 2, 2, 3, 2, 2, 3, 3, 3, 4, 1, 1, 4, 3, 1, 2, 2, 2, 2, 2, 5, 4, 1, 1, 3, 1, 2, 2, 3, 6, 3, 2, 2, 3, 1, 1, 4, 2, 2, 2, 1, 1, 2, 2, 2, 1, 3, 4, 2, 1, 2, 1, 4, 1, 1, 2, 2, 2, 1, 1, 1, 2, 4, 1, 1, 2, 1, 1, 3, 2, 2, 2, 3, 1, 1, 2, 4, 3, 2, 3, 1, 4, 1, 1, 1, 2, 5, 2, 3, 3, 2, 1, 2, 3, 1, 1, 2, 3, 1, 1, 2, 4, 4, 1, 2, 2, 3, 1, 2, 2, 3, 2, 1, 3, 2, 1, 3, 1, 2, 3, 2, 2, 1, 1, 4, 3, 4, 1, 1, 1, 2, 2, 3, 1, 1, 3, 2, 1, 2, 3, 1, 3, 2, 3, 1, 3, 2, 1, 1, 1, 2, 3, 1, 4, 1, 2, 2, 1, 1, 1, 1, 3, 2, 2, 4, 2, 1, 2, 2, 2, 1, 1, 2, 1, 2, 1, 2, 3, 1, 4, 1, 2, 1, 2, 1, 3, 1, 2, 4, 2, 4, 2, 3, 1, 1, 1, 3, 3, 1, 2, 1, 2, 2, 4, 2, 1, 1, 3, 1, 3, 2, 2, 1, 3, 2, 2, 4, 2, 3, 1, 2, 2, 3, 2, 1, 1, 1, 1, 1, 2, 4, 4, 2, 1, 1, 2, 3, 1, 1, 2, 1, 1, 3, 2, 3, 2, 1, 1, 1, 1, 3, 4, 3, 5, 1, 2, 5, 2, 3, 1, 2, 1, 1, 1, 5, 2, 2, 1, 4, 1, 4, 2, 3, 1, 1, 2, 1, 2, 1, 3, 2, 5, 3, 3, 1, 2, 1, 1, 3, 5, 3, 2, 2, 3, 2, 1, 2, 2, 2, 1, 2, 1, 1, 1, 4, 3, 3, 1, 2, 2, 4, 1, 1, 1, 1, 3, 1, 1, 4, 3, 1, 1, 2, 2, 3, 2, 3, 3, 2, 2, 2, 1, 3, 2, 1, 2, 2, 1, 5, 2, 1, 1, 3, 1, 3, 2, 2, 1, 2, 1, 2, 1, 3, 1, 2, 4, 1, 2, 3, 3, 1, 3, 1, 4, 6, 3, 1, 1, 5, 1, 4, 1, 2, 3, 4, 1, 1, 4, 2, 1, 1, 2, 1, 1, 2, 1, 2, 2, 3, 2, 1, 1, 3, 1, 2, 5, 2, 2, 2, 2, 2, 1, 2, 4, 2, 2, 3, 2, 1, 4, 2, 4, 3, 1, 2, 1, 2, 4, 2, 1, 1, 3, 2, 1, 4, 5, 3, 1, 2, 1, 2, 2, 2, 3, 2, 2, 2, 3, 2, 5, 2, 2, 1, 2, 2, 3, 3, 1, 3, 1, 4, 2, 1, 3, 2, 2, 2, 3, 2, 1, 2, 1, 3, 3, 2, 5, 1, 2, 4, 4, 4, 1, 1, 1, 1, 1, 1, 4, 4, 3, 4, 3, 4, 2, 1, 5, 6, 2, 2, 3, 2, 2, 1, 2, 3, 3, 3, 3, 3, 2, 4, 1, 2, 1, 2, 1, 1, 2, 1, 4, 1, 2, 4, 5, 4, 1, 3, 2, 1, 2, 1, 3, 1, 1, 1, 3, 3, 3, 3, 2, 3, 3, 3, 3, 2, 2, 1, 2, 2, 1, 3, 2, 2, 2, 1, 2, 5, 1, 1, 2, 1, 1, 3, 1, 2, 1, 3, 2, 2, 2, 4, 1, 1, 1, 2, 2, 1, 3, 2, 2, 2, 2, 3, 1, 4, 2, 1, 2, 2, 3, 1, 2, 2, 2, 2, 3, 1, 2, 1, 2, 3, 1, 1, 3, 2, 2, 5, 3, 3, 1, 3, 1, 5, 1, 1, 2, 3, 2, 3, 4, 4, 4, 1, 2, 2, 2, 1, 3, 4, 3, 1, 4, 1, 1, 2, 2, 2, 1, 2, 3, 2, 1, 5, 2, 1, 2, 1, 4, 3, 1, 2, 2, 3, 1, 2, 2, 1, 1, 1, 1, 2, 1, 2, 2, 1, 1, 3, 2, 2, 2, 1, 1, 3, 1, 1, 3, 2, 1, 2, 2, 1, 2, 3, 2, 1, 1, 2, 2, 3, 2, 3, 1, 3, 1, 3, 1, 1, 2, 2, 3, 1, 1, 2, 2, 2, 2, 3, 2, 2, 4, 3, 2, 1, 2, 3, 1, 1, 2, 1, 1, 2, 1, 3, 2, 2, 2, 1, 1, 2, 3, 1, 2, 2, 2, 3, 2, 2, 2, 2, 3, 1, 2, 1, 3, 2, 2, 2, 3, 1, 2, 1, 2, 2, 1, 1, 1, 1, 2, 2, 2, 2, 2, 1, 3, 2, 3, 1, 2, 1, 2, 2, 2, 3, 1, 1, 3, 3, 3, 1, 1, 1, 1, 2, 5, 1, 2, 2, 3, 1, 3, 1, 1, 2, 2, 3, 2, 1, 4, 4, 3, 2, 2, 2, 1, 2, 1, 1, 2, 1, 1, 2, 1, 2, 2, 3, 2, 4, 4, 2, 3, 3, 1, 2, 1, 1, 3, 2, 1, 2, 2, 2, 2, 2, 4, 1, 3, 1, 1, 1, 3, 1, 3, 1, 1, 4, 5, 1, 1, 1, 1, 1, 1, 2, 3, 2, 1, 5, 4, 3, 3, 2, 6, 3, 2, 3, 3, 2, 1, 2, 2, 3, 1, 3, 4, 3, 1, 2, 3, 2, 1, 2, 2, 1, 1, 2, 4, 2, 2, 2, 2, 1, 1, 1, 3, 2, 2, 1, 1, 2, 3, 2, 2, 3, 2, 1, 3, 2, 2, 1, 3, 3, 3, 1, 2, 3, 2, 3, 4, 4, 2, 4, 2, 4, 2, 3, 2, 2, 2, 2, 3, 2, 3, 1, 3, 4, 3, 6, 1, 2, 2, 2, 3, 2, 1, 1, 2, 5, 2, 1, 2, 2, 2, 1, 1, 3, 3, 3, 2, 1, 1, 1, 1, 1, 2, 2, 2, 2, 2, 5, 3, 1, 4, 2, 3, 3, 4, 2, 2, 3, 1, 1, 1, 2, 2, 1, 2, 1, 2, 1, 1, 2, 3, 1, 2, 1, 1, 1, 4, 2, 2, 1, 3, 3, 2, 4, 1, 3, 1, 1, 2, 2, 1, 4, 2, 2, 1, 1, 1, 1, 1, 1, 1, 1, 2, 1, 3, 2, 2, 1, 1, 3, 2, 1, 2, 2, 2, 2, 1, 3, 6, 3, 3, 2, 1, 2, 6, 4, 3, 4, 1, 3, 2, 3, 4, 3, 1, 1, 2, 4, 2, 2, 3, 3, 2, 3, 4, 2, 1, 1, 1, 3, 3, 2, 1, 1, 3, 2, 3, 3, 4, 3, 4, 2, 3, 1, 3, 2, 2, 1, 1, 1, 5, 2, 2, 2, 3, 1, 1, 3, 1, 2, 1, 3, 1, 5, 1, 1, 2, 1, 1, 3, 1, 1, 2, 2, 3, 1, 5, 2, 1, 1, 1, 5, 2, 1, 1, 1, 5, 1, 3, 4, 4, 5, 2, 3, 3, 2, 4, 2, 2, 2, 2, 2, 4, 3, 5, 1, 1, 2, 1, 2, 1, 1, 2, 1, 3, 1, 2, 1, 1, 4, 1, 2, 1, 1, 5, 2, 2, 2, 2, 3, 2, 2, 4, 1, 1, 2, 3, 2, 2, 1, 3, 4, 3, 1, 3, 1, 1, 2, 3, 2, 1, 2, 2, 3, 2, 3, 1, 3, 2, 2, 2, 1, 2, 4, 1, 2, 3, 2, 3, 2, 1, 2, 2, 1, 1, 4, 3, 2, 2, 1, 1, 2, 2, 3, 3, 2, 4, 1, 2, 1, 2, 1, 3, 3, 2, 2, 2, 2, 3, 2, 2, 2, 2, 2, 2, 1, 2, 2, 2, 1, 1, 1, 2, 1, 2, 1, 3, 3, 1, 4, 6, 3, 1, 1, 1, 1, 2, 2, 1, 1, 2, 2, 1, 2, 2, 1, 2, 1, 2, 2, 2, 2, 2, 3, 3, 2, 1, 2, 3, 1, 1, 2, 3, 2, 1, 3, 2, 3, 5, 2, 3, 1, 2, 4, 1, 2, 4, 2, 2, 3, 1, 1, 2, 3, 1, 2, 2, 1, 3, 1, 3, 4, 2, 3, 2, 2, 2, 2, 4, 2, 6, 3, 1, 3, 1, 2, 3, 1, 1, 1, 3, 4, 1, 3, 3, 3, 2, 3, 3, 2, 1, 2, 2, 4, 3, 1, 1, 1, 5, 4, 3, 3, 4, 2, 3, 3, 3, 1, 2, 2, 1, 2, 3, 2, 3, 2, 1, 3, 3, 1, 2, 1, 2, 1, 1, 1, 1, 2, 4, 2, 1, 2, 3, 5, 1, 1, 1, 1, 3, 3, 3, 3, 2, 3, 1, 1, 3, 1, 6, 5, 2, 2, 2, 2, 1, 1, 1, 1, 1, 2, 1, 3, 2, 2, 4, 3, 2, 2, 2, 2, 1, 3, 4, 2, 2, 2, 1, 2, 1, 2, 1, 4, 3, 3, 3, 1, 4, 2, 2, 3, 2, 4, 2, 3, 1, 2, 2, 3, 1, 3, 4, 2, 1, 3, 2, 1, 2, 2, 2, 1, 1, 3, 4, 2, 4, 1, 2, 2, 1, 2, 5, 2, 1, 1, 2, 1, 2, 2, 1, 2, 2, 2, 2, 2, 3, 3, 4, 1, 1, 2, 2, 2, 1, 1, 1, 1, 1, 2, 1, 2, 1, 2, 1, 1, 3, 4, 3, 2, 2, 3, 1, 1, 2, 1, 3, 2, 4, 2, 3, 2, 1, 4, 3, 2, 2, 1, 1, 3, 2, 1, 3, 1, 1, 2, 2, 1, 1, 1, 2, 1, 2, 1, 1, 2, 1, 1, 1, 1, 1, 2, 3, 1, 2, 2, 1, 3, 1, 2, 2, 3, 1, 1, 1, 2, 1, 1, 1, 2, 3, 2, 3, 2, 2, 3, 1, 1, 2, 2, 1, 3, 3, 3, 4, 4, 1, 1, 4, 3, 3, 1, 2, 2, 1, 2, 1, 3, 1, 2, 3, 2, 3, 3, 2, 2, 2, 2, 3, 1, 1, 3, 1, 1, 2, 2, 1, 5, 1, 2, 1, 2, 2, 2, 3, 1, 3, 3, 2, 3, 4, 3, 3, 2, 3, 2, 4, 4, 3, 1, 3, 1, 1, 1, 2, 2, 2, 4, 2, 1, 3, 2, 1, 1, 4, 2, 3, 3, 4, 1, 4, 1, 1, 2, 2, 2, 2, 3, 3, 1, 2, 1, 2, 2, 2, 4, 5, 3, 3, 3, 1, 2, 3, 3, 2, 2, 3, 3, 3, 2, 3, 2, 3, 2, 2, 2, 2, 2, 5, 3, 1, 2, 3, 2, 5, 3, 2, 2, 1, 2, 1, 1, 2, 2, 1, 3, 2, 1, 2, 1, 1, 2, 2, 2, 4, 1, 2, 4, 2, 2, 4, 5, 2, 2, 2, 1, 2, 2, 3, 2, 1, 2, 1, 1, 1, 2, 3, 2, 2, 3, 3, 3, 2, 3, 3, 2, 1, 4, 4, 2, 2, 1, 1, 1, 2, 2, 1, 1, 3, 3, 3, 2, 2, 2, 2, 3, 2, 2, 2, 3, 1, 3, 2, 1, 2, 3, 2, 1, 3, 2, 2, 1, 1, 3, 1, 2, 3, 3, 2, 3, 2, 1, 3, 1, 1, 2, 1, 1, 3, 2, 3, 2, 1, 1, 2, 1, 1, 1, 1, 2, 2, 1, 2, 2, 3, 2, 3, 2, 4, 1, 1, 3, 3, 6, 3, 1, 2, 2, 3, 1, 2, 1, 1, 3, 2, 1, 1, 3, 1, 4, 3, 2, 2, 2, 3, 2, 2, 1, 2, 2, 2, 2, 4, 5, 2, 2, 4, 1, 2, 1, 1, 2, 3, 4, 2, 2, 2, 2, 2, 1, 3, 1, 3, 3, 2, 1, 3, 4, 2, 1, 2, 3, 2, 3, 2, 3, 1, 2, 3, 1, 4, 2, 4, 1, 1, 3, 2, 3, 1, 5, 2, 2, 4, 2, 3, 2, 1, 2, 5, 4, 2, 1, 1, 1, 3, 2, 2, 2, 4, 2, 2, 1, 2, 3, 2, 2, 1, 2, 1, 3, 1, 1, 3, 2, 3, 1, 1, 2, 2, 4, 1, 3, 1, 2, 3, 2, 1, 5, 3, 4, 1, 1, 1, 1, 1, 1, 2, 2, 1, 2, 1, 2, 2, 1, 3, 2, 2, 2, 2, 2, 3, 3, 1, 2, 3, 2, 3, 2, 1, 5, 2, 2, 2, 1, 3, 1, 3, 2, 3, 4, 2, 2, 3, 1, 1, 1, 1, 2, 2, 2, 2, 2, 3, 1, 2, 2, 6, 2, 2, 2, 2, 1, 1, 1, 3, 1, 1, 1, 3, 1, 1, 2, 1, 1, 2, 1, 1, 1, 2, 1, 3, 2, 2, 2, 2, 1, 1, 1, 3, 3, 2, 1, 2, 1, 2, 3, 1, 1, 2, 4, 3, 1, 2, 1, 2, 2, 5, 3, 1, 1, 1, 3, 2, 2, 3, 2, 1, 8, 2, 2, 2, 1, 2, 1, 1, 1, 6, 1, 1, 3, 2, 2, 2, 4, 1, 2, 3, 4, 3, 2, 3, 2, 1, 3, 1, 2, 1, 3, 1, 3, 3, 3, 2, 2, 2, 2, 1, 3, 3, 3, 1, 3, 2, 4, 3, 1, 1, 4, 2, 2, 3, 1, 1, 4, 1, 2, 1, 2, 2, 2, 2, 2, 3, 2, 2, 4, 2, 2, 3, 1, 1, 1, 2, 1, 1, 1, 1, 1, 1, 1, 1, 2, 1, 5, 1, 3, 1, 2, 4, 3, 2, 2, 2, 2, 2, 2, 3, 1, 1, 2, 1, 2, 2, 1, 3, 4, 1, 1, 2, 2, 3, 1, 4, 1, 1, 1, 3, 2, 3, 1, 3, 2, 1, 1, 2, 1, 1, 1, 1, 1, 2, 2, 1, 3, 1, 2, 2, 1, 2, 3, 2, 2, 2, 3, 4, 1, 3, 1, 1, 1, 1, 3, 3, 6, 1, 3, 3, 3, 2, 2, 1, 2, 3, 2, 2, 1, 4, 1, 1, 1, 1, 2, 1, 1, 3, 2, 1, 4, 4, 2, 1, 2, 3, 1, 2, 1, 2, 2, 1, 3, 1, 2, 4, 1, 3, 3, 3, 1, 1, 2, 2, 2, 2, 1, 3, 3, 1, 2, 1, 2, 1, 2, 4, 1, 1, 3, 2, 1, 2, 2, 2, 2, 2, 2, 2, 1, 1, 1, 2, 2, 3, 2, 2, 2, 1, 3, 1, 3, 3, 3, 4, 1, 4, 2, 2, 2, 5, 3, 2, 3, 2, 2, 4, 5, 2, 2, 2, 3, 2, 2, 1, 3, 1, 1, 3, 2, 2, 3, 2, 1, 1, 1, 3, 3, 3, 4, 2, 3, 1, 3, 3, 5, 1, 1, 3, 3, 1, 3, 1, 4, 2, 2, 4, 1, 2, 5, 2, 3, 3, 1, 2, 2, 2, 3, 3, 1, 3, 2, 2, 2, 1, 4, 2, 3, 1, 2, 1, 3, 2, 2, 1, 2, 1, 2, 1, 1, 3, 1, 1, 2, 2, 2, 2, 2, 3, 3, 3, 3, 2, 4, 1, 3, 1, 5, 2, 3, 1, 2, 4, 3, 4, 4, 1, 2, 2, 1, 2, 2, 1, 4, 1, 1, 1, 2, 2, 1, 2, 1, 2, 3, 3, 4, 3, 1, 1, 1, 1, 1, 2, 1, 4, 1, 3, 2, 2, 2, 4, 2, 4, 1, 1, 1, 3, 2, 3, 4, 1, 2, 2, 2, 1, 1, 2, 1, 1, 1, 1, 1, 1, 3, 3, 2, 2, 2, 1, 2, 1, 1, 1, 1, 2, 1, 3, 3, 1, 3, 1, 3, 2, 3, 2, 1, 2, 2, 3, 1, 2, 2, 1, 4, 3, 1, 2, 2, 2, 1, 4, 2, 3, 3, 2, 1, 2, 1, 1, 3, 2, 2, 2, 1, 1, 4, 3, 2, 2, 2, 1, 1, 1, 1, 3, 3, 2, 2, 2, 2, 3, 2, 2, 2, 2, 4, 2, 2, 4, 2, 6, 3, 1, 2, 1, 3, 1, 2, 1, 1, 3, 4, 2, 1, 3, 2, 2, 3, 1, 2, 2, 2, 2, 2, 3, 2, 2, 3, 2, 4, 1, 1, 3, 2, 2, 2, 2, 2, 1, 1, 1, 3, 2, 4, 2, 2, 1, 2, 2, 5, 1, 2, 4, 7, 3, 4, 2, 4, 1, 1, 3, 2, 4, 1, 2, 2, 3, 3, 3, 2, 1, 1, 3, 3, 1, 2, 1, 2, 3, 2, 1, 3, 3, 1, 1, 3, 3, 2, 4, 2, 3, 1, 2, 1, 4, 2, 2, 2, 2, 2, 4, 4, 3, 2, 3, 2, 1, 1, 3, 3, 2, 2, 3, 1, 4, 1, 2, 2, 4, 2, 1, 2, 2, 4, 3, 3, 4, 1, 3, 2, 2, 1, 2, 3, 1, 1, 2, 2, 1, 4, 3, 2, 1, 1, 1, 1, 3, 2, 4, 2, 1, 1, 2, 2, 2, 2, 1, 1, 2, 2, 3, 1, 3, 4, 1, 3, 3, 2, 2, 2, 3, 2, 3, 2, 6, 2, 2, 2, 1, 1, 1, 1, 1, 2, 2, 3, 1, 1, 2, 2, 3, 3, 2, 3, 3, 1, 1, 1, 2, 5, 2, 1, 1, 1, 2, 4, 3, 6, 6, 1, 4, 3, 1, 3, 2, 4, 1, 2, 2, 3, 2, 2, 2, 1, 2, 2, 1, 3, 2, 1, 2, 1, 3, 1, 2, 1, 2, 3, 3, 2, 1, 1, 3, 1, 2, 2, 1, 2, 2, 3, 3, 2, 1, 3, 2, 3, 2, 2, 2, 1, 2, 1, 2, 1, 3, 1, 1, 2, 2, 3, 2, 2, 3, 3, 2, 2, 4, 2, 3, 2, 1, 2, 2, 3, 4, 3, 4, 3, 2, 3, 2, 1, 2, 2, 3, 1, 1, 3, 2, 1, 5, 1, 2, 1, 3, 1, 1, 2, 3, 1, 2, 1, 1, 1, 1, 3, 2, 2, 3, 1, 1, 1, 4, 2, 1, 5, 3, 3, 2, 1, 4, 3, 2, 2, 1, 6, 1, 2, 1, 3, 6, 2, 1, 2, 3, 3, 3, 3, 2, 4, 1, 1, 1, 3, 2, 1, 2, 1, 3, 2, 3, 2, 3, 1, 2, 3, 1, 3, 1, 2, 1, 2, 1, 2, 4, 5, 2, 1, 2, 2, 3, 2, 1, 2, 1, 2, 2, 4, 2, 1, 1, 1, 3, 3, 3, 4, 1, 2, 2, 1, 3, 2, 2, 1, 3, 1, 4, 2, 1, 2, 3, 2, 2, 2, 2, 2, 2, 3, 1, 1, 1, 1, 4, 3, 5, 1, 2, 1, 4, 2, 2, 2, 2, 2, 4, 1, 2, 1, 3, 2, 3, 2, 2, 2, 3, 2, 1, 1, 2, 3, 3, 1, 2, 2, 2, 1, 1, 1, 3, 3, 1, 3, 2, 1, 3, 4, 1, 2, 4, 3, 3, 2, 4, 1, 1, 1, 2, 4, 2, 1, 3, 1, 1, 2, 2, 3, 1, 3, 2, 3, 2, 1, 2, 2, 1, 2, 2, 1, 3, 1, 4, 2, 4, 1, 2, 3, 3, 2, 1, 1, 1, 1, 2, 2, 1, 2, 3, 2, 2, 1, 1, 1, 1, 1, 2, 1, 2, 2, 5, 1, 1, 1, 1, 1, 3, 4, 3, 2, 1, 1, 2, 4, 3, 3, 2, 2, 1, 2, 2, 1, 1, 1, 3, 3, 1, 2, 5, 2, 1, 2, 3, 2, 1, 1, 3, 2, 3, 1, 5, 4, 1, 5, 2, 4, 3, 3, 1, 2, 1, 4, 3, 2, 3, 3, 3, 3, 2, 2, 2, 5, 1, 1, 1, 2, 2, 2, 1, 3, 2, 1, 2, 1, 2, 1, 2, 1, 2, 3, 3, 1, 4, 3, 1, 4, 1, 3, 4, 4, 3, 1, 4, 1, 4, 1, 1, 1, 2, 2, 3, 2, 2, 2, 1, 4, 1, 5, 1, 1, 3, 2, 2, 2, 2, 2, 4, 1, 2, 2, 1, 2, 3, 2, 3, 1, 3, 5, 2, 3, 1, 2, 1, 1, 1, 1, 1, 1, 1, 2, 1, 1, 1, 3, 2, 2, 3, 3, 3, 1, 2, 3, 2, 2, 1, 2, 2, 2, 2, 3, 3, 2, 2, 3, 2, 2, 2, 1, 2, 2, 2, 5, 2, 3, 4, 1, 3, 2, 2, 1, 2, 2, 2, 1, 2, 3, 1, 1, 1, 1, 3, 1, 2, 1, 3, 3, 2, 2, 1, 2, 1, 1, 3, 1, 1, 2, 4, 1, 4, 3, 1, 1, 2, 2, 3, 2, 1, 2, 3, 1, 3, 2, 2, 2, 1, 3, 2, 1, 1, 4, 2, 2, 3, 2, 4, 1, 3, 1, 3, 2, 2, 3, 1, 3, 1, 2, 3, 2, 1, 3, 3, 3, 3, 1, 3, 2, 2, 1, 1, 1, 1, 2, 1, 4, 3, 2, 2, 2, 1, 2, 3, 3, 2, 4, 1, 2, 3, 2, 2, 2, 2, 1, 3, 2, 1, 2, 1, 3, 1, 2, 4, 2, 1, 1, 1, 1, 1, 3, 4, 2, 3, 3, 2, 4, 2, 1, 2, 3, 1, 2, 1, 3, 3, 1, 2, 1, 3, 4, 1, 5, 3, 5, 4, 1, 1, 4, 1, 2, 3, 2, 1, 1, 1, 5, 1, 1, 1, 3, 2, 2, 1, 1, 1, 1, 1, 2, 2, 1, 2, 2, 3, 3, 3, 2, 3, 1, 3, 3, 2, 4, 2, 6, 3, 1, 1, 1, 2, 5, 3, 2, 1, 2, 2, 1, 3, 4, 1, 1, 1, 1, 3, 1, 2, 2, 4, 1, 2, 3, 1, 4, 4, 1, 1, 2, 1, 4, 2, 3, 5, 6, 2, 2, 1, 3, 2, 6, 1, 2, 4, 3, 1, 1, 3, 1, 2, 2, 1, 2, 1, 1, 2, 1, 1, 2, 2, 2, 1, 1, 1, 2, 3, 2, 4, 2, 2, 3, 1, 1, 1, 3, 3, 3, 1, 3, 3, 3, 4, 2, 2, 3, 2, 1, 1, 1, 2, 1, 1, 2, 5, 5, 1, 2, 4, 3, 2, 2, 2, 5, 1, 1, 3, 3, 1, 3, 1, 2, 1, 1, 2, 5, 2, 1, 1, 2, 2, 2, 2, 4, 2, 3, 3, 1, 4, 3, 2, 3, 3, 1, 3, 4, 1, 1, 1, 4, 2, 2, 3, 2, 1, 3, 2, 2, 1, 4, 5, 2, 1, 2, 2, 2, 1, 3, 1, 3, 1, 2, 2, 2, 2, 3, 1, 2, 4, 1, 4, 1, 2, 3, 2, 3, 1, 2, 1, 3, 2, 2, 3, 2, 1, 1, 1, 2, 1, 2, 2, 1, 1, 2, 1, 2, 2, 3, 3, 4, 2, 3, 1, 4, 3, 1, 2, 1, 3, 2, 2, 3, 4, 2, 2, 2, 4, 3, 4, 2, 2, 2, 2, 3, 2, 1, 5, 2, 2, 3, 1, 3, 3, 4, 4, 1, 1, 2, 2, 3, 3, 2, 1, 4, 1, 2, 2, 4, 1, 1, 2, 1, 3, 3, 1, 2, 3, 1, 1, 3, 1, 3, 2, 1, 2, 3, 1, 3, 1, 3, 2, 1, 3, 2, 4, 1, 1, 1, 1, 2, 2, 2, 2, 3, 4, 2, 2, 2, 1, 2, 2, 1, 4, 3, 2, 4, 3, 2, 2, 2, 1, 3, 2, 1, 1, 1, 3, 2, 2, 3, 1, 1, 2, 2, 1, 3, 2, 3, 1, 3, 4, 3, 2, 3, 3, 1, 1, 2, 2, 4, 1, 3, 3, 2, 1, 3, 2, 2, 2, 2, 2, 1, 2, 5, 3, 1, 2, 2, 3, 2, 1, 2, 2, 1, 1, 1, 1, 2, 4, 2, 1, 1, 1, 5, 3, 1, 1, 2, 1, 1, 1, 1, 2, 2, 2, 3, 1, 2, 2, 3, 1, 1, 3, 3, 4, 1, 1, 1, 1, 2, 1, 2, 1, 2, 3, 2, 3, 3, 2, 2, 1, 2, 2, 2, 3, 1, 2, 2, 5, 2, 1, 1, 3, 5, 1, 2, 2, 4, 3, 4, 4, 4, 1, 1, 2, 3, 1, 1, 1, 3, 2, 2, 5, 2, 3, 2, 2, 2, 2, 1, 3, 1, 3, 2, 3, 2, 2, 2, 2, 3, 1, 1, 3, 2, 3, 3, 2, 3, 2, 3, 3, 2, 4, 2, 3, 2, 2, 2, 2, 2, 1, 2, 2, 2, 2, 3, 4, 2, 2, 1, 5, 1, 1, 2, 2, 2, 1, 3, 3, 3, 3, 3, 2, 1, 2, 2, 3, 2, 3, 2, 2, 2, 1, 1, 1, 2, 1, 2, 3, 3, 2, 2, 1, 4, 4, 2, 1, 2, 2, 2, 2, 1, 1, 1, 1, 1, 2, 1, 2, 1, 1, 1, 1, 1, 1, 1, 3, 4, 3, 1, 1, 2, 3, 3, 2, 1, 4, 2, 2, 1, 4, 2, 4, 5, 4, 2, 2, 3, 1, 1, 2, 1, 4, 3, 2, 1, 1, 1, 1, 3, 4, 1, 2, 4, 1, 2, 2, 2, 3, 4, 1, 4, 1, 2, 3, 1, 1, 1, 2, 2, 3, 2, 2, 2, 3, 5, 1, 1, 1, 2, 3, 2, 2, 1, 1, 1, 1, 3, 1, 3, 2, 2, 2, 4, 1, 3, 2, 3, 1, 1, 5, 3, 1, 3, 2, 2, 2, 2, 3, 2, 2, 3, 3, 4, 4, 2, 2, 1, 2, 3, 1, 1, 2, 2, 1, 2, 2, 2, 2, 1, 2, 2, 1, 2, 1, 2, 4, 2, 1, 2, 1, 1, 2, 2, 3, 2, 1, 2, 2, 1, 1, 1, 1, 1, 1, 2, 3, 2, 1, 1, 4, 2, 2, 3, 2, 5, 3, 1, 4, 2, 1, 2, 2, 2, 1, 1, 2, 1, 4, 2, 4, 4, 1, 3, 2, 1, 4, 3, 5, 3, 2, 2, 2, 1, 3, 3, 2, 2, 3, 4, 1, 3, 1, 2, 3, 1, 3, 1, 1, 1, 1, 2, 1, 2, 2, 2, 1, 1, 2, 2, 3, 2, 2, 6, 2, 5, 2, 2, 1, 5, 2, 2, 3, 2, 1, 2, 2, 3, 4, 3, 3, 2, 3, 2, 2, 5, 5, 3, 1, 1, 3, 1, 1, 1, 1, 1, 2, 4, 4, 2, 2, 5, 5, 2, 2, 2, 3, 1, 1, 1, 1, 2, 2, 2, 4, 2, 3, 3, 4, 1, 2, 3, 2, 5, 3, 1, 1, 2, 3, 2, 1, 1, 1, 3, 3, 3, 2, 5, 2, 4, 2, 2, 3, 2, 2, 2, 1, 1, 2, 2, 1, 1, 3, 2, 3, 2, 3, 3, 2, 2, 3, 2, 4, 2, 2, 2, 2, 4, 2, 4, 3, 1, 1, 4, 4, 1, 2, 2, 5, 3, 1, 2, 2, 4, 4, 1, 1, 1, 2, 2, 2, 2, 4, 1, 3, 3, 2, 1, 2, 3, 4, 2, 2, 3, 1, 2, 1, 2, 3, 1, 2, 2, 2, 3, 1, 2, 4, 6, 5, 2, 3, 3, 2, 1, 1, 2, 3, 1, 2, 3, 3, 3, 2, 1, 1, 1, 1, 2, 3, 1, 1, 3, 4, 2, 2, 3, 4, 3, 2, 4, 2, 3, 2, 1, 1, 5, 2, 2, 2, 3, 1, 2, 1, 2, 3, 3, 2, 2, 2, 3, 2, 2, 1, 1, 3, 2, 1, 1, 1, 2, 1, 1, 1, 3, 4, 4, 3, 1, 3, 2, 2, 2, 3, 2, 2, 4, 5, 2, 1, 2, 1, 3, 4, 2, 2, 3, 1, 1, 1, 2, 1, 1, 1, 4, 2, 1, 4, 1, 3, 4, 3, 6, 2, 3, 2, 3, 2, 4, 1, 2, 2, 2, 2, 1, 2, 1, 1, 2, 3, 1, 2, 2, 2, 2, 1, 3, 1, 2, 3, 2, 2, 4, 2, 1, 1, 2, 2, 1, 1, 1, 4, 1, 3, 1, 5, 1, 3, 3, 1, 2, 3, 2, 1, 2, 2, 3, 1, 3, 2, 2, 2, 1, 1, 1, 2, 1, 1, 1, 5, 2, 2, 2, 1, 3, 1, 5, 2, 1, 2, 2, 3, 2, 5, 1, 2, 1, 1, 1, 3, 2, 2, 3, 1, 1, 2, 2, 2, 1, 1, 4, 2, 2, 1, 1, 2, 2, 2, 2, 1, 2, 3, 3, 4, 2, 2, 1, 3, 5, 2, 3, 1, 2, 2, 1, 2, 3, 3, 3, 1, 2, 1, 1, 1, 1, 3, 1, 2, 2, 2, 2, 1, 3, 1, 2, 2, 2, 2, 3, 4, 1, 3, 1, 3, 1, 4, 5, 1, 3, 3, 2, 6, 4, 3, 3, 5, 3, 1, 2, 3, 1, 1, 3, 3, 2, 2, 3, 2, 1, 2, 1, 3, 2, 2, 4, 3, 2, 1, 1, 3, 1, 2, 2, 1, 1, 2, 2, 1, 1, 1, 2, 2, 2, 3, 1, 1, 2, 2, 1, 4, 4, 1, 4, 2, 1, 1, 2, 4, 1, 3, 3, 2, 1, 4, 2, 2, 2, 1, 2, 1, 2, 4, 2, 2, 3, 1, 3, 2, 1, 3, 3, 3, 2, 1, 2, 1, 2, 3, 4, 2, 1, 1, 1, 1, 1, 1, 2, 1, 3, 3, 5, 3, 1, 4, 1, 1, 1, 2, 1, 1, 1, 1, 1, 1, 1, 1, 1, 2, 2, 1, 2, 1, 1, 1, 3, 2, 1, 3, 2, 1, 2, 3, 3, 2, 3, 2, 1, 1, 2, 3, 3, 2, 2, 3, 1, 2, 2, 4, 2, 1, 2, 2, 1, 1, 2, 1, 2, 3, 1, 4, 1, 2, 2, 2, 3, 1, 2, 3, 3, 3, 4, 3, 5, 3, 4, 3, 2, 1, 1, 1, 4, 2, 1, 2, 2, 1, 3, 4, 5, 4, 1, 4, 1, 1, 1, 1, 1, 1, 4, 2, 5, 2, 3, 3, 3, 2, 1, 3, 2, 2, 1, 2, 2, 1, 2, 2, 1, 3, 2, 1, 4, 1, 1, 4, 3, 2, 3, 1, 2, 2, 1, 1, 3, 2, 6, 2, 1, 2, 1, 5, 1, 3, 3, 3, 2, 2, 3, 2, 2, 1, 3, 4, 5, 3, 1, 4, 1, 5, 2, 1, 1, 2, 1, 1, 3, 3, 1, 2, 1, 1, 2, 4, 2, 1, 3, 3, 1, 13, 1, 2, 1, 2, 3, 1, 2, 3, 4, 2, 3, 2, 2, 2, 4, 5, 1, 1, 4, 1, 2, 1, 1, 2, 2, 2, 1, 1, 3, 1, 2, 2, 2, 2, 2, 2, 1, 1, 1, 2, 1, 1, 2, 3, 1, 4, 2, 2, 1, 1, 1, 2, 2, 1, 3, 3, 2, 2, 5, 4, 2, 1, 2, 3, 1, 3, 3, 3, 2, 1, 2, 3, 2, 1, 1, 1, 1, 1, 2, 2, 1, 3, 9, 3, 5, 2, 1, 2, 1, 1, 4, 3, 2, 4, 1, 1, 3, 2, 2, 1, 2, 4, 1, 1, 1, 1, 4, 2, 2, 1, 2, 2, 2, 1, 2, 2, 4, 5, 2, 1, 2, 2, 1, 2, 1, 1, 1, 1, 4, 2, 4, 1, 2, 2, 2, 2, 1, 2, 2, 2, 1, 4, 3, 3, 1, 4, 1, 2, 2, 2, 2, 2, 4, 4, 1, 1, 4, 1, 1, 2, 2, 1, 3, 1, 1, 2, 2, 2, 3, 2, 2, 2, 2, 1, 2, 2, 1, 5, 2, 3, 3, 2, 2, 1, 5, 2, 2, 2, 1, 1, 3, 3, 1, 3, 2, 3, 2, 2, 4, 2, 2, 2, 1, 4, 2, 1, 2, 1, 1, 3, 3, 1, 3, 2, 2, 1, 4, 2, 4, 2, 1, 2, 1, 2, 1, 3, 1, 2, 1, 4, 2, 2, 2, 1, 2, 1, 2, 3, 2, 3, 2, 2, 1, 1, 2, 1, 2, 1, 2, 3, 3, 2, 3, 3, 2, 3, 3, 3, 1, 4, 2, 3, 2, 2, 3, 2, 1, 1, 2, 3, 3, 3, 2, 3, 2, 1, 1, 2, 2, 3, 2, 3, 1, 1, 5, 3, 2, 2, 2, 1, 1, 3, 1, 1, 2, 1, 1, 1, 1, 2, 1, 3, 1, 2, 4, 1, 4, 1, 2, 2, 2, 1, 3, 2, 3, 1, 1, 4, 1, 1, 1, 1, 2, 2, 4, 6, 2, 5, 1, 2, 2, 4, 4, 1, 4, 1, 2, 2, 1, 2, 2, 3, 2, 1, 1, 2, 1, 2, 2, 3, 1, 3, 1, 4, 1, 3, 1, 2, 2, 2, 3, 1, 2, 2, 4, 1, 1, 1, 1, 3, 2, 4, 2, 1, 2, 2, 3, 2, 2, 3, 3, 3, 2, 1, 1, 2, 1, 1, 2, 1, 2, 1, 2, 5, 4, 2, 4, 4, 3, 1, 5, 3, 2, 1, 1, 3, 3, 1, 2, 1, 3, 2, 3, 2, 2, 2, 1, 1, 2, 3, 4, 3, 1, 1, 2, 1, 4, 2, 4, 2, 2, 2, 1, 1, 1, 3, 2, 2, 2, 3, 2, 2, 2, 3, 1, 1, 2, 4, 3, 2, 2, 2, 3, 2, 5, 2, 1, 3, 1, 2, 2, 2, 2, 1, 3, 1, 1, 2, 1, 2, 4, 2, 2, 1, 3, 2, 5, 3, 1, 2, 1, 3, 3, 1, 1, 1, 2, 3, 1, 3, 3, 3, 3, 4, 1, 3, 1, 2, 2, 2, 4, 3, 3, 3, 3, 1, 3, 2, 2, 3, 2, 2, 3, 3, 1, 3, 2, 3, 2, 1, 2, 4, 1, 3, 2, 2, 1, 4, 1, 1, 2, 4, 1, 4, 2, 2, 3, 3, 3, 3, 2, 1, 1, 2, 1, 4, 3, 3, 3, 1, 1, 2, 4, 1, 2, 1, 5, 4, 1, 2, 2, 2, 2, 3, 2, 1, 2, 1, 1, 3, 2, 1, 1, 1, 1, 3, 3, 3, 4, 2, 1, 1, 1, 1, 2, 1, 1, 1, 1, 4, 3, 2, 3, 4, 6, 3, 2, 2, 2, 5, 2, 1, 1, 1, 1, 2, 1, 3, 4, 3, 2, 2, 1, 3, 1, 1, 2, 4, 3, 3, 3, 3, 1, 1, 3, 2, 3, 3, 1, 2, 3, 1, 2, 2, 3, 1, 2, 1, 2, 3, 3, 3, 2, 4, 1, 3, 3, 4, 4, 1, 2, 2, 2, 3, 7, 2, 4, 3, 3, 2, 2, 2, 1, 1, 1, 1, 3, 2, 2, 2, 3, 2, 2, 1, 2, 2, 2, 1, 2, 1, 3, 2, 2, 1, 1, 2, 2, 1, 1, 3, 2, 4, 2, 2, 1, 1, 2, 2, 2, 1, 1, 2, 2, 2, 4, 3, 1, 2, 2, 2, 2, 3, 7, 1, 1, 2, 2, 2, 2, 2, 4, 1, 1, 1, 2, 2, 1, 2, 2, 2, 4, 3, 1, 3, 4, 1, 4, 1, 4, 1, 1, 3, 1, 1, 2, 1, 2, 1, 2, 1, 1, 3, 2, 3, 1, 1, 5, 1, 1, 2, 1, 2, 3, 4, 1, 1, 2, 3, 2, 1, 1, 3, 2, 1, 1, 3, 3, 6, 1, 2, 1, 1, 6, 2, 2, 2, 2, 3, 1, 1, 2, 1, 1, 2, 3, 2, 1, 3, 2, 1, 2, 2, 1, 1, 1, 2, 3, 2, 2, 2, 2, 6, 2, 2, 1, 5, 2, 2, 1, 3, 1, 3, 3, 2, 1, 3, 1, 1, 3, 3, 1, 4, 3, 5, 2, 1, 2, 4, 3, 3, 4, 1, 2, 3, 3, 1, 1, 4, 2, 3, 2, 3, 1, 1, 1, 2, 2, 4, 3, 1, 3, 1, 2, 1, 2, 1, 1, 2, 2, 1, 4, 1, 2, 2, 2, 1, 2, 1, 2, 2, 2, 1, 2, 2, 1, 3, 1, 2, 3, 1, 1, 2, 2, 2, 2, 4, 4, 3, 3, 4, 3, 3, 3, 2, 2, 3, 1, 3, 4, 1, 4, 3, 2, 2, 1, 2, 1, 2, 2, 3, 1, 3, 2, 4, 2, 1, 3, 1, 1, 2, 2, 3, 1, 4, 1, 2, 1, 2, 2, 2, 3, 1, 2, 3, 4, 1, 1, 1, 1, 1, 1, 1, 1, 1, 1, 2, 2, 4, 3, 1, 1, 6, 1, 3, 1, 1, 1, 2, 2, 1, 1, 2, 3, 4, 2, 1, 1, 3, 3, 1, 3, 3, 2, 2, 2, 2, 2, 1, 2, 2, 1, 5, 4, 4, 2, 1, 2, 3, 3, 1, 2, 1, 3, 2, 2, 2, 2, 2, 4, 3, 4, 1, 1, 1, 1, 3, 2, 2, 2, 4, 1, 1, 1, 1, 1, 2, 1, 1, 2, 3, 3, 1, 4, 3, 3, 1, 2, 3, 2, 4, 2, 3, 4, 2, 1, 2, 2, 2, 2, 2, 1, 1, 2, 2, 2, 1, 3, 2, 2, 2, 6, 3, 2, 2, 2, 2, 1, 1, 2, 1, 4, 1, 2, 2, 2, 3, 4, 1, 1, 2, 2, 2, 2, 3, 1, 2, 3, 4, 3, 2, 3, 1, 2, 1, 2, 1, 1, 2, 2, 1, 6, 4, 2, 2, 3, 2, 1, 2, 2, 1, 1, 1, 1, 1, 3, 2, 3, 1, 2, 1, 2, 2, 2, 1, 1, 2, 3, 1, 5, 1, 2, 1, 1, 2, 2, 2, 4, 1, 2, 3, 2, 2, 1, 3, 1, 4, 4, 1, 3, 4, 2, 3, 1, 1, 2, 2, 2, 2, 1, 2, 1, 2, 2, 3, 2, 3, 1, 1, 3, 2, 3, 2, 2, 3, 2, 1, 1, 2, 3, 2, 1, 2, 3, 1, 2, 1, 2, 2, 1, 2, 1, 1, 2, 4, 3, 1, 1, 1, 3, 2, 1, 2, 4, 2, 5, 1, 1, 3, 3, 1, 7, 2, 2, 1, 3, 1, 2, 1, 3, 3, 1, 3, 3, 3, 3, 3, 1, 2, 3, 2, 3, 1, 2, 3, 1, 1, 2, 2, 2, 4, 4, 1, 3, 1, 4, 2, 1, 2, 2, 2, 4, 3, 3, 2, 1, 1, 2, 2, 3, 4, 1, 3, 2, 4, 3, 3, 3, 2, 1, 1, 2, 2, 2, 1, 1, 1, 1, 1, 1, 1, 1, 1, 2, 1, 1, 1, 3, 3, 2, 2, 1, 2, 1, 1, 1, 1, 1, 1, 1, 1, 1, 1, 2, 1, 1, 1, 2, 2, 3, 1, 2, 1, 1, 1, 2, 2, 1, 1, 1, 1, 2, 1, 1, 2, 1, 1, 1, 4, 1, 1, 1, 1, 1, 2, 1, 2, 1, 1, 1, 2, 1, 1, 1, 1, 1, 4, 1, 1, 1, 1, 1, 1, 1, 1, 2, 2, 1, 1, 1, 1, 1, 1, 2, 3, 1, 1, 1, 1, 1, 1, 2, 1, 2, 1, 1, 1, 1, 1, 1, 1, 1, 1, 1, 1, 4, 1, 1, 1, 2, 4, 2, 1, 2, 2, 1, 1, 1, 1, 7, 1, 1, 1, 2, 1, 1, 2, 1, 1, 1, 1, 1, 2, 2, 3, 1, 1, 1, 1, 1, 1, 1, 1, 3, 1, 1, 1, 1, 1, 1, 1, 1, 1, 1, 1, 1, 2, 1, 2, 1, 3, 1, 2, 1, 3, 3, 3, 1, 1, 1, 1, 1, 1, 2, 1, 1, 1, 2, 3, 1, 1, 1, 1, 1, 1, 1, 2, 2, 1, 1, 1, 2, 2, 1, 2, 1, 1, 1, 1, 1, 1, 1, 1, 2, 2, 1, 2, 1, 1, 1, 1, 1, 2, 5, 2, 1, 1, 1, 1, 1, 2, 3, 1, 1, 1, 2, 3, 1, 1, 1, 1, 3, 1, 1, 1, 2, 1, 1, 1, 1, 2, 3, 1, 1, 2, 1, 1, 2, 1, 3, 1, 1, 1, 1, 1, 1, 1, 1, 1, 1, 1, 3, 1, 2, 1, 1, 1, 1, 1, 4, 1, 1, 2, 1, 1, 1, 1, 1, 1, 1, 1, 1, 1, 2, 1, 1, 1, 1, 1, 1, 4, 1, 1, 1, 2, 1, 1, 1, 2, 1, 1, 1, 1, 1, 3, 1, 1, 1, 4, 1, 5, 1, 1, 2, 1, 3, 2, 1, 3, 1, 1, 1, 1, 1, 1, 1, 1, 1, 1, 1, 5, 1, 1, 1, 1, 2, 2, 6, 2, 1, 2, 1, 1, 2, 3, 1, 1, 1, 1, 1, 1, 1, 1, 1, 1, 3, 1, 2, 4, 3, 2, 1, 1, 1, 1, 2, 1, 1, 1, 1, 3, 1, 1, 4, 1, 2, 1, 1, 1, 1, 4, 1, 1, 1, 2, 1, 4, 1, 1, 1, 1, 5, 1, 1, 2, 1, 1, 1, 2, 1, 2, 1, 1, 1, 1, 1, 1, 1, 2, 1, 1, 1, 2, 4, 2, 2, 1, 2, 3, 1, 1, 1, 1, 1, 6, 2, 1, 1, 1, 1, 1, 1, 2, 1, 3, 1, 2, 1, 1, 1, 1, 1, 2, 2, 1, 1, 1, 1, 1, 5, 1, 1, 1, 1, 1, 1, 2, 1, 1, 1, 1, 1, 1, 1, 4, 3, 2, 1, 1, 1, 1, 1, 1, 1, 3, 1, 1, 1, 1, 2, 2, 1, 1, 1, 2, 1, 1, 1, 3, 4, 3, 1, 1, 2, 2, 4, 1, 1, 1, 2, 1, 1, 1, 3, 1, 1, 1, 1, 3, 1, 1, 1, 1, 1, 1, 1, 1, 1, 3, 1, 1, 1, 1, 1, 1, 1, 2, 1, 1, 1, 1, 1, 1, 1, 1, 1, 1, 2, 1, 1, 1, 1, 4, 2, 1, 5, 4, 5, 2, 2, 2, 2, 1, 1, 1, 1, 1, 1, 1, 1, 1, 1, 1, 6, 1, 2, 4, 1, 1, 3, 1, 1, 1, 1, 1, 1, 2, 2, 1, 2, 1, 1, 1, 1, 1, 2, 1, 1, 3, 1, 1, 1, 1, 1, 1, 1, 2, 2, 3, 2, 5, 1, 1, 1, 1, 1, 1, 1, 1, 2, 1, 1, 1, 1, 1, 3, 1, 8, 2, 1, 2, 1, 1, 1, 1, 1, 1, 1, 2, 1, 1, 2, 1, 1, 2, 1, 1, 2, 1, 1, 1, 2, 1, 2, 1, 6, 1, 1, 1, 1, 4, 2, 1, 7, 1, 1, 2, 1, 1, 3, 1, 1, 1, 1, 1, 1, 1, 1, 1, 4, 1, 1, 1, 1, 1, 2, 3, 1, 1, 1, 1, 2, 1, 2, 1, 1, 1, 1, 1, 2, 4, 1, 1, 1, 1, 2, 1, 1, 2, 4, 3, 1, 1, 2, 1, 1, 2, 1, 1, 1, 1, 1, 3, 1, 1, 1, 1, 1, 1, 1, 3, 1, 1, 4, 2, 1, 1, 1, 1, 1, 4, 1, 1, 6, 1, 1, 2, 1, 2, 1, 1, 1, 1, 1, 1, 1, 1, 3, 1, 4, 1, 1, 2, 1, 2, 1, 6, 4, 1, 1, 1, 2, 5, 1, 1, 1, 1, 1, 1, 1, 4, 1, 1, 1, 1, 1, 1, 1, 1, 1, 1, 1, 2, 6, 1, 2, 1, 2, 2, 1, 1, 2, 2, 2, 1, 2, 2, 1, 2, 1, 1, 1, 2, 2, 1, 3, 1, 1, 1, 1, 1, 1, 1, 1, 1, 1, 1, 4, 1, 1, 2, 1, 3, 2, 1, 1, 1, 2, 1, 1, 1, 5, 1, 3, 1, 1, 1, 1, 2, 1, 1, 11, 1, 2, 1, 1, 1, 2, 1, 1, 1, 1, 1, 1, 1, 2, 2, 1, 2, 5, 1, 2, 1, 1, 1, 4, 1, 1, 1, 2, 2, 3, 2, 1, 1, 1, 1, 1, 1, 3, 3, 1, 1, 2, 3, 1, 1, 1, 2, 3, 4, 2, 1, 1, 1, 1, 1, 1, 3, 2, 5, 1, 1, 3, 3, 1, 1, 2, 1, 1, 4, 3, 2, 2, 1, 1, 1, 1, 1, 1, 2, 1, 1, 1, 1, 1, 1, 1, 1, 1, 1, 2, 1, 1, 1, 4, 1, 2, 1, 1, 1, 2, 1, 2, 2, 1, 3, 1, 3, 1, 1, 1, 1, 1, 2, 1, 1, 1, 1, 3, 1, 1, 1, 1, 1, 1, 2, 1, 1, 1, 1, 1, 2, 2, 2, 1, 1, 1, 1, 1, 1, 1, 4, 1, 6, 2, 1, 2, 1, 1, 1, 1, 1, 1, 1, 1, 1, 1, 1, 1, 1, 1, 1, 3, 1, 1, 1, 2, 1, 3, 1, 6, 7, 1, 1, 2, 1, 1, 1, 1, 1, 1, 1, 5, 1, 1, 1, 2, 1, 3, 1, 1, 1, 1, 2, 1, 1, 1, 2, 2, 1, 1, 2, 10, 1, 2, 2, 1, 1, 1, 1, 1, 1, 1, 1, 1, 4, 1, 1, 1, 1, 1, 4, 1, 2, 1, 2, 2, 3, 1, 1, 1, 1, 1, 1, 1, 1, 1, 1, 4, 3, 3, 1, 1, 1, 1, 1, 1, 1, 1, 1, 1, 1, 1, 2, 1, 3, 3, 1, 2, 1, 1, 1, 1, 2, 1, 3, 1, 1, 1, 1, 1, 2, 2, 2, 2, 1, 1, 1, 2, 1, 1, 1, 1, 1, 1, 1, 1, 1, 1, 1, 1, 1, 1, 2, 1, 3, 9, 1, 1, 1, 1, 1, 2, 3, 1, 1, 1, 4, 3, 2, 1, 2, 1, 1, 1, 2, 1, 2, 1, 1, 1, 2, 2, 1, 2, 1, 1, 1, 1, 1, 1, 2, 1, 2, 4, 2, 1, 1, 2, 1, 1, 1, 2, 1, 4, 1, 3, 3, 1, 1, 1, 1, 2, 1, 1, 1, 2, 1, 1, 2, 1, 3, 1, 3, 2, 1, 1, 2, 2, 1, 1, 1, 1, 1, 5, 1, 1, 1, 1, 1, 1, 1, 1, 2, 1, 1, 2, 2, 1, 1, 2, 1, 3, 1, 1, 1, 1, 1, 1, 1, 4, 2, 1, 1, 1, 2, 1, 1, 3, 1, 1, 1, 1, 1, 1, 9, 1, 1, 5, 2, 1, 2, 1, 1, 2, 1, 2, 3, 2, 2, 1, 1, 1, 1, 2, 1, 1, 1, 2, 1, 1, 1, 6, 1, 1, 1, 1, 3, 1, 1, 5, 1, 1, 3, 2, 1, 1, 1, 3, 1, 2, 1, 1, 2, 1, 1, 2, 1, 1, 1, 3, 1, 4, 2, 3, 1, 1, 2, 1, 1, 1, 1, 1, 1, 2, 1, 2, 1, 1, 1, 1, 3, 2, 1, 1, 1, 3, 1, 1, 1, 1, 2, 1, 1, 1, 1, 2, 1, 1, 1, 2, 1, 1, 2, 1, 1, 1, 1, 1, 2, 1, 1, 1, 1, 1, 3, 1, 4, 1, 1, 5, 2, 2, 2, 1, 1, 1, 1, 2, 1, 1, 1, 1, 1, 2, 1, 2, 2, 1, 1, 1, 2, 1, 1, 3, 1, 1, 1, 1, 3, 1, 1, 1, 1, 1, 3, 2, 3, 2, 1, 1, 1, 2, 1, 1, 1, 1, 1, 1, 1, 4, 1, 1, 1, 1, 1, 6, 2, 1, 1, 1, 2, 1, 1, 1, 1, 1, 1, 1, 1, 1, 1, 1, 2, 1, 1, 1, 3, 1, 1, 1, 3, 1, 1, 2, 1, 1, 2, 1, 1, 2, 1, 1, 1, 1, 11, 1, 1, 2, 1, 1, 4, 1, 1, 1, 2, 1, 2, 2, 1, 1, 2, 1, 1, 1, 1, 2, 1, 1, 4, 1, 1, 4, 1, 2, 1, 1, 1, 1, 1, 2, 2, 6, 2, 1, 3, 1, 2, 1, 1, 4, 1, 2, 4, 1, 1, 1, 3, 1, 1, 2, 1, 1, 1, 1, 2, 2, 1, 2, 1, 1, 2, 1, 1, 2, 1, 1, 2, 1, 1, 1, 1, 1, 1, 1, 1, 1, 1, 1, 3, 5, 2, 1, 1, 2, 2, 3, 2, 3, 1, 2, 2, 1, 4, 1, 1, 2, 1, 1, 2, 1, 2, 1, 1, 1, 2, 1, 1, 1, 1, 5, 2, 1, 2, 1, 2, 1, 2, 1, 1, 2, 1, 1, 2, 1, 1, 1, 1, 2, 3, 1, 1, 1, 2, 3, 2, 1, 1, 6, 1, 1, 3, 1, 1, 1, 3, 1, 1, 1, 1, 1, 1, 1, 1, 1, 2, 1, 1, 1, 2, 1, 2, 1, 1, 1, 1, 1, 1, 1, 1, 2, 1, 1, 1, 1, 1, 2, 1, 1, 1, 1, 1, 1, 1, 2, 1, 1, 1, 1, 1, 3, 1, 2, 1, 5, 1, 3, 2, 1, 1, 1, 1, 3, 1, 2, 1, 1, 1, 1, 1, 1, 1, 1, 2, 2, 1, 3, 1, 2, 1, 3, 1, 2, 1, 2, 1, 2, 1, 2, 2, 3, 1, 1, 1, 1, 1, 1, 2, 1, 1, 2, 2, 2, 1, 1, 2, 1, 1, 1, 1, 2, 1, 1, 1, 1, 2, 1, 1, 1, 1, 1, 1, 1, 5, 2, 2, 3, 3, 1, 2, 2, 1, 1, 1, 1, 1, 1, 1, 2, 1, 3, 1, 2, 1, 2, 1, 2, 2, 1, 1, 2, 1, 1, 1, 6, 1, 3, 1, 2, 1, 1, 1, 2, 1, 3, 4, 1, 1, 2, 1, 1, 1, 1, 1, 1, 1, 3, 2, 1, 1, 1, 1, 1, 2, 1, 2, 1, 1, 2, 1, 1, 2, 1, 1, 1, 1, 1, 2, 7, 1, 1, 3, 2, 1, 1, 2, 1, 1, 1, 1, 1, 5, 1, 4, 2, 1, 1, 2, 1, 1, 1, 1, 2, 1, 1, 1, 1, 1, 2, 4, 1, 1, 1, 1, 1, 1, 1, 1, 1, 1, 1, 1, 1, 1, 1, 1, 1, 1, 2, 1, 1, 5, 1, 1, 3, 1, 4, 2, 2, 1, 2, 2, 3, 1, 1, 1, 1, 1, 1, 1, 1, 2, 1, 1, 1, 1, 1, 2, 1, 1, 1, 1, 1, 1, 2, 1, 1, 1, 1, 3, 1, 1, 2, 3, 2, 1, 1, 1, 1, 1, 1, 1, 1, 1, 1, 1, 2, 2, 1, 3, 1, 1, 1, 1, 1, 1, 2, 1, 1, 1, 1, 1, 2, 2, 1, 1, 1, 2, 3, 1, 1, 1, 1, 1, 1, 1, 1, 1, 1, 2, 1, 1, 1, 2, 1, 2, 3, 1, 1, 1, 2, 1, 1, 1, 1, 1, 1, 2, 1, 1, 1, 1, 1, 1, 1, 2, 1, 1, 1, 5, 2, 1, 1, 1, 1, 4, 1, 1, 1, 1, 1, 3, 2, 2, 1, 1, 2, 1, 1, 1, 2, 1, 10, 1, 1, 1, 1, 2, 2, 3, 6, 1, 5, 3, 2, 4, 1, 2, 2, 1, 1, 1, 1, 1, 1, 2, 1, 1, 1, 1, 2, 1, 1, 5, 1, 3, 1, 1, 1, 1, 2, 1, 2, 1, 1, 2, 1, 3, 1, 1, 1, 1, 1, 1, 3, 1, 2, 1, 2, 2, 1, 1, 2, 1, 1, 1, 1, 1, 5, 1, 1, 1, 1, 1, 1, 1, 3, 6, 1, 1, 1, 1, 2, 1, 2, 2, 2, 1, 1, 7, 1, 1, 3, 2, 1, 2, 3, 3, 1, 6, 1, 1, 1, 1, 1, 2, 1, 2, 3, 1, 2, 3, 1, 1, 1, 3, 1, 1, 1, 1, 1, 1, 1, 1, 2, 1, 2, 1, 2, 2, 2, 1, 1, 1, 1, 1, 1, 1, 2, 1, 2, 1, 1, 1, 1, 1, 3, 3, 1, 1, 1, 1, 1, 1, 3, 1, 1, 1, 2, 1, 1, 1, 1, 1, 3, 1, 1, 1, 1, 1, 1, 3, 1, 3, 1, 1, 1, 2, 1, 1, 3, 1, 4, 1, 1, 2, 1, 1, 1, 2, 1, 1, 1, 1, 1, 1, 1, 1, 2, 1, 1, 1, 1, 2, 1, 1, 1, 1, 1, 2, 2, 1, 3, 1, 1, 1, 2, 1, 1, 1, 2, 1, 1, 1, 1, 1, 1, 2, 1, 1, 2, 1, 1, 3, 1, 1, 1, 1, 3, 1, 1, 1, 2, 1, 1, 2, 1, 1, 3, 1, 1, 1, 1, 2, 2, 2, 3, 1, 1, 1, 1, 2, 1, 1, 2, 1, 1, 4, 1, 1, 1, 1, 1, 1, 1, 1, 1, 1, 2, 1, 2, 4, 2, 1, 1, 4, 1, 1, 1, 1, 1, 1, 1, 1, 1, 1, 1, 2, 1, 1, 1, 2, 1, 1, 1, 1, 1, 2, 1, 2, 1, 1, 3, 2, 1, 2, 1, 1, 1, 1, 1, 4, 1, 3, 1, 1, 1, 2, 2, 1, 2, 1, 2, 1, 1, 1, 1, 3, 1, 1, 2, 1, 1, 3, 1, 1, 1, 1, 1, 1, 4, 1, 1, 2, 1, 1, 1, 1, 1, 1, 1, 2, 1, 2, 1, 1, 7, 1, 1, 1, 2, 1, 1, 1, 1, 1, 1, 1, 2, 1, 1, 1, 1, 1, 1, 1, 1, 3, 1, 4, 1, 1, 5, 3, 1, 2, 2, 1, 1, 1, 2, 1, 1, 2, 2, 2, 2, 1, 2, 3, 1, 1, 1, 1, 1, 1, 1, 1, 2, 9, 1, 3, 1, 1, 2, 2, 1, 1, 1, 1, 1, 1, 1, 1, 1, 2, 3, 1, 1, 1, 1, 1, 3, 1, 1, 1, 1, 1, 1, 1, 2, 2, 1, 1, 1, 1, 4, 1, 1, 1, 1, 3, 1, 1, 1, 1, 3, 1, 2, 1, 1, 1, 1, 1, 1, 1, 5, 1, 1, 1, 1, 3, 4, 2, 1, 1, 1, 1, 2, 1, 1, 2, 3, 1, 1, 2, 1, 2, 1, 1, 2, 1, 3, 1, 1, 1, 1, 1, 1, 1, 1, 2, 1, 1, 1, 2, 1, 1, 1, 4, 2, 1, 1, 1, 1, 1, 1, 1, 1, 1, 1, 1, 1, 1, 1, 1, 1, 2, 1, 1, 1, 1, 1, 1, 1, 1, 2, 1, 1, 1, 1, 2, 1, 1, 1, 1, 1, 1, 2, 2, 2, 1, 1, 1, 2, 2, 2, 1, 2, 1, 1, 1, 1, 3, 1, 2, 1, 2, 3, 1, 1, 1, 5, 1, 1, 1, 1, 3, 1, 1, 1, 1, 1, 2, 2, 1, 1, 1, 1, 3, 1, 8, 3, 1, 3, 1, 1, 1, 1, 2, 1, 1, 1, 1, 1, 1, 1, 1, 1, 1, 2, 1, 1, 2, 1, 1, 1, 1, 1, 1, 1, 3, 1, 1, 1, 1, 1, 2, 4, 2, 1, 1, 3, 1, 1, 2, 1, 2, 1, 3, 1, 1, 2, 1, 1, 3, 1, 1, 1, 2, 1, 1, 1, 1, 2, 1, 1, 2, 3, 1, 1, 1, 1, 1, 1, 1, 5, 1, 1, 1, 1, 1, 1, 1, 1, 3, 3, 2, 1, 1, 1, 1, 3, 1, 5, 1, 2, 1, 1, 1, 1, 1, 1, 1, 1, 2, 2, 1, 1, 2, 1, 1, 3, 1, 2, 1, 1, 1, 1, 1, 1, 1, 1, 2, 1, 1, 1, 1, 1, 2, 1, 1, 2, 1, 2, 2, 1, 2, 1, 2, 1, 4, 1, 1, 1, 2, 3, 1, 1, 4, 1, 1, 1, 1, 1, 1, 1, 2, 1, 1, 2, 1, 1, 3, 1, 1, 10, 1, 4, 1, 5, 1, 1, 3, 2, 1, 1, 1, 1, 5, 2, 1, 1, 1, 1, 1, 1, 1, 1, 2, 1, 1, 3, 1, 2, 1, 2, 1, 1, 1, 1, 1, 1, 1, 1, 2, 1, 1, 1, 1, 1, 1, 3, 1, 1, 1, 2, 1, 2, 1, 1, 2, 1, 1, 1, 2, 1, 1, 2, 1, 2, 1, 2, 2, 4, 1, 2, 2, 1, 6, 1, 2, 2, 2, 1, 2, 1, 1, 2, 1, 5, 1, 1, 4, 1, 1, 1, 1, 1, 1, 1, 1, 1, 1, 1, 1, 6, 2, 1, 1, 12, 1, 2, 1, 2, 1, 1, 1, 1, 1, 3, 1, 2, 1, 1, 4, 2, 1, 2, 1, 1, 1, 1, 1, 1, 3, 1, 2, 1, 2, 1, 1, 1, 3, 1, 8, 5, 1, 5, 1, 1, 1, 1, 1, 1, 1, 1, 1, 1, 1, 1, 1, 1, 1, 2, 1, 1, 1, 1, 2, 1, 1, 4, 1, 2, 1, 1, 1, 1, 1, 1, 1, 1, 2, 2, 2, 2, 2, 1, 2, 1, 1, 2, 1, 2, 2, 1, 2, 2, 1, 1, 1, 1, 4, 1, 1, 1, 1, 1, 2, 3, 2, 3, 1, 1, 1, 2, 3, 1, 1, 1, 1, 1, 1, 4, 2, 1, 1, 1, 2, 6, 1, 1, 1, 1, 1, 1, 1, 1, 2, 1, 1, 3, 1, 1, 1, 1, 2, 1, 1, 2, 3, 1, 1, 2, 1, 2, 1, 1, 2, 1, 2, 1, 1, 1, 1, 1, 1, 1, 1, 1, 1, 2, 1, 1, 1, 3, 1, 1, 1, 4, 1, 2, 1, 1, 1, 1, 1, 1, 1, 1, 3, 1, 1, 6, 1, 1, 1, 1, 1, 1, 1, 1, 1, 4, 1, 1, 1, 2, 2, 4, 1, 2, 2, 1, 1, 1, 1, 1, 7, 1, 1, 3, 1, 1, 1, 1, 2, 2, 1, 1, 1, 4, 2, 1, 2, 1, 1, 1, 1, 2, 1, 1, 3, 1, 1, 1, 1, 1, 1, 1, 1, 2, 1, 1, 1, 1, 2, 2, 1, 1, 1, 1, 3, 1, 1, 1, 1, 2, 3, 2, 1, 1, 1, 1, 1, 2, 1, 2, 1, 1, 1, 2, 1, 1, 1, 1, 1, 1, 1, 2, 1, 1, 1, 1, 3, 1, 1, 2, 1, 2, 1, 1, 1, 2, 2, 1, 1, 1, 1, 2, 1, 2, 1, 3, 1, 1, 1, 1, 1, 1, 1, 1, 2, 1, 1, 1, 2, 1, 1, 1, 2, 1, 1, 1, 1, 1, 1, 1, 1, 1, 1, 1, 1, 2, 2, 1, 1, 1, 2, 1, 1, 1, 1, 1, 1, 1, 1, 3, 1, 1, 1, 2, 3, 2, 1, 1, 1, 1, 1, 1, 1, 2, 1, 1, 2, 1, 2, 1, 1, 2, 1, 8, 1, 1, 1, 2, 1, 1, 1, 1, 2, 1, 1, 1, 2, 1, 1, 1, 1, 1, 1, 1, 1, 1, 1, 1, 2, 1, 1, 1, 1, 3, 2, 4, 1, 1, 1, 1, 2, 1, 1, 3, 2, 1, 1, 1, 1, 1, 2, 1, 1, 1, 1, 1, 2, 1, 1, 1, 1, 1, 2, 2, 1, 2, 1, 1, 1, 5, 1, 1, 1, 1, 1, 1, 1, 1, 1, 2, 1, 2, 1, 4, 3, 1, 1, 1, 1, 1, 3, 1, 1, 2, 1, 2, 1, 1, 2, 1, 1, 1, 1, 1, 6, 1, 1, 1, 2, 1, 1, 1, 1, 1, 1, 2, 1, 1, 1, 2, 5, 2, 1, 1, 1, 2, 1, 1, 1, 2, 1, 1, 2, 3, 6, 1, 1, 5, 1, 1, 1, 2, 1, 1, 1, 1, 1, 1, 2, 1, 2, 4, 2, 3, 2, 5, 1, 1, 2, 2, 2, 1, 1, 1, 1, 1, 1, 1, 1, 1, 1, 1, 1, 1, 1, 1, 1, 1, 1, 2, 2, 2, 5, 1, 1, 2, 1, 1, 1, 2, 1, 2, 2, 3, 1, 1, 1, 1, 1, 1, 1, 1, 1, 1, 1, 1, 3, 1, 1, 2, 1, 3, 1, 3, 1, 1, 1, 1, 2, 1, 1, 1, 3, 1, 1, 2, 1, 1, 4, 1, 3, 1, 2, 1, 1, 2, 1, 6, 2, 2, 2, 1, 1, 1, 1, 1, 2, 9, 1, 2, 1, 2, 1, 2, 2, 1, 2, 2, 1, 2, 1, 1, 1, 6, 1, 1, 1, 1, 2, 1, 3, 1, 2, 1, 1, 1, 1, 1, 1, 1, 2, 1, 1, 1, 1, 4, 1, 1, 3, 2, 1, 5, 2, 1, 5, 1, 3, 1, 2, 1, 3, 1, 1, 1, 1, 1, 4, 2, 1, 4, 1, 1, 1, 1, 1, 2, 1, 1, 1, 1, 8, 2, 1, 1, 2, 1, 1, 1, 1, 1, 1, 1, 2, 1, 1, 1, 1, 1, 1, 1, 1, 1, 6, 1, 2, 1, 1, 1, 1, 4, 1, 1, 2, 1, 1, 1, 2, 2, 1, 2, 1, 1, 1, 1, 1, 2, 7, 1, 1, 1, 1, 1, 1, 1, 1, 3, 1, 1, 2, 1, 1, 1, 1, 1, 2, 2, 1, 1, 1, 2, 4, 1, 5, 2, 2, 1, 1, 1, 1, 2, 1, 3, 2, 1, 2, 1, 1, 1, 1, 1, 1, 1, 1, 3, 1, 1, 1, 1, 1, 3, 1, 3, 4, 5, 1, 1, 1, 2, 1, 1, 5, 2, 2, 1, 1, 1, 3, 1, 2, 1, 1, 1, 4, 4, 3, 3, 2, 1, 1, 1, 1, 1, 1, 1, 1, 3, 1, 1, 1, 2, 1, 1, 1, 2, 6, 1, 1, 1, 1, 1, 2, 2, 1, 3, 1, 1, 1, 1, 1, 1, 1, 1, 1, 1, 1, 1, 1, 4, 1, 6, 1, 1, 1, 1, 2, 1, 1, 1, 1, 5, 3, 1, 4, 1, 1, 1, 1, 1, 1, 1, 1, 3, 1, 1, 1, 1, 2, 2, 1, 1, 1, 1, 2, 2, 1, 2, 1, 1, 3, 1, 1, 1, 1, 1, 1, 1, 1, 1, 3, 1, 1, 1, 1, 2, 1, 1, 1, 1, 1, 2, 1, 1, 4, 1, 1, 1, 1, 1, 2, 2, 1, 1, 1, 1, 1, 1, 4, 1, 2, 2, 1, 2, 1, 2, 1, 1, 1, 1, 3, 2, 1, 1, 5, 1, 1, 1, 1, 1, 1, 2, 5, 2, 3, 1, 1, 1, 1, 1, 1, 1, 1, 2, 1, 1, 2, 1, 3, 1, 1, 1, 3, 4, 1, 1, 1, 1, 3, 1, 1, 1, 1, 1, 6, 2, 1, 2, 1, 2, 7, 2, 1, 3, 1, 1, 2, 2, 1, 1, 1, 1, 1, 1, 1, 1, 2, 1, 1, 1, 1, 3, 1, 1, 4, 1, 1, 2, 1, 1, 3, 1, 1, 1, 1, 4, 2, 1, 2, 1, 1, 1, 3, 2, 1, 1, 2, 2, 2, 2, 2, 1, 1, 1, 3, 1, 1, 1, 1, 1, 1, 1, 1, 1, 1, 2, 1, 2, 2, 3, 1, 1, 1, 1, 1, 3, 4, 1, 1, 2, 2, 4, 3, 1, 1, 1, 1, 1, 2, 1, 2, 3, 1, 1, 2, 2, 1, 1, 1, 1, 2, 17, 2, 1, 1, 1, 1, 1, 1, 1, 1, 2, 1, 1, 1, 1, 1, 1, 1, 1, 2, 1, 2, 1, 2, 1, 4, 1, 1, 3, 1, 1, 2, 1, 1, 2, 1, 3, 1, 1, 1, 2, 1, 1, 1, 1, 1, 1, 1, 2, 2, 1, 1, 1, 1, 1, 1, 1, 2, 1, 1, 3, 1, 1, 1, 1, 2, 2, 1, 1, 1, 1, 1, 1, 1, 1, 1, 1, 1, 1, 1, 2, 2, 1, 1, 3, 3, 1, 1, 1, 1, 1, 1, 3, 1, 2, 1, 1, 1, 1, 1, 1, 1, 1, 3, 2, 1, 2, 1, 1, 1, 2, 1, 5, 1, 2, 1, 1, 1, 2, 1, 1, 1, 9, 1, 1, 3, 1, 1, 2, 1, 1, 1, 1, 1, 2, 2, 5, 2, 1, 1, 3, 1, 2, 1, 1, 2, 2, 5, 1, 1, 4, 1, 1, 1, 2, 1, 1, 1, 1, 2, 1, 3, 2, 1, 1, 1, 2, 2, 1, 2, 3, 4, 1, 2, 2, 1, 2, 1, 1, 3, 1, 1, 2, 1, 1, 1, 1, 2, 1, 4, 1, 1, 1, 1, 1, 1, 1, 2, 1, 1, 1, 2, 1, 1, 1, 1, 1, 1, 1, 4, 2, 1, 1, 3, 1, 1, 1, 1, 1, 1, 1, 1, 1, 1, 1, 1, 1, 1, 2, 1, 1, 1, 1, 2, 1, 2, 2, 1, 5, 1, 3, 1, 2, 2, 1, 2, 3, 2, 3, 1, 1, 1, 2, 1, 2, 2, 1, 1, 1, 2, 1, 1, 1, 1, 1, 1, 1, 1, 1, 2, 1, 1, 1, 1, 1, 2, 1, 2, 1, 2, 1, 1, 3, 1, 1, 1, 1, 1, 2, 1, 1, 1, 5, 3, 1, 2, 1, 1, 2, 1, 3, 1, 2, 1, 1, 10, 1, 1, 1, 2, 1, 1, 1, 1, 3, 1, 2, 2, 1, 2, 1, 1, 1, 1, 2, 1, 1, 1, 1, 1, 1, 1, 2, 3, 1, 1, 1, 1, 1, 1, 1, 1, 1, 1, 1, 5, 5, 1, 1, 1, 1, 1, 3, 1, 2, 1, 1, 2, 1, 1, 2, 2, 1, 2, 1, 1, 1, 2, 2, 1, 2, 1, 1, 1, 1, 4, 1, 1, 2, 1, 2, 2, 1, 2, 3, 1, 2, 1, 1, 1, 1, 1, 1, 1, 1, 4, 1, 3, 2, 1, 3, 1, 1, 2, 1, 1, 1, 2, 1, 3, 1, 2, 1, 1, 1, 1, 4, 1, 1, 1, 1, 3, 1, 1, 2, 1, 2, 1, 1, 1, 1, 2, 1, 1, 1, 1, 1, 3, 1, 1, 1, 2, 2, 1, 2, 1, 1, 1, 1, 1, 1, 1, 5, 1, 1, 1, 1, 1, 1, 1, 1, 1, 1, 1, 1, 2, 2, 2, 2, 1, 1, 1, 1, 1, 1, 1, 2, 2, 1, 1, 1, 1, 1, 1, 1, 1, 1, 2, 1, 1, 2, 1, 1, 1, 1, 1, 1, 1, 1, 3, 1, 1, 1, 1, 1, 1, 1, 1, 1, 1, 1, 1, 1, 1, 2, 2, 1, 6, 2, 2, 1, 5, 1, 2, 1, 3, 2, 2, 1, 1, 4, 1, 1, 1, 1, 1, 1, 5, 1, 1, 1, 1, 2, 3, 1, 1, 1, 1, 2, 2, 3, 2, 1, 1, 2, 1, 1, 1, 2, 2, 1, 2, 1, 1, 1, 1, 3, 1, 2, 4, 2, 1, 1, 1, 1, 1, 1, 1, 1, 1, 1, 2, 1, 1, 1, 1, 2, 1, 1, 1, 1, 1, 1, 1, 1, 1, 1, 2, 1, 5, 1, 3, 1, 4, 1, 1, 2, 2, 1, 1, 1, 1, 1, 1, 1, 1, 2, 2, 1, 2, 1, 1, 1, 2, 1, 1, 3, 1, 2, 1, 1, 1, 1, 3, 1, 1, 1, 1, 1, 3, 1, 1, 1, 1, 1, 1, 1, 2, 2, 1, 1, 1, 2, 5, 2, 1, 1, 1, 1, 9, 2, 2, 3, 3, 2, 1, 3, 1, 2, 3, 3, 1, 1, 1, 2, 1, 2, 1, 3, 1, 1, 1, 1, 1, 1, 1, 1, 1, 1, 1, 2, 4, 1, 2, 1, 1, 2, 3, 1, 1, 1, 1, 1, 1, 1, 1, 1, 1, 1, 1, 1, 3, 2, 2, 1, 1, 1, 1, 1, 1, 1, 3, 2, 1, 1, 3, 2, 2, 2, 1, 1, 1, 1, 1, 1, 1, 1, 1, 1, 3, 1, 1, 3, 1, 1, 1, 1, 1, 1, 1, 1, 1, 1, 1, 1, 3, 1, 2, 1, 1, 1, 1, 1, 1, 1, 1, 2, 3, 1, 1, 1, 1, 4, 2, 1, 4, 1, 1, 3, 1, 3, 1, 1, 1, 1, 1, 1, 2, 1, 2, 1, 1, 1, 2, 1, 1, 1, 1, 1, 2, 1, 3, 1, 1, 3, 1, 1, 1, 1, 1, 1, 1, 2, 1, 1, 3, 2, 2, 1, 1, 2, 2, 1, 1, 1, 1, 1, 2, 1, 1, 1, 1, 5, 1, 1, 1, 1, 2, 1, 1, 3, 1, 2, 1, 1, 1, 2, 3, 1, 1, 1, 1, 2, 2, 2, 2, 1, 2, 3, 1, 1, 1, 1, 2, 2, 1, 1, 1, 5, 6, 1, 1, 2, 1, 1, 1, 2, 1, 2, 6, 1, 2, 3, 1, 1, 1, 1, 2, 2, 2, 1, 1, 2, 1, 1, 1, 1, 1, 1, 3, 1, 1, 1, 1, 1, 2, 1, 1, 1, 1, 1, 1, 1, 2, 1, 4, 1, 1, 1, 1, 3, 3, 1, 3, 5, 1, 5, 1, 2, 1, 2, 4, 1, 2, 1, 1, 3, 1, 1, 1, 1, 2, 1, 1, 1, 1, 1, 1, 2, 1, 1, 2, 1, 1, 3, 1, 1, 1, 1, 1, 1, 3, 1, 1, 1, 1, 1, 1, 1, 1, 1, 1, 3, 2, 1, 2, 1, 1, 1, 2, 1, 1, 3, 2, 1, 1, 2, 2, 1, 1, 2, 2, 1, 1, 1, 1, 1, 1, 2, 2, 1, 2, 3, 1, 2, 1, 1, 3, 2, 1, 1, 1, 7, 1, 1, 2, 1, 1, 2, 1, 1, 1, 1, 2, 2, 1, 1, 2, 1, 1, 3, 4, 1, 3, 1, 1, 1, 2, 2, 1, 3, 3, 1, 1, 1, 1, 1, 1, 1, 1, 3, 1, 1, 1, 1, 1, 1, 2, 2, 2, 1, 1, 1, 1, 1, 4, 1, 3, 4, 1, 1, 2, 1, 3, 4, 1, 2, 1, 1, 4, 1, 1, 2, 2, 1, 1, 1, 1, 1, 2, 1, 1, 1, 1, 2, 1, 1, 1, 3, 1, 2, 1, 1, 1, 2, 1, 1, 1, 2, 1, 1, 1, 1, 1, 2, 2, 1, 1, 2, 1, 3, 2, 1, 1, 1, 1, 1, 2, 1, 1, 1, 1, 1, 1, 2, 2, 1, 1, 1, 2, 4, 1, 1, 3, 1, 1, 1, 1, 3, 2, 1, 1, 3, 1, 1, 3, 2, 2, 1, 2, 1, 2, 1, 1, 1, 1, 3, 1, 1, 3, 2, 2, 1, 1, 1, 1, 1, 1, 1, 4, 2, 1, 2, 1, 1, 1, 2, 1, 1, 5, 1, 2, 2, 1, 1, 1, 1, 6, 1, 1, 1, 1, 1, 7, 1, 1, 1, 1, 1, 1, 2, 2, 1, 1, 1, 2, 1, 1, 2, 2, 1, 1, 3, 1, 1, 1, 1, 2, 1, 1, 1, 1, 1, 1, 2, 1, 1, 1, 1, 1, 1, 1, 1, 5, 1, 3, 1, 1, 1, 1, 1, 1, 1, 1, 1, 2, 2, 2, 2, 1, 1, 2, 1, 2, 2, 1, 1, 2, 1, 1, 1, 1, 1, 1, 1, 1, 1, 2, 1, 2, 1, 1, 1, 1, 1, 1, 1, 1, 1, 1, 1, 1, 1, 1, 1, 1, 1, 1, 1, 1, 1, 1, 2, 1, 1, 1, 1, 1, 1, 1, 1, 1, 1, 2, 1, 1, 1, 1, 1, 1, 3, 1, 1, 1, 1, 1, 1, 1, 1, 2, 4, 2, 1, 1, 1, 1, 1, 1, 1, 1, 3, 1, 1, 2, 1, 1, 1, 1, 1, 1, 1, 1, 1, 1, 1, 1, 1, 1, 1, 2, 2, 2, 1, 1, 1, 2, 1, 1, 4, 1, 1, 1, 1, 1, 3, 2, 3, 1, 1, 3, 3, 1, 1, 1, 3, 1, 1, 1, 3, 1, 1, 1, 1, 1, 3, 1, 1, 1, 1, 1, 1, 1, 1, 1, 1, 1, 1, 2, 3, 2, 8, 1, 1, 4, 1, 1, 1, 1, 1, 1, 1, 1, 1, 2, 1, 1, 1, 1, 2, 3, 1, 2, 1, 1, 2, 1, 1, 1, 3, 1, 1, 1, 1, 2, 2, 1, 1, 1, 1, 2, 1, 1, 1, 1, 12, 1, 1, 1, 3, 2, 1, 1, 1, 1, 1, 2, 1, 1, 1, 1, 1, 2, 1, 1, 2, 1, 1, 1, 1, 1, 1, 1, 1, 1, 1, 1, 2, 2, 1, 1, 1, 1, 2, 1, 1, 1, 1, 1, 1, 1, 1, 1, 1, 2, 2, 1, 1, 2, 1, 1, 1, 1, 1, 1, 2, 2, 1, 1, 1, 1, 1, 1, 1, 1, 1, 2, 1, 1, 1, 1, 1, 1, 1, 1, 1, 2, 5, 3, 1, 1, 1, 1, 1, 1, 1, 1, 1, 1, 1, 2, 1, 1, 1, 1, 2, 1, 1, 3, 1, 1, 2, 1, 2, 1, 2, 3, 2, 1, 1, 2, 1, 1, 1, 2, 1, 1, 2, 1, 1, 2, 1, 1, 1, 1, 1, 2, 2, 3, 1, 2, 1]}],\n",
              "                        {\"coloraxis\": {\"colorbar\": {\"title\": {\"text\": \"label\"}}, \"colorscale\": [[0.0, \"#0d0887\"], [0.1111111111111111, \"#46039f\"], [0.2222222222222222, \"#7201a8\"], [0.3333333333333333, \"#9c179e\"], [0.4444444444444444, \"#bd3786\"], [0.5555555555555556, \"#d8576b\"], [0.6666666666666666, \"#ed7953\"], [0.7777777777777778, \"#fb9f3a\"], [0.8888888888888888, \"#fdca26\"], [1.0, \"#f0f921\"]]}, \"legend\": {\"tracegroupgap\": 0}, \"margin\": {\"t\": 60}, \"scene\": {\"domain\": {\"x\": [0.0, 1.0], \"y\": [0.0, 1.0]}, \"xaxis\": {\"title\": {\"text\": \"len_chars\"}}, \"yaxis\": {\"title\": {\"text\": \"len_words\"}}, \"zaxis\": {\"title\": {\"text\": \"len_sentences\"}}}, \"template\": {\"data\": {\"bar\": [{\"error_x\": {\"color\": \"#2a3f5f\"}, \"error_y\": {\"color\": \"#2a3f5f\"}, \"marker\": {\"line\": {\"color\": \"#E5ECF6\", \"width\": 0.5}}, \"type\": \"bar\"}], \"barpolar\": [{\"marker\": {\"line\": {\"color\": \"#E5ECF6\", \"width\": 0.5}}, \"type\": \"barpolar\"}], \"carpet\": [{\"aaxis\": {\"endlinecolor\": \"#2a3f5f\", \"gridcolor\": \"white\", \"linecolor\": \"white\", \"minorgridcolor\": \"white\", \"startlinecolor\": \"#2a3f5f\"}, \"baxis\": {\"endlinecolor\": \"#2a3f5f\", \"gridcolor\": \"white\", \"linecolor\": \"white\", \"minorgridcolor\": \"white\", \"startlinecolor\": \"#2a3f5f\"}, \"type\": \"carpet\"}], \"choropleth\": [{\"colorbar\": {\"outlinewidth\": 0, \"ticks\": \"\"}, \"type\": \"choropleth\"}], \"contour\": [{\"colorbar\": {\"outlinewidth\": 0, \"ticks\": \"\"}, \"colorscale\": [[0.0, \"#0d0887\"], [0.1111111111111111, \"#46039f\"], [0.2222222222222222, \"#7201a8\"], [0.3333333333333333, \"#9c179e\"], [0.4444444444444444, \"#bd3786\"], [0.5555555555555556, \"#d8576b\"], [0.6666666666666666, \"#ed7953\"], [0.7777777777777778, \"#fb9f3a\"], [0.8888888888888888, \"#fdca26\"], [1.0, \"#f0f921\"]], \"type\": \"contour\"}], \"contourcarpet\": [{\"colorbar\": {\"outlinewidth\": 0, \"ticks\": \"\"}, \"type\": \"contourcarpet\"}], \"heatmap\": [{\"colorbar\": {\"outlinewidth\": 0, \"ticks\": \"\"}, \"colorscale\": [[0.0, \"#0d0887\"], [0.1111111111111111, \"#46039f\"], [0.2222222222222222, \"#7201a8\"], [0.3333333333333333, \"#9c179e\"], [0.4444444444444444, \"#bd3786\"], [0.5555555555555556, \"#d8576b\"], [0.6666666666666666, \"#ed7953\"], [0.7777777777777778, \"#fb9f3a\"], [0.8888888888888888, \"#fdca26\"], [1.0, \"#f0f921\"]], \"type\": \"heatmap\"}], \"heatmapgl\": [{\"colorbar\": {\"outlinewidth\": 0, \"ticks\": \"\"}, \"colorscale\": [[0.0, \"#0d0887\"], [0.1111111111111111, \"#46039f\"], [0.2222222222222222, \"#7201a8\"], [0.3333333333333333, \"#9c179e\"], [0.4444444444444444, \"#bd3786\"], [0.5555555555555556, \"#d8576b\"], [0.6666666666666666, \"#ed7953\"], [0.7777777777777778, \"#fb9f3a\"], [0.8888888888888888, \"#fdca26\"], [1.0, \"#f0f921\"]], \"type\": \"heatmapgl\"}], \"histogram\": [{\"marker\": {\"colorbar\": {\"outlinewidth\": 0, \"ticks\": \"\"}}, \"type\": \"histogram\"}], \"histogram2d\": [{\"colorbar\": {\"outlinewidth\": 0, \"ticks\": \"\"}, \"colorscale\": [[0.0, \"#0d0887\"], [0.1111111111111111, \"#46039f\"], [0.2222222222222222, \"#7201a8\"], [0.3333333333333333, \"#9c179e\"], [0.4444444444444444, \"#bd3786\"], [0.5555555555555556, \"#d8576b\"], [0.6666666666666666, \"#ed7953\"], [0.7777777777777778, \"#fb9f3a\"], [0.8888888888888888, \"#fdca26\"], [1.0, \"#f0f921\"]], \"type\": \"histogram2d\"}], \"histogram2dcontour\": [{\"colorbar\": {\"outlinewidth\": 0, \"ticks\": \"\"}, \"colorscale\": [[0.0, \"#0d0887\"], [0.1111111111111111, \"#46039f\"], [0.2222222222222222, \"#7201a8\"], [0.3333333333333333, \"#9c179e\"], [0.4444444444444444, \"#bd3786\"], [0.5555555555555556, \"#d8576b\"], [0.6666666666666666, \"#ed7953\"], [0.7777777777777778, \"#fb9f3a\"], [0.8888888888888888, \"#fdca26\"], [1.0, \"#f0f921\"]], \"type\": \"histogram2dcontour\"}], \"mesh3d\": [{\"colorbar\": {\"outlinewidth\": 0, \"ticks\": \"\"}, \"type\": \"mesh3d\"}], \"parcoords\": [{\"line\": {\"colorbar\": {\"outlinewidth\": 0, \"ticks\": \"\"}}, \"type\": \"parcoords\"}], \"pie\": [{\"automargin\": true, \"type\": \"pie\"}], \"scatter\": [{\"marker\": {\"colorbar\": {\"outlinewidth\": 0, \"ticks\": \"\"}}, \"type\": \"scatter\"}], \"scatter3d\": [{\"line\": {\"colorbar\": {\"outlinewidth\": 0, \"ticks\": \"\"}}, \"marker\": {\"colorbar\": {\"outlinewidth\": 0, \"ticks\": \"\"}}, \"type\": \"scatter3d\"}], \"scattercarpet\": [{\"marker\": {\"colorbar\": {\"outlinewidth\": 0, \"ticks\": \"\"}}, \"type\": \"scattercarpet\"}], \"scattergeo\": [{\"marker\": {\"colorbar\": {\"outlinewidth\": 0, \"ticks\": \"\"}}, \"type\": \"scattergeo\"}], \"scattergl\": [{\"marker\": {\"colorbar\": {\"outlinewidth\": 0, \"ticks\": \"\"}}, \"type\": \"scattergl\"}], \"scattermapbox\": [{\"marker\": {\"colorbar\": {\"outlinewidth\": 0, \"ticks\": \"\"}}, \"type\": \"scattermapbox\"}], \"scatterpolar\": [{\"marker\": {\"colorbar\": {\"outlinewidth\": 0, \"ticks\": \"\"}}, \"type\": \"scatterpolar\"}], \"scatterpolargl\": [{\"marker\": {\"colorbar\": {\"outlinewidth\": 0, \"ticks\": \"\"}}, \"type\": \"scatterpolargl\"}], \"scatterternary\": [{\"marker\": {\"colorbar\": {\"outlinewidth\": 0, \"ticks\": \"\"}}, \"type\": \"scatterternary\"}], \"surface\": [{\"colorbar\": {\"outlinewidth\": 0, \"ticks\": \"\"}, \"colorscale\": [[0.0, \"#0d0887\"], [0.1111111111111111, \"#46039f\"], [0.2222222222222222, \"#7201a8\"], [0.3333333333333333, \"#9c179e\"], [0.4444444444444444, \"#bd3786\"], [0.5555555555555556, \"#d8576b\"], [0.6666666666666666, \"#ed7953\"], [0.7777777777777778, \"#fb9f3a\"], [0.8888888888888888, \"#fdca26\"], [1.0, \"#f0f921\"]], \"type\": \"surface\"}], \"table\": [{\"cells\": {\"fill\": {\"color\": \"#EBF0F8\"}, \"line\": {\"color\": \"white\"}}, \"header\": {\"fill\": {\"color\": \"#C8D4E3\"}, \"line\": {\"color\": \"white\"}}, \"type\": \"table\"}]}, \"layout\": {\"annotationdefaults\": {\"arrowcolor\": \"#2a3f5f\", \"arrowhead\": 0, \"arrowwidth\": 1}, \"coloraxis\": {\"colorbar\": {\"outlinewidth\": 0, \"ticks\": \"\"}}, \"colorscale\": {\"diverging\": [[0, \"#8e0152\"], [0.1, \"#c51b7d\"], [0.2, \"#de77ae\"], [0.3, \"#f1b6da\"], [0.4, \"#fde0ef\"], [0.5, \"#f7f7f7\"], [0.6, \"#e6f5d0\"], [0.7, \"#b8e186\"], [0.8, \"#7fbc41\"], [0.9, \"#4d9221\"], [1, \"#276419\"]], \"sequential\": [[0.0, \"#0d0887\"], [0.1111111111111111, \"#46039f\"], [0.2222222222222222, \"#7201a8\"], [0.3333333333333333, \"#9c179e\"], [0.4444444444444444, \"#bd3786\"], [0.5555555555555556, \"#d8576b\"], [0.6666666666666666, \"#ed7953\"], [0.7777777777777778, \"#fb9f3a\"], [0.8888888888888888, \"#fdca26\"], [1.0, \"#f0f921\"]], \"sequentialminus\": [[0.0, \"#0d0887\"], [0.1111111111111111, \"#46039f\"], [0.2222222222222222, \"#7201a8\"], [0.3333333333333333, \"#9c179e\"], [0.4444444444444444, \"#bd3786\"], [0.5555555555555556, \"#d8576b\"], [0.6666666666666666, \"#ed7953\"], [0.7777777777777778, \"#fb9f3a\"], [0.8888888888888888, \"#fdca26\"], [1.0, \"#f0f921\"]]}, \"colorway\": [\"#636efa\", \"#EF553B\", \"#00cc96\", \"#ab63fa\", \"#FFA15A\", \"#19d3f3\", \"#FF6692\", \"#B6E880\", \"#FF97FF\", \"#FECB52\"], \"font\": {\"color\": \"#2a3f5f\"}, \"geo\": {\"bgcolor\": \"white\", \"lakecolor\": \"white\", \"landcolor\": \"#E5ECF6\", \"showlakes\": true, \"showland\": true, \"subunitcolor\": \"white\"}, \"hoverlabel\": {\"align\": \"left\"}, \"hovermode\": \"closest\", \"mapbox\": {\"style\": \"light\"}, \"paper_bgcolor\": \"white\", \"plot_bgcolor\": \"#E5ECF6\", \"polar\": {\"angularaxis\": {\"gridcolor\": \"white\", \"linecolor\": \"white\", \"ticks\": \"\"}, \"bgcolor\": \"#E5ECF6\", \"radialaxis\": {\"gridcolor\": \"white\", \"linecolor\": \"white\", \"ticks\": \"\"}}, \"scene\": {\"xaxis\": {\"backgroundcolor\": \"#E5ECF6\", \"gridcolor\": \"white\", \"gridwidth\": 2, \"linecolor\": \"white\", \"showbackground\": true, \"ticks\": \"\", \"zerolinecolor\": \"white\"}, \"yaxis\": {\"backgroundcolor\": \"#E5ECF6\", \"gridcolor\": \"white\", \"gridwidth\": 2, \"linecolor\": \"white\", \"showbackground\": true, \"ticks\": \"\", \"zerolinecolor\": \"white\"}, \"zaxis\": {\"backgroundcolor\": \"#E5ECF6\", \"gridcolor\": \"white\", \"gridwidth\": 2, \"linecolor\": \"white\", \"showbackground\": true, \"ticks\": \"\", \"zerolinecolor\": \"white\"}}, \"shapedefaults\": {\"line\": {\"color\": \"#2a3f5f\"}}, \"ternary\": {\"aaxis\": {\"gridcolor\": \"white\", \"linecolor\": \"white\", \"ticks\": \"\"}, \"baxis\": {\"gridcolor\": \"white\", \"linecolor\": \"white\", \"ticks\": \"\"}, \"bgcolor\": \"#E5ECF6\", \"caxis\": {\"gridcolor\": \"white\", \"linecolor\": \"white\", \"ticks\": \"\"}}, \"title\": {\"x\": 0.05}, \"xaxis\": {\"automargin\": true, \"gridcolor\": \"white\", \"linecolor\": \"white\", \"ticks\": \"\", \"title\": {\"standoff\": 15}, \"zerolinecolor\": \"white\", \"zerolinewidth\": 2}, \"yaxis\": {\"automargin\": true, \"gridcolor\": \"white\", \"linecolor\": \"white\", \"ticks\": \"\", \"title\": {\"standoff\": 15}, \"zerolinecolor\": \"white\", \"zerolinewidth\": 2}}}},\n",
              "                        {\"responsive\": true}\n",
              "                    ).then(function(){\n",
              "                            \n",
              "var gd = document.getElementById('59292324-5daa-4996-84b1-aaf4347bc592');\n",
              "var x = new MutationObserver(function (mutations, observer) {{\n",
              "        var display = window.getComputedStyle(gd).display;\n",
              "        if (!display || display === 'none') {{\n",
              "            console.log([gd, 'removed!']);\n",
              "            Plotly.purge(gd);\n",
              "            observer.disconnect();\n",
              "        }}\n",
              "}});\n",
              "\n",
              "// Listen for the removal of the full notebook cells\n",
              "var notebookContainer = gd.closest('#notebook-container');\n",
              "if (notebookContainer) {{\n",
              "    x.observe(notebookContainer, {childList: true});\n",
              "}}\n",
              "\n",
              "// Listen for the clearing of the current output cell\n",
              "var outputEl = gd.closest('.output');\n",
              "if (outputEl) {{\n",
              "    x.observe(outputEl, {childList: true});\n",
              "}}\n",
              "\n",
              "                        })\n",
              "                };\n",
              "                \n",
              "            </script>\n",
              "        </div>\n",
              "</body>\n",
              "</html>"
            ]
          },
          "metadata": {
            "tags": []
          }
        }
      ]
    },
    {
      "cell_type": "code",
      "metadata": {
        "colab": {
          "base_uri": "https://localhost:8080/",
          "height": 252
        },
        "id": "fm_chdmi2Xzr",
        "outputId": "9007110c-832e-402a-fec8-1c543c1a86d7"
      },
      "source": [
        "#Determine outliers for number of sentences\n",
        "sns.boxplot(data = df, y = 'len_sentences')\n",
        "plt.show()"
      ],
      "execution_count": null,
      "outputs": [
        {
          "output_type": "display_data",
          "data": {
            "image/png": "[encoded data removed]",
            "text/plain": [
              "<Figure size 432x288 with 1 Axes>"
            ]
          },
          "metadata": {
            "tags": [],
            "needs_background": "light"
          }
        }
      ]
    },
    {
      "cell_type": "code",
      "metadata": {
        "colab": {
          "base_uri": "https://localhost:8080/",
          "height": 252
        },
        "id": "xdo9rO1B2tpi",
        "outputId": "b994bc75-c4af-4c3d-d8af-33f024b1a2ae"
      },
      "source": [
        "#Determine outliers for number of chars\n",
        "sns.boxplot(data = df, y = 'len_chars')\n",
        "plt.show()"
      ],
      "execution_count": null,
      "outputs": [
        {
          "output_type": "display_data",
          "data": {
            "image/png": "[encoded data removed]",
            "text/plain": [
              "<Figure size 432x288 with 1 Axes>"
            ]
          },
          "metadata": {
            "tags": [],
            "needs_background": "light"
          }
        }
      ]
    },
    {
      "cell_type": "code",
      "metadata": {
        "colab": {
          "base_uri": "https://localhost:8080/",
          "height": 280
        },
        "id": "vSbyuRCxrGLf",
        "outputId": "8471ac7b-65f6-47b7-e606-5f137d419066"
      },
      "source": [
        "sns.histplot(data = df, x = 'len_chars')\n",
        "plt.show()"
      ],
      "execution_count": null,
      "outputs": [
        {
          "output_type": "display_data",
          "data": {
            "image/png": "[encoded data removed]",
            "text/plain": [
              "<Figure size 432x288 with 1 Axes>"
            ]
          },
          "metadata": {
            "tags": [],
            "needs_background": "light"
          }
        }
      ]
    },
    {
      "cell_type": "code",
      "metadata": {
        "colab": {
          "base_uri": "https://localhost:8080/"
        },
        "id": "6D4UlLxp11A2",
        "outputId": "581b2b96-d921-4834-babd-0b1d63a88e56"
      },
      "source": [
        "# Average char length of tweets 67. Tweets with char length greater than 99 will be considered outliers and removed.\n",
        "df['len_chars'].describe()"
      ],
      "execution_count": null,
      "outputs": [
        {
          "output_type": "execute_result",
          "data": {
            "text/plain": [
              "count    14627.000000\n",
              "mean        66.981404\n",
              "std         49.690762\n",
              "min          0.000000\n",
              "25%         31.000000\n",
              "50%         58.000000\n",
              "75%         99.000000\n",
              "max       1736.000000\n",
              "Name: len_chars, dtype: float64"
            ]
          },
          "metadata": {
            "tags": []
          },
          "execution_count": 23
        }
      ]
    },
    {
      "cell_type": "markdown",
      "metadata": {
        "id": "y5zPz68_2-y0"
      },
      "source": [
        "# 4. Remove Outliers & Filter Single-word Comments"
      ]
    },
    {
      "cell_type": "code",
      "metadata": {
        "colab": {
          "base_uri": "https://localhost:8080/",
          "height": 297
        },
        "id": "ceHfiOqk3EiC",
        "outputId": "6069f892-7ad3-4e30-d313-ad4585dfb6e2"
      },
      "source": [
        "#Remove outliers outside of IQR (>99 chars)\n",
        "df = df[ df['len_chars'] <= 99 ]\n",
        "df.describe()   # 10984 rows after cleaning"
      ],
      "execution_count": null,
      "outputs": [
        {
          "output_type": "execute_result",
          "data": {
            "text/html": [
              "<div>\n",
              "<style scoped>\n",
              "    .dataframe tbody tr th:only-of-type {\n",
              "        vertical-align: middle;\n",
              "    }\n",
              "\n",
              "    .dataframe tbody tr th {\n",
              "        vertical-align: top;\n",
              "    }\n",
              "\n",
              "    .dataframe thead th {\n",
              "        text-align: right;\n",
              "    }\n",
              "</style>\n",
              "<table border=\"1\" class=\"dataframe\">\n",
              "  <thead>\n",
              "    <tr style=\"text-align: right;\">\n",
              "      <th></th>\n",
              "      <th>label</th>\n",
              "      <th>len_words</th>\n",
              "      <th>len_sentences</th>\n",
              "      <th>len_chars</th>\n",
              "    </tr>\n",
              "  </thead>\n",
              "  <tbody>\n",
              "    <tr>\n",
              "      <th>count</th>\n",
              "      <td>10984.000000</td>\n",
              "      <td>10984.000000</td>\n",
              "      <td>10984.000000</td>\n",
              "      <td>10984.000000</td>\n",
              "    </tr>\n",
              "    <tr>\n",
              "      <th>mean</th>\n",
              "      <td>0.179443</td>\n",
              "      <td>12.913055</td>\n",
              "      <td>1.576020</td>\n",
              "      <td>46.646031</td>\n",
              "    </tr>\n",
              "    <tr>\n",
              "      <th>std</th>\n",
              "      <td>0.383740</td>\n",
              "      <td>6.988785</td>\n",
              "      <td>0.821418</td>\n",
              "      <td>25.781688</td>\n",
              "    </tr>\n",
              "    <tr>\n",
              "      <th>min</th>\n",
              "      <td>0.000000</td>\n",
              "      <td>0.000000</td>\n",
              "      <td>1.000000</td>\n",
              "      <td>0.000000</td>\n",
              "    </tr>\n",
              "    <tr>\n",
              "      <th>25%</th>\n",
              "      <td>0.000000</td>\n",
              "      <td>7.000000</td>\n",
              "      <td>1.000000</td>\n",
              "      <td>25.000000</td>\n",
              "    </tr>\n",
              "    <tr>\n",
              "      <th>50%</th>\n",
              "      <td>0.000000</td>\n",
              "      <td>12.000000</td>\n",
              "      <td>1.000000</td>\n",
              "      <td>43.000000</td>\n",
              "    </tr>\n",
              "    <tr>\n",
              "      <th>75%</th>\n",
              "      <td>0.000000</td>\n",
              "      <td>18.000000</td>\n",
              "      <td>2.000000</td>\n",
              "      <td>67.000000</td>\n",
              "    </tr>\n",
              "    <tr>\n",
              "      <th>max</th>\n",
              "      <td>1.000000</td>\n",
              "      <td>66.000000</td>\n",
              "      <td>8.000000</td>\n",
              "      <td>99.000000</td>\n",
              "    </tr>\n",
              "  </tbody>\n",
              "</table>\n",
              "</div>"
            ],
            "text/plain": [
              "              label     len_words  len_sentences     len_chars\n",
              "count  10984.000000  10984.000000   10984.000000  10984.000000\n",
              "mean       0.179443     12.913055       1.576020     46.646031\n",
              "std        0.383740      6.988785       0.821418     25.781688\n",
              "min        0.000000      0.000000       1.000000      0.000000\n",
              "25%        0.000000      7.000000       1.000000     25.000000\n",
              "50%        0.000000     12.000000       1.000000     43.000000\n",
              "75%        0.000000     18.000000       2.000000     67.000000\n",
              "max        1.000000     66.000000       8.000000     99.000000"
            ]
          },
          "metadata": {
            "tags": []
          },
          "execution_count": 24
        }
      ]
    },
    {
      "cell_type": "code",
      "metadata": {
        "colab": {
          "base_uri": "https://localhost:8080/"
        },
        "id": "C3tgfWGYcctl",
        "outputId": "ee78d2bf-2e97-404b-96ff-91f0ddba058e"
      },
      "source": [
        "#For purposes of Artifical Non-Intelligence guessing game, remove single word tweets because not enough context for player to guess\n",
        "df = df.drop(df[df['len_words'] <= 1].index)  \n",
        "df.shape"
      ],
      "execution_count": null,
      "outputs": [
        {
          "output_type": "execute_result",
          "data": {
            "text/plain": [
              "(10919, 5)"
            ]
          },
          "metadata": {
            "tags": []
          },
          "execution_count": 25
        }
      ]
    },
    {
      "cell_type": "markdown",
      "metadata": {
        "id": "w14lJt3TFzYw"
      },
      "source": [
        "# 5. Create Batches "
      ]
    },
    {
      "cell_type": "markdown",
      "metadata": {
        "id": "PG1D-xgxHL2r"
      },
      "source": [
        "First separating dataset of Aggressive (Troll) tweets in case only wish to use troll tweets in game."
      ]
    },
    {
      "cell_type": "code",
      "metadata": {
        "colab": {
          "base_uri": "https://localhost:8080/",
          "height": 340
        },
        "id": "13bq8fizoKQQ",
        "outputId": "a4a97373-1b22-4994-802b-d11159c322d0"
      },
      "source": [
        "#Create new df of just troll tweets. Fake=0 indicates tweet is human-generated ('real')\n",
        "df_troll = df[ df['label'] == 1 ] \n",
        "df_troll['fake'] = 0  \n",
        "df_troll = df_troll[['content','label', 'fake']].reset_index(drop=True)\n",
        "df_troll.head()"
      ],
      "execution_count": null,
      "outputs": [
        {
          "output_type": "stream",
          "text": [
            "/usr/local/lib/python3.7/dist-packages/ipykernel_launcher.py:3: SettingWithCopyWarning:\n",
            "\n",
            "\n",
            "A value is trying to be set on a copy of a slice from a DataFrame.\n",
            "Try using .loc[row_indexer,col_indexer] = value instead\n",
            "\n",
            "See the caveats in the documentation: https://pandas.pydata.org/pandas-docs/stable/user_guide/indexing.html#returning-a-view-versus-a-copy\n",
            "\n"
          ],
          "name": "stderr"
        },
        {
          "output_type": "execute_result",
          "data": {
            "text/html": [
              "<div>\n",
              "<style scoped>\n",
              "    .dataframe tbody tr th:only-of-type {\n",
              "        vertical-align: middle;\n",
              "    }\n",
              "\n",
              "    .dataframe tbody tr th {\n",
              "        vertical-align: top;\n",
              "    }\n",
              "\n",
              "    .dataframe thead th {\n",
              "        text-align: right;\n",
              "    }\n",
              "</style>\n",
              "<table border=\"1\" class=\"dataframe\">\n",
              "  <thead>\n",
              "    <tr style=\"text-align: right;\">\n",
              "      <th></th>\n",
              "      <th>content</th>\n",
              "      <th>label</th>\n",
              "      <th>fake</th>\n",
              "    </tr>\n",
              "  </thead>\n",
              "  <tbody>\n",
              "    <tr>\n",
              "      <th>0</th>\n",
              "      <td>Get fucking real dude.</td>\n",
              "      <td>1</td>\n",
              "      <td>0</td>\n",
              "    </tr>\n",
              "    <tr>\n",
              "      <th>1</th>\n",
              "      <td>WTF are you talking about Men? No men thats no...</td>\n",
              "      <td>1</td>\n",
              "      <td>0</td>\n",
              "    </tr>\n",
              "    <tr>\n",
              "      <th>2</th>\n",
              "      <td>LOL  no he said  What do you call a jail cell ...</td>\n",
              "      <td>1</td>\n",
              "      <td>0</td>\n",
              "    </tr>\n",
              "    <tr>\n",
              "      <th>3</th>\n",
              "      <td>Shakespeare nerd!</td>\n",
              "      <td>1</td>\n",
              "      <td>0</td>\n",
              "    </tr>\n",
              "    <tr>\n",
              "      <th>4</th>\n",
              "      <td>you are SUCH a fucking dork</td>\n",
              "      <td>1</td>\n",
              "      <td>0</td>\n",
              "    </tr>\n",
              "  </tbody>\n",
              "</table>\n",
              "</div>"
            ],
            "text/plain": [
              "                                             content  label  fake\n",
              "0                             Get fucking real dude.      1     0\n",
              "1  WTF are you talking about Men? No men thats no...      1     0\n",
              "2  LOL  no he said  What do you call a jail cell ...      1     0\n",
              "3                                  Shakespeare nerd!      1     0\n",
              "4                        you are SUCH a fucking dork      1     0"
            ]
          },
          "metadata": {
            "tags": []
          },
          "execution_count": 26
        }
      ]
    },
    {
      "cell_type": "code",
      "metadata": {
        "id": "sqx9Now7O11U"
      },
      "source": [
        "#Output troll tweets to json and csv files\n",
        "df_troll.to_json('real_tweets_aggressive.json')\n",
        "df_troll.to_csv('real_tweets_aggressive.csv')"
      ],
      "execution_count": null,
      "outputs": []
    },
    {
      "cell_type": "code",
      "metadata": {
        "colab": {
          "base_uri": "https://localhost:8080/"
        },
        "id": "f1hxft9zoupL",
        "outputId": "09869770-95ce-468d-f997-b38831e2bd65"
      },
      "source": [
        "#Create new df of just non-aggressive tweets(Label=0). Fake=0 indicates tweet is human-generated ('real')\n",
        "df_nonagg = df[ df['label'] == 0]\n",
        "df_nonagg['fake'] = 0 \n",
        "df_nonagg = df_nonagg[['content','label', 'fake']].reset_index(drop=True)\n",
        "df_nonagg.head()\n",
        "df_nonagg.info()"
      ],
      "execution_count": null,
      "outputs": [
        {
          "output_type": "stream",
          "text": [
            "<class 'pandas.core.frame.DataFrame'>\n",
            "RangeIndex: 8949 entries, 0 to 8948\n",
            "Data columns (total 3 columns):\n",
            " #   Column   Non-Null Count  Dtype \n",
            "---  ------   --------------  ----- \n",
            " 0   content  8949 non-null   object\n",
            " 1   label    8949 non-null   int64 \n",
            " 2   fake     8949 non-null   int64 \n",
            "dtypes: int64(2), object(1)\n",
            "memory usage: 209.9+ KB\n"
          ],
          "name": "stdout"
        },
        {
          "output_type": "stream",
          "text": [
            "/usr/local/lib/python3.7/dist-packages/ipykernel_launcher.py:3: SettingWithCopyWarning:\n",
            "\n",
            "\n",
            "A value is trying to be set on a copy of a slice from a DataFrame.\n",
            "Try using .loc[row_indexer,col_indexer] = value instead\n",
            "\n",
            "See the caveats in the documentation: https://pandas.pydata.org/pandas-docs/stable/user_guide/indexing.html#returning-a-view-versus-a-copy\n",
            "\n"
          ],
          "name": "stderr"
        }
      ]
    },
    {
      "cell_type": "code",
      "metadata": {
        "id": "LAzetdObPb0v"
      },
      "source": [
        "#Output non-aggressive tweets to json and csv files\n",
        "df_nonagg.to_json('real_tweets_nonaggressive.json')\n",
        "df_nonagg.to_csv('real_tweets_nonaggressive.csv')"
      ],
      "execution_count": null,
      "outputs": []
    },
    {
      "cell_type": "markdown",
      "metadata": {
        "id": "1d-ON5CVIhLO"
      },
      "source": [
        "To generate only aggressive (troll) tweets, run cell below to encode only tweets with label=1"
      ]
    },
    {
      "cell_type": "code",
      "metadata": {
        "id": "txMFyVAA27Ji"
      },
      "source": [
        "descriptions = df_trolls['content']\n",
        "max_length = max([len(tokenizer.encode(description)) for description in descriptions])\n",
        "print(max_length)"
      ],
      "execution_count": null,
      "outputs": []
    },
    {
      "cell_type": "markdown",
      "metadata": {
        "id": "FB8mRVcvIvze"
      },
      "source": [
        "To generate non-aggressive tweets, run cell below to encode tweets with label=0"
      ]
    },
    {
      "cell_type": "code",
      "metadata": {
        "colab": {
          "base_uri": "https://localhost:8080/"
        },
        "id": "Qkv3aMP4IZTT",
        "outputId": "6c6074bd-bb1f-49ab-f5a3-5a3890853194"
      },
      "source": [
        "descriptions = df_nonagg['content']\n",
        "max_length = max([len(tokenizer.encode(description)) for description in descriptions])\n",
        "print(max_length)"
      ],
      "execution_count": null,
      "outputs": [
        {
          "output_type": "stream",
          "text": [
            "50\n"
          ],
          "name": "stdout"
        }
      ]
    },
    {
      "cell_type": "markdown",
      "metadata": {
        "id": "SyqiQgvo6PGe"
      },
      "source": [
        " Below is the \"Dataset\" object. This is actually a pyTorch object that makes it easy to creates batches of data. As you can see, it happens the beginning and end of sentence tokens, and does padding on top. "
      ]
    },
    {
      "cell_type": "code",
      "metadata": {
        "id": "Q7S2sY_C6YWb"
      },
      "source": [
        "class BatchDataset(Dataset):\n",
        "    def __init__(self, txt_list, tokenizer, max_length):\n",
        "        self.input_ids = []\n",
        "        self.attn_masks = []\n",
        "        self.labels = []\n",
        "        for txt in txt_list:\n",
        "            encodings_dict = tokenizer('<|startoftext|>' + txt + '<|endoftext|>', truncation=True,\n",
        "                                       max_length=max_length, padding=\"max_length\")\n",
        "            self.input_ids.append(torch.tensor(encodings_dict['input_ids']))\n",
        "            self.attn_masks.append(torch.tensor(encodings_dict['attention_mask']))\n",
        "\n",
        "    def __len__(self):\n",
        "        return len(self.input_ids)\n",
        "\n",
        "    def __getitem__(self, idx):\n",
        "        return self.input_ids[idx], self.attn_masks[idx]"
      ],
      "execution_count": null,
      "outputs": []
    },
    {
      "cell_type": "markdown",
      "metadata": {
        "id": "Hh_V7EAk6iL1"
      },
      "source": [
        "**Preprocess** data data, & split into train/val!"
      ]
    },
    {
      "cell_type": "code",
      "metadata": {
        "id": "-1Lkfr1P6jkq"
      },
      "source": [
        "dataset = BatchDataset(descriptions, tokenizer, max_length=max_length)"
      ],
      "execution_count": null,
      "outputs": []
    },
    {
      "cell_type": "code",
      "metadata": {
        "colab": {
          "base_uri": "https://localhost:8080/"
        },
        "id": "ZjHt8eET6mYP",
        "outputId": "94ae33a9-5f4a-4710-d385-df79c2c584bb"
      },
      "source": [
        "# Two objects: the tokens, and the mask. Use tokenizer.eos_token_id (& bos_token_id & pad_token_id) \n",
        "# to understand how each token is represented numerically\n",
        "print(dataset[0])\n",
        "print(tokenizer.eos_token_id)\n",
        "print(tokenizer.bos_token_id)\n",
        "print(tokenizer.pad_token_id)"
      ],
      "execution_count": null,
      "outputs": [
        {
          "output_type": "stream",
          "text": [
            "(tensor([50257, 42773, 19462,  5238,   588,   257,  1256,   286, 18314,   788,\n",
            "          339,   258,   258, 50256, 50258, 50258, 50258, 50258, 50258, 50258,\n",
            "        50258, 50258, 50258, 50258, 50258, 50258, 50258, 50258, 50258, 50258,\n",
            "        50258, 50258, 50258, 50258, 50258, 50258, 50258, 50258, 50258, 50258,\n",
            "        50258, 50258, 50258, 50258, 50258, 50258, 50258, 50258, 50258, 50258]), tensor([1, 1, 1, 1, 1, 1, 1, 1, 1, 1, 1, 1, 1, 1, 0, 0, 0, 0, 0, 0, 0, 0, 0, 0,\n",
            "        0, 0, 0, 0, 0, 0, 0, 0, 0, 0, 0, 0, 0, 0, 0, 0, 0, 0, 0, 0, 0, 0, 0, 0,\n",
            "        0, 0]))\n",
            "50256\n",
            "50257\n",
            "50258\n"
          ],
          "name": "stdout"
        }
      ]
    },
    {
      "cell_type": "code",
      "metadata": {
        "id": "MnMQnzME6q0R"
      },
      "source": [
        "# Proportion of train observations\n",
        "# set random seed\n",
        "\n",
        "torch.manual_seed(42)\n",
        "random.seed(42)\n",
        "\n",
        "train_prop = .9"
      ],
      "execution_count": null,
      "outputs": []
    },
    {
      "cell_type": "code",
      "metadata": {
        "id": "Iz_F0o8c6tBg"
      },
      "source": [
        "train_size = round(len(dataset) * train_prop)\n",
        "train_dataset, val_dataset = random_split(dataset, [train_size, len(dataset) - train_size])"
      ],
      "execution_count": null,
      "outputs": []
    },
    {
      "cell_type": "code",
      "metadata": {
        "colab": {
          "base_uri": "https://localhost:8080/"
        },
        "id": "uJUJ-8Gs6vf-",
        "outputId": "09462705-ea4a-43d8-cce3-ec8d8ae7cd12"
      },
      "source": [
        "print(len(train_dataset)) ; print(len(val_dataset))"
      ],
      "execution_count": null,
      "outputs": [
        {
          "output_type": "stream",
          "text": [
            "8054\n",
            "895\n"
          ],
          "name": "stdout"
        }
      ]
    },
    {
      "cell_type": "markdown",
      "metadata": {
        "id": "pCIar-rt618c"
      },
      "source": [
        "Use the following to undersize the train dataset (for fast iterations on smaller train set). You will then use lenn than train_prop.\n",
        "\n",
        "Put **None** if you want to use all of it. Note that this won't afect the size of the validation set."
      ]
    },
    {
      "cell_type": "code",
      "metadata": {
        "id": "ZaiG8MEO69HY"
      },
      "source": [
        "train_subsample_size = None # int or None (None for as much train data as possible)"
      ],
      "execution_count": null,
      "outputs": []
    },
    {
      "cell_type": "code",
      "metadata": {
        "id": "hZ4DzdDT6-Nx"
      },
      "source": [
        "if train_subsample_size is not None:\n",
        "  assert train_subsample_size <= len(dataset)\n",
        "  train_dataset_sub = Subset(train_dataset, list(range(train_subsample_size)))\n",
        "else:\n",
        "  train_dataset_sub = train_dataset"
      ],
      "execution_count": null,
      "outputs": []
    },
    {
      "cell_type": "code",
      "metadata": {
        "colab": {
          "base_uri": "https://localhost:8080/"
        },
        "id": "23UuS2iu7AgY",
        "outputId": "cd611c77-4c6e-4246-c66a-eea28fe636b8"
      },
      "source": [
        "print(len(train_dataset_sub)) ; print(len(val_dataset))"
      ],
      "execution_count": null,
      "outputs": [
        {
          "output_type": "stream",
          "text": [
            "8054\n",
            "895\n"
          ],
          "name": "stdout"
        }
      ]
    },
    {
      "cell_type": "markdown",
      "metadata": {
        "id": "GcXFE1ag7LAj"
      },
      "source": [
        "#6. Fine-tuning (not necessary if providing primer text)"
      ]
    },
    {
      "cell_type": "markdown",
      "metadata": {
        "id": "NvO_x0ke7RF5"
      },
      "source": [
        "**Training** arguments. Please note that none of them are specific to HuggingFace, so you'll be able to use your experience on those for any Deep Learning project.\n",
        "\n",
        "You will want to dive in [the documentation](https://huggingface.co/transformers/main_classes/trainer.html#transformers.TrainingArguments) for this class. With that said, here are the **most important arguments**. \n",
        "\n",
        "Those you already know:\n",
        "* **num_train_epochs** (3-4 can prove enough with a small dataset)\n",
        "* **per_device_train_batch_size & per_device_eval_batch_size** (use the same value for both)\n",
        "* **learning_rate** (by default, the used optimizer is *AdamW*, which is just Adam with a trick for better regularization)\n",
        "\n",
        "Those you are less familiar with, but still important:\n",
        "* **weight_decay** : the regularization parameter for Adam (L2 regularization, which you have studied during class).\n",
        "* **logging_steps and eval_steps**: Trainer will show you the training progress every logging_step & eval_steps batch. For starter, set it to 100, so that you get a solid idea of the evolution of the train & val losses. When you get used to all this, you may want to increase the step to save time during training.\n",
        "* **save_strategy and save_steps**: how often should the model parameter be saved? By default, I advise you to set save_strategy=\"no\", or this will kill your Colab storage space. \n",
        "* **load_best_model_at_end** : if model is saved at each save_steps, then get the best one. My advice: set it to False.\n",
        "\n",
        "\n",
        "Some you may not know but want to play with\n",
        "* **lr_scheduler_type** : by default, [\"linear\"](https://huggingface.co/transformers/main_classes/optimizer_schedules.html#transformers.get_linear_schedule_with_warmup) (you should leave it as such). In that case, you learning rate will start from a very low value, and then reach the learning_rate you've set. Then will go down slowly. This prevents the parameters from moving like crazy at the beginning of the learning, and from moving too much at the end of the learning, when we are already supposed to be in a good spot in term of network weights.\n",
        "* **warmup_steps**: how many batches should be seen by the Trainer before the learning rate reaches lr_scheduler_type? Too high values for warmup_steps will prevent your trainer from explore enough values for the weights. Too low, and might get crazy. Good values can be between 50 and 250.\n",
        "* **adam_beta1, adam_beta2** : I don't consider them to be the most important in Deep Learning, but I'm sure some do and get good results through them :-)"
      ]
    },
    {
      "cell_type": "code",
      "metadata": {
        "id": "XgdWJHNH7Zzl"
      },
      "source": [
        "training_args = TrainingArguments(      \n",
        "    seed=42,\n",
        "    output_dir='./results', \n",
        "    num_train_epochs=4,\n",
        "    learning_rate=5e-5, \n",
        "    weight_decay=1e-5,\n",
        "    per_device_train_batch_size=16, \n",
        "    per_device_eval_batch_size=16, \n",
        "    evaluation_strategy=\"steps\",\n",
        "    logging_steps=100, \n",
        "    eval_steps=100,\n",
        "    save_strategy=\"no\",\n",
        "    load_best_model_at_end=False,\n",
        "    lr_scheduler_type=\"linear\",\n",
        "    warmup_steps=100, \n",
        ")"
      ],
      "execution_count": null,
      "outputs": []
    },
    {
      "cell_type": "code",
      "metadata": {
        "colab": {
          "base_uri": "https://localhost:8080/",
          "height": 732
        },
        "id": "OdzEf1K57dk3",
        "outputId": "7090af8e-ca8f-43a8-c11b-1f488a25d55b"
      },
      "source": [
        "Trainer(model=model, args=training_args, train_dataset=train_dataset_sub,\n",
        "        eval_dataset=val_dataset, data_collator=lambda data: {'input_ids': torch.stack([f[0] for f in data]),\n",
        "                                                              'attention_mask': torch.stack([f[1] for f in data]),\n",
        "                                                              'labels': torch.stack([f[0] for f in data])}).train()"
      ],
      "execution_count": null,
      "outputs": [
        {
          "output_type": "display_data",
          "data": {
            "text/html": [
              "\n",
              "    <div>\n",
              "      \n",
              "      <progress value='2016' max='2016' style='width:300px; height:20px; vertical-align: middle;'></progress>\n",
              "      [2016/2016 21:17, Epoch 4/4]\n",
              "    </div>\n",
              "    <table border=\"1\" class=\"dataframe\">\n",
              "  <thead>\n",
              "    <tr style=\"text-align: left;\">\n",
              "      <th>Step</th>\n",
              "      <th>Training Loss</th>\n",
              "      <th>Validation Loss</th>\n",
              "    </tr>\n",
              "  </thead>\n",
              "  <tbody>\n",
              "    <tr>\n",
              "      <td>100</td>\n",
              "      <td>5.389400</td>\n",
              "      <td>1.244549</td>\n",
              "    </tr>\n",
              "    <tr>\n",
              "      <td>200</td>\n",
              "      <td>1.209500</td>\n",
              "      <td>1.189346</td>\n",
              "    </tr>\n",
              "    <tr>\n",
              "      <td>300</td>\n",
              "      <td>1.172500</td>\n",
              "      <td>1.173326</td>\n",
              "    </tr>\n",
              "    <tr>\n",
              "      <td>400</td>\n",
              "      <td>1.152500</td>\n",
              "      <td>1.164132</td>\n",
              "    </tr>\n",
              "    <tr>\n",
              "      <td>500</td>\n",
              "      <td>1.163100</td>\n",
              "      <td>1.161268</td>\n",
              "    </tr>\n",
              "    <tr>\n",
              "      <td>600</td>\n",
              "      <td>1.019000</td>\n",
              "      <td>1.168671</td>\n",
              "    </tr>\n",
              "    <tr>\n",
              "      <td>700</td>\n",
              "      <td>1.007900</td>\n",
              "      <td>1.164525</td>\n",
              "    </tr>\n",
              "    <tr>\n",
              "      <td>800</td>\n",
              "      <td>1.017000</td>\n",
              "      <td>1.162356</td>\n",
              "    </tr>\n",
              "    <tr>\n",
              "      <td>900</td>\n",
              "      <td>0.995400</td>\n",
              "      <td>1.161559</td>\n",
              "    </tr>\n",
              "    <tr>\n",
              "      <td>1000</td>\n",
              "      <td>1.023300</td>\n",
              "      <td>1.162174</td>\n",
              "    </tr>\n",
              "    <tr>\n",
              "      <td>1100</td>\n",
              "      <td>0.920300</td>\n",
              "      <td>1.191950</td>\n",
              "    </tr>\n",
              "    <tr>\n",
              "      <td>1200</td>\n",
              "      <td>0.895600</td>\n",
              "      <td>1.195756</td>\n",
              "    </tr>\n",
              "    <tr>\n",
              "      <td>1300</td>\n",
              "      <td>0.871900</td>\n",
              "      <td>1.193074</td>\n",
              "    </tr>\n",
              "    <tr>\n",
              "      <td>1400</td>\n",
              "      <td>0.898500</td>\n",
              "      <td>1.192133</td>\n",
              "    </tr>\n",
              "    <tr>\n",
              "      <td>1500</td>\n",
              "      <td>0.900800</td>\n",
              "      <td>1.191597</td>\n",
              "    </tr>\n",
              "    <tr>\n",
              "      <td>1600</td>\n",
              "      <td>0.830300</td>\n",
              "      <td>1.222715</td>\n",
              "    </tr>\n",
              "    <tr>\n",
              "      <td>1700</td>\n",
              "      <td>0.829600</td>\n",
              "      <td>1.224936</td>\n",
              "    </tr>\n",
              "    <tr>\n",
              "      <td>1800</td>\n",
              "      <td>0.816100</td>\n",
              "      <td>1.222431</td>\n",
              "    </tr>\n",
              "    <tr>\n",
              "      <td>1900</td>\n",
              "      <td>0.796100</td>\n",
              "      <td>1.224204</td>\n",
              "    </tr>\n",
              "    <tr>\n",
              "      <td>2000</td>\n",
              "      <td>0.827300</td>\n",
              "      <td>1.224030</td>\n",
              "    </tr>\n",
              "  </tbody>\n",
              "</table><p>"
            ],
            "text/plain": [
              "<IPython.core.display.HTML object>"
            ]
          },
          "metadata": {
            "tags": []
          }
        },
        {
          "output_type": "execute_result",
          "data": {
            "text/plain": [
              "TrainOutput(global_step=2016, training_loss=1.1841014193163977, metrics={'train_runtime': 1278.4129, 'train_samples_per_second': 1.577, 'total_flos': 3429314747596800.0, 'epoch': 4.0, 'init_mem_cpu_alloc_delta': 4096, 'init_mem_gpu_alloc_delta': 0, 'init_mem_cpu_peaked_delta': 0, 'init_mem_gpu_peaked_delta': 0, 'train_mem_cpu_alloc_delta': 13373440, 'train_mem_gpu_alloc_delta': 4271673344, 'train_mem_cpu_peaked_delta': 0, 'train_mem_gpu_peaked_delta': 3541659136})"
            ]
          },
          "metadata": {
            "tags": []
          },
          "execution_count": 51
        }
      ]
    },
    {
      "cell_type": "markdown",
      "metadata": {
        "id": "hAf87bKY7lPG"
      },
      "source": [
        "#7. Creating Primer Text (not needed if fine-tuning)"
      ]
    },
    {
      "cell_type": "markdown",
      "metadata": {
        "id": "lZBF8yU-Kmt5"
      },
      "source": [
        " Primer text is given to the text generation model as a prompt. Generally, if fine-tuning has already been done, then only a begining-of-sentence token like <|startoftext|> is provided to prompt the model. Conversely, if primer text is provided as a prompt, then fine-tuning beforehand is usually not done."
      ]
    },
    {
      "cell_type": "markdown",
      "metadata": {
        "id": "AN3euCw1L7So"
      },
      "source": [
        "Run cell below to create primer text using aggressive (troll) tweets."
      ]
    },
    {
      "cell_type": "code",
      "metadata": {
        "colab": {
          "base_uri": "https://localhost:8080/"
        },
        "id": "IJDkK2F07i0i",
        "outputId": "8d963440-a71d-4740-9dc5-930e811abc1f"
      },
      "source": [
        "#Randomly select tweets then add 'Tweet: ' before each comment to give additional context\n",
        "\n",
        "pd.set_option('display.max_colwidth', -1) # allow display to see full tweet length\n",
        "\n",
        "#Use df_troll for sampling aggressive tweets\n",
        "tweet_sample = df_troll['content'].sample(n=10)     #set number (n) of tweets to serve as primer text\n",
        "tweet_sample = 'Tweet: ' + tweet_sample\n",
        "tweet_sample = tweet_sample.reset_index(drop=True)\n",
        "tweet_sample.head(10)"
      ],
      "execution_count": null,
      "outputs": [
        {
          "output_type": "stream",
          "text": [
            "/usr/local/lib/python3.7/dist-packages/ipykernel_launcher.py:3: FutureWarning:\n",
            "\n",
            "Passing a negative integer is deprecated in version 1.0 and will not be supported in future version. Instead, use None to not limit the column width.\n",
            "\n"
          ],
          "name": "stderr"
        },
        {
          "output_type": "execute_result",
          "data": {
            "text/plain": [
              "0    Tweet: I will super hero my ass out there and blow the tire up myself!!!                       \n",
              "1    Tweet: Yea it sucks!!                                                                          \n",
              "2    Tweet: thx for the well wishes lisa! i hate taking meds  so i'm all for fast healing:)         \n",
              "3    Tweet: hehe \"fucking shift\" ... never heard of it in six months..... u get to fuck in da shift?\n",
              "4    Tweet: Me  too. Now I'm dragging my mature ass off to BED! G'night hawt girlie! Woot!          \n",
              "5    Tweet: omg! what are you in the mood for.. i crock pot my ass off!                             \n",
              "6    Tweet: yeah but zro rly is the eMo city don                                                    \n",
              "7    Tweet: haha ugh this sucks :(                                                                  \n",
              "8    Tweet: omg I know  everyone tells me I'm a twitter whore  lol                                  \n",
              "9    Tweet: you fart like a fucking bass drum lol                                                   \n",
              "Name: content, dtype: object"
            ]
          },
          "metadata": {
            "tags": []
          },
          "execution_count": 55
        }
      ]
    },
    {
      "cell_type": "markdown",
      "metadata": {
        "id": "kThKQeKAMPTJ"
      },
      "source": [
        "Run cell below to create primer text using non-aggressive tweets."
      ]
    },
    {
      "cell_type": "code",
      "metadata": {
        "colab": {
          "base_uri": "https://localhost:8080/"
        },
        "id": "bNXfr7LhMTAF",
        "outputId": "442c05be-8ffa-4db8-d704-72ce19a1cdd1"
      },
      "source": [
        "#Randomly select tweets then add 'Tweet: ' before each comment to give additional context\n",
        "\n",
        "pd.set_option('display.max_colwidth', -1) # allow display to see full tweet length\n",
        "\n",
        "#Use df_nonagg for sampling non-aggressive tweets\n",
        "tweet_sample = df_nonagg['content'].sample(n=20)     #set number (n) of tweets to serve as primer text\n",
        "tweet_sample = 'Tweet: ' + tweet_sample\n",
        "tweet_sample = tweet_sample.reset_index(drop=True)\n",
        "tweet_sample.head()"
      ],
      "execution_count": null,
      "outputs": [
        {
          "output_type": "stream",
          "text": [
            "/usr/local/lib/python3.7/dist-packages/ipykernel_launcher.py:3: FutureWarning:\n",
            "\n",
            "Passing a negative integer is deprecated in version 1.0 and will not be supported in future version. Instead, use None to not limit the column width.\n",
            "\n"
          ],
          "name": "stderr"
        },
        {
          "output_type": "execute_result",
          "data": {
            "text/plain": [
              "0    Tweet: You'd god damn well better be an Engineer. all I'm saying.                        \n",
              "1    Tweet: Damn! He is like the male Rosie O'Donnell.                                        \n",
              "2    Tweet: so cute  that you're undoubtedly the gay lord of homopedia.                       \n",
              "3    Tweet: that totally sucks! I know who's gonna get grinched now! damn danville-ites &gt;:(\n",
              "4    Tweet: How would a world without music affect us?                                        \n",
              "Name: content, dtype: object"
            ]
          },
          "metadata": {
            "tags": []
          },
          "execution_count": 53
        }
      ]
    },
    {
      "cell_type": "code",
      "metadata": {
        "colab": {
          "base_uri": "https://localhost:8080/",
          "height": 69
        },
        "id": "c6F9zXRz7y6g",
        "outputId": "1f94e15d-5d73-4886-bbd9-7a9143906c59"
      },
      "source": [
        "#Concatenating tweet sample into single string for primer text.\n",
        "text = tweet_sample.str.cat(others=None, sep='\\n')\n",
        "primer_text = text + '\\nTweet:'\n",
        "primer_text"
      ],
      "execution_count": null,
      "outputs": [
        {
          "output_type": "execute_result",
          "data": {
            "application/vnd.google.colaboratory.intrinsic+json": {
              "type": "string"
            },
            "text/plain": [
              "'Tweet: I will super hero my ass out there and blow the tire up myself!!!\\nTweet: Yea it sucks!!\\nTweet: thx for the well wishes lisa! i hate taking meds  so i\\'m all for fast healing:)\\nTweet: hehe \"fucking shift\" ... never heard of it in six months..... u get to fuck in da shift?\\nTweet: Me  too. Now I\\'m dragging my mature ass off to BED! G\\'night hawt girlie! Woot!\\nTweet: omg! what are you in the mood for.. i crock pot my ass off!\\nTweet: yeah but zro rly is the eMo city don\\nTweet: haha ugh this sucks :(\\nTweet: omg I know  everyone tells me I\\'m a twitter whore  lol\\nTweet: you fart like a fucking bass drum lol\\nTweet:'"
            ]
          },
          "metadata": {
            "tags": []
          },
          "execution_count": 56
        }
      ]
    },
    {
      "cell_type": "markdown",
      "metadata": {
        "id": "hiLS6bn9eG7K"
      },
      "source": [
        "#8. Tweet Generation"
      ]
    },
    {
      "cell_type": "code",
      "metadata": {
        "id": "L6gXphhQ78Gp",
        "colab": {
          "base_uri": "https://localhost:8080/"
        },
        "outputId": "826ee422-c1f5-4df6-ab77-bed445a9bf8b"
      },
      "source": [
        "encoded_input = tokenizer(primer_text, return_tensors=\"pt\").input_ids.cuda()    #To use primer text, replace first argument with:  primer_text\n",
        "len_encoded_input = encoded_input.shape[1]\n",
        "\n",
        "for i in range(5):\n",
        "      generated_text_samples = model.generate(        \n",
        "      encoded_input, \n",
        "      bos_token_id=tokenizer.bos_token_id,  # No use\n",
        "      eos_token_id=tokenizer.eos_token_id, # No use\n",
        "      pad_token_id=tokenizer.pad_token_id,\n",
        "      do_sample=True,  \n",
        "      max_length = len_encoded_input + 26,    # length of encoded input plus the number of tokens/words (careful not char length!) for output\n",
        "      top_p=0.95,          # experimented with range: 0.5 (too nice, short, and tame) to 0.99 (too random, longer, and more incoherent )  w/holding top_k at 25\n",
        "      temperature=1.75,   # experimented with range: 0.7 (too ordinary and tame) to 2.0 (too random and includes more gibberish)  \n",
        "      num_return_sequences=5,    #Set equal to number of for loop iterations (each loop outputs one generated tweet)\n",
        "      top_k=25,     #experimented with range: 5 (tame and less negative) to 50 (too random and includes more gibberish)  w/ holding top_p at 0.9\n",
        "      output_scores=False, \n",
        "      return_dict_in_generate=False\n",
        "     )\n",
        "\n",
        "#Print 1st example of generated tweet\n",
        "print(\"Output:\\n\")\n",
        "print(tokenizer.decode(generated_text_samples[0], skip_special_tokens=True))"
      ],
      "execution_count": null,
      "outputs": [
        {
          "output_type": "stream",
          "text": [
            "Output:\n",
            "\n",
            "Tweet: I will super hero my ass out there and blow the tire up myself!!!\n",
            "Tweet: Yea it sucks!!\n",
            "Tweet: thx for the well wishes lisa! i hate taking meds  so i'm all for fast healing:)\n",
            "Tweet: hehe \"fucking shift\"... never heard of it in six months..... u get to fuck in da shift?\n",
            "Tweet: Me  too. Now I'm dragging my mature ass off to BED! G'night hawt girlie! Woot!\n",
            "Tweet: omg! what are you in the mood for.. i crock pot my ass off!\n",
            "Tweet: yeah but zro rly is the eMo city don\n",
            "Tweet: haha ugh this sucks :(\n",
            "Tweet: omg I know  everyone tells me I'm a twitter whore  lol\n",
            "Tweet: you fart like a fucking bass drum lol\n",
            "Tweet: YAY mey ya no\n"
          ],
          "name": "stdout"
        }
      ]
    },
    {
      "cell_type": "markdown",
      "metadata": {
        "id": "kkDKk3ImPcbp"
      },
      "source": [
        "For fine-tuned model that did not include primer text, run cell below to collect all generated tweets into list"
      ]
    },
    {
      "cell_type": "code",
      "metadata": {
        "id": "zlPJQjAePb6j"
      },
      "source": [
        "fake_tweets = []\n",
        "for i in range(5):\n",
        "  output = tokenizer.decode(generated_text_samples[i], skip_special_tokens=True)\n",
        "  fake_tweets.append(output)\n",
        "fake_tweets[:5]"
      ],
      "execution_count": null,
      "outputs": []
    },
    {
      "cell_type": "markdown",
      "metadata": {
        "id": "xsC9-j7jP1Vp"
      },
      "source": [
        "For models without and only primer text, run cell below to collect all generated tweets into list"
      ]
    },
    {
      "cell_type": "code",
      "metadata": {
        "colab": {
          "base_uri": "https://localhost:8080/"
        },
        "id": "J5jMBQ7G8HtY",
        "outputId": "9918e63a-e20b-4089-f7c0-129c94112986"
      },
      "source": [
        "#Remove 'primer text' and collect all generated tweets into single list\n",
        "fake_tweets = []\n",
        "for i in range(5):\n",
        "  output = tokenizer.decode(generated_text_samples[i], skip_special_tokens=True)\n",
        "  generated_tweet = output.split('Tweet: ')[-1:]\n",
        "  fake_tweets.append(generated_tweet)\n",
        "fake_tweets[:5]"
      ],
      "execution_count": null,
      "outputs": [
        {
          "output_type": "execute_result",
          "data": {
            "text/plain": [
              "[['YAY mey ya no'],\n",
              " ['  ugh'],\n",
              " ['@johnstron on em. It just says \"you\" ha hahaha'],\n",
              " ['you fart like a fucking bass drum lol\\nTweet:'],\n",
              " ['*hug*']]"
            ]
          },
          "metadata": {
            "tags": []
          },
          "execution_count": 68
        }
      ]
    },
    {
      "cell_type": "code",
      "metadata": {
        "colab": {
          "base_uri": "https://localhost:8080/",
          "height": 204
        },
        "id": "CQlaTVru8MpV",
        "outputId": "b5585ba9-b602-4b79-8c5d-95602104994a"
      },
      "source": [
        "fake_tweets_df = pd.DataFrame(fake_tweets)\n",
        "fake_tweets_df.columns= ['content']\n",
        "fake_tweets_df['label'] = 1   # change to 1 for aggressive,  0 for non-agressive \n",
        "fake_tweets_df['fake'] = 1\n",
        "fake_tweets_df.head()"
      ],
      "execution_count": null,
      "outputs": [
        {
          "output_type": "execute_result",
          "data": {
            "text/html": [
              "<div>\n",
              "<style scoped>\n",
              "    .dataframe tbody tr th:only-of-type {\n",
              "        vertical-align: middle;\n",
              "    }\n",
              "\n",
              "    .dataframe tbody tr th {\n",
              "        vertical-align: top;\n",
              "    }\n",
              "\n",
              "    .dataframe thead th {\n",
              "        text-align: right;\n",
              "    }\n",
              "</style>\n",
              "<table border=\"1\" class=\"dataframe\">\n",
              "  <thead>\n",
              "    <tr style=\"text-align: right;\">\n",
              "      <th></th>\n",
              "      <th>content</th>\n",
              "      <th>label</th>\n",
              "      <th>fake</th>\n",
              "    </tr>\n",
              "  </thead>\n",
              "  <tbody>\n",
              "    <tr>\n",
              "      <th>0</th>\n",
              "      <td>YAY mey ya no</td>\n",
              "      <td>1</td>\n",
              "      <td>1</td>\n",
              "    </tr>\n",
              "    <tr>\n",
              "      <th>1</th>\n",
              "      <td>ugh</td>\n",
              "      <td>1</td>\n",
              "      <td>1</td>\n",
              "    </tr>\n",
              "    <tr>\n",
              "      <th>2</th>\n",
              "      <td>@johnstron on em. It just says \"you\" ha hahaha</td>\n",
              "      <td>1</td>\n",
              "      <td>1</td>\n",
              "    </tr>\n",
              "    <tr>\n",
              "      <th>3</th>\n",
              "      <td>you fart like a fucking bass drum lol\\nTweet:</td>\n",
              "      <td>1</td>\n",
              "      <td>1</td>\n",
              "    </tr>\n",
              "    <tr>\n",
              "      <th>4</th>\n",
              "      <td>*hug*</td>\n",
              "      <td>1</td>\n",
              "      <td>1</td>\n",
              "    </tr>\n",
              "  </tbody>\n",
              "</table>\n",
              "</div>"
            ],
            "text/plain": [
              "                                          content  label  fake\n",
              "0  YAY mey ya no                                   1      1   \n",
              "1    ugh                                           1      1   \n",
              "2  @johnstron on em. It just says \"you\" ha hahaha  1      1   \n",
              "3  you fart like a fucking bass drum lol\\nTweet:   1      1   \n",
              "4  *hug*                                           1      1   "
            ]
          },
          "metadata": {
            "tags": []
          },
          "execution_count": 69
        }
      ]
    },
    {
      "cell_type": "code",
      "metadata": {
        "id": "NmYync-hSPlm"
      },
      "source": [
        "fake_tweets_df.to_json('500_hundred_fake_tweets_nonaggressive_4.json')\n",
        "fake_tweets_df.to_csv('500_hundred_fake_tweets_nonaggressive_4.csv')"
      ],
      "execution_count": null,
      "outputs": []
    }
  ]
}