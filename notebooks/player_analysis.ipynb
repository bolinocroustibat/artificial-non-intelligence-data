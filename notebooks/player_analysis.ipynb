{
 "cells": [
  {
   "cell_type": "code",
   "execution_count": 4,
   "metadata": {},
   "outputs": [],
   "source": [
    "from matplotlib import pyplot as plt\n",
    "import numpy as np\n",
    "import os\n",
    "import pandas as pd\n",
    "import psycopg2\n",
    "import seaborn as sns\n",
    "import streamlit as st"
   ]
  },
  {
   "cell_type": "code",
   "execution_count": 5,
   "metadata": {},
   "outputs": [],
   "source": [
    "DATABASE_URL = os.environ['DATABASE_URL']"
   ]
  },
  {
   "cell_type": "code",
   "execution_count": 6,
   "metadata": {},
   "outputs": [],
   "source": [
    "connection = psycopg2.connect(DATABASE_URL, sslmode='require')\n",
    "with connection:\n",
    "    cursor = connection.cursor()\n",
    "\n",
    "    # Get the number of questions\n",
    "    query: str = \"SELECT real, count(*) AS a FROM comments GROUP by real;\"\n",
    "    cursor.execute(query)\n",
    "    comments_count: int = cursor.fetchall()\n",
    "\n",
    "    # Get the general answers trend\n",
    "    query: str = \"SELECT answer, count(*) AS a FROM answers GROUP by answer;\"\n",
    "    cursor.execute(query)\n",
    "    answers_count = cursor.fetchall()\n",
    "\n",
    "    # Count number of different answers for each question\n",
    "    query: str = \"\"\"\n",
    "    SELECT\n",
    "        ca.id,\n",
    "        ca.content,\n",
    "        ca.real,\n",
    "        ca.answer,\n",
    "        count(*) AS count\n",
    "    FROM (\n",
    "        SELECT\n",
    "            comments.id,\n",
    "            comments.content,\n",
    "            comments.real,\n",
    "            answers.answer\n",
    "        FROM\n",
    "            comments\n",
    "            INNER JOIN answers ON comments.id = answers.comment\n",
    "        GROUP BY\n",
    "            comments.id,\n",
    "            comments.real,\n",
    "            answers,\n",
    "            answer) AS ca\n",
    "    GROUP BY\n",
    "        ca.id,\n",
    "        ca.content,\n",
    "        ca.real,\n",
    "        ca.answer;\n",
    "    \"\"\"\n",
    "    cursor.execute(query)\n",
    "    answers = cursor.fetchall()\n",
    "    cursor.close()"
   ]
  },
  {
   "cell_type": "code",
   "execution_count": 8,
   "metadata": {},
   "outputs": [],
   "source": [
    "df = pd.DataFrame(answers, columns =['id', 'content', 'real', 'answer', 'count'])"
   ]
  },
  {
   "cell_type": "code",
   "execution_count": 32,
   "metadata": {},
   "outputs": [
    {
     "data": {
      "text/html": [
       "<div>\n",
       "<style scoped>\n",
       "    .dataframe tbody tr th:only-of-type {\n",
       "        vertical-align: middle;\n",
       "    }\n",
       "\n",
       "    .dataframe tbody tr th {\n",
       "        vertical-align: top;\n",
       "    }\n",
       "\n",
       "    .dataframe thead th {\n",
       "        text-align: right;\n",
       "    }\n",
       "</style>\n",
       "<table border=\"1\" class=\"dataframe\">\n",
       "  <thead>\n",
       "    <tr style=\"text-align: right;\">\n",
       "      <th></th>\n",
       "      <th>id</th>\n",
       "      <th>content</th>\n",
       "      <th>real</th>\n",
       "      <th>answer</th>\n",
       "      <th>count</th>\n",
       "    </tr>\n",
       "  </thead>\n",
       "  <tbody>\n",
       "    <tr>\n",
       "      <th>0</th>\n",
       "      <td>18245</td>\n",
       "      <td>prolly not. but only because idk you and i hav...</td>\n",
       "      <td>1</td>\n",
       "      <td>0</td>\n",
       "      <td>1</td>\n",
       "    </tr>\n",
       "    <tr>\n",
       "      <th>1</th>\n",
       "      <td>625</td>\n",
       "      <td>I hate you with the hate of a thousand hates. ;)</td>\n",
       "      <td>1</td>\n",
       "      <td>0</td>\n",
       "      <td>1</td>\n",
       "    </tr>\n",
       "    <tr>\n",
       "      <th>2</th>\n",
       "      <td>19600</td>\n",
       "      <td>that is just awesome. theresplastic in spain a...</td>\n",
       "      <td>0</td>\n",
       "      <td>0</td>\n",
       "      <td>1</td>\n",
       "    </tr>\n",
       "    <tr>\n",
       "      <th>3</th>\n",
       "      <td>9843</td>\n",
       "      <td>And we are having a pig roast and beef and goo...</td>\n",
       "      <td>1</td>\n",
       "      <td>1</td>\n",
       "      <td>1</td>\n",
       "    </tr>\n",
       "    <tr>\n",
       "      <th>4</th>\n",
       "      <td>19280</td>\n",
       "      <td>You mean the fucking dog who ur talking with r...</td>\n",
       "      <td>0</td>\n",
       "      <td>0</td>\n",
       "      <td>1</td>\n",
       "    </tr>\n",
       "    <tr>\n",
       "      <th>5</th>\n",
       "      <td>17041</td>\n",
       "      <td>Of course! I sure would :)</td>\n",
       "      <td>1</td>\n",
       "      <td>0</td>\n",
       "      <td>2</td>\n",
       "    </tr>\n",
       "    <tr>\n",
       "      <th>6</th>\n",
       "      <td>12452</td>\n",
       "      <td>Ooooh! Weasels! My favorite.  At one time  I h...</td>\n",
       "      <td>1</td>\n",
       "      <td>0</td>\n",
       "      <td>1</td>\n",
       "    </tr>\n",
       "    <tr>\n",
       "      <th>7</th>\n",
       "      <td>19409</td>\n",
       "      <td>If you could get any job  what job would you h...</td>\n",
       "      <td>0</td>\n",
       "      <td>0</td>\n",
       "      <td>2</td>\n",
       "    </tr>\n",
       "    <tr>\n",
       "      <th>8</th>\n",
       "      <td>14754</td>\n",
       "      <td>Have you ever pretended your crush was with yo...</td>\n",
       "      <td>1</td>\n",
       "      <td>1</td>\n",
       "      <td>1</td>\n",
       "    </tr>\n",
       "    <tr>\n",
       "      <th>9</th>\n",
       "      <td>19259</td>\n",
       "      <td>fuck yeah bitch ;)</td>\n",
       "      <td>0</td>\n",
       "      <td>1</td>\n",
       "      <td>1</td>\n",
       "    </tr>\n",
       "  </tbody>\n",
       "</table>\n",
       "</div>"
      ],
      "text/plain": [
       "      id                                            content  real  answer  \\\n",
       "0  18245  prolly not. but only because idk you and i hav...     1       0   \n",
       "1    625   I hate you with the hate of a thousand hates. ;)     1       0   \n",
       "2  19600  that is just awesome. theresplastic in spain a...     0       0   \n",
       "3   9843  And we are having a pig roast and beef and goo...     1       1   \n",
       "4  19280  You mean the fucking dog who ur talking with r...     0       0   \n",
       "5  17041                         Of course! I sure would :)     1       0   \n",
       "6  12452  Ooooh! Weasels! My favorite.  At one time  I h...     1       0   \n",
       "7  19409  If you could get any job  what job would you h...     0       0   \n",
       "8  14754  Have you ever pretended your crush was with yo...     1       1   \n",
       "9  19259                                 fuck yeah bitch ;)     0       1   \n",
       "\n",
       "   count  \n",
       "0      1  \n",
       "1      1  \n",
       "2      1  \n",
       "3      1  \n",
       "4      1  \n",
       "5      2  \n",
       "6      1  \n",
       "7      2  \n",
       "8      1  \n",
       "9      1  "
      ]
     },
     "execution_count": 32,
     "metadata": {},
     "output_type": "execute_result"
    }
   ],
   "source": [
    "df.head(10)"
   ]
  },
  {
   "cell_type": "code",
   "execution_count": 31,
   "metadata": {},
   "outputs": [
    {
     "data": {
      "text/plain": [
       "5"
      ]
     },
     "execution_count": 31,
     "metadata": {},
     "output_type": "execute_result"
    }
   ],
   "source": [
    "df[\"count\"].idxmax()"
   ]
  },
  {
   "cell_type": "code",
   "execution_count": 36,
   "metadata": {},
   "outputs": [
    {
     "name": "stdout",
     "output_type": "stream",
     "text": [
      "(7, 'If you could get any job  what job would you hate it with one eye closed? :)r  Leave a message so we', 2)\n",
      "(5, 'Of course! I sure would :)', 2)\n"
     ]
    }
   ],
   "source": [
    "right_guesses: int = 0\n",
    "wrong_guesses: int = 0\n",
    "biggest_good_guesses: int = 0\n",
    "biggest_wrong_guesses: int = 0\n",
    "for i in df.index:\n",
    "    if df['real'][i] == df['answer'][i]:\n",
    "        right_guesses += df['count'][i]\n",
    "        if df['count'][i] > biggest_good_guesses:\n",
    "            biggest_good_guesses = df['count'][i]\n",
    "            best_comment = (i, df[\"content\"][i], df['count'][i])\n",
    "    else:\n",
    "        wrong_guesses += df['count'][i]\n",
    "        if df['count'][i] > biggest_wrong_guesses:\n",
    "            biggest_wrong_guesses = df['count'][i]\n",
    "            worst_comment = (i, df[\"content\"][i], df['count'][i])\n",
    "print(best_comment)\n",
    "print(worst_comment)"
   ]
  },
  {
   "cell_type": "code",
   "execution_count": null,
   "metadata": {},
   "outputs": [],
   "source": []
  },
  {
   "cell_type": "code",
   "execution_count": null,
   "metadata": {},
   "outputs": [],
   "source": []
  }
 ],
 "metadata": {
  "interpreter": {
   "hash": "9c9b12ae73a4ef6b3dbb5645e1207f4effdbd45f1450848c4a7796937546a774"
  },
  "kernelspec": {
   "display_name": "Python 2.7.16 64-bit",
   "name": "python3"
  },
  "language_info": {
   "codemirror_mode": {
    "name": "ipython",
    "version": 3
   },
   "file_extension": ".py",
   "mimetype": "text/x-python",
   "name": "python",
   "nbconvert_exporter": "python",
   "pygments_lexer": "ipython3",
   "version": "3.9.5"
  },
  "orig_nbformat": 4
 },
 "nbformat": 4,
 "nbformat_minor": 2
}